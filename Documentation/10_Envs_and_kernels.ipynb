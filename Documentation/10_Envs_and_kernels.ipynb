{
 "cells": [
  {
   "cell_type": "markdown",
   "metadata": {},
   "source": [
    "# Virtual environments and Jupyter kernels\n",
    "\n",
    "With ![noto](Images/noto_inline_transparent.png), you get a complete Python 3.6 **environment** (a set of *packages* and *libraries*) with a Python **Jupyter kernel** (this is the software that *executes* the code in your notebook's cells).\n",
    "\n",
    "This readily available environment and kernel will allow you to go forward without installing anything.\n",
    "\n",
    "In the event you need to **extend** this provided default environment, you can do so by creating **virtual environments** and add the Python packages you need ; this is also a way to install some non-Python kernels.\n",
    "\n",
    "<img src=\"Images/Environment.png\">\n",
    "<center>figure: Cell, kernel and environment interactions</center>\n",
    "\n",
    "#### Keywords\n",
    "\n",
    "* An **environment** is composed by a set of packages and libraries\n",
    "* ![noto](Images/noto_inline_transparent.png) gives you a **default Python 3.6 environment** with many libraries\n",
    "* You can build you own environments (called **virtual environments**)\n",
    "* Jupyter **kernels** execute your notebook's cells\n",
    "* You can **install more kernels** in your own virtual environments\n",
    "\n",
    "\n",
    "**Note**: it is *highly* recommended to only install extra python packages inside a virtual environment. Installing incompatible/untested Python packages in the default environment can break you default Python environment (the one that runs your jupyter server). For that reason, the access to the `pip` command outside of virtual environments has been disabled - you will get a nice friendly reminder if you try to use it.\n",
    "\n",
    "#### Keywords\n",
    "\n",
    "* `pip` is the Python packaging tool that is used for `noto.epfl.ch`\n",
    "* Run the `pip` command in your Jupyter terminal to install packages\n",
    "* Opening Jupyter terminal: by clicking on <img src=\"Images/Terminal.png\"> from the launcher, you are redirected to a complete `bash` command line interface, where you can navigate through your files and directories and run commands."
   ]
  },
  {
   "cell_type": "code",
   "execution_count": null,
   "metadata": {},
   "outputs": [],
   "source": [
    "# This pip command is not possible in the default environment\n",
    "# because all your new packages MUST be installed in a virtual environment.\n",
    "pip install mysuperlib"
   ]
  },
  {
   "cell_type": "markdown",
   "metadata": {},
   "source": [
    "Still, we allow you to run the `pip list` command in the default environment, so that you can see what packages are already available in the default environment: "
   ]
  },
  {
   "cell_type": "code",
   "execution_count": null,
   "metadata": {},
   "outputs": [],
   "source": [
    "# This is allowed in the default environment:\n",
    "pip list --format=columns"
   ]
  },
  {
   "cell_type": "markdown",
   "metadata": {},
   "source": [
    "### Use cases for virtual environments and jupyter kernels\n",
    "\n",
    "Sometimes, you need specific Python packages or a Jupyter kernels that ![noto](Images/noto_inline_transparent.png) does not provide by default.\n",
    "\n",
    "An elegant way of solving that problems is a two-step process:\n",
    "\n",
    "1. You *create* a suitable environment (an environment where you install the python packages you are missing).\n",
    "1. You *install* a jupyter kernel in that envrionment.\n",
    "\n",
    "Sometimes, you might just need a Jupyter kernel other that the default one (e.g. a non-Python kernel, like the `bash` kernel this notebook is using right now), and no specific environment is required.\n",
    "\n",
    "<img src=\"Images/VirtualEnvironment.png\">\n",
    "<center>figure: New virtual environment (using librairies from the default environment)<br>with a new library (\"libX\") and a new jupyter kernel, so that your notebooks can use \"libX\".</center>\n",
    "<br>\n",
    "<br>\n",
    "Read on the next sections to learn how to handle environments and jupyter kernels.\n",
    "\n",
    "## Dealing with Python's virtual environments\n",
    "\n",
    "The following `bash` commands are available (you type those commands in jupyter's terminal) and will help you managing your virtual environmments:\n",
    "\n",
    "- `my_venvs_list`\n",
    "- `my_venvs_create`\n",
    "- `my_venvs_activate`\n",
    "- `my_venvs_remove`\n",
    "\n",
    "These commands are just using Python's built-in functions with the right parameters to create environments that will be built on top of the default environment. This means that any new virtual environment already provides the same packages and libraries than the default environment.\n",
    "\n",
    "Of course, you are free to type the standard Python command yourself in Jupyter terminal:\n",
    "\n",
    "`/usr/bin/python3 -m venv /home/my_venvs/abcd --system-site-packages`\n",
    "\n",
    "If you do so, **use** the parameter `--system-site-packages` to make use of all the packages that are already installed - otherwise you would create an empty virtual environment, which would not be able to run a jupyter kernel."
   ]
  },
  {
   "cell_type": "code",
   "execution_count": null,
   "metadata": {},
   "outputs": [],
   "source": [
    "# List all your virtual environments:\n",
    "my_venvs_list"
   ]
  },
  {
   "cell_type": "code",
   "execution_count": null,
   "metadata": {},
   "outputs": [],
   "source": [
    "# Get help on all my_venvs_* commands:\n",
    "my_venvs_help"
   ]
  },
  {
   "cell_type": "markdown",
   "metadata": {},
   "source": [
    "## Dealing with Jupyter kernels\n",
    "\n",
    "The following `bash` commands are available (from your Jupyter terminal) to help you managing your Python kernels:\n",
    "\n",
    "- `my_kernels_help`: gives you help on kernel creation/removal\n",
    "- `my_kernels_list`: lists the currently installed kernels\n",
    "- `my_kernels_create`: creates a new kernel in the currently active virtual environment\n",
    "- `my_kernels_remove`: removes an installed kernel"
   ]
  },
  {
   "cell_type": "code",
   "execution_count": null,
   "metadata": {},
   "outputs": [],
   "source": [
    "# List all installed kernels\n",
    "my_kernels_list"
   ]
  },
  {
   "cell_type": "markdown",
   "metadata": {},
   "source": [
    "Kernels written in yellow (if any) are the kernels **you** installed, red ones are the default kernels provided with ![noto](Images/noto_inline_transparent.png)."
   ]
  },
  {
   "cell_type": "code",
   "execution_count": null,
   "metadata": {},
   "outputs": [],
   "source": [
    "# Get help on all my_kernels_* commands:\n",
    "my_kernels_help"
   ]
  },
  {
   "cell_type": "markdown",
   "metadata": {},
   "source": [
    "# Next! #\n",
    "For some hands-on experience, check the [virtual environments tutorial](./11_Tutorial_Envs.ipynb) out!\n",
    "\n",
    "**End of the notebook**"
   ]
  }
 ],
 "metadata": {
  "kernelspec": {
   "display_name": "Bash",
   "language": "bash",
   "name": "bash"
  },
  "language_info": {
   "codemirror_mode": "shell",
   "file_extension": ".sh",
   "mimetype": "text/x-sh",
   "name": "bash"
  }
 },
 "nbformat": 4,
 "nbformat_minor": 4
}
