{
 "cells": [
  {
   "cell_type": "markdown",
   "metadata": {},
   "source": [
    "# Using `git`\n",
    "\n",
    "## What is `git`?\n",
    "`git` is a [source code](https://git-scm.com/) [management system](https://en.wikipedia.org/wiki/Version_control). When working on a project that is made of text files (like notebooks), using a versioning system can be very handy, even if you are working alone. It allows you to keep track of the changes you are making to the files (content, names, location), and to have all the history of your files available at anytime.\n",
    "\n",
    "When a group of persons is working simultaneously on the same set of files, a versioning system will help you merging changes from your collegues and resolving conflicts (when multiple colleagues are working on the same part of a file).\n",
    "\n",
    "Understanding how a versionning system works is important: *all* (mostly computer related) science projects deal with text files (programming source code, text documents, research documents, etc.) and use versionning systems.\n",
    "\n",
    "Do yourself a favor and learn the [basics](https://rogerdudler.github.io/git-guide/) of versionning systems and git :-)\n",
    "\n",
    "## `git` and ![noto](Images/noto_inline_transparent.png)\n",
    "The `git` command is available from Jupiter terminal ; on ![noto](Images/noto_inline_transparent.png), the [jupyterlab-git](https://github.com/jupyterlab/jupyterlab-git) extension is activated in the JupyterLab interface, providing you with some nice buttons to do the most common git operations (clone, pull, commit, push, etc.).\n",
    "\n",
    "The [nbgitpuller](https://github.com/jupyterhub/nbgitpuller) service is also activated on ![noto](Images/noto_inline_transparent.png), allowing anyone to share git links.\n",
    "\n",
    "# `git` servers\n",
    "\n",
    "There are many `git` servers available around the internet and the `git` client installed on ![noto](Images/noto_inline_transparent.png) is certainly compatible with all them - none the less, we encourage you to use [c4science](https://c4science.ch/) which will hosts your `git` data and respect its privacy.\n",
    "\n",
    "# Authentication with remote `git` servers\n",
    "\n",
    "Authentication is not required to clone/pull from **public** `git` repositories. If you want to send your changes to remote `git` repositories (push), you will have to authenticate yourself on the `git` server using your credentials (username/password or SSH key).\n",
    "\n",
    "Passwordless authentication (with an SSH key) is available from ![noto](Images/noto_inline_transparent.png). The first time you connect to ![noto](Images/noto_inline_transparent.png), SSH key pairs are generated for you. All you need to enable passwordless authentication with your `git` server is to export your **public** key (file `/home/.ssh/id_rsa.pub`) over to the remote `git` server.\n",
    "\n",
    "Run the following cell to get **your** SSH public key:"
   ]
  },
  {
   "cell_type": "code",
   "execution_count": null,
   "metadata": {},
   "outputs": [],
   "source": [
    "if [ -r /home/.ssh/id_rsa.pub ]; then\n",
    "    echo \"Your SSH public key file is: /home/.ssh/id_rsa.pub\"\n",
    "    echo \"Here is the public key you need to export to your remote git server:\"\n",
    "    echo -en ${Green}\n",
    "    cat /home/.ssh/id_rsa.pub\n",
    "    echo -en ${NoColor}\n",
    "else\n",
    "    echo \"It looks like you don't have an SSH key pair yet.\"\n",
    "    echo -e \"Run the command ${Green}ssh-keygen${NoColor} from your terminal to generate a new key pair.\"\n",
    "fi"
   ]
  },
  {
   "cell_type": "markdown",
   "metadata": {},
   "source": [
    "# Setting up your name and email address\n",
    "\n",
    "It is also nice to set up a **full name** and **email address** so that anytime you commit changes on a repository, those changes get tagged with you name and email address.\n",
    "\n",
    "First, let's check your current settings on ![noto](Images/noto_inline_transparent.png):"
   ]
  },
  {
   "cell_type": "code",
   "execution_count": null,
   "metadata": {},
   "outputs": [],
   "source": [
    "git config --global user.name\n",
    "git config --global user.email"
   ]
  },
  {
   "cell_type": "markdown",
   "metadata": {},
   "source": [
    "If the output from the above cell is empty, this means that your name and email address are not set up in `git`. To fix that (or to update them), use the following cell.\n",
    "\n",
    "**Please update your name and email address before executing the cell!**"
   ]
  },
  {
   "cell_type": "code",
   "execution_count": null,
   "metadata": {},
   "outputs": [],
   "source": [
    "git config --global user.name  \"Your Name Here\"\n",
    "git config --global user.email \"your.email@address.here\""
   ]
  },
  {
   "cell_type": "markdown",
   "metadata": {},
   "source": [
    "Then you can run again the following commands to check that the changes have been applied."
   ]
  },
  {
   "cell_type": "code",
   "execution_count": null,
   "metadata": {},
   "outputs": [],
   "source": [
    "git config --global user.name\n",
    "git config --global user.email"
   ]
  },
  {
   "cell_type": "markdown",
   "metadata": {},
   "source": [
    "If you are happy with the current configuation, you are ready to go !\n",
    "\n",
    "**Note:** you have to configure `git` on all the computers you are using - you can reuse the same commands. You can perfectly work from ![noto](Images/noto_inline_transparent.png) and from your laptop ; just make sure both are configured correctly."
   ]
  },
  {
   "cell_type": "markdown",
   "metadata": {},
   "source": [
    "**End of the notebook**"
   ]
  }
 ],
 "metadata": {
  "kernelspec": {
   "display_name": "Bash",
   "language": "bash",
   "name": "bash"
  },
  "language_info": {
   "codemirror_mode": "shell",
   "file_extension": ".sh",
   "mimetype": "text/x-sh",
   "name": "bash"
  }
 },
 "nbformat": 4,
 "nbformat_minor": 4
}
