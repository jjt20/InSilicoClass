{
 "cells": [
  {
   "cell_type": "markdown",
   "metadata": {},
   "source": [
    "# XKCD font test Notebook\n",
    "\n",
    "## Installation\n",
    "\n",
    "**Note**: if XKCD font (available [here](https://github.com/ekmett/arcade/raw/master/static/fonts/xkcd.ttf)) has been installed (in your directory `/home/.local/share/fonts/`) **after** matplotlib was ever run, you have to clean (i.e. remove) matplotlib's font cache by running in your terminal:\n",
    "\n",
    "```\n",
    "mkdir -p ~/.local/share/fonts/\n",
    "wget -q https://github.com/ekmett/arcade/raw/master/static/fonts/xkcd.ttf -O ~/.local/share/fonts/xkcd.ttf\n",
    "rm ~/.cache/matplotlib/fontlist*.json\n",
    "```\n",
    "Also, don't forget to **restart** your kernel so that matplotlib is reloaded.\n",
    "\n",
    "## Test"
   ]
  },
  {
   "cell_type": "code",
   "execution_count": null,
   "metadata": {},
   "outputs": [],
   "source": [
    "%pylab inline"
   ]
  },
  {
   "cell_type": "code",
   "execution_count": null,
   "metadata": {},
   "outputs": [],
   "source": [
    "plt.xkcd()  # Yes...\n",
    "plt.plot(sin(linspace(0, 10)))\n",
    "plt.title('Whoo Hoo!!!')"
   ]
  },
  {
   "cell_type": "code",
   "execution_count": null,
   "metadata": {},
   "outputs": [],
   "source": [
    "np.random.seed(0)\n",
    "\n",
    "ax = pylab.axes()\n",
    "\n",
    "x = np.linspace(0, 10, 100)\n",
    "ax.plot(x, np.sin(x) * np.exp(-0.1 * (x - 5) ** 2), 'b', lw=1, label='damped sine')\n",
    "ax.plot(x, -np.cos(x) * np.exp(-0.1 * (x - 5) ** 2), 'r', lw=1, label='damped cosine')\n",
    "\n",
    "ax.set_title('check it out!')\n",
    "ax.set_xlabel('x label')\n",
    "ax.set_ylabel('y label')\n",
    "\n",
    "ax.legend(loc='lower right')\n",
    "\n",
    "ax.set_xlim(0, 10)\n",
    "ax.set_ylim(-1.0, 1.0)"
   ]
  },
  {
   "cell_type": "markdown",
   "metadata": {},
   "source": [
    "The End"
   ]
  }
 ],
 "metadata": {
  "kernelspec": {
   "display_name": "Python 3",
   "language": "python",
   "name": "python3"
  },
  "language_info": {
   "codemirror_mode": {
    "name": "ipython",
    "version": 3
   },
   "file_extension": ".py",
   "mimetype": "text/x-python",
   "name": "python",
   "nbconvert_exporter": "python",
   "pygments_lexer": "ipython3",
   "version": "3.6.8"
  }
 },
 "nbformat": 4,
 "nbformat_minor": 4
}
