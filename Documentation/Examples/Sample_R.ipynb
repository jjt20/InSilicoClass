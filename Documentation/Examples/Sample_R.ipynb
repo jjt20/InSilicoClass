{
 "cells": [
  {
   "cell_type": "markdown",
   "metadata": {},
   "source": [
    "# R Notebook"
   ]
  },
  {
   "cell_type": "code",
   "execution_count": null,
   "metadata": {},
   "outputs": [],
   "source": [
    "# load package and data\n",
    "options(scipen=999)  # turn-off scientific notation like 1e+48\n",
    "library(ggplot2)\n",
    "theme_set(theme_bw())  # pre-set the bw theme.\n",
    "data(\"midwest\", package = \"ggplot2\")\n",
    "# midwest <- read.csv(\"http://goo.gl/G1K41K\")  # bkup data source\n",
    "\n",
    "# Scatterplot\n",
    "gg <- ggplot(midwest, aes(x=area, y=poptotal)) + \n",
    "  geom_point(aes(col=state, size=popdensity)) + \n",
    "  geom_smooth(method=\"loess\", se=F) + \n",
    "  xlim(c(0, 0.1)) + \n",
    "  ylim(c(0, 500000)) + \n",
    "  labs(subtitle=\"Area Vs Population\", \n",
    "       y=\"Population\", \n",
    "       x=\"Area\", \n",
    "       title=\"Scatterplot\", \n",
    "       caption = \"Source: midwest\")\n",
    "\n",
    "plot(gg)"
   ]
  },
  {
   "cell_type": "markdown",
   "metadata": {},
   "source": [
    "The end"
   ]
  }
 ],
 "metadata": {
  "kernelspec": {
   "display_name": "R",
   "language": "R",
   "name": "ir"
  },
  "language_info": {
   "codemirror_mode": "r",
   "file_extension": ".r",
   "mimetype": "text/x-r-source",
   "name": "R",
   "pygments_lexer": "r",
   "version": "3.6.1"
  }
 },
 "nbformat": 4,
 "nbformat_minor": 4
}
