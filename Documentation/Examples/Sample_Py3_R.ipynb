{
 "cells": [
  {
   "cell_type": "markdown",
   "metadata": {},
   "source": [
    "# Python3 + R Notebook"
   ]
  },
  {
   "cell_type": "code",
   "execution_count": null,
   "metadata": {},
   "outputs": [],
   "source": [
    "%load_ext rpy2.ipython"
   ]
  },
  {
   "cell_type": "code",
   "execution_count": null,
   "metadata": {},
   "outputs": [],
   "source": [
    "## Lets try out some code\n",
    "import pandas as pd         # do all processing in pandas, and convert Pandas DataFrame to R DataFrame\n",
    "\n",
    "df = pd.DataFrame({'Letter': ['a', 'a', 'a', 'b','b', 'b', 'c', 'c','c'],\n",
    "                   'X': [4, 3, 5, 2, 1, 7, 7, 5, 9],\n",
    "                   'Y': [0, 4, 3, 6, 7, 10, 11, 9, 13],\n",
    "                   'Z': [1, 2, 3, 1, 2, 55, 1, 2, 3]})\n",
    "df\n"
   ]
  },
  {
   "cell_type": "code",
   "execution_count": null,
   "metadata": {},
   "outputs": [],
   "source": [
    "%%R -i df -w 400 -h 300 -u px\n",
    "\n",
    "## Everything in here is ** R ** (magic)\n",
    "\n",
    "print(df) # Tada, df is now an R dataframe\n",
    "\n",
    "suppressMessages(library(\"ggplot2\")) # If this line does not work, make sure you have R installed on your laptop\n",
    "\n",
    "ggplot(data = df) + geom_point(aes(x = X, y = Y, color = Letter, size = Z))"
   ]
  },
  {
   "cell_type": "markdown",
   "metadata": {},
   "source": [
    "The end"
   ]
  }
 ],
 "metadata": {
  "kernelspec": {
   "display_name": "Python 3",
   "language": "python",
   "name": "python3"
  },
  "language_info": {
   "codemirror_mode": {
    "name": "ipython",
    "version": 3
   },
   "file_extension": ".py",
   "mimetype": "text/x-python",
   "name": "python",
   "nbconvert_exporter": "python",
   "pygments_lexer": "ipython3",
   "version": "3.6.8"
  }
 },
 "nbformat": 4,
 "nbformat_minor": 4
}
