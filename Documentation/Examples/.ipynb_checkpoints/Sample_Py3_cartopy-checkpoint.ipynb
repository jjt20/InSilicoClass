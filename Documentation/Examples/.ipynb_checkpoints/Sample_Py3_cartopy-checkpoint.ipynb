{
 "cells": [
  {
   "cell_type": "markdown",
   "metadata": {},
   "source": [
    "# Cartopy Notebook"
   ]
  },
  {
   "cell_type": "code",
   "execution_count": null,
   "metadata": {},
   "outputs": [],
   "source": [
    "%matplotlib inline\n",
    "import datetime\n",
    "import matplotlib.pyplot as plt\n",
    "import pytz\n",
    "import cartopy.crs as ccrs\n",
    "from cartopy.feature.nightshade import Nightshade\n",
    "\n",
    "def plot():\n",
    "    fig = plt.figure(figsize=(14, 7))\n",
    "    ax = fig.add_subplot(1, 1, 1, projection=ccrs.PlateCarree())\n",
    "    date = datetime.datetime.utcnow()\n",
    "    tz = {'name': 'Europe/Zurich' ,'latitude': 47.366667, 'longitude': 8.55 }\n",
    "    ax.set_title('Night time shading for {} ({})'.format(datetime.datetime.now(pytz.timezone(tz['name'])), tz['name']))\n",
    "    # Map backgroud\n",
    "    ax.stock_img()\n",
    "    # Night shade\n",
    "    ax.add_feature(Nightshade(date, alpha=0.2))\n",
    "    # Plot TZ city\n",
    "    plt.plot(tz['longitude'], tz['latitude'], color = 'red', marker = '.')\n",
    "    plt.show()\n",
    "\n",
    "    \n",
    "plot()"
   ]
  },
  {
   "cell_type": "markdown",
   "metadata": {},
   "source": [
    "The end"
   ]
  }
 ],
 "metadata": {
  "kernelspec": {
   "display_name": "Python 3",
   "language": "python",
   "name": "python3"
  },
  "language_info": {
   "codemirror_mode": {
    "name": "ipython",
    "version": 3
   },
   "file_extension": ".py",
   "mimetype": "text/x-python",
   "name": "python",
   "nbconvert_exporter": "python",
   "pygments_lexer": "ipython3",
   "version": "3.6.7"
  }
 },
 "nbformat": 4,
 "nbformat_minor": 2
}
