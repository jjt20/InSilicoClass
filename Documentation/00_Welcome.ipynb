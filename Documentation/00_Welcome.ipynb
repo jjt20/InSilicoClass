{
 "cells": [
  {
   "cell_type": "markdown",
   "metadata": {},
   "source": [
    "# Welcome to...\n",
    "\n",
    "<center>\n",
    "<img src=\"https://upload.wikimedia.org/wikipedia/commons/thumb/3/38/Jupyter_logo.svg/250px-Jupyter_logo.svg.png\">\n",
    "</center>"
   ]
  },
  {
   "cell_type": "markdown",
   "metadata": {},
   "source": [
    "This documentation, contained in your personal disk, will provide you with some information on the most advanced features available on ![noto](Images/noto_inline_transparent.png). Should you need basic information to get started with Jupyter/JupyterLab, please refer to the corresponding [online documentation](https://jupyterlab.readthedocs.io/en/stable/).\n",
    "\n",
    "## A quick overview\n",
    "\n",
    "For all users connecting to ![noto](Images/noto_inline_transparent.png) (`noto.epfl.ch`), a **single user web server** is launched. Your **web browser** is communicating with your single user server through the **Jupyter Hub**.\n",
    "\n",
    "<img src=\"Images/JupyterHub.png\">\n",
    "<center>figure: Alice, Bob and Chris are connected to their single user server.</center> \n",
    "<br>\n",
    "\n",
    "This personal web server provides you with a web interface where you can see your notebooks, files and more. ![noto](Images/noto_inline_transparent.png) lets you choose between the [JupyterLab](https://jupyterlab.readthedocs.io/en/stable/) interface or the classic notebook interface.\n",
    "\n",
    "<img src=\"Images/JupyterLab.png\">\n",
    "<center>figure: Alice works on her files and notebooks, etc. with JupytherLab.</center>\n",
    "\n",
    "## Your files\n",
    "Your notebooks (and any other files) are stored in your personal disk, which is organised in **files and directories** like a normal disk. Everything you create or install is stored on your disk, so that you can retreive all your work the next time you connect to ![noto](Images/noto_inline_transparent.png).\n",
    "\n",
    "## Your notebooks\n",
    "Notebooks contains cells that are either **code** cells or **text** cells. Text cells contain [markdown](https://en.wikipedia.org/wiki/Markdown) formating instructions (including links, images and more) and [$\\LaTeX$](https://www.latex-project.org/)-like formulas thanks to [MathJax](http://docs.mathjax.org/en/latest/index.html). e.g.:\n",
    "\n",
    "$$\n",
    "\\begin{align}\n",
    "\\dot{x} & = \\sigma(y-x) \\\\\n",
    "\\dot{y} & = \\rho x - y - xz \\\\\n",
    "\\dot{z} & = -\\beta z + xy\n",
    "\\end{align}\n",
    "$$\n",
    "\n",
    "Code cell contain code (Python, R, etc.) that the **kernel** executes. Tipically, you write Python code and you use a Python kernel to execute it - but you can change that if you want.\n",
    "The following cell contains code that you can execute, change and execute again. To execute a cell:\n",
    "\n",
    "1. Select it\n",
    "1. Press the \"play\" button in the notebook's toolbar (or just type **CTRL**+**Enter** or **SHIFT**+**Enter**)"
   ]
  },
  {
   "cell_type": "code",
   "execution_count": null,
   "metadata": {},
   "outputs": [],
   "source": [
    "import datetime\n",
    "import pytz\n",
    "\n",
    "activities = { 7:'sleeping', 8:'commuting', 17:'learning Python', 18:'commuting', 20:'having dinner', 21:'learning more Python', 22:'resting' }\n",
    "\n",
    "time_zone = 'Europe/Zurich'\n",
    "time_now = datetime.datetime.now(pytz.timezone(time_zone))\n",
    "hour = time_now.hour\n",
    "\n",
    "for activity_time in sorted(activities.keys()):\n",
    "    if hour <= activity_time:\n",
    "        print('It\\'s {} o\\'clock, I guess you are {} right now.'.format(hour, activities[activity_time]))\n",
    "        break\n",
    "else:\n",
    "    print('You should be sleeping at {} o\\'clock.'.format(hour))"
   ]
  },
  {
   "cell_type": "markdown",
   "metadata": {},
   "source": [
    "## Using the terminal\n",
    "\n",
    "<img src=\"Images/Terminal.png\">\n",
    "\n",
    "From the Jupyter environment, you have access to a terminal with a [bash shell](https://www.gnu.org/software/bash/). You can use the terminal to have a direct access to your files, run bash scripts, do your [git](https://git-scm.com/) work and more. ![noto](Images/noto_inline_transparent.png) provides you with a complete and configured bash environment with specific commands to help you on jupyter-related tasks.\n",
    "\n",
    "To edit text files from the terminal, you can use `vi` ([vim](https://www.vim.org/)) ; other text editors are available (e.g. `nano`)."
   ]
  },
  {
   "cell_type": "markdown",
   "metadata": {},
   "source": [
    "## Choosing your web interface\n",
    "You can choose between JupyterLab or the classic notebook interfaces. Just open the file called `jnb.conf` (located at the root of your `HOME` directory, double click on it) and then change the `INTERFACE` variable as indicated within the file itself. e.g.:\n",
    "```\n",
    "INTERFACE=labhub\n",
    "```\n",
    "To effectively switch to the new interface, you need to go to the *Control Panel* and *Stop* your server that is currenlty running and the *start* the server again (or just *logout/login*)."
   ]
  },
  {
   "cell_type": "markdown",
   "metadata": {},
   "source": [
    "## Leaving JupyterHub\n",
    "\n",
    "When leaving ![noto](Images/noto_inline_transparent.png), several options are available:\n",
    "\n",
    "1. By just **closing the window**, you will stay connected and your single user server will keep on running (for some time). Just point your browser to `noto.epfl.ch` and you will get back to where you left. This is not a secure way of proceeding, especially if you are working on a computer that you are sharing.\n",
    "\n",
    "1. **Logout**: when you logout, your single user server will be left running, and you will need to login again the next time you are back.\n",
    "\n",
    "In all cases, a single user server that is left unused for 30 minutes will get stopped automatically.\n",
    "\n",
    "The conclusion is: for **security**, you should always **always logout**."
   ]
  },
  {
   "cell_type": "markdown",
   "metadata": {},
   "source": [
    "# Next!\n",
    "\n",
    "Read the next notebook to learn about [virtual environments and kernels](./10_Envs_and_kernels.ipynb).\n",
    "\n",
    "**End of the notebook**"
   ]
  }
 ],
 "metadata": {
  "kernelspec": {
   "display_name": "Python 3",
   "language": "python",
   "name": "python3"
  },
  "language_info": {
   "codemirror_mode": {
    "name": "ipython",
    "version": 3
   },
   "file_extension": ".py",
   "mimetype": "text/x-python",
   "name": "python",
   "nbconvert_exporter": "python",
   "pygments_lexer": "ipython3",
   "version": "3.6.8"
  }
 },
 "nbformat": 4,
 "nbformat_minor": 4
}
