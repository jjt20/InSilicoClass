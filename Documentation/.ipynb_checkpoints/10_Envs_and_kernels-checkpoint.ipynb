{
 "cells": [
  {
   "cell_type": "markdown",
   "metadata": {},
   "source": [
    "# Adding virtual environments and kernels #\n",
    "\n",
    "With `noto.epfl.ch`, you get a complete Python 3 .6 environment, with a \"Python 3\" kernel, that will allow you to go forward and do most of the things you want to do.\n",
    "In the event you want to extend the provided environment, you can do so by creating virtual environments and add the Python packages you need ; this is also a way to install non Python kernels.\n",
    "\n",
    "### Do you need virtual environment ? ###\n",
    "Sometimes, you need specific python packages or a jupyter kernels that `noto.epfl.ch` is not providing by default.\n",
    "\n",
    "An elegant way of solving that problems is a two-step process:\n",
    "\n",
    "1. You build a suitable environment (an environment where you install the python packages you are missing).\n",
    "1. You install a kernel in that envrionment.\n",
    "\n",
    "Sometimes, you just need a kernel other that the default one, and no specific environment is required.\n",
    "\n",
    "Read on the next sections to learn how to handle environments and kernels.\n",
    "\n",
    "## Dealing with Python's virtual environments and Jupyter kernels ##\n",
    "\n",
    "The following `bash` helpers are available (from your terminal) to help you managing your virtual environmments:\n",
    "\n",
    "- `my_venvs_list`\n",
    "- `my_venvs_create`\n",
    "- `my_venvs_activate`\n",
    "- `my_venvs_remove`\n",
    "\n",
    "These helpers are just using python's builtin function with the right parameters to create environments that will be built on top of the base environment.\n",
    "Of course, you are free to use the standard python commands:\n",
    "`/usr/bin/python3 -m venv /home/my_venvs/abcd --system-site-packages`\n",
    "If you do so, please use the parameter `--system-site-packages` to make use of all the already installed packages and save disk space !\n",
    "\n",
    "### Examples ###\n",
    "You can run the following commands in you terminal:"
   ]
  },
  {
   "cell_type": "code",
   "execution_count": null,
   "metadata": {},
   "outputs": [],
   "source": [
    "# List currently installed virtual environments\n",
    "my_venvs_list"
   ]
  },
  {
   "cell_type": "markdown",
   "metadata": {},
   "source": [
    "### How to use virtual environments ###\n",
    "\n",
    "A classic workflow is the following (replace `this_is_my_venv` with a nice name for your new virtual environment):\n",
    "\n",
    "1. Create a virtual environment (`my_venvs_create this_is_my_venv`)\n",
    "1. Activate the virtual environment (`my_venvs_activate this_is_my_venv`)\n",
    "1. Install packages with `pip` (`pip install my_super_package`)\n",
    "1. Generate a new jupyter kernel (see next section)\n",
    "1. Install the new kernel (see next section)\n",
    "1. Deactivate the virtal environment when you are done (`deactivate`)\n",
    "\n",
    "You just have to run the appropriate commands in your Terminal.\n",
    "\n",
    "## How to deal with kernels ##\n",
    "\n",
    "The following `bash` helpers are available (from your terminal) to help you managing your python kernels:\n",
    "\n",
    "- `my_kernels_help`: gives you help on kernel creation/removal\n",
    "- `my_kernels_list`: lists the currently installed kernels\n",
    "- `my_kernels_create`: creates a new kernel in the currently active virtual environment\n",
    "- `my_kernels_remove`: removes an installed kernel\n",
    "\n",
    "### Examples ###\n",
    "You can run the following commands in you terminal:"
   ]
  },
  {
   "cell_type": "code",
   "execution_count": null,
   "metadata": {},
   "outputs": [],
   "source": [
    "# Get help on the my_kernels_* commands:\n",
    "my_kernels_help"
   ]
  },
  {
   "cell_type": "code",
   "execution_count": null,
   "metadata": {},
   "outputs": [],
   "source": [
    "# List currently available kernels\n",
    "my_kernels_list"
   ]
  },
  {
   "cell_type": "markdown",
   "metadata": {},
   "source": [
    "Kernels written in yellow (if any) are the kernels you installed, red ones are the default kernels we provide to you."
   ]
  },
  {
   "cell_type": "markdown",
   "metadata": {},
   "source": [
    "# Next! #\n",
    "Check this notebook to learn about [add non-python kernels](./20_Non-Python_kernels.ipynb)!"
   ]
  }
 ],
 "metadata": {
  "kernelspec": {
   "display_name": "Bash",
   "language": "bash",
   "name": "bash"
  },
  "language_info": {
   "codemirror_mode": "shell",
   "file_extension": ".sh",
   "mimetype": "text/x-sh",
   "name": "bash"
  }
 },
 "nbformat": 4,
 "nbformat_minor": 2
}
