{
 "cells": [
  {
   "cell_type": "markdown",
   "metadata": {},
   "source": [
    "# Installing non-Python kernels #"
   ]
  },
  {
   "cell_type": "markdown",
   "metadata": {},
   "source": [
    "## Bash kernel ##\n",
    "\n",
    "This is a simple example of a non-python kernel; we provide it for you, you don't have to install it.\n",
    "By using this kernel, you can execute **bash** code in your notebooks.\n",
    "\n",
    "## Octave kernel ##\n",
    "[TODO]\n",
    "\n",
    "## Scala kernel ##\n",
    "[TODO]\n",
    "\n",
    "## C kernel ##\n",
    "[TODO]\n",
    "\n",
    "## R kernel ##\n",
    "[TODO]\n"
   ]
  },
  {
   "cell_type": "code",
   "execution_count": null,
   "metadata": {},
   "outputs": [],
   "source": []
  }
 ],
 "metadata": {
  "kernelspec": {
   "display_name": "Bash",
   "language": "bash",
   "name": "bash"
  },
  "language_info": {
   "codemirror_mode": "shell",
   "file_extension": ".sh",
   "mimetype": "text/x-sh",
   "name": "bash"
  }
 },
 "nbformat": 4,
 "nbformat_minor": 2
}
