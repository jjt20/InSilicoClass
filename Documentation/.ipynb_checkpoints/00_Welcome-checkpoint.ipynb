{
 "cells": [
  {
   "cell_type": "markdown",
   "metadata": {},
   "source": [
    "# Welcome to Jupyter! #\n",
    "\n",
    "## A quick presentation ##\n",
    "When you log into `noto.epfl.ch`, a `single user` web server is launched and provides you with an interface (lab or classic notebook) to your notebook environment. From this interface, you can open your notebooks.\n",
    "Your notebooks are stored in your personal disk, organised in files and directories like a normal disk.\n",
    "\n",
    "Notebooks contain mainly text and code cells. Code cells are executed by a \"kernel\"; for Python code cells, you need a Python kernel.\n",
    "\n",
    "## Choosing your interface ##\n",
    "You can choose between \"jupyterlab\" or the classic \"notebook\" interfaces. Open the file called \"`jnb.conf`\" (in your HOME directory) and change the INTERFACE parameter. e.g.:\n",
    "```\n",
    "INTERFACE=labhub\n",
    "```\n",
    "To effectively switch to the new interface, you need to go to the *Control Panel* and *Stop* your server that is currenlty running and the *start* the server again.\n",
    "\n",
    "\n",
    "## Leaving the interface ##\n",
    "\n",
    "When leaving  `noto.epfl.ch`, several options are available:\n",
    "\n",
    "1. By just **closing the window**, you will stay connected and your single user server will keep on running. Just point your browser to `noto.epfl.ch` and you will get back to where you left - this is not a secure way of proceeding, especially if you are working on a computer that you are sharing.\n",
    "\n",
    "1. **Simple logout**: your single user server will be left running, and you will need to login again the next time you are back.\n",
    "\n",
    "1. Go to the \"**Control panel**\", **stop your server** and then **logout**: this will completely stop all your personal environment, freeing resources straigh away for your colleagues.\n",
    "\n",
    "In all cases, a single user server that is left unused for 30 minutes will get stopped automatically.\n",
    "\n",
    "The conclusion is: for your security, **always logout**. To be a nice person, **stop your server** and **logout**."
   ]
  },
  {
   "cell_type": "markdown",
   "metadata": {},
   "source": [
    "# Next! #\n",
    "Check this notebook to learn about [virtual environments and kernels](./10_Envs_and_kernels.ipynb)!"
   ]
  }
 ],
 "metadata": {
  "kernelspec": {
   "display_name": "Bash",
   "language": "bash",
   "name": "bash"
  },
  "language_info": {
   "codemirror_mode": "shell",
   "file_extension": ".sh",
   "mimetype": "text/x-sh",
   "name": "bash"
  }
 },
 "nbformat": 4,
 "nbformat_minor": 2
}
