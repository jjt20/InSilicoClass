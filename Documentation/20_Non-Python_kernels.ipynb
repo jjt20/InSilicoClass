{
 "cells": [
  {
   "cell_type": "markdown",
   "metadata": {},
   "source": [
    "# Python and Non-Python kernels"
   ]
  },
  {
   "cell_type": "markdown",
   "metadata": {},
   "source": [
    "## Provided kernels\n",
    "\n",
    "The following kernels are available from ![noto](Images/noto_inline_transparent.png). They are ready to use, you don't have to install them.\n",
    "\n",
    "### Python kernel\n",
    "Run the following cell to list all available Python (3.6) packages."
   ]
  },
  {
   "cell_type": "code",
   "execution_count": null,
   "metadata": {},
   "outputs": [],
   "source": [
    "/usr/bin/pip3 list --format=columns"
   ]
  },
  {
   "cell_type": "markdown",
   "metadata": {},
   "source": [
    "### Bash kernel\n",
    "By using this kernel, you can execute **bash** code cells in your notebooks. Please note that the bash environment inside Bash kernel notebooks is initialized just like your terminal's shell."
   ]
  },
  {
   "cell_type": "code",
   "execution_count": null,
   "metadata": {},
   "outputs": [],
   "source": [
    "bash --version"
   ]
  },
  {
   "cell_type": "markdown",
   "metadata": {},
   "source": [
    "### Octave kernel\n",
    "[Octave](https://www.gnu.org/software/octave/) is a scientific programming language."
   ]
  },
  {
   "cell_type": "code",
   "execution_count": null,
   "metadata": {},
   "outputs": [],
   "source": [
    "octave --no-gui --version"
   ]
  },
  {
   "cell_type": "markdown",
   "metadata": {},
   "source": [
    "### C kernel\n",
    "The C kernel allows you to compile and run [C](https://en.wikipedia.org/wiki/C_(programming_language)) code."
   ]
  },
  {
   "cell_type": "code",
   "execution_count": null,
   "metadata": {},
   "outputs": [],
   "source": [
    "gcc --version"
   ]
  },
  {
   "cell_type": "markdown",
   "metadata": {},
   "source": [
    "### R kernel\n",
    "[R](https://www.r-project.org/) is a programming language for statistical computing"
   ]
  },
  {
   "cell_type": "code",
   "execution_count": null,
   "metadata": {},
   "outputs": [],
   "source": [
    "R --version"
   ]
  },
  {
   "cell_type": "code",
   "execution_count": null,
   "metadata": {},
   "outputs": [],
   "source": [
    "Rscript --slave --no-save --no-restore-history -e \"print(rownames(installed.packages()))\""
   ]
  },
  {
   "cell_type": "markdown",
   "metadata": {},
   "source": [
    "### Scala kernel\n",
    "Not available yet."
   ]
  },
  {
   "cell_type": "markdown",
   "metadata": {},
   "source": [
    "## Other kernels\n",
    "\n",
    "There are a large amount of kernels for Jupyter notebooks. However, providing them in a stable manner requires a lot of resources.\n",
    "\n",
    "Of course, should you need a specific kernel, feel free to let [us](mailto:noto-support@groupes.epfl.ch) know."
   ]
  },
  {
   "cell_type": "markdown",
   "metadata": {},
   "source": [
    "# Next! #\n",
    "\n",
    "Get some hints at [using git](30_Using_git.ipynb)!\n",
    "\n",
    "**End of the notebook**"
   ]
  }
 ],
 "metadata": {
  "kernelspec": {
   "display_name": "Bash",
   "language": "bash",
   "name": "bash"
  },
  "language_info": {
   "codemirror_mode": "shell",
   "file_extension": ".sh",
   "mimetype": "text/x-sh",
   "name": "bash"
  }
 },
 "nbformat": 4,
 "nbformat_minor": 4
}
