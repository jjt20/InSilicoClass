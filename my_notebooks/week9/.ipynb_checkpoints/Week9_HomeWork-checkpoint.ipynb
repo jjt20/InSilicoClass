{
 "cells": [
  {
   "cell_type": "markdown",
   "metadata": {},
   "source": [
    "<center><font size = \"10\"> Week 9 - Cells in Space  <center>\n",
    "<center><font size = \"8\">Home work<center>"
   ]
  },
  {
   "cell_type": "markdown",
   "metadata": {},
   "source": [
    "<font size = \"3\">Please, write your group number and the names and surnames of the group members here\n",
    "<br>Group number:\n",
    "<br>Group member1:\n",
    "<br>Group member2:\n",
    "<br>Group member3:"
   ]
  },
  {
   "cell_type": "markdown",
   "metadata": {},
   "source": [
    "## Ex1. Placing cells in a cubic volume\n",
    "\n",
    "<font size='3'>Define a cubic volume with the following dimensions: x = (2000, 5000), y = (2000, 5000), z = (-1000, 2000). Place the five morphologies assigned to your group (used in week2 and week7) in random positions inside the cube. Visualize the cells in the cube in three different planes: xy, xz and yz. [1 pt]"
   ]
  },
  {
   "cell_type": "code",
   "execution_count": null,
   "metadata": {},
   "outputs": [],
   "source": []
  },
  {
   "cell_type": "markdown",
   "metadata": {},
   "source": [
    "## Ex2. Cells rotation\n",
    "\n",
    "<font size='3'>Compute a 2D rotation along the z axis on the inhibitory cells from your data set, the rotation angles should be: 90°, 180° and 270°. Plot the reults in xy plane. Compute a 3D rotation to aling the pyramidal cells x axis with the vector (2,1,5). [1.5 pts]"
   ]
  },
  {
   "cell_type": "code",
   "execution_count": null,
   "metadata": {},
   "outputs": [],
   "source": []
  },
  {
   "cell_type": "markdown",
   "metadata": {},
   "source": [
    "## Ex3. Placing cells in a sphere\n",
    "\n",
    "<font size='3'>Define a sphere with radious 2000 µm and centered in (200, 150, 300). Define 5 random points inside the sphere and place your 5 cells in random positions as it is done in tutorial 03. [1 pt]"
   ]
  },
  {
   "cell_type": "code",
   "execution_count": null,
   "metadata": {},
   "outputs": [],
   "source": []
  },
  {
   "cell_type": "markdown",
   "metadata": {},
   "source": [
    "## Ex4. Placing cells in a cylinder\n",
    "\n",
    "<font size='3'>Define a cylinder of radious 1000 µm and height 3000 µm. Define 5 random points inside the cilidier to place your cells. Consider that the pyramidal cells should have their y axes aligned with the cilinder vertical axes. Two of the pyramidal cells should have their apical dendrites facing up and the other should have its apical dendrites facing down. No rotating or oriented rules have to be applied to the inhibitory cells. Show the result in a 3D plot. [2.5 pts]"
   ]
  },
  {
   "cell_type": "code",
   "execution_count": null,
   "metadata": {},
   "outputs": [],
   "source": []
  }
 ],
 "metadata": {
  "kernelspec": {
   "display_name": "Python 3",
   "language": "python",
   "name": "python3"
  },
  "language_info": {
   "codemirror_mode": {
    "name": "ipython",
    "version": 3
   },
   "file_extension": ".py",
   "mimetype": "text/x-python",
   "name": "python",
   "nbconvert_exporter": "python",
   "pygments_lexer": "ipython3",
   "version": "3.6.9"
  }
 },
 "nbformat": 4,
 "nbformat_minor": 4
}
