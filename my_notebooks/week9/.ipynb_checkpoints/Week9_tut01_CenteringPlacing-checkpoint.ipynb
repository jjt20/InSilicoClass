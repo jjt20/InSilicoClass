{
 "cells": [
  {
   "cell_type": "markdown",
   "metadata": {},
   "source": [
    "<center><font size = \"10\"> Week 9 - Cells in Space <center>\n",
    "<center><font size = \"8\">Tutorial 01: Centering and Placing <center>"
   ]
  },
  {
   "cell_type": "markdown",
   "metadata": {},
   "source": [
    "<font size='3'><font color='blue'> In this tutorial you will see how to:\n",
    "    \n",
    "<font size='3'><font color='blue'> - center a morphology by placing the soma at (0,0,0)\n",
    "    \n",
    "<font size='3'><font color='blue'> - place the morphology on a specific coordinate inside a volume"
   ]
  },
  {
   "cell_type": "markdown",
   "metadata": {},
   "source": [
    "### Some useful functions"
   ]
  },
  {
   "cell_type": "code",
   "execution_count": null,
   "metadata": {},
   "outputs": [],
   "source": [
    "def shift_morphology(morph,shift):\n",
    "    morph.soma.points[:,[0,1,2]] += shift\n",
    "    for n in morph.neurites:\n",
    "        n.points[:,[0,1,2]] += shift\n",
    "\n",
    "def center_morphology(morph):\n",
    "    center = morph.soma.center.copy()\n",
    "    shift_morphology(morph,-center)\n",
    "\n",
    "# Poorman's plotting of morphologies\n",
    "def plot_morphology(morph,color = None,plane = 'XY',somaOnly = False):\n",
    "    colors = ['','','black','blue','red','green'] # colors for: soma, axon, basal, apical\n",
    "    planes = { 'XY': [0,1], 'XZ': [0,2], 'YZ': [1,2], 'YX': [1,0], 'ZX': [2,0], 'ZY': [2,1] }\n",
    "    if color is not None:\n",
    "        colors = ['','','black',color,color,color]\n",
    "    if not somaOnly:\n",
    "        for n in morph.neurites:\n",
    "            pts = n.points[:,[0,1,2]]\n",
    "            plt.scatter(pts[:,planes[plane][0]],pts[:,planes[plane][1]],s=1,c=colors[n.type.value],marker='.')\n",
    "    pts = morph.soma.center\n",
    "    plt.scatter(pts[planes[plane][0]],pts[planes[plane][1]],c=colors[nm.NeuriteType.soma.value],marker='D')\n",
    "\n",
    "def plot_morphologies(morphlist,plane = 'XY',somaOnly = False):\n",
    "    colors = ['red','green','blue','magenta','cyan','yellow','orange','purple','brown']\n",
    "    if len(morphlist) is 1:\n",
    "        colors = [None]\n",
    "    if somaOnly:\n",
    "        colors = ['black' for i in range(0,len(morphlist))]\n",
    "    fig = plt.figure()\n",
    "    fig.suptitle(plane)\n",
    "    for i,m in enumerate(morphlist):\n",
    "        plot_morphology(m,colors[i % len(colors)],plane = plane,somaOnly = somaOnly)"
   ]
  },
  {
   "cell_type": "markdown",
   "metadata": {},
   "source": [
    "# 1. Centering a morphology"
   ]
  },
  {
   "cell_type": "markdown",
   "metadata": {},
   "source": [
    "### First let's check the soma coordinates with NeuroM"
   ]
  },
  {
   "cell_type": "code",
   "execution_count": null,
   "metadata": {},
   "outputs": [],
   "source": [
    "%matplotlib inline\n",
    "\n",
    "import matplotlib.pyplot as plt\n",
    "import neurom as nm\n",
    "# Load a morphology\n",
    "morph = nm.load_neuron('Pyr_01.swc')\n",
    "# Check that it is not centered\n",
    "print('soma center:',morph.soma.center)\n",
    "# Visualize it\n",
    "plot_morphologies([morph])"
   ]
  },
  {
   "cell_type": "markdown",
   "metadata": {},
   "source": [
    "### Now we can center the soma"
   ]
  },
  {
   "cell_type": "code",
   "execution_count": null,
   "metadata": {},
   "outputs": [],
   "source": [
    "center_morphology(morph)\n",
    "\n",
    "# Check that it is centered\n",
    "print('soma center:',morph.soma.center)\n",
    "# Visualize it\n",
    "plot_morphologies([morph])"
   ]
  },
  {
   "cell_type": "markdown",
   "metadata": {},
   "source": [
    "# 2. Placing a morphology into a volume"
   ]
  },
  {
   "cell_type": "markdown",
   "metadata": {},
   "source": [
    "### Define a cubic volume and sample random positions inside it"
   ]
  },
  {
   "cell_type": "code",
   "execution_count": null,
   "metadata": {},
   "outputs": [],
   "source": [
    "import numpy as np\n",
    "rng = np.random.default_rng()\n",
    "\n",
    "N = 3 # number of positions\n",
    "volume = [[1000,3000],[5000,7000],[-2000,2000]] # volume bounds [um]\n",
    "\n",
    "# get positions in required ranges\n",
    "pos = rng.random((N,3)) # in [0,1)\n",
    "for i,x in enumerate(volume):\n",
    "    pos[:,i] = (x[1] - x[0]) * pos[:,i] + x[0]\n",
    "    \n",
    "pos # print positions"
   ]
  },
  {
   "cell_type": "markdown",
   "metadata": {},
   "source": [
    "### Load morphologies and place them at those positions (after centering)"
   ]
  },
  {
   "cell_type": "code",
   "execution_count": null,
   "metadata": {},
   "outputs": [],
   "source": [
    "import neurom as nm\n",
    "morph_files = ['Pyr_01.swc','Pyr_02.swc','Int_01.swc']\n",
    "morphs = [nm.load_neuron(x) for x in morph_files]\n",
    "\n",
    "# place all morphologies\n",
    "for i,m in enumerate(morphs):\n",
    "    center_morphology(m)\n",
    "    shift_morphology(m,pos[i])\n",
    "\n",
    "[x.soma.center for x in morphs] # print centers"
   ]
  },
  {
   "cell_type": "markdown",
   "metadata": {},
   "source": [
    "### Visualize them"
   ]
  },
  {
   "cell_type": "code",
   "execution_count": null,
   "metadata": {},
   "outputs": [],
   "source": [
    "# Plot soma locations\n",
    "plot_morphologies(morphs,somaOnly = True)"
   ]
  },
  {
   "cell_type": "code",
   "execution_count": null,
   "metadata": {},
   "outputs": [],
   "source": [
    "# Plot whole morphologies\n",
    "plot_morphologies(morphs)\n",
    "# Plot volume containing somas\n",
    "plt.plot((volume[0][0],volume[0][1],volume[0][1],volume[0][0],volume[0][0]),\n",
    "         (volume[1][1],volume[1][1],volume[1][0],volume[1][0],volume[1][1]),c='black')"
   ]
  }
 ],
 "metadata": {
  "kernelspec": {
   "display_name": "Python 3",
   "language": "python",
   "name": "python3"
  },
  "language_info": {
   "codemirror_mode": {
    "name": "ipython",
    "version": 3
   },
   "file_extension": ".py",
   "mimetype": "text/x-python",
   "name": "python",
   "nbconvert_exporter": "python",
   "pygments_lexer": "ipython3",
   "version": "3.6.9"
  }
 },
 "nbformat": 4,
 "nbformat_minor": 4
}
