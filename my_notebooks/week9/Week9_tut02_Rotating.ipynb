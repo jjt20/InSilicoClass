{
 "cells": [
  {
   "cell_type": "markdown",
   "metadata": {},
   "source": [
    "<center><font size = \"10\"> Week 9 - Cells in Space <center>\n",
    "<center><font size = \"8\">Tutorial 02: Rotating <center>"
   ]
  },
  {
   "cell_type": "markdown",
   "metadata": {},
   "source": [
    "<font size='3'><font color='blue'> In this tutorial you will see how to:\n",
    "    \n",
    "<font size='3'><font color='blue'> - Rotate a morphology along different axis"
   ]
  },
  {
   "cell_type": "markdown",
   "metadata": {},
   "source": [
    "### Some useful functions"
   ]
  },
  {
   "cell_type": "code",
   "execution_count": null,
   "metadata": {},
   "outputs": [],
   "source": [
    "# Useful functions\n",
    "def shift_morphology(morph,shift):\n",
    "    morph.soma.points[:,[0,1,2]] += shift\n",
    "    for n in morph.neurites:\n",
    "        n.points[:,[0,1,2]] += shift\n",
    "\n",
    "def center_morphology(morph):\n",
    "    center = morph.soma.center.copy()\n",
    "    shift_morphology(morph,-center)\n",
    "\n",
    "# Poorman's plotting of morphologies\n",
    "def plot_morphology(morph,color = None,plane = 'XY',somaOnly = False):\n",
    "    colors = ['','','black','blue','red','green'] # colors for: soma, axon, basal, apical\n",
    "    planes = { 'XY': [0,1], 'XZ': [0,2], 'YZ': [1,2], 'YX': [1,0], 'ZX': [2,0], 'ZY': [2,1] }\n",
    "    if color is not None:\n",
    "        colors = ['','','black',color,color,color]\n",
    "    if not somaOnly:\n",
    "        for n in morph.neurites:\n",
    "            pts = n.points[:,[0,1,2]]\n",
    "            plt.scatter(pts[:,planes[plane][0]],pts[:,planes[plane][1]],s=1,c=colors[n.type.value],marker='.')\n",
    "    pts = morph.soma.center\n",
    "    plt.scatter(pts[planes[plane][0]],pts[planes[plane][1]],c=colors[nm.NeuriteType.soma.value],marker='D')\n",
    "\n",
    "def plot_morphologies(morphlist,plane = 'XY',somaOnly = False):\n",
    "    colors = ['red','green','blue','magenta','cyan','yellow','orange','purple','brown']\n",
    "    if len(morphlist) is 1:\n",
    "        colors = [None]\n",
    "    if somaOnly:\n",
    "        colors = ['black' for i in range(0,len(morphlist))]\n",
    "    fig = plt.figure()\n",
    "    fig.suptitle(plane)\n",
    "    for i,m in enumerate(morphlist):\n",
    "        plot_morphology(m,colors[i % len(colors)],plane = plane,somaOnly = somaOnly)"
   ]
  },
  {
   "cell_type": "markdown",
   "metadata": {},
   "source": [
    "# 1. Rotating a morphology"
   ]
  },
  {
   "cell_type": "markdown",
   "metadata": {},
   "source": [
    "### Fist we center the morphology and visualize it"
   ]
  },
  {
   "cell_type": "code",
   "execution_count": null,
   "metadata": {},
   "outputs": [],
   "source": [
    "%matplotlib inline\n",
    "\n",
    "import matplotlib.pyplot as plt\n",
    "import neurom as nm\n",
    "# Load a morphology\n",
    "morph = nm.load_neuron('Pyr_01.swc')\n",
    "# Center morphology\n",
    "center_morphology(morph)\n",
    "\n",
    "plot_morphologies([morph])"
   ]
  },
  {
   "cell_type": "markdown",
   "metadata": {},
   "source": [
    "## 2D rotation around Z axis"
   ]
  },
  {
   "cell_type": "code",
   "execution_count": null,
   "metadata": {},
   "outputs": [],
   "source": [
    "import numpy as np\n",
    "\n",
    "# Rotation matrix around Z axis, angle theta CCW (degrees)\n",
    "def rotz(theta):\n",
    "    radtheta = theta * np.pi / 180.0 # in radians\n",
    "    R = np.array([[np.cos(radtheta),-np.sin(radtheta),0],\n",
    "                  [np.sin(radtheta),np.cos(radtheta),0],\n",
    "                  [0,0,1]])\n",
    "    return R\n",
    "\n",
    "R = rotz(90)\n",
    "# Test\n",
    "R.dot([1,0,0]) # = [0,1,0]"
   ]
  },
  {
   "cell_type": "code",
   "execution_count": null,
   "metadata": {},
   "outputs": [],
   "source": [
    "# apply rotation matrix R\n",
    "def rotate_morphology(morph,R):\n",
    "    morph.soma.points[:,[0,1,2]] = R.dot(morph.soma.points[:,[0,1,2]].T).T\n",
    "    for n in morph.neurites:\n",
    "        n.points[:,[0,1,2]] = R.dot(n.points[:,[0,1,2]].T).T\n",
    "\n",
    "def rotz_morphology(morph,theta):\n",
    "    R = rotz(theta)\n",
    "    rotate_morphology(morph,R)"
   ]
  },
  {
   "cell_type": "code",
   "execution_count": null,
   "metadata": {},
   "outputs": [],
   "source": [
    "rotz_morphology(morph,90)\n",
    "plot_morphologies([morph])"
   ]
  },
  {
   "cell_type": "code",
   "execution_count": null,
   "metadata": {},
   "outputs": [],
   "source": [
    "rotz_morphology(morph,90)\n",
    "plot_morphologies([morph])"
   ]
  },
  {
   "cell_type": "code",
   "execution_count": null,
   "metadata": {},
   "outputs": [],
   "source": [
    "rotz_morphology(morph,90)\n",
    "plot_morphologies([morph])"
   ]
  },
  {
   "cell_type": "code",
   "execution_count": null,
   "metadata": {},
   "outputs": [],
   "source": [
    "rotz_morphology(morph,90)\n",
    "plot_morphologies([morph])"
   ]
  },
  {
   "cell_type": "markdown",
   "metadata": {},
   "source": [
    "## 3D rotation to align morphology Y axis with an arbitrary vector"
   ]
  },
  {
   "cell_type": "code",
   "execution_count": null,
   "metadata": {},
   "outputs": [],
   "source": [
    "def align_morphology_Y(morph,axis):\n",
    "    # Rotation matrix that aligns the Y axis [0,1,0] to an arbitrary vector b (other than Y or -Y)\n",
    "    # From https://math.stackexchange.com/a/476311\n",
    "    a = np.array([0,1,0])\n",
    "\n",
    "    b = np.array(axis) # target axis\n",
    "    b = b / np.linalg.norm(b) # make unit norm\n",
    "\n",
    "    v = np.cross(a,b)     # a x b\n",
    "    s = np.linalg.norm(v) # ||v|| = sin(theta)\n",
    "    c = a.dot(b)          # a . b = cos(theta)\n",
    "\n",
    "    # Skew-symmetric cross-product matrix\n",
    "    V = np.zeros((3,3))\n",
    "    V[0,1] = -v[2]\n",
    "    V[1,0] =  v[2]\n",
    "    V[0,2] =  v[1]\n",
    "    V[2,0] = -v[1]\n",
    "    V[1,2] = -v[0]\n",
    "    V[2,1] =  v[0]\n",
    "\n",
    "    # Rotation matrix\n",
    "    R = np.diag((1.0,1.0,1.0))\n",
    "    R += V\n",
    "    R += V.dot(V) * (1.0 - c) / (s * s)\n",
    "\n",
    "    # Test\n",
    "    if not np.max(R.dot(a) - b) < 1E-12:\n",
    "        raise ValueError('Matrix not good!')\n",
    "    \n",
    "    # Rotate morphology\n",
    "    rotate_morphology(morph,R)"
   ]
  },
  {
   "cell_type": "code",
   "execution_count": null,
   "metadata": {},
   "outputs": [],
   "source": [
    "align_morphology_Y(morph,[1,1,1])\n",
    "# Plot all three planes\n",
    "plot_morphologies([morph],plane = 'XY')\n",
    "plot_morphologies([morph],plane = 'XZ')\n",
    "plot_morphologies([morph],plane = 'YZ')"
   ]
  }
 ],
 "metadata": {
  "kernelspec": {
   "display_name": "Python 3",
   "language": "python",
   "name": "python3"
  },
  "language_info": {
   "codemirror_mode": {
    "name": "ipython",
    "version": 3
   },
   "file_extension": ".py",
   "mimetype": "text/x-python",
   "name": "python",
   "nbconvert_exporter": "python",
   "pygments_lexer": "ipython3",
   "version": "3.6.9"
  }
 },
 "nbformat": 4,
 "nbformat_minor": 4
}
