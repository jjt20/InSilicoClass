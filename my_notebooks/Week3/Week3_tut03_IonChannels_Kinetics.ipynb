{
 "cells": [
  {
   "cell_type": "markdown",
   "metadata": {},
   "source": [
    "<center><font size = \"10\"> Week 3 - Ion Channels <center>\n",
    "<center><font size = \"8\">Tutorial 03: Channel Kinetics<center>"
   ]
  },
  {
   "cell_type": "markdown",
   "metadata": {},
   "source": [
    "<font size = \"3\"><font color = \"blue\">In this tutorial you will study how channel kinetics affects the cell response"
   ]
  },
  {
   "cell_type": "markdown",
   "metadata": {},
   "source": [
    "<font size=\"3\">The Action Potential\n",
    "\n",
    "<img src=\"Typical-Nerve-Action-Potential_W640.jpg\" width=\"500\" height=\"250\"> "
   ]
  },
  {
   "cell_type": "markdown",
   "metadata": {},
   "source": [
    "# 1. Channels with conductance = 0"
   ]
  },
  {
   "cell_type": "code",
   "execution_count": null,
   "metadata": {
    "scrolled": true
   },
   "outputs": [],
   "source": [
    "# This will compile the mechanisms inside the MOD files (and create a new folder x86_64/special).\n",
    "! nrnivmodl"
   ]
  },
  {
   "cell_type": "code",
   "execution_count": null,
   "metadata": {},
   "outputs": [],
   "source": [
    "from neuron import h\n",
    "import matplotlib.pyplot as plt\n",
    "%matplotlib inline\n",
    "\n",
    "h.load_file('stdrun.hoc')"
   ]
  },
  {
   "cell_type": "code",
   "execution_count": null,
   "metadata": {
    "scrolled": true
   },
   "outputs": [],
   "source": [
    "# Create a section \n",
    "soma = h.Section()\n",
    "soma.L = 18.0     # length (µm)\n",
    "soma.diam = 18.0  # diameter (µm)\n",
    "soma.Ra = 123.0   # axial resistivity (Ω*cm)\n",
    "soma.nseg = 1\n",
    "\n",
    "# Insert passive properties\n",
    "soma.insert('pas')\n",
    "for seg in soma:\n",
    "    seg.pas.g = 0.0003 # Conductance of the leak channels (in S/cm2)\n",
    "    seg.pas.e = -70   # Leak reversal potential, it influences the steady state membrane potential\n",
    "\n",
    "# INSERT CHANNEL MODELS\n",
    "# conductance to 0, so NO active channels --> PASIVE CELL\n",
    "soma.insert('K_Ch')\n",
    "for seg in soma:\n",
    "    seg.gKv3bar_K_Ch = 0   # Maximal conductance of the potassium channels\n",
    "\n",
    "soma.insert('Na_Ch')\n",
    "for seg in soma:\n",
    "    seg.gNa_Sbar_Na_Ch = 0   # Maximal conductance of the sodium channels\n",
    "    \n",
    "# Inject a current step into the soma\n",
    "stim = h.IClamp(soma(0.5))         # Place a stimulation electrode in the middle of the soma\n",
    "stim.delay = 100   # stim delay (ms)\n",
    "stim.amp = 0.04    # stim amplitude (pA)\n",
    "stim.dur = 500     # stim duration (ms)\n",
    "\n",
    "# Initialize NEURON vectors to record time, voltage and current\n",
    "# time vector\n",
    "rec_t = h.Vector()\n",
    "rec_t.record(h._ref_t)\n",
    "# membrame potential vector\n",
    "rec_v = h.Vector()\n",
    "rec_v.record(soma(0.5)._ref_v)\n",
    "\n",
    "# Na current\n",
    "rec_iNa = h.Vector()\n",
    "rec_iNa.record(soma(0.5)._ref_ina)\n",
    "# K current\n",
    "rec_iK = h.Vector()\n",
    "rec_iK.record(soma(0.5)._ref_ik)\n",
    "\n",
    "# Initialize and run a simulation\n",
    "h.finitialize(-70)    # initial voltage \n",
    "h.continuerun(700)    # total recording duration\n",
    "\n",
    "# PLOT\n",
    "plt.figure(figsize=(15,3))\n",
    "plt.subplot(131)\n",
    "plt.title('cell with Na and K channel models')\n",
    "plt.ylabel('V (mV)')\n",
    "plt.xlabel('t (ms)')\n",
    "plt.plot(rec_t,rec_v, 'b')\n",
    "\n",
    "plt.subplot(132)\n",
    "plt.title('current thourgh K channel')\n",
    "plt.ylabel('I (pA)')\n",
    "plt.xlabel('t (ms)')\n",
    "plt.plot(rec_t,rec_iK, 'g')\n",
    "\n",
    "plt.subplot(133)\n",
    "plt.title('current thourgh Na channel')\n",
    "plt.ylabel('I (pA)')\n",
    "plt.xlabel('t (ms)')\n",
    "plt.plot(rec_t,rec_iNa, 'r')"
   ]
  },
  {
   "cell_type": "markdown",
   "metadata": {},
   "source": [
    "# 2. Including only K$^{+}$ "
   ]
  },
  {
   "cell_type": "code",
   "execution_count": null,
   "metadata": {
    "scrolled": true
   },
   "outputs": [],
   "source": [
    "#################### ONLY K+\n",
    "# insert models\n",
    "# Activating only K\n",
    "soma.insert('K_Ch')\n",
    "for seg in soma:\n",
    "    seg.gKv3bar_K_Ch = 0.01   # Maximal conductance of the potassium channels\n",
    "\n",
    "# Initialize and run a simulation\n",
    "h.finitialize(-70)    # initial voltage \n",
    "h.continuerun(700)    # total recording duration\n",
    "\n",
    "# PLOT\n",
    "plt.figure(figsize=(20,3))\n",
    "plt.subplot(131)\n",
    "plt.title('cell with Na and K channel models')\n",
    "plt.ylabel('V (mV)')\n",
    "plt.xlabel('t (ms)')\n",
    "plt.plot(rec_t,rec_v, 'b')\n",
    "\n",
    "plt.subplot(132)\n",
    "plt.title('current thourgh K channel')\n",
    "plt.ylabel('I (pA)')\n",
    "plt.xlabel('t (ms)')\n",
    "plt.plot(rec_t,rec_iK, 'g')\n",
    "\n",
    "plt.subplot(133)\n",
    "plt.title('current thourgh Na channel')\n",
    "plt.ylabel('I (pA)')\n",
    "plt.xlabel('t (ms)')\n",
    "plt.plot(rec_t,rec_iNa, 'r')"
   ]
  },
  {
   "cell_type": "markdown",
   "metadata": {},
   "source": [
    "# 3. Including only Na$^{+}$ "
   ]
  },
  {
   "cell_type": "code",
   "execution_count": null,
   "metadata": {
    "scrolled": true
   },
   "outputs": [],
   "source": [
    "####################### ONLY Na+\n",
    "# insert models\n",
    "# Activating only Na\n",
    "soma.insert('K_Ch')\n",
    "for seg in soma:\n",
    "    seg.gKv3bar_K_Ch = 0   # Maximal conductance of the potassium channels\n",
    "\n",
    "soma.insert('Na_Ch')\n",
    "for seg in soma:\n",
    "    seg.gNa_Sbar_Na_Ch = 0.09   # Maximal conductance of the sodium channels\n",
    "\n",
    "stim.amp = 0.04    # stim amplitude (pA)\n",
    "    \n",
    "# Initialize and run a simulation\n",
    "h.finitialize(-70)    # initial voltage \n",
    "h.continuerun(700)    # total recording duration\n",
    "\n",
    "# PLOT\n",
    "plt.figure(figsize=(20,3))\n",
    "plt.subplot(131)\n",
    "plt.title('cell with Na and K channel models')\n",
    "plt.ylabel('V (mV)')\n",
    "plt.xlabel('t (ms)')\n",
    "plt.plot(rec_t,rec_v, 'b')\n",
    "\n",
    "plt.subplot(132)\n",
    "plt.title('current thourgh K channel')\n",
    "plt.ylabel('I (pA)')\n",
    "plt.xlabel('t (ms)')\n",
    "plt.plot(rec_t,rec_iK, 'g')\n",
    "\n",
    "plt.subplot(133)\n",
    "plt.title('current thourgh Na channel')\n",
    "plt.ylabel('I (pA)')\n",
    "plt.xlabel('t (ms)')\n",
    "plt.plot(rec_t,rec_iNa, 'r')"
   ]
  },
  {
   "cell_type": "markdown",
   "metadata": {},
   "source": [
    "# 4. Including both channels"
   ]
  },
  {
   "cell_type": "code",
   "execution_count": null,
   "metadata": {},
   "outputs": [],
   "source": [
    "####################### Na+ and K+\n",
    "# insert models\n",
    "# Activating only Na\n",
    "soma.insert('K_Ch')\n",
    "for seg in soma:\n",
    "    seg.gKv3bar_K_Ch = 0.01   # Maximal conductance of the potassium channels\n",
    "\n",
    "soma.insert('Na_Ch')\n",
    "for seg in soma:\n",
    "    seg.gNa_Sbar_Na_Ch = 0.09   # Maximal conductance of the sodium channels\n",
    "\n",
    "stim.amp = 0.06    # stim amplitude (pA)\n",
    "    \n",
    "# Initialize and run a simulation\n",
    "h.finitialize(-70)    # initial voltage \n",
    "h.continuerun(700)    # total recording duration\n",
    "\n",
    "# PLOT\n",
    "plt.figure(figsize=(20,3))\n",
    "plt.subplot(131)\n",
    "plt.title('cell with Na and K channel models')\n",
    "plt.ylabel('V (mV)')\n",
    "plt.xlabel('t (ms)')\n",
    "plt.plot(rec_t,rec_v, 'b')\n",
    "\n",
    "plt.subplot(132)\n",
    "plt.title('current thourgh K channel')\n",
    "plt.ylabel('I (pA)')\n",
    "plt.xlabel('t (ms)')\n",
    "plt.plot(rec_t,rec_iK, 'g')\n",
    "\n",
    "plt.subplot(133)\n",
    "plt.title('current thourgh Na channel')\n",
    "plt.ylabel('I (pA)')\n",
    "plt.xlabel('t (ms)')\n",
    "plt.plot(rec_t,rec_iNa, 'r')"
   ]
  },
  {
   "cell_type": "markdown",
   "metadata": {},
   "source": [
    "# 5. Stimulation amplitude importance"
   ]
  },
  {
   "cell_type": "code",
   "execution_count": null,
   "metadata": {
    "scrolled": true
   },
   "outputs": [],
   "source": [
    "stim.amp = 0.0396    # stim amplitude (pA)\n",
    "    \n",
    "# Initialize and run a simulation\n",
    "h.finitialize(-70)    # initial voltage \n",
    "h.continuerun(700)    # total recording duration\n",
    "\n",
    "# PLOT\n",
    "plt.figure(figsize=(20,3))\n",
    "plt.subplot(131)\n",
    "plt.title('cell with Na and K channel models')\n",
    "plt.ylabel('V (mV)')\n",
    "plt.xlabel('t (ms)')\n",
    "plt.plot(rec_t,rec_v, 'b')\n",
    "\n",
    "plt.subplot(132)\n",
    "plt.title('current thourgh K channel')\n",
    "plt.ylabel('I (pA)')\n",
    "plt.xlabel('t (ms)')\n",
    "plt.plot(rec_t,rec_iK, 'g')\n",
    "\n",
    "plt.subplot(133)\n",
    "plt.title('current thourgh Na channel')\n",
    "plt.ylabel('I (pA)')\n",
    "plt.xlabel('t (ms)')\n",
    "plt.plot(rec_t,rec_iNa, 'r')"
   ]
  },
  {
   "cell_type": "code",
   "execution_count": null,
   "metadata": {
    "scrolled": true
   },
   "outputs": [],
   "source": [
    "# A little bit more of injected current will make the cell fire.\n",
    "# This is the minimum current to make the neuron fire\n",
    "\n",
    "stim.amp = 0.0397    # stim amplitude (pA)\n",
    "    \n",
    "# Initialize and run a simulation\n",
    "h.finitialize(-70)    # initial voltage \n",
    "h.continuerun(700)    # total recording duration\n",
    "\n",
    "# PLOT\n",
    "plt.figure(figsize=(20,3))\n",
    "plt.subplot(131)\n",
    "plt.title('cell with Na and K channel models')\n",
    "plt.ylabel('V (mV)')\n",
    "plt.xlabel('t (ms)')\n",
    "plt.plot(rec_t,rec_v, 'b')\n",
    "\n",
    "plt.subplot(132)\n",
    "plt.title('current thourgh K channel')\n",
    "plt.ylabel('I (pA)')\n",
    "plt.xlabel('t (ms)')\n",
    "plt.plot(rec_t,rec_iK, 'g')\n",
    "\n",
    "plt.subplot(133)\n",
    "plt.title('current thourgh Na channel')\n",
    "plt.ylabel('I (pA)')\n",
    "plt.xlabel('t (ms)')\n",
    "plt.plot(rec_t,rec_iNa, 'r')"
   ]
  },
  {
   "cell_type": "markdown",
   "metadata": {},
   "source": [
    "# 6. Channel kinetics\n",
    "\n",
    "<font size=\"3\">Let's change now some parameters of the channel .MOD files"
   ]
  },
  {
   "cell_type": "markdown",
   "metadata": {},
   "source": [
    "# 6.1 Changing v_half on the K$^{+}$ MOD file\n",
    "\n",
    "<font size=\"3\">In this case we use the model in K_Channel_change_mInf.mod"
   ]
  },
  {
   "cell_type": "markdown",
   "metadata": {},
   "source": [
    "<font size=\"3\"><font color=\"red\">RESTART YOUR KERNEL"
   ]
  },
  {
   "cell_type": "code",
   "execution_count": null,
   "metadata": {},
   "outputs": [],
   "source": [
    "# This will compile the mechanisms inside the MOD files (and create a new folder x86_64/special).\n",
    "! nrnivmodl"
   ]
  },
  {
   "cell_type": "code",
   "execution_count": null,
   "metadata": {},
   "outputs": [],
   "source": [
    "from neuron import h\n",
    "import matplotlib.pyplot as plt\n",
    "%matplotlib inline\n",
    "\n",
    "h.load_file('stdrun.hoc')"
   ]
  },
  {
   "cell_type": "code",
   "execution_count": null,
   "metadata": {
    "scrolled": true
   },
   "outputs": [],
   "source": [
    "# Another way of making the cell fire is to change the v_half value of the channel response curve\n",
    "\n",
    "# Create a section \n",
    "soma = h.Section()\n",
    "soma.Ra = 123.0   # radius (µm)\n",
    "soma.L = 18.0     # length (µm)\n",
    "soma.diam = 18.0  # diameter (µm)\n",
    "soma.nseg = 1\n",
    "\n",
    "# Insert passive properties\n",
    "soma.insert('pas')\n",
    "for seg in soma:\n",
    "    seg.pas.g = 0.0003 # Conductance of the leak channels (in S/cm2)\n",
    "    seg.pas.e = -70   # Leak reversal potential, it influences the steady state membrane potential\n",
    "\n",
    "# INSERT MODELS\n",
    "soma.insert('K_Ch_mInf') ######## This channel dynamic desciption is in K_channel_change_mInf.mod\n",
    "for seg in soma:\n",
    "    seg.gKv3bar_K_Ch_mInf = 0.01   # Maximal conductance of the potassium channels\n",
    "\n",
    "soma.insert('Na_Ch')\n",
    "for seg in soma:\n",
    "    seg.gNa_Sbar_Na_Ch = 0.09   # Maximal conductance of the sodium channels\n",
    "    \n",
    "# Inject a current step into the soma\n",
    "stim = h.IClamp(soma(0.5))         # Place a stimulation electrode in the middle of the soma\n",
    "stim.delay = 100   # stim delay (ms)\n",
    "stim.amp = 0.04    # stim amplitude (pA)\n",
    "stim.dur = 500     # stim duration (ms)\n",
    "\n",
    "# Initialize NEURON vectors to record time, voltage and current\n",
    "# time vector\n",
    "rec_t = h.Vector()\n",
    "rec_t.record(h._ref_t)\n",
    "# membrame potential vector\n",
    "rec_v = h.Vector()\n",
    "rec_v.record(soma(0.5)._ref_v)\n",
    "\n",
    "# Na current\n",
    "rec_iNa = h.Vector()\n",
    "rec_iNa.record(soma(0.5)._ref_ina)\n",
    "# K current\n",
    "rec_iK = h.Vector()\n",
    "rec_iK.record(soma(0.5)._ref_ik)\n",
    "\n",
    "# Initialize and run a simulation\n",
    "h.finitialize(-70)    # initial voltage \n",
    "h.continuerun(700)    # total recording duration\n",
    "\n",
    "# PLOT\n",
    "plt.figure(figsize=(20,3))\n",
    "plt.subplot(131)\n",
    "plt.title('cell with Na and K channel models')\n",
    "plt.ylabel('V (mV)')\n",
    "plt.xlabel('t (ms)')\n",
    "plt.plot(rec_t,rec_v, 'b')\n",
    "\n",
    "plt.subplot(132)\n",
    "plt.title('current thourgh K channel')\n",
    "plt.ylabel('I (pA)')\n",
    "plt.xlabel('t (ms)')\n",
    "plt.plot(rec_t,rec_iK, 'g')\n",
    "\n",
    "plt.subplot(133)\n",
    "plt.title('current thourgh Na channel')\n",
    "plt.ylabel('I (pA)')\n",
    "plt.xlabel('t (ms)')\n",
    "plt.plot(rec_t,rec_iNa, 'r')"
   ]
  },
  {
   "cell_type": "code",
   "execution_count": null,
   "metadata": {
    "scrolled": true
   },
   "outputs": [],
   "source": [
    "### See the I-V curves\n",
    "\n",
    "import numpy as np\n",
    "\n",
    "# v_half = 18.7 mV\n",
    "I1 = np.arange(0, 1.0, 0.001)\n",
    "V1 = []\n",
    "for i1 in I1:\n",
    "    v1 = 18.7 - 9.7*np.log((1/i1)-1)\n",
    "    V1.append(v1)\n",
    "\n",
    "# v_half = 28.7 mV\n",
    "I2 = np.arange(0, 1.0, 0.001)\n",
    "V2 = []\n",
    "for i2 in I2:\n",
    "    v2 = 28.7 - 9.7*np.log((1/i2)-1)\n",
    "    V2.append(v2)\n",
    "\n",
    "plt.figure()\n",
    "plt.xlabel('voltage (mV)')\n",
    "plt.ylabel('current (pA)')\n",
    "plt.plot(V1, I1, 'g', label='v1/2 = 18.7 mV')\n",
    "plt.plot(V2, I2, 'k',label='v1/2 = 28.7 mV')\n",
    "plt.legend()"
   ]
  },
  {
   "cell_type": "markdown",
   "metadata": {},
   "source": [
    "# 6.1 Changing v_half on the K$^{+}$ MOD file\n",
    "\n",
    "<font size=\"3\">In this case we use the model in K_Channel_change_Tau.mod"
   ]
  },
  {
   "cell_type": "markdown",
   "metadata": {},
   "source": [
    "<font size=\"3\"><font color=\"red\">RESTART YOUR KERNEL"
   ]
  },
  {
   "cell_type": "code",
   "execution_count": 1,
   "metadata": {},
   "outputs": [
    {
     "name": "stdout",
     "output_type": "stream",
     "text": [
      "/home/In_Silico/InSilicoClass/my_notebooks/Week3\n",
      "K_Channel.mod K_Channel_change_Tau.mod K_Channel_change_mInf.mod Na_Channel.mod\n",
      "K_Channel.mod K_Channel_change_Tau.mod K_Channel_change_mInf.mod Na_Channel.mod\n",
      "\"/usr/local/nrn/share/nrn/libtool\" --tag=CC --mode=compile gcc -DHAVE_CONFIG_H  -I. -I.. -I\"/usr/local/nrn/include/nrn\" -I\"/usr/local/nrn/x86_64/lib\"      -g -O2 -c -o mod_func.lo mod_func.c\n",
      "libtool: compile:  gcc -DHAVE_CONFIG_H -I. -I.. -I/usr/local/nrn/include/nrn -I/usr/local/nrn/x86_64/lib -g -O2 -c mod_func.c  -fPIC -DPIC -o .libs/mod_func.o\n",
      "\"/usr/local/nrn/share/nrn/libtool\" --tag=CC --mode=link gcc -module  -g -O2    -o libnrnmech.la -rpath \"/usr/local/nrn/x86_64/lib\"  K_Channel.lo K_Channel_change_Tau.lo K_Channel_change_mInf.lo Na_Channel.lo mod_func.lo  -L\"/usr/local/nrn/x86_64/lib\" -lnrnoc -loc -lmemacs  -lscopmath -lsparse13 -lreadline -lncurses -ltinfo -L\"/usr/local/nrn/x86_64/lib\" -lnrniv -livoc -lneuron_gnu -lmeschach -lsundials       -lm -ldl\n",
      "libtool: link: rm -fr  .libs/libnrnmech.la .libs/libnrnmech.lai .libs/libnrnmech.so .libs/libnrnmech.so.0 .libs/libnrnmech.so.0.0.0\n",
      "libtool: link: gcc -shared  -fPIC -DPIC  .libs/K_Channel.o .libs/K_Channel_change_Tau.o .libs/K_Channel_change_mInf.o .libs/Na_Channel.o .libs/mod_func.o   -Wl,-rpath -Wl,/usr/local/nrn/x86_64/lib -Wl,-rpath -Wl,/usr/local/nrn/x86_64/lib -L/usr/local/nrn/x86_64/lib /usr/local/nrn/x86_64/lib/libnrnoc.so /usr/local/nrn/x86_64/lib/liboc.so /usr/local/nrn/x86_64/lib/libmemacs.so /usr/local/nrn/x86_64/lib/libscopmath.so /usr/local/nrn/x86_64/lib/libsparse13.so -lreadline -lncurses -ltinfo /usr/local/nrn/x86_64/lib/libnrniv.so /usr/local/nrn/x86_64/lib/libivoc.so /usr/local/nrn/x86_64/lib/libneuron_gnu.so /usr/local/nrn/x86_64/lib/libmeschach.so /usr/local/nrn/x86_64/lib/libsundials.so -lm -ldl  -g -O2   -pthread -Wl,-soname -Wl,libnrnmech.so.0 -o .libs/libnrnmech.so.0.0.0\n",
      "libtool: link: (cd \".libs\" && rm -f \"libnrnmech.so.0\" && ln -s \"libnrnmech.so.0.0.0\" \"libnrnmech.so.0\")\n",
      "libtool: link: (cd \".libs\" && rm -f \"libnrnmech.so\" && ln -s \"libnrnmech.so.0.0.0\" \"libnrnmech.so\")\n",
      "libtool: link: ( cd \".libs\" && rm -f \"libnrnmech.la\" && ln -s \"../libnrnmech.la\" \"libnrnmech.la\" )\n",
      "Successfully created x86_64/special\n"
     ]
    }
   ],
   "source": [
    "# This will compile the mechanisms inside the MOD files (and create a new folder x86_64/special).\n",
    "! nrnivmodl"
   ]
  },
  {
   "cell_type": "code",
   "execution_count": 2,
   "metadata": {},
   "outputs": [
    {
     "data": {
      "text/plain": [
       "1.0"
      ]
     },
     "execution_count": 2,
     "metadata": {},
     "output_type": "execute_result"
    }
   ],
   "source": [
    "from neuron import h\n",
    "import matplotlib.pyplot as plt\n",
    "%matplotlib inline\n",
    "\n",
    "h.load_file('stdrun.hoc')"
   ]
  },
  {
   "cell_type": "code",
   "execution_count": 3,
   "metadata": {
    "scrolled": true
   },
   "outputs": [
    {
     "data": {
      "text/plain": [
       "[<matplotlib.lines.Line2D at 0x7f3277343c50>]"
      ]
     },
     "execution_count": 3,
     "metadata": {},
     "output_type": "execute_result"
    },
    {
     "data": {
      "image/png": "[encoded data removed]",
      "text/plain": [
       "<Figure size 1440x216 with 3 Axes>"
      ]
     },
     "metadata": {
      "needs_background": "light"
     },
     "output_type": "display_data"
    }
   ],
   "source": [
    "# Another way of making the cell fire is to change the slope of the membrane response\n",
    "\n",
    "# Create a section \n",
    "soma = h.Section()\n",
    "soma.Ra = 123.0   # radius (µm)\n",
    "soma.L = 18.0     # length (µm)\n",
    "soma.diam = 18.0  # diameter (µm)\n",
    "soma.nseg = 1\n",
    "\n",
    "# Insert passive properties\n",
    "soma.insert('pas')\n",
    "for seg in soma:\n",
    "    seg.pas.g = 0.0003 # Conductance of the leak channels (in S/cm2)\n",
    "    seg.pas.e = -70   # Leak reversal potential, it influences the steady state membrane potential\n",
    "\n",
    "# insert models\n",
    "# conductance to \n",
    "soma.insert('K_Ch_tau')       ######## This channel dynamic desciption is in K_channel_change_Tau.mod\n",
    "for seg in soma:\n",
    "    seg.gKv3bar_K_Ch_tau = 0.01   # Maximal conductance of the potassium channels\n",
    "\n",
    "soma.insert('Na_Ch')\n",
    "for seg in soma:\n",
    "    seg.gNa_Sbar_Na_Ch = 0.09   # Maximal conductance of the sodium channels\n",
    "    \n",
    "# Inject a current step into the soma\n",
    "stim = h.IClamp(soma(0.5))         # Place a stimulation electrode in the middle of the soma\n",
    "stim.delay = 100   # stim delay (ms)\n",
    "stim.amp = 0.04    # stim amplitude (pA)\n",
    "stim.dur = 500     # stim duration (ms)\n",
    "\n",
    "# Initialize NEURON vectors to record time, voltage and current\n",
    "# time vector\n",
    "rec_t = h.Vector()\n",
    "rec_t.record(h._ref_t)\n",
    "# membrame potential vector\n",
    "rec_v = h.Vector()\n",
    "rec_v.record(soma(0.5)._ref_v)\n",
    "\n",
    "# Na current\n",
    "rec_iNa = h.Vector()\n",
    "rec_iNa.record(soma(0.5)._ref_ina)\n",
    "# K current\n",
    "rec_iK = h.Vector()\n",
    "rec_iK.record(soma(0.5)._ref_ik)\n",
    "\n",
    "# Initialize and run a simulation\n",
    "h.finitialize(-70)    # initial voltage \n",
    "h.continuerun(700)    # total recording duration\n",
    "\n",
    "# PLOT\n",
    "plt.figure(figsize=(20,3))\n",
    "plt.subplot(131)\n",
    "plt.title('cell with Na and K channel models')\n",
    "plt.ylabel('V (mV)')\n",
    "plt.xlabel('t (ms)')\n",
    "plt.plot(rec_t,rec_v, 'b')\n",
    "\n",
    "plt.subplot(132)\n",
    "plt.title('current thourgh K channel')\n",
    "plt.ylabel('I (pA)')\n",
    "plt.xlabel('t (ms)')\n",
    "plt.plot(rec_t,rec_iK, 'g')\n",
    "\n",
    "plt.subplot(133)\n",
    "plt.title('current thourgh Na channel')\n",
    "plt.ylabel('I (pA)')\n",
    "plt.xlabel('t (ms)')\n",
    "plt.plot(rec_t,rec_iNa, 'r')"
   ]
  },
  {
   "cell_type": "code",
   "execution_count": 4,
   "metadata": {},
   "outputs": [
    {
     "name": "stderr",
     "output_type": "stream",
     "text": [
      "/usr/local/lib/python3.6/dist-packages/ipykernel_launcher.py:9: RuntimeWarning: divide by zero encountered in double_scalars\n",
      "  if __name__ == '__main__':\n",
      "/usr/local/lib/python3.6/dist-packages/ipykernel_launcher.py:9: RuntimeWarning: divide by zero encountered in log\n",
      "  if __name__ == '__main__':\n",
      "/usr/local/lib/python3.6/dist-packages/ipykernel_launcher.py:9: RuntimeWarning: invalid value encountered in log\n",
      "  if __name__ == '__main__':\n",
      "/usr/local/lib/python3.6/dist-packages/ipykernel_launcher.py:16: RuntimeWarning: divide by zero encountered in double_scalars\n",
      "  app.launch_new_instance()\n",
      "/usr/local/lib/python3.6/dist-packages/ipykernel_launcher.py:16: RuntimeWarning: divide by zero encountered in log\n",
      "  app.launch_new_instance()\n",
      "/usr/local/lib/python3.6/dist-packages/ipykernel_launcher.py:16: RuntimeWarning: invalid value encountered in log\n",
      "  app.launch_new_instance()\n"
     ]
    },
    {
     "data": {
      "text/plain": [
       "<matplotlib.legend.Legend at 0x7f3276981b38>"
      ]
     },
     "execution_count": 4,
     "metadata": {},
     "output_type": "execute_result"
    },
    {
     "data": {
      "image/png": "[encoded data removed]",
      "text/plain": [
       "<Figure size 432x288 with 1 Axes>"
      ]
     },
     "metadata": {
      "needs_background": "light"
     },
     "output_type": "display_data"
    }
   ],
   "source": [
    "### See the Tau-V curves\n",
    "\n",
    "import numpy as np\n",
    "\n",
    "# slope = 20.0 ms\n",
    "Tau1 = np.arange(0, 100.0, 0.001)\n",
    "V1 = []\n",
    "for t1 in Tau1:\n",
    "    v1 = -46.56 + (-44.10*np.log((20/t1)-1))\n",
    "    V1.append(v1)\n",
    "\n",
    "# slope = 40 ms\n",
    "Tau2 = np.arange(0, 100.0, 0.001)\n",
    "V2 = []\n",
    "for t2 in Tau2:  \n",
    "    v2 = -46.56 + (-44.10*np.log((40/t2)-1))\n",
    "    V2.append(v2)\n",
    "\n",
    "\n",
    "plt.figure()\n",
    "plt.xlabel('voltage (mV)')\n",
    "plt.ylabel('time cte (ms)')\n",
    "plt.plot(V1, Tau1, 'g', label='slope = 20')\n",
    "plt.plot(V2, Tau2, 'k',label='slope = 40')\n",
    "plt.legend()"
   ]
  },
  {
   "cell_type": "code",
   "execution_count": null,
   "metadata": {},
   "outputs": [],
   "source": []
  }
 ],
 "metadata": {
  "kernelspec": {
   "display_name": "Python 3",
   "language": "python",
   "name": "python3"
  },
  "language_info": {
   "codemirror_mode": {
    "name": "ipython",
    "version": 3
   },
   "file_extension": ".py",
   "mimetype": "text/x-python",
   "name": "python",
   "nbconvert_exporter": "python",
   "pygments_lexer": "ipython3",
   "version": "3.6.9"
  }
 },
 "nbformat": 4,
 "nbformat_minor": 4
}
