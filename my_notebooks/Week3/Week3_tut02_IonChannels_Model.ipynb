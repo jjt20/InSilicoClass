{
 "cells": [
  {
   "cell_type": "markdown",
   "metadata": {},
   "source": [
    "<center><font size = \"10\"> Week 3 - Ion Channels <center>\n",
    "<center><font size = \"8\">Tutorial 02: Channel Model<center>"
   ]
  },
  {
   "cell_type": "markdown",
   "metadata": {},
   "source": [
    "<font size = \"3\"><font color = \"blue\">In this tutorial you will learn: \n",
    "    \n",
    "<font size = \"3\"><font color = \"blue\">- how to create channel models\n",
    "    \n",
    "<font size = \"3\"><font color = \"blue\">- how to implement the model on a modeled cell with Neuron"
   ]
  },
  {
   "cell_type": "markdown",
   "metadata": {},
   "source": [
    "# 1. Passive membrane \n",
    "<font size = \"3\">Study of the behavior without firing"
   ]
  },
  {
   "cell_type": "code",
   "execution_count": null,
   "metadata": {},
   "outputs": [],
   "source": [
    "from neuron import h\n",
    "import matplotlib.pyplot as plt\n",
    "%matplotlib inline"
   ]
  },
  {
   "cell_type": "markdown",
   "metadata": {},
   "source": [
    "<font size = \"3\">As you have seen last week, in NEURON a cell is represented as a tree of connected __sections__. A __section__ is a portion of cell with __homogeneous biophysical properties.__\n",
    "    \n",
    "<font size = \"3\">In the simplest approximation, a section is a cilinder with some properties: lengh *L* (in ${\\mu}m$), diameter *diam* (in ${\\mu}m$), cytoplasmic resistance *Ra* (in $ohm*cm$), membrane capacity (in ${\\mu}F/cm^2$), channels density.\n",
    "A **segment** (or compartment), *seg*, is the simplest unit of discretization of a section. It is a numerical entity, that defines the spatial discretizion ${\\delta}x = L / nseg$.\n",
    "    \n",
    "<font size = \"3\">Let's create a simple neuron:"
   ]
  },
  {
   "cell_type": "code",
   "execution_count": null,
   "metadata": {
    "scrolled": true
   },
   "outputs": [],
   "source": [
    "# Create a section \n",
    "soma = h.Section()\n",
    "soma.L = 18.8     # length (µm)\n",
    "soma.diam = 18.8  # diameter (µm)\n",
    "soma.Ra = 123.0   # axial resistivity (Ω*cm)\n",
    "soma.cm = 1       # capacitance (µF/cm^2) "
   ]
  },
  {
   "cell_type": "markdown",
   "metadata": {},
   "source": [
    "### Insert passive membrane properties"
   ]
  },
  {
   "cell_type": "code",
   "execution_count": null,
   "metadata": {},
   "outputs": [],
   "source": [
    "# Insert passive properties\n",
    "soma.insert('pas')\n",
    "for seg in soma:\n",
    "    seg.pas.g = 0.0003 # Conductance of the leak channels (in S/cm2)\n",
    "    seg.pas.e = -70   # Leak reversal potential, it influences the steady state membrane potential"
   ]
  },
  {
   "cell_type": "markdown",
   "metadata": {},
   "source": [
    "### Implementing a current-clamp experiment\n",
    "<font size=\"3\">A stimulation electrode in NEURON is a \"point process\", i.e. an object attached to a precise location along a section. The location is specified as a number from 0 to 1.\n",
    "To set up a current clamp experiment we need to specify its location, *delay* (time from the start of the simulation), *amp* (amplitude of the injected current, in *nA*) and *dur* (duration of stimulus in *ms*)."
   ]
  },
  {
   "cell_type": "code",
   "execution_count": null,
   "metadata": {},
   "outputs": [],
   "source": [
    "# Inject a current step into the soma\n",
    "stim = h.IClamp(soma(0.5))         # Place a stimulation electrode in the middle of the soma\n",
    "stim.delay = 100   # stim delay (ms)\n",
    "stim.amp = 0.1     # stim amplitude (pA)\n",
    "stim.dur = 500     # stim duration (ms)"
   ]
  },
  {
   "cell_type": "markdown",
   "metadata": {},
   "source": [
    "### Recording the results\n",
    "<font size=\"3\">The hoc language is equipped with \"Vectors\" (similar to Python lists) that allow to record many variables specified in our models. For instance, it is possible to record arrays of time and voltage at a specific location."
   ]
  },
  {
   "cell_type": "code",
   "execution_count": null,
   "metadata": {},
   "outputs": [],
   "source": [
    "# Initialize NEURON vectors to record time, voltage and current\n",
    "# time vector\n",
    "rec_t = h.Vector()\n",
    "rec_t.record(h._ref_t)\n",
    "# membrame potential vector\n",
    "rec_v = h.Vector()\n",
    "rec_v.record(soma(0.5)._ref_v)\n",
    "# current\n",
    "rec_i = h.Vector()\n",
    "rec_i.record(stim._ref_i)"
   ]
  },
  {
   "cell_type": "markdown",
   "metadata": {},
   "source": [
    "### Running a simulation\n",
    "<font size=\"3\">Before running a simulation we have to set up some parameters, for example: the simulation time *continuerun* (in *ms*) and the initial membrane voltage *finitialize*."
   ]
  },
  {
   "cell_type": "code",
   "execution_count": null,
   "metadata": {},
   "outputs": [],
   "source": [
    "# Initialize and run a simulation\n",
    "h.load_file('stdrun.hoc')\n",
    "h.finitialize(-70)\n",
    "h.continuerun(700)\n",
    "\n",
    "# PLOT \n",
    "plt.figure()\n",
    "plt.title('cell passive properties')\n",
    "plt.ylim([-75, 40])\n",
    "plt.ylabel('V (mV)')\n",
    "plt.xlabel('t (ms)')\n",
    "plt.plot(rec_t,rec_v)"
   ]
  },
  {
   "cell_type": "markdown",
   "metadata": {},
   "source": [
    "## 1.1 Changing cell membrane capacitance\n",
    "\n",
    "<font size=\"3\">Considering the membrane as a RC circuit in which:\n",
    "\\begin{equation}  \n",
    "    Im = Cm\\frac {dVm}{dt}\n",
    "\\end{equation}\n",
    "    \n",
    "<font size=\"3\">The change in the membrane potential (Vm) caused by a square current pulse (Im) is slowed down by the capacitive properties of the cell membrane (Taum = Rm\\*Cm). Taum is the time constant of the membrane, which represents the time to achieve a 63% of change in the membrane voltage.\n",
    "\n",
    "<br><img src=\"MembraneRC.png\" width=\"450\" height=\"250\">  "
   ]
  },
  {
   "cell_type": "code",
   "execution_count": null,
   "metadata": {},
   "outputs": [],
   "source": [
    "# Increasing the capacitance to 10\n",
    "soma.cm = 10\n",
    "\n",
    "# And we run the simulation again...\n",
    "h.load_file('stdrun.hoc')\n",
    "h.finitialize(-70)\n",
    "h.continuerun(700)\n",
    "\n",
    "plt.figure()\n",
    "plt.title('cell passive properties')\n",
    "plt.ylim([-75, 40])\n",
    "plt.ylabel('V (mV)')\n",
    "plt.xlabel('t (ms)')\n",
    "plt.plot(rec_t,rec_v)"
   ]
  },
  {
   "cell_type": "markdown",
   "metadata": {},
   "source": [
    "<font size = \"3\">We can see that now the cell has bigger capacitance, wich means that it charges and discharges slower."
   ]
  },
  {
   "cell_type": "markdown",
   "metadata": {},
   "source": [
    "# 2. Active membrane behavior\n",
    "<font size = \"3\">Now we study the cell firing due to a stimulation. To this end we have to add the channel kinetics. In this case we will use the Hodgkin-Huxley (.hh) model that is implemented in Neuron."
   ]
  },
  {
   "cell_type": "code",
   "execution_count": null,
   "metadata": {},
   "outputs": [],
   "source": [
    "# change conductance value back to 1 µF/cm^2\n",
    "soma.cm = 1\n",
    "\n",
    "# insert hh\n",
    "soma.insert('hh')\n",
    "for seg in soma:\n",
    "    seg.hh.gkbar = 0.1   # Maximal conductance of the potassium channels\n",
    "    seg.hh.gnabar = 0.4  # Maximal conductance of the sodium channels\n",
    "\n",
    "# We also have to inject higher current\n",
    "stim.amp = 0.127\n",
    "\n",
    "# simulate\n",
    "#h.load_file('stdrun.hoc')\n",
    "h.finitialize(-70)\n",
    "h.continuerun(700)\n",
    "\n",
    "plt.figure()\n",
    "plt.title('cell active properties')\n",
    "plt.ylabel('V (mV)')\n",
    "plt.xlabel('t (ms)')\n",
    "plt.plot(rec_t,rec_v)\n",
    "\n",
    "plt.figure()\n",
    "plt.title('stimulus')\n",
    "plt.ylabel('I (pA)')\n",
    "plt.xlabel('t (ms)')\n",
    "plt.plot(rec_t,rec_i)"
   ]
  },
  {
   "cell_type": "code",
   "execution_count": null,
   "metadata": {},
   "outputs": [],
   "source": [
    "# Injecting more current will increase the firing frequency of the cell\n",
    "stim.amp = 0.5\n",
    "\n",
    "# simulate\n",
    "#h.load_file('stdrun.hoc')\n",
    "h.finitialize(-70)\n",
    "h.continuerun(700)\n",
    "\n",
    "plt.figure()\n",
    "plt.title('cell active properties')\n",
    "plt.ylabel('V (mV)')\n",
    "plt.xlabel('t (ms)')\n",
    "plt.plot(rec_t,rec_v)\n",
    "\n",
    "plt.figure()\n",
    "plt.title('stimulus')\n",
    "plt.ylabel('I (pA)')\n",
    "plt.xlabel('t (ms)')\n",
    "plt.plot(rec_t,rec_i)"
   ]
  },
  {
   "cell_type": "markdown",
   "metadata": {},
   "source": [
    "# 3. Implementing your own channel model in Neuron: MOD files\n",
    "\n",
    "<font size=\"3\"><font color=\"red\">RESTART YOUR KERNEL"
   ]
  },
  {
   "cell_type": "code",
   "execution_count": null,
   "metadata": {
    "scrolled": true
   },
   "outputs": [],
   "source": [
    "# This will compile the mechanisms inside the MOD files (and create a new folder x86_64/special).\n",
    "! nrnivmodl"
   ]
  },
  {
   "cell_type": "code",
   "execution_count": null,
   "metadata": {},
   "outputs": [],
   "source": [
    "from neuron import h\n",
    "import matplotlib.pyplot as plt\n",
    "%matplotlib inline\n",
    "\n",
    "h.load_file('stdrun.hoc')"
   ]
  },
  {
   "cell_type": "code",
   "execution_count": null,
   "metadata": {
    "scrolled": true
   },
   "outputs": [],
   "source": [
    "# Create a section \n",
    "soma = h.Section()\n",
    "soma.Ra = 123.0   # radius (µm)\n",
    "soma.L = 18.0     # length (µm)\n",
    "soma.diam = 18.0  # diameter (µm)\n",
    "#soma.cm = 1       # capacitance (µF/cm^2) \n",
    "soma.nseg = 1\n",
    "\n",
    "# Insert passive properties\n",
    "soma.insert('pas')\n",
    "for seg in soma:\n",
    "    seg.pas.g = 0.0003 # Conductance of the leak channels (in S/cm2)\n",
    "    seg.pas.e = -70   # Leak reversal potential, it influences the steady state membrane potential\n",
    "\n",
    "# INSERT CHANNEL MODELS\n",
    "# conductance to 0, so NO active channels\n",
    "soma.insert('K_Ch')\n",
    "for seg in soma:\n",
    "    seg.gKv3bar_K_Ch = 0.01   # Maximal conductance of the potassium channels\n",
    "\n",
    "soma.insert('Na_Ch')\n",
    "for seg in soma:\n",
    "    seg.gNa_Sbar_Na_Ch = 0.09  # Maximal conductance of the sodium channels\n",
    "    \n",
    "# Inject a current step into the soma\n",
    "stim = h.IClamp(soma(0.5))         # Place a stimulation electrode in the middle of the soma\n",
    "stim.delay = 100   # stim delay (ms)\n",
    "stim.amp = 0.04    # stim amplitude (pA)\n",
    "stim.dur = 500     # stim duration (ms)\n",
    "\n",
    "# Initialize NEURON vectors to record time, voltage and current\n",
    "# time vector\n",
    "rec_t = h.Vector()\n",
    "rec_t.record(h._ref_t)\n",
    "# membrame potential vector\n",
    "rec_v = h.Vector()\n",
    "rec_v.record(soma(0.5)._ref_v)\n",
    "\n",
    "# Na current\n",
    "rec_iNa = h.Vector()\n",
    "rec_iNa.record(soma(0.5)._ref_ina)\n",
    "# K current\n",
    "rec_iK = h.Vector()\n",
    "rec_iK.record(soma(0.5)._ref_ik)\n",
    "\n",
    "# Initialize and run a simulation\n",
    "h.finitialize(-70)    # initial voltage \n",
    "h.continuerun(700)    # total recording duration\n",
    "\n",
    "# PLOT\n",
    "plt.figure(figsize=(15,3))\n",
    "plt.subplot(131)\n",
    "plt.title('cell with Na and K channel models')\n",
    "plt.ylabel('V (mV)')\n",
    "plt.xlabel('t (ms)')\n",
    "plt.plot(rec_t,rec_v, 'b')\n",
    "\n",
    "plt.subplot(132)\n",
    "plt.title('current thourgh K channel')\n",
    "plt.ylabel('I (pA)')\n",
    "plt.xlabel('t (ms)')\n",
    "plt.plot(rec_t,rec_iK, 'g')\n",
    "\n",
    "plt.subplot(133)\n",
    "plt.title('current thourgh Na channel')\n",
    "plt.ylabel('I (pA)')\n",
    "plt.xlabel('t (ms)')\n",
    "plt.plot(rec_t,rec_iNa, 'r')"
   ]
  }
 ],
 "metadata": {
  "kernelspec": {
   "display_name": "Python 3",
   "language": "python",
   "name": "python3"
  },
  "language_info": {
   "codemirror_mode": {
    "name": "ipython",
    "version": 3
   },
   "file_extension": ".py",
   "mimetype": "text/x-python",
   "name": "python",
   "nbconvert_exporter": "python",
   "pygments_lexer": "ipython3",
   "version": "3.6.9"
  }
 },
 "nbformat": 4,
 "nbformat_minor": 4
}
