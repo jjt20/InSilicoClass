{
 "cells": [
  {
   "cell_type": "markdown",
   "metadata": {},
   "source": [
    "<center><font size = \"10\"> Week 3 - Ion Channels <center>\n",
    "<center><font size = \"8\">Home work - SOLUTIONS<center>"
   ]
  },
  {
   "cell_type": "markdown",
   "metadata": {},
   "source": [
    "<font size = \"3\">Please, write your group number and the names and surnames of the group members here\n",
    "<br>Group number:\n",
    "<br>Group member1:\n",
    "<br>Group member2:\n",
    "<br>Group member3:"
   ]
  },
  {
   "cell_type": "markdown",
   "metadata": {},
   "source": [
    "# Ex1. Fit data to sigmoid curve\n",
    "\n",
    "<font size = \"3\">Fit the data in Sigmoid.dat file located in your group folder. \n",
    "\n",
    "<font size = \"3\">The function of a sigmoid is:\n",
    "\\begin{equation}  \n",
    "    y = \\frac {1}{(1 + e^{(\\frac{x - vh}{-slope})})}\n",
    "\\end{equation}\n",
    "    \n",
    "<font size = \"3\">Show the data and the fitted curve on the same plot (as it was done in tutorial 1), label the axes and create a leyend to differenciate data from fitted curve. [0.5 pts]"
   ]
  },
  {
   "cell_type": "code",
   "execution_count": null,
   "metadata": {},
   "outputs": [],
   "source": []
  },
  {
   "cell_type": "markdown",
   "metadata": {},
   "source": [
    "# Ex2. Analysing an activation curve.\n",
    "\n",
    "<font size = \"3\">Using the .NWB file in your folder group, fit each of the traces between 100 ms and the maximum amplitud of the trace to an exponential. The resulting tau from each fitting will be the time constant of the channel at the different voltage steps, which is related with how long it takes for the channel to open. Considering that the clamped voltage stimulation is -90 to +80 mV with 10mV step interval, represent in a plot time constant against clamped voltage. [2 pts]"
   ]
  },
  {
   "cell_type": "code",
   "execution_count": null,
   "metadata": {},
   "outputs": [],
   "source": []
  },
  {
   "cell_type": "markdown",
   "metadata": {},
   "source": [
    "# Ex3. Find the minimum current amplitud to make the cell fire\n",
    "\n",
    "<font size = \"3\">Create a cell in Neuron with the fillowing characteristics: 1 section (soma) with one segment, 20 µm of length and diameter, 130 Ω*cm of axial radious and 1.2 µF/cm^2 of capacitance. Add passive and active (gNa = 0.09 S and gK = 0.01 S) membrane properties to this cell. Generate a current clamp experiment in which you will inject a current into the cell soma with 50 ms delay, 600 ms of duration. The total recording duration of the experiment would be 800 ms and the voltage base -70 mV. Find the minimum ammount of current that has to be injected in this cell in order to make it fire. \n",
    "    \n",
    "<font size = \"3\">Knowing that in nature square current pulses don't exist. Discuss why finding the minimum ammount of current that makes a neuron fire could be interesting to study the cell. [1 pt]"
   ]
  },
  {
   "cell_type": "code",
   "execution_count": null,
   "metadata": {},
   "outputs": [],
   "source": []
  },
  {
   "cell_type": "markdown",
   "metadata": {},
   "source": [
    "# Ex4. Modifing K+ channel kinetics\n",
    "\n",
    "<font size = \"3\">Create a cell in Neuron with the fillowing characteristics: 1 section (soma) with one segment, 18.0 µm of length and diameter, 123 Ω*cm of axial radious and 1.0 µF/cm^2 of capacitance. Add passive and active (gNa = 0.09 S and gK = 0.01 S) membrane properties to this cell. Generate a current clamp experiment in which you will inject a current into the cell soma with 100 ms delay, 500 ms of duration. The total recording duration of the experiment would be 700 ms and the voltage base -70 mV. \n",
    "\n",
    "<font size = \"3\">Increase and decrase the v_half parameter on the mod file with the K+ channel kinetics for. PLot the resulting voltage curves and the I-V and tau-V curves. \n",
    "\n",
    "<font size = \"3\">Would you be able to explain what is going on? What is the meaning of v_half? Why changing this parameter affects the resultant action potential? [2.5 pts]"
   ]
  },
  {
   "cell_type": "code",
   "execution_count": null,
   "metadata": {},
   "outputs": [],
   "source": []
  }
 ],
 "metadata": {
  "kernelspec": {
   "display_name": "Python 3",
   "language": "python",
   "name": "python3"
  },
  "language_info": {
   "codemirror_mode": {
    "name": "ipython",
    "version": 3
   },
   "file_extension": ".py",
   "mimetype": "text/x-python",
   "name": "python",
   "nbconvert_exporter": "python",
   "pygments_lexer": "ipython3",
   "version": "3.6.9"
  }
 },
 "nbformat": 4,
 "nbformat_minor": 4
}
