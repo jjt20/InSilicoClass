{
 "cells": [
  {
   "cell_type": "markdown",
   "metadata": {},
   "source": [
    "<center><font size = \"10\"> Week 1 - Python 3 <center>\n",
    "<center><font size = \"8\">Tutorial 02: Useful Modules and Packages<center>"
   ]
  },
  {
   "cell_type": "markdown",
   "metadata": {},
   "source": [
    "# Module and Package\n",
    "\n",
    "<font size = \"3\"> We don't usually store all of our files in our computer in the same location. We use a well-organized hierarchy of directories for easier access. Similar files are kept in the same directory, for example, we may keep all the songs in the \"music\" directory\". Analogous to this, Python has __packages__ for directories and __modules__ for files. As our application program grows larger in size with a lot of modules, we place similar modules in one package and different modules in different packages. This makes a project (program) easy to manage and conceptually clear.\n",
    "    \n",
    "<font size = \"3\">- A __module__ is a file containing Python definitions and statements. The file name is the module name with the suffix \".py\" appended.\n",
    "  \n",
    "<font size = \"3\">- __Packages__ are a way of structuring Python’s module namespace by using “dotted module names”.\n",
    "\n",
    "<font size=\"3\">Let's see some important packages for this course so we learn how to deal with them. Much more information can be found online in the links provided or elsewhere."
   ]
  },
  {
   "cell_type": "markdown",
   "metadata": {},
   "source": [
    "## PANDAS\n",
    "\n",
    "<font size =\"3\">Pandas is a powerful package for data managing in Python. \n",
    "    \n",
    "<font size =\"3\">You can find info about it here: https://pandas.pydata.org/pandas-docs/stable/\n",
    "\n",
    "<font size =\"3\">We show you here a small example so you can understand how intereting this package could be."
   ]
  },
  {
   "cell_type": "code",
   "execution_count": null,
   "metadata": {},
   "outputs": [],
   "source": [
    "# First, we create a pandas file (SQL, CSV or Excel)\n",
    "\n",
    "import pandas as pd          # \"as\" allows us to give a shorthand name to the module\n",
    "                             # which are usually conventional\n",
    "\n",
    "# intialise data of lists. \n",
    "data = {'Name':['Tom', 'nick', 'krish', 'jack'], 'Age':[20, 21, 19, 18]} \n",
    "\n",
    "# Create DataFrame \n",
    "df = pd.DataFrame(data) \n",
    "  \n",
    "# Print the data\n",
    "print(df)"
   ]
  },
  {
   "cell_type": "code",
   "execution_count": null,
   "metadata": {},
   "outputs": [],
   "source": [
    "# Nicer way of visualicing the data with head()\n",
    "\n",
    "print(df.head())     # shows by default the first 5 rows of the data\n",
    "print (df.head(1))   # shows only the first row"
   ]
  },
  {
   "cell_type": "code",
   "execution_count": null,
   "metadata": {},
   "outputs": [],
   "source": [
    "# Check data shape and dimension\n",
    "\n",
    "print (df.shape)\n",
    "print (df.ndim)"
   ]
  },
  {
   "cell_type": "code",
   "execution_count": null,
   "metadata": {},
   "outputs": [],
   "source": [
    "# Select a specific row\n",
    "\n",
    "df.loc[1,'Name']       # 1 is the row index, 'Name' is the column name"
   ]
  },
  {
   "cell_type": "markdown",
   "metadata": {},
   "source": [
    "## NUMPY\n",
    "\n",
    "<font size =\"3\">Is the fundamental Python package for scientific computing and array processing.\n",
    "\n",
    "<font size =\"3\">You can find more information here: https://numpy.org"
   ]
  },
  {
   "cell_type": "code",
   "execution_count": null,
   "metadata": {},
   "outputs": [],
   "source": [
    "# Examples for array creation\n",
    "\n",
    "import numpy as np \n",
    "  \n",
    "# Creating array from list with type float \n",
    "a = np.array([[1, 2, 4], [5, 8, 7]], dtype = 'float') \n",
    "print (\"Array created using passed list:\\n\", a) \n",
    "    \n",
    "# Creating a 3X4 array with all zeros \n",
    "b = np.zeros((3, 4)) \n",
    "print (\"\\nAn array initialized with all zeros:\\n\", b) \n",
    "    \n",
    "# Create an array with random values \n",
    "c = np.random.random((2, 2)) \n",
    "print (\"\\nA random array:\\n\", c) \n",
    "  \n",
    "# Create a sequence of integers from 0 to 30 with steps of 5 \n",
    "d = np.arange(0, 30, 5) \n",
    "print (\"\\nA sequential array with steps of 5:\\n\", d) "
   ]
  },
  {
   "cell_type": "code",
   "execution_count": null,
   "metadata": {},
   "outputs": [],
   "source": [
    "# Basic operations on  a single array \n",
    "\n",
    "import numpy as np \n",
    "  \n",
    "a = np.array([1, 2, 5, 3]) \n",
    "  \n",
    "# add 1 to every element \n",
    "print (\"Adding 1 to every element:\", a+1) \n",
    "    \n",
    "# multiply each element by 10 \n",
    "print (\"Multiplying each element by 10:\", a*10) \n",
    "    \n",
    "# transpose of array \n",
    "a = np.array([[1, 2, 3], [3, 4, 5], [9, 6, 0]]) \n",
    "  \n",
    "print (\"\\nOriginal array:\\n\", a) \n",
    "print (\"Transpose of array:\\n\", a.T) "
   ]
  },
  {
   "cell_type": "code",
   "execution_count": null,
   "metadata": {},
   "outputs": [],
   "source": [
    "# Unary operators in numpy \n",
    "\n",
    "import numpy as np \n",
    "  \n",
    "arr = np.array([[1, 5, 6], \n",
    "                [4, 7, 2], \n",
    "                [3, 1, 9]]) \n",
    "  \n",
    "# maximum element of array \n",
    "print (\"Largest element is:\", arr.max()) \n",
    "\n",
    "print (\"\\nRow-wise maximum elements:\", \n",
    "                    arr.max(axis = 1)) \n",
    "    \n",
    "# sum of array elements \n",
    "print (\"\\nSum of all array elements:\", \n",
    "                            arr.sum()) \n",
    "  \n",
    "# cumulative sum along each row \n",
    "print (\"\\nCumulative sum along each row:\\n\", \n",
    "                        arr.cumsum(axis = 1)) "
   ]
  },
  {
   "cell_type": "code",
   "execution_count": null,
   "metadata": {},
   "outputs": [],
   "source": [
    "# Binary operators in Numpy \n",
    "\n",
    "import numpy as np \n",
    "  \n",
    "a = np.array([[1, 2], \n",
    "            [3, 4]]) \n",
    "b = np.array([[4, 3], \n",
    "            [2, 1]]) \n",
    "  \n",
    "# add arrays \n",
    "print (\"Array sum:\\n\", a + b) \n",
    "  \n",
    "# multiply arrays (elementwise multiplication) \n",
    "print (\"\\nArray multiplication:\\n\", a*b) \n",
    "  \n",
    "# matrix multiplication \n",
    "print (\"\\nMatrix multiplication:\\n\", a.dot(b)) "
   ]
  },
  {
   "cell_type": "markdown",
   "metadata": {},
   "source": [
    "## MATPLOTLIB\n",
    "\n",
    "<font size =\"3\">Is a python 2D plotting library\n",
    "\n",
    "<font size =\"3\">Find more information here: https://matplotlib.org"
   ]
  },
  {
   "cell_type": "code",
   "execution_count": null,
   "metadata": {},
   "outputs": [],
   "source": [
    "# Easy example\n",
    "\n",
    "import matplotlib.pyplot as plt     # here we import a specific submodule of matplotlib\n",
    "                                    # and give it a shorthand name\n",
    "\n",
    "# IPython magic command: plots will be generated inline instead of in a separated window.\n",
    "# See http://ipython.org/ipython-doc/dev/interactive/magics.html\n",
    "%matplotlib inline\n",
    "\n",
    "x = list(range(0, 50, 2))\n",
    "y = list(range(0, 25, 1))\n",
    "\n",
    "plt.scatter(x, y, c=\"g\", alpha=0.5, marker='o', label=\"Luck\")\n",
    "plt.xlabel(\"Leprechauns\")\n",
    "plt.ylabel(\"Gold\")\n",
    "plt.legend(loc='upper left')\n",
    "plt.show()"
   ]
  },
  {
   "cell_type": "markdown",
   "metadata": {},
   "source": [
    "<font size =\"3\">Now a more complex example of data open file and plotting using __Numpy__ and __Matplotlib__"
   ]
  },
  {
   "cell_type": "code",
   "execution_count": null,
   "metadata": {},
   "outputs": [],
   "source": [
    "import numpy as np\n",
    "import matplotlib.pyplot as plt\n",
    "\n",
    "# If you already run this line before you don't need to write it again\n",
    "# %matplotlib inline\n",
    "\n",
    "# Open data1.txt and safe data on different lists\n",
    "with open ('data1.txt', 'r') as d:\n",
    "    data = d.readlines()\n",
    "    #print (data)                   # check what is inside data1.txt by uncomment this line\n",
    "    \n",
    "# Organize data\n",
    "xdata = []\n",
    "ydata = []\n",
    "for d in data:\n",
    "    if d == data[0]:\n",
    "        pass\n",
    "    else:\n",
    "        d_split = d.split('\\t')\n",
    "        xdata.append(float(d_split[0]))\n",
    "        d_split[1].replace('\\n', '')\n",
    "        ydata.append(float(d_split[1]))\n",
    "    \n",
    "# Plot data\n",
    "fig0, ax = plt.subplots(figsize=(10,6))\n",
    "ax.scatter(xdata, ydata)\n",
    "ax.set_xlabel('t [ms]')\n",
    "ax.set_ylabel('Y0')"
   ]
  },
  {
   "cell_type": "markdown",
   "metadata": {},
   "source": [
    "<font size =\"3\">Let's  plot a histogram:"
   ]
  },
  {
   "cell_type": "code",
   "execution_count": null,
   "metadata": {},
   "outputs": [],
   "source": [
    "import matplotlib.mlab as mlab\n",
    "\n",
    "\n",
    "x = np.random.normal(size = 1000)\n",
    "plt.hist(x, normed=True, bins=100, facecolor='green', alpha=0.75)\n",
    "plt.ylabel('Probability')\n",
    "plt.title('Histogram')\n",
    "plt.grid(True)"
   ]
  },
  {
   "cell_type": "markdown",
   "metadata": {},
   "source": [
    "<font size =\"3\">Now let's plot for our data:"
   ]
  },
  {
   "cell_type": "code",
   "execution_count": null,
   "metadata": {},
   "outputs": [],
   "source": [
    "plt.hist(ydata, normed=True, bins=100, facecolor='green', alpha=0.75)\n",
    "\n",
    "plt.xlabel('y')\n",
    "plt.ylabel('Probability')\n",
    "plt.title('Histogram')\n",
    "plt.grid(True)"
   ]
  },
  {
   "cell_type": "markdown",
   "metadata": {},
   "source": [
    "## Scipy\n",
    "\n",
    "<font size =\"3\">Scipy is an \"ecosystem\" of open-source software for mathematics, science, and engineering\n",
    "\n",
    "<font size =\"3\">Find more information here: https://docs.scipy.org/doc/scipy/reference/"
   ]
  },
  {
   "cell_type": "markdown",
   "metadata": {},
   "source": [
    "As an example, let's solve a system:\n",
    "\n",
    "\\begin{eqnarray*} x + 3y + 5z & = & 10 \\\\\n",
    "                   2x + 5y + z & = & 8  \\\\\n",
    "                   2x + 3y + 8z & = & 3\n",
    "\\end{eqnarray*}\n",
    " \n",
    "we can write it in this format:\n",
    "\n",
    "\\begin{split}\\left[\\begin{array}{ccc} 1 & 3 & 5\\\\ 2 & 5 & 1\\\\ 2 & 3 & 8\\end{array}\\right]\\left[\\begin{array}{c} x\\\\ y\\\\ z\\end{array}\\right]=\\left[\\begin{array}{c} 10\\\\ 8\\\\ 3\\end{array}\\right].\\end{split}"
   ]
  },
  {
   "cell_type": "code",
   "execution_count": null,
   "metadata": {},
   "outputs": [],
   "source": [
    "from scipy import linalg        # here we import only the linalg submodule from scipy\n",
    "                                # this is equivalent to \"import scipy.linalg as linalg\"\n",
    "\n",
    "A = np.array([[1,3,5], [2,5,1], [2,3,8]])\n",
    "b = np.array([10, 8, 3])\n",
    "\n",
    "x = linalg.solve(A,b)"
   ]
  },
  {
   "cell_type": "code",
   "execution_count": null,
   "metadata": {},
   "outputs": [],
   "source": [
    "# result, determinant and norm\n",
    "print (A)\n",
    "print (linalg.det(A))\n",
    "print (linalg.norm(A, 1))"
   ]
  },
  {
   "cell_type": "markdown",
   "metadata": {},
   "source": [
    "<font size =\"3\">Now we will fit a curve using the data in data1.txt file from the previous example"
   ]
  },
  {
   "cell_type": "code",
   "execution_count": null,
   "metadata": {},
   "outputs": [],
   "source": [
    "# We will use the function \"curve_fit\", that can be found in the module \"optimize\" of the library \"SciPy\"\n",
    "\n",
    "from scipy.optimize import curve_fit\n",
    "\n",
    "def expcurve(x, a):\n",
    "    '''A model'''\n",
    "    return 1 - a*np.exp(-x)\n",
    "\n",
    "def betterexpcurve(x, a, b, c):\n",
    "    '''A better model'''\n",
    "    return a - b*np.exp(-x*c)\n",
    "\n",
    "\n",
    "# Fit model\n",
    "popt, pcov = curve_fit(betterexpcurve, xdata, ydata)\n",
    "\n",
    "# Standard deviation errors on the parameters, see curve_fit documentation\n",
    "perr = np.sqrt(np.diag(pcov))\n",
    "\n",
    "# Generate data from the model\n",
    "x = np.linspace(min(xdata)-1, max(xdata)+1)\n",
    "y = betterexpcurve(x, *popt)\n",
    "\n",
    "# Plot raw data and model\n",
    "fig1, ax = plt.subplots(figsize=(12,8))\n",
    "ax.scatter(xdata, ydata, label='Raw Data')\n",
    "ax.plot(x,y, '--g', lw=3, label='Model')\n",
    "ax.set_xlabel('t [ms]')\n",
    "ax.set_ylabel('Y0')\n",
    "ax.legend(loc=2)"
   ]
  }
 ],
 "metadata": {
  "kernelspec": {
   "display_name": "Python 3",
   "language": "python",
   "name": "python3"
  },
  "language_info": {
   "codemirror_mode": {
    "name": "ipython",
    "version": 3
   },
   "file_extension": ".py",
   "mimetype": "text/x-python",
   "name": "python",
   "nbconvert_exporter": "python",
   "pygments_lexer": "ipython3",
   "version": "3.7.4"
  }
 },
 "nbformat": 4,
 "nbformat_minor": 4
}
