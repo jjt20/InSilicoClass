{
 "cells": [
  {
   "cell_type": "markdown",
   "metadata": {},
   "source": [
    "<center><font size = \"10\"> Week 1 - Python3 tutorial<center>\n",
    "<center><font size = \"8\">Tutorial 01: Introduction<center>\n",
    "<br>\n",
    "\n",
    "<font size = \"5\">__IMPORTANT:__ the exercises that can be found a long the notebook won't be graded"
   ]
  },
  {
   "cell_type": "markdown",
   "metadata": {},
   "source": [
    "# Data types (numbers, strings, booleans)\n",
    "\n",
    "<font size = \"3\"> Python supports a variety of data types, some examples are:\n",
    "    \n",
    "<font size = \"3\">- __Integers__: or ints are positive or negative whole numbers with no decimal point (2, 4, 789242876, 300)\n",
    "\n",
    "    \n",
    "<font size = \"3\">- __Floats__: or floating points real numbers, they represent real numbers and are written with a decimal point dividing the integer and fractional parts (3.4, 567.54, -34.5)\n",
    "\n",
    "\n",
    "<font size = \"3\">- __Strings__: is a squence of characters. Python strings can be created with single quotes, double quotes, or triple quotes. When we use triple quotes, strings can span several lines without using the escape character ('Hello world', \"Goodbey world\")\n",
    "\n",
    "\n",
    "<font size = \"3\">- __Booleans__: Bool is used to test whether the result of an expression is true or false.\n",
    "\n",
    "<font size = \"3\">Let's see some examples:"
   ]
  },
  {
   "cell_type": "code",
   "execution_count": null,
   "metadata": {},
   "outputs": [],
   "source": [
    "# By using \"#\" before a sentence we can write comments on our code\n",
    "# The equals sign \"=\" is used to assign a value to a variable\n",
    "# print() will show us a representation of whatever is inside the parentheses\n",
    "\n",
    "# Variable names can use upper case and lower case letters, the underscore, and the digits 0-9\n",
    "# They cannot start with a digit\n",
    "\n",
    "my_num1 = 4\n",
    "\n",
    "# In Python there is no need to define the types of variable before, \n",
    "# but we can always ask about the data type\n",
    "\n",
    "print (type(my_num1))\n",
    "\n",
    "# TO RUN THE CELL PRESS CTRL + ENTER "
   ]
  },
  {
   "cell_type": "code",
   "execution_count": null,
   "metadata": {},
   "outputs": [],
   "source": [
    "my_num2 = 4.0        \n",
    "\n",
    "name1 = 'What if: '  \n",
    "name2 = \"I add a string to a string? \" \n",
    "name3 = '''\n",
    "lets\n",
    "write\n",
    "three lines \n",
    "'''\n",
    "\n",
    "binary1 = True                        # Or 'False'.\n",
    "\n",
    "print(name1)\n",
    "print(name2)\n",
    "print(name3)\n",
    "print (type(my_num2))\n",
    "print (type(name1))\n",
    "print (type(name2))\n",
    "print (type(name3))\n",
    "print (type(binary1))"
   ]
  },
  {
   "cell_type": "markdown",
   "metadata": {},
   "source": [
    "## Operations with data\n",
    "<font size = \"3\"> For each data type there are some operations that can be performed on them, like arythmetic operations. "
   ]
  },
  {
   "cell_type": "code",
   "execution_count": null,
   "metadata": {},
   "outputs": [],
   "source": [
    "# Is possible to define a new variable\n",
    "\n",
    "my_num12 = my_num1 + my_num2\n",
    "print (my_num12)\n",
    "\n",
    "# Or we can ask to print the result directly\n",
    "\n",
    "print (my_num1 - my_num2)\n",
    "print (my_num1 - my_num1)"
   ]
  },
  {
   "cell_type": "markdown",
   "metadata": {},
   "source": [
    "<font size = \"3\">** It is __important to notice__ that if the operation is done between integers (except division), the result will be an integer, if the operation is done between floats the result will be a float, and if the operation is done between integers and floats the result will be a float number."
   ]
  },
  {
   "cell_type": "code",
   "execution_count": null,
   "metadata": {},
   "outputs": [],
   "source": [
    "# Multiplication, division and exponential \n",
    "\n",
    "a = my_num1/my_num2\n",
    "b = my_num1//my_num1 # in python3 // represents integer division (rounded down)\n",
    "c = my_num1/my_num1\n",
    "print (a)\n",
    "print (b)\n",
    "print (c)\n",
    "print (my_num1 * my_num2)\n",
    "print (my_num1**2) \n",
    "print (my_num2**2)"
   ]
  },
  {
   "cell_type": "markdown",
   "metadata": {},
   "source": [
    "<font size = \"3\"> We can perform some __arythmetics__ (adition and multiplication) on __strings as well__ !!!"
   ]
  },
  {
   "cell_type": "code",
   "execution_count": null,
   "metadata": {},
   "outputs": [],
   "source": [
    "name12 = name1 + name2\n",
    "\n",
    "name11 = name1*2\n",
    "\n",
    "print (name12)\n",
    "print (name11)       "
   ]
  },
  {
   "cell_type": "markdown",
   "metadata": {},
   "source": [
    "<font size = \"3\">It is possible to do other sorts of operations with strings in python"
   ]
  },
  {
   "cell_type": "code",
   "execution_count": null,
   "metadata": {
    "scrolled": true
   },
   "outputs": [],
   "source": [
    "# We can use dir() to list all methods of a variable,\n",
    "# that is, operations that we can do with that variable\n",
    "\n",
    "print (dir(name2))               "
   ]
  },
  {
   "cell_type": "code",
   "execution_count": null,
   "metadata": {},
   "outputs": [],
   "source": [
    "# Let's try some\n",
    "\n",
    "print (name2.upper()) # capital leters\n",
    "print (len(name2))    # string size\n",
    "print (name2.replace('a','X'))"
   ]
  },
  {
   "cell_type": "markdown",
   "metadata": {},
   "source": [
    "<font size = \"3\"> __Ex.1: What does the \"split\" mechanisms do? Google it and try it.__"
   ]
  },
  {
   "cell_type": "code",
   "execution_count": null,
   "metadata": {},
   "outputs": [],
   "source": [
    "# Insert here your code"
   ]
  },
  {
   "cell_type": "markdown",
   "metadata": {},
   "source": [
    "<font size = \"3\">What about the __BOOLENAS__?\n",
    "\n",
    "<font size = \"3\">Boolean expressions (or logical expressions) evaluate to one of two states: true or false. Python provides the boolean type that can have as value either False or True. Many functions and operations return boolean objects.\n",
    "\n",
    "<font size = \"3\">Every object has a boolean value. For instance, the following elements are False:\n",
    "\n",
    "<font size = \"3\">- None\n",
    "    \n",
    "<font size = \"3\">- False\n",
    "    \n",
    "<font size = \"3\">- 0 (whatever type from integer, float to complex)\n",
    "    \n",
    "<font size = \"3\">- Empty collections: “”, (), [], {}\n",
    "    \n",
    "<font size = \"3\">- Objects from classes that have the special method __nonzero__\n",
    "    \n",
    "<font size = \"3\">- Objects from classes that implements __len__ to return False or zero\n",
    "\n",
    "<font size = \"3\">The rest of objects are True.\n",
    "\n",
    "<font size = \"3\">With booleans we can operate __comparisons__ by using the following operators: ==, <, >, =<, =>, !=.\n",
    "<font size = \"3\">Let's see some examples:"
   ]
  },
  {
   "cell_type": "code",
   "execution_count": null,
   "metadata": {},
   "outputs": [],
   "source": [
    "x = 2\n",
    "y = -5\n",
    "\n",
    "print (3 < x < 1)\n",
    "print (-2 > y < -1)\n",
    "print (y == -5)\n",
    "print (x != 2)"
   ]
  },
  {
   "cell_type": "markdown",
   "metadata": {},
   "source": [
    "<font size = \"3\">With booleans we can also make: \n",
    "\n",
    "<font size = \"3\">- logical operations using __AND__ and __OR__  \n",
    "    \n",
    "<font size = \"3\">- membership operations using __IN__ \n",
    "    \n",
    "<font size = \"3\">- identity operations using __IS__"
   ]
  },
  {
   "cell_type": "code",
   "execution_count": null,
   "metadata": {},
   "outputs": [],
   "source": [
    "a = 50\n",
    "b = 25\n",
    "\n",
    "x = [1,2,3,4,5,6,7,8,9,10]\n",
    "y = [2,4,6,8,10,12,14,16,18,20]\n",
    "\n",
    "print ('Example of logic operations ')\n",
    "print (a>40 or b>40)                  # OR: if at least one of the conditions is True, it evaluates True\n",
    "print (a>100 and b<50)                # AND: both conditions have to be true to evaluate True\n",
    "print (a<0 and b<0)\n",
    "print (a==0 or b==0)\n",
    "print (a>0 and b<0)\n",
    "\n",
    "print ('Example operations of membersgip')\n",
    "print (6 in x)\n",
    "print (6 not in y)\n",
    "\n",
    "print ('Example operations of identity')\n",
    "print(x is y)\n",
    "print (y is y)\n",
    "print (x is not x)"
   ]
  },
  {
   "cell_type": "markdown",
   "metadata": {},
   "source": [
    "# Python data collections: Lists, Tuples and Dictionaries "
   ]
  },
  {
   "cell_type": "markdown",
   "metadata": {},
   "source": [
    "## Lists\n",
    "\n",
    "<font size = \"3\"> Python lists are similar to arrays or vectors in other programming languages. They are collections of data __ordered (support indexing) and changeable__, among others properties and allows duplicate members. In Python, lists are written with __square brackets__."
   ]
  },
  {
   "cell_type": "code",
   "execution_count": null,
   "metadata": {},
   "outputs": [],
   "source": [
    "couple = [1, 2]                        # This is a simple list with two integers\n",
    "items = [couple, my_num1, name1, 3]    # This is a list, it can contain any type of data, even other lists\n",
    "print (items)                   "
   ]
  },
  {
   "cell_type": "code",
   "execution_count": null,
   "metadata": {},
   "outputs": [],
   "source": [
    "# Let's see how to call a specific element from the list\n",
    "\n",
    "print ('first element of the list = ', items[0])  # Note that Python indices start count from 0!!!\n",
    "print ('elements 2 and 3 are ', items[1:3])       # a:b is a sequence of integers from a to b (non-inclusive)\n",
    "print ('the last elements is = ', items[-1])      # Negative indexing means beginning from the end, \n",
    "                                                  # -1 refers to the last item, -2 refers to the second last item etc.\n",
    "    \n",
    "print (items[0][1])    # As the first element is a list we can also ask for an element inside of it                \n",
    "print (items[2][2:8])  # Strings also support indexing                  \n",
    "                                      "
   ]
  },
  {
   "cell_type": "code",
   "execution_count": null,
   "metadata": {
    "scrolled": true
   },
   "outputs": [],
   "source": [
    "# Is also posible to define a list by using the list constructor (class)\n",
    "\n",
    "list1 = list((2,'abc', (3,4,5), 5, 2, 2))  # (3,4,5) is a tuple, not a list\n",
    "numbers1 = list(range(10))                 # range help us to create a list of consecutive numbers \n",
    "                                           # range(start, stop, step)\n",
    "numbers2 = list(range(2, 31, 2))\n",
    "\n",
    "print (list1)\n",
    "print (numbers1)\n",
    "print (numbers2)"
   ]
  },
  {
   "cell_type": "markdown",
   "metadata": {},
   "source": [
    "<font size = \"3\">Is also posible to make some operations with the lists such as: modifying the elements, removing elements, adding lists,... by using the methods defined for this class."
   ]
  },
  {
   "cell_type": "code",
   "execution_count": null,
   "metadata": {},
   "outputs": [],
   "source": [
    "# Lists can be changed: renaming elements\n",
    "\n",
    "print ('This is list1 before ', list1)\n",
    "\n",
    "list1[0] = 'fgh'\n",
    "\n",
    "print ('This is list1 after ', list1)   # Be aware that list1 has been changed and won't be the same anymore"
   ]
  },
  {
   "cell_type": "code",
   "execution_count": null,
   "metadata": {},
   "outputs": [],
   "source": [
    "# operations:\n",
    "list2 = numbers1 + list1 + numbers2   # concatenate lists\n",
    "list3 = list1*5                       # repeat list\n",
    "\n",
    "print (list2)\n",
    "print (list3)"
   ]
  },
  {
   "cell_type": "code",
   "execution_count": null,
   "metadata": {
    "jupyter": {
     "outputs_hidden": true
    }
   },
   "outputs": [],
   "source": [
    "# Let's check what methods the class list has\n",
    "\n",
    "print (help(list))"
   ]
  },
  {
   "cell_type": "code",
   "execution_count": null,
   "metadata": {},
   "outputs": [],
   "source": [
    "# Let's check a few of them:\n",
    "\n",
    "list_size = len(list1)   # how many elements are in the list\n",
    "count = list1.count(2)   # count items\n",
    "list4 = list1.clear()    # remove all items from list\n",
    "\n",
    "print (list_size)\n",
    "print(count)\n",
    "print(list4)\n",
    "print(list1)             # Careful!! Now list1 is an empty list!!\n",
    "\n"
   ]
  },
  {
   "cell_type": "markdown",
   "metadata": {},
   "source": [
    "<font size = \"3\">__Ex. 2: How can we add an element to the end of a list? And in other position?__ \n",
    "\n",
    "<font size = \"3\">You can google it or check the methods on 'help(list)'\n",
    " "
   ]
  },
  {
   "cell_type": "code",
   "execution_count": null,
   "metadata": {},
   "outputs": [],
   "source": [
    "# Add an elemend to end of the list \"items\"\n",
    "\n",
    "# Add an element after the first element of the list\n"
   ]
  },
  {
   "cell_type": "markdown",
   "metadata": {},
   "source": [
    "## Tuples\n",
    "<font size =\"3\">A tuple is an __immutable and ordered__ collection of data. Tuples are sequences, just like lists. The differences between tuples and lists are: the tuples cannot be changed unlike lists and tuples use __parentheses ( )__, whereas lists use square brackets [ ]."
   ]
  },
  {
   "cell_type": "code",
   "execution_count": null,
   "metadata": {},
   "outputs": [],
   "source": [
    "# Lists and tuples are very similar...\n",
    "\n",
    "numbers_mut = list(range(10,30,2))\n",
    "numbers_immut = tuple(range(10,30,2))  # tuples can be defined using the tuple constructor\n",
    "\n",
    "print (numbers_mut)\n",
    "print (numbers_immut)"
   ]
  },
  {
   "cell_type": "code",
   "execution_count": null,
   "metadata": {},
   "outputs": [],
   "source": [
    "# ...but not exactly the same\n",
    "\n",
    "numbers_mut[0] = 'changed'    # changing an element in the list\n",
    "\n",
    "print (numbers_mut)\n",
    "\n",
    "numbers_immut[0] = 1          # traying to change an element in the tuple... will provoke an error\n",
    "\n",
    "print (numbers_immut)"
   ]
  },
  {
   "cell_type": "markdown",
   "metadata": {},
   "source": [
    "## Dictionaries\n",
    "\n",
    "<font size =\"3\">A dictionary is a collection which is unordered, changeable and indexed. In Python, dictionaries are written with curly brackets { }, and they are composed of keys and values.\n",
    "    \n",
    "<font size =\"3\">Keys and values can be of any type and not only strings, as in language dictionaries."
   ]
  },
  {
   "cell_type": "code",
   "execution_count": null,
   "metadata": {},
   "outputs": [],
   "source": [
    "# Let's create a simple dictionary\n",
    "\n",
    "random = {'neurons': ['pyramidal', 'GABA'], 'velocity': [True, 140.0, 'Km/h'], 'names and ages': [('Ana', 15), ('John', 34)]}\n",
    "\n",
    "# Search for elements\n",
    "\n",
    "print (random['velocity'])            # we first find an element,\n",
    "print (random['names and ages'][0])   # then index it.\n",
    "print (random['neurons'][1][3])       # We can index as many times as the values support it\n",
    "print (random['velocity'][1])"
   ]
  },
  {
   "cell_type": "code",
   "execution_count": null,
   "metadata": {
    "jupyter": {
     "outputs_hidden": true
    }
   },
   "outputs": [],
   "source": [
    "# Let's check what methods the class dict has\n",
    "\n",
    "print (help(dict))"
   ]
  },
  {
   "cell_type": "code",
   "execution_count": null,
   "metadata": {},
   "outputs": [],
   "source": [
    "# Let's check a few of them\n",
    "\n",
    "keys = random.keys()\n",
    "\n",
    "print (keys)                      # object with all the keys\n",
    "print (list(keys)[1])             # we can redifine the object with the list constructor\n",
    "print (len(random))               # length of the dictionary\n",
    "print (len(random['neurons'][0])) # length of a specific element in the dictionary "
   ]
  },
  {
   "cell_type": "markdown",
   "metadata": {},
   "source": [
    "<font size = \"3\">__Ex. 3: How can we add a new key with some invented values?__"
   ]
  },
  {
   "cell_type": "code",
   "execution_count": null,
   "metadata": {},
   "outputs": [],
   "source": [
    "# Add a new key and new values to the dictionary"
   ]
  },
  {
   "cell_type": "markdown",
   "metadata": {},
   "source": [
    "# Iterations and conditions\n",
    "\n",
    "<font size =\"3\"> Strings, lists, tuples and dictionaries are examples of iterable python objects. This means that we can perform a repeated operation on each of their elements. "
   ]
  },
  {
   "cell_type": "markdown",
   "metadata": {},
   "source": [
    "## Python for loops\n",
    "\n",
    "<font size =\"3\">Definite iteration loops are frequently referred to as \"for-loops\", because \"for\" is the keyword that is used to introduce them in nearly all programming languages, including Python.\n",
    "    \n",
    "<font size =\"3\">A very simple example could be the next one:"
   ]
  },
  {
   "cell_type": "code",
   "execution_count": null,
   "metadata": {},
   "outputs": [],
   "source": [
    "num_list1 = list(range(10))\n",
    "\n",
    "for n in num_list1: \n",
    "    print(n)"
   ]
  },
  {
   "cell_type": "markdown",
   "metadata": {},
   "source": [
    "<font size =\"3\">To write a \"for-loop\" the first line starts with \"for\" and must end with \":\". The following lines inside the loop must be indented (increase space on the left margin). A condition statement (if, while, ...) follows the same syntactic rules (point 3.2)."
   ]
  },
  {
   "cell_type": "code",
   "execution_count": null,
   "metadata": {
    "jupyter": {
     "outputs_hidden": true
    }
   },
   "outputs": [],
   "source": [
    "# a more complex for loop\n",
    "\n",
    "num_list2 = list(range(10, 20))\n",
    "\n",
    "for n1 in num_list1:\n",
    "    print ('list1 number ', n1)\n",
    "    for n2 in num_list2:\n",
    "        print ('list2 number ', n2)\n",
    "        "
   ]
  },
  {
   "cell_type": "code",
   "execution_count": null,
   "metadata": {},
   "outputs": [],
   "source": [
    "# If we want to go through both lists at the same time...\n",
    "\n",
    "for n1, n2 in zip(num_list1, num_list2):\n",
    "    print (n1, n2)"
   ]
  },
  {
   "cell_type": "markdown",
   "metadata": {},
   "source": [
    "## Python conditions: if, elif, else and while\n",
    "\n",
    "<font size =\"3\">The best way of understanding this commands is by going thourgh some examples"
   ]
  },
  {
   "cell_type": "markdown",
   "metadata": {},
   "source": [
    "### IF and ELIF"
   ]
  },
  {
   "cell_type": "code",
   "execution_count": null,
   "metadata": {},
   "outputs": [],
   "source": [
    "# For-loop that checks the parity of a list of integers through a couple of conditions\n",
    "\n",
    "numbers = [0,1,2,3,4,5,6,7,8,9,10]\n",
    "\n",
    "result = []                              # create an empty list in which the results will be saved\n",
    "for num in numbers:                      # iterate each element in \"numbers list\"\n",
    "    if num % 2 == 0:                     # condition for even numbers; Note the difference betweeen \"=\" and \"==\"\n",
    "        result.append(\"%d is even\" %num) # What is the \"%\" simbol on the string? Google it! \n",
    "    elif num % 2 == 1:                   # condition for odd numbers\n",
    "        result.append(\"%d is odd\" %num)  \n",
    "                                         \n",
    "print (result)        "
   ]
  },
  {
   "cell_type": "code",
   "execution_count": null,
   "metadata": {},
   "outputs": [],
   "source": [
    "# We can achieve the same effect as above using a one line \"list comprehension\" (google it!)\n",
    "\n",
    "print ([\"%d is even\" %num if num % 2 == 0 else \"%d is odd\" %num for num in numbers]) "
   ]
  },
  {
   "cell_type": "markdown",
   "metadata": {},
   "source": [
    "<font size =\"3\">__Ex4: Create a dictionary in which the grades of 4 subjects \n",
    "(Maths, Physics, Literature and Phylosophy) are stored for 3 students (Peter, Ana and Lisa)__\n",
    "    \n",
    "<font size =\"3\">_Hint: define first the lists to iterate through_"
   ]
  },
  {
   "cell_type": "markdown",
   "metadata": {},
   "source": [
    "### ELSE"
   ]
  },
  {
   "cell_type": "code",
   "execution_count": null,
   "metadata": {},
   "outputs": [],
   "source": [
    "# For loop that checks if numbers on a list are less than 5 or not\n",
    "\n",
    "result = []                              # create an empty list in which the results will be saved\n",
    "for num in numbers:                      # iterate each element in \"numbers\" list\n",
    "    if num < 5:                          # condition\n",
    "        result.append(\"%d is less than 5\" %num) \n",
    "    else:                                # rest of the elements that don't follow the previous condition...\n",
    "        result.append(\"%d is greater or equal than 5\" %num)\n",
    "                                         \n",
    "print(result)   "
   ]
  },
  {
   "cell_type": "markdown",
   "metadata": {},
   "source": [
    "### WHILE"
   ]
  },
  {
   "cell_type": "code",
   "execution_count": null,
   "metadata": {},
   "outputs": [],
   "source": [
    "x = 10\n",
    "while x < 21:                                # this loop will continue until the condition evaluates to False\n",
    "    print('x is %d smaller than 21' %(21-x)) # you can also compute the replacement value\n",
    "    x = x + 1                                # you can also write it like this: x += 1\n",
    "else:\n",
    "    print ('x = 21')\n",
    "    "
   ]
  },
  {
   "cell_type": "markdown",
   "metadata": {},
   "source": [
    "# Functions \n",
    "\n",
    "<font size =\"3\">In programming, a function is a block of code that, usually, takes an input and returns an output. \n",
    "    \n",
    "<font size =\"3\">In Python, the first line of a function is preceeded by __\"def\"__ and following lines are indented. The last line of a function defines the output variable(s), preceded by an optional __\"return\"__ statement."
   ]
  },
  {
   "cell_type": "code",
   "execution_count": null,
   "metadata": {},
   "outputs": [],
   "source": [
    "def add_to_even_num(numb_list, num_to_add):\n",
    "    \"\"\"\n",
    "    This is a docstring. Is the usual way of documenting what a function does and its inputs and outputs.\n",
    "    This function corrects voltage values in a dictionary of electrophysiological features.\n",
    "    :param num_list: list with numbers\n",
    "    :param num_to_add: number to add to the even numbers in num_list\n",
    "    :return new_list:\n",
    "    \"\"\"\n",
    "    new_list = []                            # defining empty list to safe new values\n",
    "    for n in numb_list:\n",
    "        if n % 2 == 0: \n",
    "            new_list.append(n + num_to_add)  # add new values into the empty list\n",
    "        elif n % 2 == 1:                   \n",
    "            pass                             # if this happens do NOTHING (skip iteration)  \n",
    "    \n",
    "    return(new_list)                         # return the new list as solution\n",
    "        "
   ]
  },
  {
   "cell_type": "code",
   "execution_count": null,
   "metadata": {},
   "outputs": [],
   "source": [
    "# Now we will call the fuction, but first we should define the value for the input parameters\n",
    "\n",
    "numb_list = [22, 23, 42, 56, 102, 451, 802, 36]\n",
    "num_to_add = 10.3\n",
    "\n",
    "new_list = add_to_even_num(numb_list, num_to_add)\n",
    "\n",
    "print (new_list)"
   ]
  },
  {
   "cell_type": "code",
   "execution_count": null,
   "metadata": {},
   "outputs": [],
   "source": [
    "# Finally, some neuroscientific toy example: \n",
    "# a dictionary of some electrophysiological properties (or features) of a neuron\n",
    "# that will be checked for correction by the next function \"correct_voltage\"\n",
    "\n",
    "efel_features = {'corrected': False,\n",
    "                 'spike_threshold': [-40, 'mV'], 'V_rest': [-65, 'mV'], \n",
    "                 'spike_frequency': [110, 'Hz'] , 'Time_to_first_spike': [70, 'ms']}\n",
    "\n",
    "\n",
    "def correct_voltage(features_dict, correction):\n",
    "    \n",
    "    \"\"\"\n",
    "    This function corrects voltage values in a dictionary of electrophysiological features.\n",
    "    :param features_dict: dictionary with electrical features\n",
    "    :param correction: number to add as a correction\n",
    "    :return new_dict: dictionary similar to features_dict but with the values corrected.\n",
    "    \"\"\"\n",
    "    \n",
    "    new_dict = features_dict.copy()        # Create the dictionary in which the corrected values will be saved.\n",
    "    \n",
    "    if new_dict['corrected'] == True:      # If the data are already corrected there is no need for correction\n",
    "        print('no need for correction')\n",
    "    else:                     \n",
    "        k_list = list(new_dict.keys())     # make a list with the keys of the dictionary\n",
    "        k_list.remove('corrected')         # remove the key that we don't need\n",
    "        for k in k_list:                   # iterate over the keys\n",
    "            if new_dict[k][1] == 'mV':     # apply correction over voltage data only\n",
    "                new_dict[k][0] += correction\n",
    "        new_dict['corrected'] = True       # change the dictionary info to corrected\n",
    "        \n",
    "    return new_dict  \n",
    "    "
   ]
  },
  {
   "cell_type": "code",
   "execution_count": null,
   "metadata": {},
   "outputs": [],
   "source": [
    "# The following line calls the function with the appropriate number and types of arguments (inputs) and prints\n",
    "# the output. Calling the function in a script is not sufficient to see its output.\n",
    "\n",
    "\n",
    "new_dict = correct_voltage(efel_features,10)\n",
    "\n",
    "print (new_dict) "
   ]
  },
  {
   "cell_type": "markdown",
   "metadata": {},
   "source": [
    "<font size=\"3\">__NOTE:__ If you run the above function multiple times, you'll notice that the values keep changing. To understand why, look up the documentation of the copy() method of a dictionary and search online for the difference between a shallow and a deep copy."
   ]
  },
  {
   "cell_type": "markdown",
   "metadata": {},
   "source": [
    "# Classes\n",
    "\n",
    "\n",
    "<font size =\"3\">Python is a language that implements __\"object-oriented\" programming__ (OOP). In OOP, importance is given to data rather than just writing instructions to complete a task. \n",
    "\n",
    "<font size =\"3\">An __object__ is a thing or idea that you want to model in your program. An object can be anything, e.g. employee, bank account, car, neuron, etc.\n",
    "\n",
    "<font size =\"3\">A __class__ is a blueprint for creating an object. A class defines the data (attributes) and behaviors (or methods) of the object.\n",
    "    \n",
    "<font size =\"3\">An __instance__ of a class is a particular realization of a class, that is, a particular object among those defined by the same class.\n",
    "\n",
    "<font size =\"3\">For example, if we're writing a class representing a car, we can define attributes of the car such as make, model, fuel type, # of passengers, etc. and behaviors like start, break, accelerate, etc. These attributes and methods are not specific to just one particular car, but define the general properties of a car that we're including in our model and that all objects of this class will have. When we create particular instances of this class, then we'll be able to assign particular values to the attributes for each particular car.\n",
    "\n",
    "<font size =\"3\">In this way, OOP allows us to bundle together data and functions (attributes and methods) relevant to the object we're modeling, and create many instances of it, all sharing the same design, but each having particular values.\n",
    "\n",
    "<font size =\"3\">_HINT: if you want to know more about OOP look for information in google, there is plenty of tutorials that could be useful for you._"
   ]
  },
  {
   "cell_type": "code",
   "execution_count": null,
   "metadata": {},
   "outputs": [],
   "source": [
    "# Let's build the class Neuron than will have as atributes its name \n",
    "# and as methods (behavior) the morphology and biophysics\n",
    "\n",
    "class Neuron:                   # Class names usually starts with a capital letter\n",
    "    \n",
    "    \"\"\"\n",
    "    Simple class for creating a neuron.\n",
    "    \"\"\"\n",
    "    # In a class definition, the object itself is named \"self\". \n",
    "    # The self can have some attributes (= variable name inside a class definition) \n",
    "    # that can be retrieved from outside the class definition.\n",
    "    \n",
    "    # constructor\n",
    "    def __init__(self, name):   # Methods defined with \"__something__\" are special methods. \n",
    "                                # For example the __init__ method is automatically called when we instatiate a class. \n",
    "                                # It doesn't accept \"return\" statements.\n",
    "        self.name = name\n",
    "    \n",
    "    def morphology(self, n_dend, n_branches):\n",
    "        self.morphology = {}\n",
    "        self.morphology['soma'] = {'sections': range(1)}\n",
    "        self.morphology['dendrites'] = {'sections':[[dend for dend in range(n_dend)] for branch in range(n_branches)]}\n",
    "        self.morphology['axon'] = {'sections':range(5)}\n",
    "        return self.morphology\n",
    "    \n",
    "    def biophysics(self, channels):\n",
    "        \"\"\"\n",
    "        Distribute channels on neuron sections\n",
    "        \"\"\"\n",
    "        self.biophysics = {name:list(channels) for name in self.morphology.keys()}           \n",
    "        self.biophysics['axon'] = channels[:2]\n",
    "        self.biophysics['dendrites'].remove('NaT')\n",
    "        return self.biophysics"
   ]
  },
  {
   "cell_type": "code",
   "execution_count": null,
   "metadata": {},
   "outputs": [],
   "source": [
    "# This is the instantiation of the Neuron class. \n",
    "# It takes as arguments those specified in the __init__ method.\n",
    "\n",
    "my_neuron = Neuron('dummy_neuron')"
   ]
  },
  {
   "cell_type": "markdown",
   "metadata": {},
   "source": [
    "<font size =\"3\"> We call a class method by: __object.method_name( )__ \n",
    "\n",
    " <font size =\"3\">Note that the \"self\" in the class definition is replaced by the object name."
   ]
  },
  {
   "cell_type": "code",
   "execution_count": null,
   "metadata": {
    "scrolled": true
   },
   "outputs": [],
   "source": [
    "num_dend = 7\n",
    "num_branches = 15\n",
    "\n",
    "print (my_neuron.morphology(num_dend, num_branches))"
   ]
  },
  {
   "cell_type": "code",
   "execution_count": null,
   "metadata": {},
   "outputs": [],
   "source": [
    "ion_channels = ['NaT', 'Kv3.1', 'CaT', 'KCa3.1','HCN']\n",
    "\n",
    "print (my_neuron.biophysics(ion_channels))"
   ]
  },
  {
   "cell_type": "code",
   "execution_count": null,
   "metadata": {},
   "outputs": [],
   "source": [
    "# Now you can have a more direct feeling of the \"dir\" and \"__doc__\" methods\n",
    "\n",
    "print ('class directory = ', dir(my_neuron))\n",
    "print ('\\n class description = ', my_neuron.__doc__)"
   ]
  },
  {
   "cell_type": "markdown",
   "metadata": {},
   "source": [
    "# Working with files: create, open, read, modify and safe"
   ]
  },
  {
   "cell_type": "markdown",
   "metadata": {},
   "source": [
    "<font size =\"3\">Learning how to deal with files is very important as we will work with files all the time."
   ]
  },
  {
   "cell_type": "code",
   "execution_count": null,
   "metadata": {},
   "outputs": [],
   "source": [
    "# Write something into a new file called \"my_first_file.txt\"\n",
    "\n",
    "with open('my_first_file.txt', 'w') as g:  # Here you can specify the path in which you want the file to be saved. \n",
    "                                           # 'w' means open file for writing\n",
    "    \n",
    "    g.write(str(123))   \n",
    "    g.write('this is a test')              # write something else between the 'quotes'\n",
    "    \n",
    "g.close()"
   ]
  },
  {
   "cell_type": "markdown",
   "metadata": {},
   "source": [
    "<font size =\"3\">Check if the file has been correctly created. \n",
    "\n",
    "<font size =\"3\">You can add new information to the same file by opening it in \"append\" mode."
   ]
  },
  {
   "cell_type": "code",
   "execution_count": null,
   "metadata": {},
   "outputs": [],
   "source": [
    "with open('my_first_file.txt', 'a+') as g: # 'a' Open for appending at the end of the file without truncating it. \n",
    "                                           # Creates a new file if it does not exist. \n",
    "                                           # '+' open a file for updating (reading and writing)\n",
    "    g.write('\\n bla bla bla')              # write something to file here\n",
    "                                           # the simbol '\\n' = jump line in the text\n",
    "g.close()"
   ]
  },
  {
   "cell_type": "code",
   "execution_count": null,
   "metadata": {},
   "outputs": [],
   "source": [
    "with open('my_first_file.txt', 'r+') as g: # 'r+' means open for reading and appending  \n",
    "    # open for reading and appending\n",
    "    l = g.readlines()\n",
    "    print (l)"
   ]
  },
  {
   "cell_type": "markdown",
   "metadata": {},
   "source": [
    "<font size=\"3\">Look up the documentation for more advanced file manipulation."
   ]
  }
 ],
 "metadata": {
  "kernelspec": {
   "display_name": "Python 3",
   "language": "python",
   "name": "python3"
  },
  "language_info": {
   "codemirror_mode": {
    "name": "ipython",
    "version": 3
   },
   "file_extension": ".py",
   "mimetype": "text/x-python",
   "name": "python",
   "nbconvert_exporter": "python",
   "pygments_lexer": "ipython3",
   "version": "3.7.4"
  }
 },
 "nbformat": 4,
 "nbformat_minor": 4
}
