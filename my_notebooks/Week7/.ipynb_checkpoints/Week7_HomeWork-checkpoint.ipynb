{
 "cells": [
  {
   "cell_type": "markdown",
   "metadata": {},
   "source": [
    "<center><font size = \"10\"> Week 7 - Connections <center>\n",
    "<center><font size = \"8\">Home work<center>"
   ]
  },
  {
   "cell_type": "markdown",
   "metadata": {},
   "source": [
    "<font size = \"3\">Please, write your group number and the names and surnames of the group members here\n",
    "<br>Group number:\n",
    "<br>Group member1:\n",
    "<br>Group member2:\n",
    "<br>Group member3:"
   ]
  },
  {
   "cell_type": "markdown",
   "metadata": {},
   "source": [
    "# Ex1. Connect all-to-all with random weights.\n",
    "\n",
    "<font size='3'>In week 2 Home Works (Morphologies) each group received a set of ten morphology files to check their quality. Each set of cells have __FIVE__ good morphology files. If you think that you only have three, please go through Week2_HomeWorks_Solutions.ipynb posted on Moodle last week.\n",
    "\n",
    "<font size='3'>Connect your five cells all to all (unidirectionally) with random weights, as it is done in tutorial 01 of this week, and display the connectivity matrix with the weights. [1 pt]"
   ]
  },
  {
   "cell_type": "code",
   "execution_count": null,
   "metadata": {},
   "outputs": [],
   "source": []
  },
  {
   "cell_type": "markdown",
   "metadata": {},
   "source": [
    "# Ex2. Connect your cells considering connection probability\n",
    "\n",
    "<font size='3'>Connect your five cells as it is done in tutorial 02, considering the following connection probabilities between cell types:\n",
    "<br> PC - PC: 65 %\n",
    "<br> PC - Inh: 23 %\n",
    "<br> Inh - PC: 41 %\n",
    "<br> Inh - Inh: 36 %\n",
    "\n",
    "<font size='3'>Show the results on a probability matrix. [1 pt]\n"
   ]
  },
  {
   "cell_type": "code",
   "execution_count": null,
   "metadata": {},
   "outputs": [],
   "source": []
  },
  {
   "cell_type": "markdown",
   "metadata": {},
   "source": [
    "# Ex3. Distribution of contacts: Convergence Matrix\n",
    "\n",
    "<font size='3'>Considering the following mean contact points between cell types: \n",
    "<br> PC_axon - PC_basal: 4\n",
    "<br> PC_axon - PC_apical: 1.5\n",
    "<br> PC_axon - Inh_basal: 3\n",
    "<br> Inh_axon - PC_soma: 3.5\n",
    "<br> Inh_axon - PC_basal: 2\n",
    "<br> Inh_axon - Inh_soma: 4\n",
    "<br> Inh_axon - Inh_basal: 1.6\n",
    "\n",
    "<font size='3'>connect your cells by selecting the contact points from a normal distribution with a specific mean value per connection (values above). Show the results on a __convergence__ matrix (how many contacts each of the cells receives from the others). [1.5 pts] "
   ]
  },
  {
   "cell_type": "code",
   "execution_count": null,
   "metadata": {},
   "outputs": [],
   "source": []
  },
  {
   "cell_type": "markdown",
   "metadata": {},
   "source": [
    "# Ex4. Real Connectivity Rules\n",
    "\n",
    "<font size='3'>Read the articles uploaded on the HomeWork folder (Markram_1997.pdf and Gupta_2000.pdf). \n",
    "\n",
    "<font size='3'>Imaging that you have to build a network with your five cells (3 pyramidals and 2 GABAergic interneurons) from rat somatosensory cortex. Extract from the papers the data that you would need to connect your cells (connectivity rules). Enumerate the data chosen to connect your cells. Using and modifying (if needed) the code from the tutorials, connect your five cells in a more biological way using the connectivity rules found in the papers. [2.5 pts]"
   ]
  },
  {
   "cell_type": "code",
   "execution_count": null,
   "metadata": {},
   "outputs": [],
   "source": []
  }
 ],
 "metadata": {
  "kernelspec": {
   "display_name": "Python 3",
   "language": "python",
   "name": "python3"
  },
  "language_info": {
   "codemirror_mode": {
    "name": "ipython",
    "version": 3
   },
   "file_extension": ".py",
   "mimetype": "text/x-python",
   "name": "python",
   "nbconvert_exporter": "python",
   "pygments_lexer": "ipython3",
   "version": "3.6.9"
  }
 },
 "nbformat": 4,
 "nbformat_minor": 4
}
