{
 "cells": [
  {
   "cell_type": "markdown",
   "metadata": {},
   "source": [
    "<center><font size = \"10\"> Week 4 - Cable Theory <center>\n",
    "<center><font size = \"8\">Tutorial 02: Active Properties<center>"
   ]
  },
  {
   "cell_type": "markdown",
   "metadata": {},
   "source": [
    "<font size=\"3\"><font color=\"blue\">In this tutorial you will se how the voltage signal propagates along simple mophologies with active membrane properties."
   ]
  },
  {
   "cell_type": "markdown",
   "metadata": {},
   "source": [
    "# 1. Adding active properties to a soma"
   ]
  },
  {
   "cell_type": "markdown",
   "metadata": {},
   "source": [
    "## 1.1 Biological modeling: mechanisms\n",
    "<font size='3'>Mechanisms represent ion channels, buffers, synapses dynamics in NEURON. They are not point processes but \"distributed mechanisms\" and they are present on the entire surface of a section. Mechanisms parameters can change within compartments.\n",
    "\n",
    "<font size='3'>NEURON has some built-in mechanisms, for example a passive leak current *pas* and sodium and potassium currents to generate action potentials *hh* (from the squid axon, measured by Hodgkin and Huxley!)"
   ]
  },
  {
   "cell_type": "code",
   "execution_count": null,
   "metadata": {},
   "outputs": [],
   "source": [
    "import matplotlib.pyplot as plt\n",
    "%matplotlib inline\n",
    "\n",
    "# Import NEURON as a Python module, together with the hoc language and the gui\n",
    "from neuron import h #,gui\n",
    "\n",
    "# Insert passive and active mechanisms\n",
    "hhsoma = h.Section()\n",
    "hhsoma.L = 20\n",
    "hhsoma.diam = 20\n",
    "hhsoma.nseg = 1\n",
    "\n",
    "# Passive\n",
    "hhsoma.insert('pas')\n",
    "for seg in hhsoma:\n",
    "    seg.pas.g = 0.003 # Conductance of the leak channels (in S/cm2)\n",
    "    seg.pas.e = -60   # Leak reversal potential, it influences the steady state membrane potential\n",
    "# Active    \n",
    "hhsoma.insert('hh')\n",
    "for seg in hhsoma:\n",
    "    seg.hh.gkbar = 0.008  # Maximal conductance of the potassium channels\n",
    "    seg.hh.gnabar = 0.12  # Maximal conductance of the sodium channels"
   ]
  },
  {
   "cell_type": "code",
   "execution_count": null,
   "metadata": {},
   "outputs": [],
   "source": [
    "stim = h.IClamp(hhsoma(0.5))\n",
    "stim.delay = 1\n",
    "stim.dur = 1\n",
    "stim.amp = 1\n",
    "\n",
    "time = h.Vector()\n",
    "voltage = h.Vector()\n",
    "time.record(h._ref_t)\n",
    "voltage.record(hhsoma(0.5)._ref_v)\n",
    "\n",
    "h.tstop = 25\n",
    "h.finitialize()\n",
    "h.init()\n",
    "h.run()\n",
    "\n",
    "plt.plot(time,voltage, 'k')\n"
   ]
  },
  {
   "cell_type": "markdown",
   "metadata": {},
   "source": [
    "# 2. Dendritic signal summation\n",
    "<font size='3'>In this case we are going to use the cell that we have just created on tutorial 01.\n",
    "    \n",
    "<font color='red'><font size='5'>RESTART YOUR KERNEL"
   ]
  },
  {
   "cell_type": "code",
   "execution_count": null,
   "metadata": {},
   "outputs": [],
   "source": [
    "%matplotlib inline\n",
    "\n",
    "from neuron import h\n",
    "import matplotlib.pyplot as plt\n",
    "import numpy as np\n",
    "import math as m\n",
    "import neurom as nm\n",
    "from neurom import viewer\n",
    "from hoc2swc import neuron2swc"
   ]
  },
  {
   "cell_type": "code",
   "execution_count": null,
   "metadata": {},
   "outputs": [],
   "source": [
    "# Global containers for objects\n",
    "stimdictlst = [] # stimulations\n",
    "vdictlst = []    # voltage recordings\n",
    "idictlst = []    # current recordings\n",
    "\n",
    "# Convenience functions for setting up stimulation, recording and simulation\n",
    "\n",
    "def reset():\n",
    "    del stimdictlst[:]\n",
    "    del vdictlst[:]\n",
    "    del idictlst[:]\n",
    "\n",
    "# Inject a current step with parameters at location\n",
    "def iclamp(location, delay = 100, amplitude = 0.1, duration = 500):\n",
    "    stim = h.IClamp(location) # Place a stimulation electrode at location\n",
    "    stim.delay = delay   # stim delay (ms)\n",
    "    stim.amp = amplitude # stim amplitude (pA)\n",
    "    stim.dur = duration  # stim duration (ms)\n",
    "    stimdictlst.append({ 'stim': stim, 'loc': str(location) })\n",
    "\n",
    "# Initialize and run a simulation\n",
    "def initrun(v_i,t_stop):\n",
    "    # Record time\n",
    "    rec_t = h.Vector()\n",
    "    rec_t.record(h._ref_t)\n",
    "    # Record current for all stimuli\n",
    "    for stimdict in stimdictlst:\n",
    "        irecord(stimdict)\n",
    "    # Setup simulation and run\n",
    "    h.load_file('stdrun.hoc')\n",
    "    h.finitialize(v_i) # initial voltage\n",
    "    h.continuerun(t_stop) # final time\n",
    "    return rec_t\n",
    "\n",
    "# Plot current and voltage for all stims and recordings\n",
    "def tvi_plots(t, vdictlst = [], idictlst = [], vmax = 40, imax = 0.5):\n",
    "    plt.figure()\n",
    "    plt.title('currents')\n",
    "    plt.ylim((-0.01,imax))\n",
    "    plt.xlabel('t (ms)')\n",
    "    plt.ylabel('I (pA)')\n",
    "    for idict in idictlst:\n",
    "        plt.plot(t,idict['vec'],label=idict['loc'])\n",
    "    plt.legend(loc=1)\n",
    "    \n",
    "    plt.figure()\n",
    "    plt.title('voltages')\n",
    "    plt.ylim((-71,vmax))\n",
    "    plt.ylabel('V (mV)')\n",
    "    plt.xlabel('t (ms)')\n",
    "    for vdict in vdictlst:\n",
    "        plt.plot(t,vdict['vec'],label=vdict['loc'])\n",
    "    plt.legend(loc=1)\n",
    "\n",
    "# Setup recording of voltage at location\n",
    "def vrecord(location):\n",
    "    vec = h.Vector()\n",
    "    vec.record(location._ref_v) # record voltage at location\n",
    "    vdictlst.append({ 'vec': vec, 'loc': str(location) })\n",
    "\n",
    "# Setup recording of stimulation current\n",
    "def irecord(stimdict):\n",
    "    vec = h.Vector()\n",
    "    vec.record(stimdict['stim']._ref_i) # record stimulation current\n",
    "    idictlst.append({ 'vec': vec, 'loc': stimdict['loc'] })\n",
    "    \n",
    "# Plot morphology\n",
    "def plot_morpho(fname = 'cell_01'):\n",
    "    fname = '{}.swc'.format(fname)\n",
    "    h.define_shape()\n",
    "    h.topology()\n",
    "    neuron2swc(fname, swap_yz=False)\n",
    "    neuron1 = nm.load_neuron(fname)\n",
    "    viewer.draw(neuron1)"
   ]
  },
  {
   "cell_type": "markdown",
   "metadata": {},
   "source": [
    "## 2.1 Add active properties at the soma"
   ]
  },
  {
   "cell_type": "code",
   "execution_count": null,
   "metadata": {},
   "outputs": [],
   "source": [
    "# SOMA\n",
    "# Create soma\n",
    "soma = h.Section(name='soma')\n",
    "soma.L = 20       # length (µm)\n",
    "soma.diam = 20    # diameter (µm)\n",
    "soma.Ra = 123.0   # axial resistivity (Ω*cm)\n",
    "soma.cm = 1       # capacitance (µF/cm^2) \n",
    "\n",
    "# Insert passive properties\n",
    "soma.insert('pas')\n",
    "for seg in soma:\n",
    "    seg.pas.g = 0.0003 # Conductance of the leak channels (in S/cm2)\n",
    "    seg.pas.e = -70    # Leak reversal potential, it influences the steady state membrane potential\n",
    "    \n",
    "# Insert active properties    \n",
    "soma.insert('hh')\n",
    "for seg in soma:\n",
    "    seg.hh.gkbar = 0.1   # Maximal conductance of the potassium channels\n",
    "    seg.hh.gnabar = 0.4  # Maximal conductance of the sodium channels\n",
    "\n",
    "# AXON\n",
    "axon = h.Section(name='axon')\n",
    "\n",
    "# Axon section (blue in plot)\n",
    "axon.diam = 3\n",
    "axon.L = 100      # length (µm)\n",
    "axon.nseg = 5     # diameter (µm)\n",
    "axon.Ra = 123.0   # axial resistivity (Ω*cm)\n",
    "axon.cm = 1       # capacitance (µF/cm^2) \n",
    "\n",
    "# Topology\n",
    "axon.connect(soma(0))\n",
    "\n",
    "axon.insert('pas')\n",
    "for seg in axon:\n",
    "    seg.pas.g = 0.0003 # Conductance of the leak channels (in S/cm2)\n",
    "    seg.pas.e = -70    # Leak reversal potential, it influences the steady state membrane potential\n",
    "\n",
    "# DENDRITE    \n",
    "dend = h.Section(name='dend')\n",
    "\n",
    "# Dendrite section (red in plot)\n",
    "dend.L = 200       # length (µm)\n",
    "dend.diam = 1     # diameter (µm)\n",
    "dend.nseg = 5     # number of segments\n",
    "dend.Ra = 123.0   # axial resistivity (Ω*cm)\n",
    "dend.cm = 1       # capacitance (µF/cm^2) \n",
    "\n",
    "# Topology\n",
    "dend.connect(soma(1))\n",
    "\n",
    "# Passive properties in dendrite and axon\n",
    "dend.insert('pas')\n",
    "for seg in dend:\n",
    "    seg.pas.g = 0.0003 # Conductance of the leak channels (in S/cm2)\n",
    "    seg.pas.e = -70    # Leak reversal potential, it influences the steady state membrane potential\n",
    "\n",
    "    \n",
    "# DENDRITIC BRANCHES\n",
    "branch_0 = h.Section(name='branch_0')\n",
    "branch_1 = h.Section(name='branch_1')\n",
    "branch_2 = h.Section(name='branch_2')\n",
    "branch_3 = h.Section(name='branch_3')\n",
    "\n",
    "branchlst = [branch_0, branch_1, branch_2, branch_3]\n",
    "\n",
    "# Branch geometry\n",
    "# Long and thick\n",
    "branch_0.L = 300\n",
    "branch_0.diam = 10\n",
    "# Short and thin\n",
    "branch_1.L = 100\n",
    "branch_1.diam = 8\n",
    "# Short and thick\n",
    "branch_2.L = 100\n",
    "branch_2.diam = 3\n",
    "# Long and thin\n",
    "branch_3.L = 200\n",
    "branch_3.diam = 1\n",
    "\n",
    "# Connect them\n",
    "branch_0.connect(dend(1))\n",
    "branch_1.connect(dend(1))\n",
    "branch_2.connect(dend(1))\n",
    "branch_3.connect(dend(1))\n",
    "\n",
    "# Passive properties in dendrite branches\n",
    "for branch in branchlst:\n",
    "    branch.Ra = 130.0   # axial resistivity (Ω*cm)\n",
    "    branch.cm = 1       # capacitance (µF/cm^2) \n",
    "    branch.insert('pas')\n",
    "    for seg in branch:\n",
    "        seg.pas.g = 0.0003 # Conductance of the leak channels (in S/cm2)\n",
    "        seg.pas.e = -70    # Leak reversal potential, it influences the steady state membrane potential\n",
    "\n",
    "plot_morpho('cell_03')"
   ]
  },
  {
   "cell_type": "markdown",
   "metadata": {},
   "source": [
    "<font size=\"3\">With coincident inputs to all dendritic branches, we're able to trigger an AP at the soma, which we can then observe in the dendrite trunk."
   ]
  },
  {
   "cell_type": "code",
   "execution_count": null,
   "metadata": {},
   "outputs": [],
   "source": [
    "reset()\n",
    "\n",
    "# Setup stimulations and recordings\n",
    "for branch in branchlst:\n",
    "    iclamp(branch(0.5), amplitude = 0.5, delay = 100, duration = 50)\n",
    "    #vrecord(branch(1))\n",
    "vrecord(soma(0.5))\n",
    "vrecord(dend(0.5))\n",
    "\n",
    "# Simulate and plot\n",
    "v_init = -70\n",
    "t_stop = 700\n",
    "tvi_plots(initrun(v_init,t_stop),vdictlst,idictlst)"
   ]
  },
  {
   "cell_type": "markdown",
   "metadata": {},
   "source": [
    "## 2.2 Add active properties at the dendrites"
   ]
  },
  {
   "cell_type": "code",
   "execution_count": null,
   "metadata": {},
   "outputs": [],
   "source": [
    "dend.insert('hh')\n",
    "for seg in dend:\n",
    "    seg.hh.gkbar = 0.1   # Maximal conductance of the potassium channels\n",
    "    seg.hh.gnabar = 0.4  # Maximal conductance of the sodium channels\n"
   ]
  },
  {
   "cell_type": "markdown",
   "metadata": {},
   "source": [
    "<font size=\"3\">We observe that the dendritic response to the AP is increased due to the presence of active channels."
   ]
  },
  {
   "cell_type": "code",
   "execution_count": null,
   "metadata": {},
   "outputs": [],
   "source": [
    "reset()\n",
    "\n",
    "# Setup stimulations and recordings\n",
    "for branch in branchlst:\n",
    "    iclamp(branch(1), amplitude = 0.5, delay = 100, duration = 50)\n",
    "    #vrecord(branch(0.5))\n",
    "vrecord(soma(0.5))\n",
    "vrecord(dend(0.5))\n",
    "\n",
    "# Simulate and plot\n",
    "v_init = -70\n",
    "t_stop = 700\n",
    "tvi_plots(initrun(v_init,t_stop),vdictlst,idictlst)"
   ]
  }
 ],
 "metadata": {
  "kernelspec": {
   "display_name": "Python 3",
   "language": "python",
   "name": "python3"
  },
  "language_info": {
   "codemirror_mode": {
    "name": "ipython",
    "version": 3
   },
   "file_extension": ".py",
   "mimetype": "text/x-python",
   "name": "python",
   "nbconvert_exporter": "python",
   "pygments_lexer": "ipython3",
   "version": "3.7.4"
  }
 },
 "nbformat": 4,
 "nbformat_minor": 4
}
