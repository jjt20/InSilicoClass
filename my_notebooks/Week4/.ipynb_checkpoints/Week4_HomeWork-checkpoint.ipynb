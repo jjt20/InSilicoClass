{
 "cells": [
  {
   "cell_type": "markdown",
   "metadata": {},
   "source": [
    "<center><font size = \"10\"> Week 4 - Cable Theory <center>\n",
    "<center><font size = \"8\">Home work<center>"
   ]
  },
  {
   "cell_type": "markdown",
   "metadata": {},
   "source": [
    "<font size = \"3\">Please, write your group number and the names and surnames of the group members here\n",
    "<br>Group number: 7\n",
    "<br>Group member1: Joseph Tharayil\n",
    "<br>Group member2: Kiyarash Farivar\n",
    "<br>Group member3: Diogo Ramalho"
   ]
  },
  {
   "cell_type": "code",
   "execution_count": 26,
   "metadata": {},
   "outputs": [],
   "source": [
    "%matplotlib inline"
   ]
  },
  {
   "cell_type": "markdown",
   "metadata": {},
   "source": [
    "# Ex1: Voltage variation in space\n",
    "\n",
    "<font size=\"3\">Create a simple morphology with only one section called soma, as it is done in tutorial 01 of this week 4, point 1. Perform a curret clamp experiment in which the stimulation has the following parameters: delay 1 ms, amplitud 1 pA and duration 10 ms. Then do the following:\n",
    "    \n",
    "<font size=\"3\">- increase and decrease the number of segments per section.\n",
    "    \n",
    "<font size=\"3\">- plot the voltage distribution at t = 2.975 ms (remember that we record the time every 0.025 ms)\n",
    "    \n",
    "<font size=\"3\">- change the stimulation point to the begining and to the end of the soma section.\n",
    "     \n",
    "\n",
    "<font size=\"3\">Plot the result for each of the previous points and explain what is happening in each situation. In this exercise is important to keep the previous values each time you change some parameter.\n",
    "If not, you won’t be able to compare them. [0.75 pts]"
   ]
  },
  {
   "cell_type": "code",
   "execution_count": null,
   "metadata": {},
   "outputs": [],
   "source": []
  },
  {
   "cell_type": "markdown",
   "metadata": {},
   "source": [
    "# Ex 2. Action Potential Back Propagation. \n",
    "\n",
    "<font size='3'>Create a neuron with a soma and a dendrite with three branches, each of the branches with different diameters but with the same length. Add passive properties to every section and add active properties (hh) to the soma and to the dendrite, but not to the branches. You can use the parameters from tutorial 03. Perform a current clamp experiment in which the soma is stimulated at the center and the branches are recorded at the end. Choose the best stimulation parameters to see the signal attenuation in the branches.\n",
    "    \n",
    "<font size='3'>Explain with your own words:\n",
    "    \n",
    "<font size='3'>- What are passive and active membrane properties?\n",
    "    \n",
    "<font size='3'>- What is going on with the voltage signal propagation from the soma to each of the branches? \n",
    "    \n",
    "<font size='3'>- What happens if the active properties of the dendrite are removed? [1.25 pts]"
   ]
  },
  {
   "cell_type": "code",
   "execution_count": null,
   "metadata": {},
   "outputs": [],
   "source": [
    "from neuron import h"
   ]
  },
  {
   "cell_type": "code",
   "execution_count": 86,
   "metadata": {},
   "outputs": [],
   "source": [
    "soma = h.Section()\n",
    "soma.Ra = 123.0   # axial resistivity (Ω*cm)\n",
    "soma.cm = 1       # capacitance (µF/cm^2) \n",
    "\n",
    "soma.L = 10\n",
    "soma.diam = 10\n",
    "soma.cm = 1\n",
    "\n",
    "dend = h.Section(name='dend')\n",
    "dend.Ra = 123.0   # axial resistivity (Ω*cm)\n",
    "dend.cm = 1       # capacitance (µF/cm^2) \n",
    "\n",
    "dend.L = 200       # length (µm)\n",
    "dend.diam = 10     # diameter (µm)\n",
    "\n",
    "dend.connect(soma(0))\n",
    "\n",
    "branch_0 = h.Section(name='branch_0')\n",
    "branch_0.Ra = 123.0   # axial resistivity (Ω*cm)\n",
    "branch_0.cm = 1       # capacitance (µF/cm^2) \n",
    "\n",
    "branch_1 = h.Section(name='branch_1')\n",
    "branch_1.Ra = 123.0   # axial resistivity (Ω*cm)\n",
    "branch_1.cm = 1       # capacitance (µF/cm^2) \n",
    "\n",
    "branch_2 = h.Section(name='branch_2')\n",
    "branch_2.Ra = 123.0   # axial resistivity (Ω*cm)\n",
    "branch_2.cm = 1       # capacitance (µF/cm^2) \n",
    "\n",
    "branchlst = [branch_0,branch_1,branch_2]\n",
    "\n",
    "# Branch geometry\n",
    "branch_0.L = 300\n",
    "branch_0.diam = 10\n",
    "\n",
    "branch_1.L = 300\n",
    "branch_1.diam = 8\n",
    "\n",
    "branch_2.L = 300\n",
    "branch_2.diam = 3\n",
    "\n",
    "\n",
    "# Connect them\n",
    "branch_0.connect(dend(1))\n",
    "branch_1.connect(dend(1))\n",
    "branch_2.connect(dend(1))\n",
    "\n",
    "for sec in h.allsec():\n",
    "    sec.insert('pas')\n",
    "    sec.nseg = 1\n",
    "    for seg in sec:\n",
    "        seg.pas.g = 0.0003 # Conductance of the leak channels (in S/cm2)\n",
    "        seg.pas.e = -70\n",
    "        \n",
    "soma.insert('hh')\n",
    "for seg in soma:\n",
    "        seg.hh.gkbar = 0.1   # Maximal conductance of the potassium channels\n",
    "        seg.hh.gnabar = 0.4  # Maximal conductance of the sodium channels\n",
    "        \n",
    "dend.insert('hh')\n",
    "for seg in dend:\n",
    "        seg.hh.gkbar = 0.1   # Maximal conductance of the potassium channels\n",
    "        seg.hh.gnabar = 0.4  # Maximal conductance of the sodium channels"
   ]
  },
  {
   "cell_type": "code",
   "execution_count": 88,
   "metadata": {},
   "outputs": [],
   "source": [
    "stim = h.IClamp(soma(0.5))\n",
    "stim.delay = 10\n",
    "stim.dur = 10\n",
    "stim.amp = 1"
   ]
  },
  {
   "cell_type": "code",
   "execution_count": 91,
   "metadata": {},
   "outputs": [
    {
     "data": {
      "text/plain": [
       "Vector[5876]"
      ]
     },
     "execution_count": 91,
     "metadata": {},
     "output_type": "execute_result"
    }
   ],
   "source": [
    "v0 = h.Vector()\n",
    "v0.record(branch_0(1)._ref_v)\n",
    "\n",
    "v1 = h.Vector()\n",
    "v1.record(branch_1(1)._ref_v)\n",
    "\n",
    "v2 = h.Vector()\n",
    "v2.record(branch_2(1)._ref_v)\n",
    "\n",
    "rec_t = h.Vector()\n",
    "rec_t.record(h._ref_t)"
   ]
  },
  {
   "cell_type": "code",
   "execution_count": 93,
   "metadata": {},
   "outputs": [
    {
     "data": {
      "text/plain": [
       "0.0"
      ]
     },
     "execution_count": 93,
     "metadata": {},
     "output_type": "execute_result"
    }
   ],
   "source": [
    "h.load_file('stdrun.hoc')\n",
    "h.finitialize(-70) # initial voltage\n",
    "h.continuerun(200) # final time"
   ]
  },
  {
   "cell_type": "code",
   "execution_count": 94,
   "metadata": {},
   "outputs": [
    {
     "data": {
      "image/png": "[encoded data removed]",
      "text/plain": [
       "<Figure size 432x288 with 1 Axes>"
      ]
     },
     "metadata": {
      "needs_background": "light"
     },
     "output_type": "display_data"
    }
   ],
   "source": [
    "plt.figure()\n",
    "plt.plot(rec_t,v0)\n",
    "plt.plot(rec_t,v1)\n",
    "plt.plot(rec_t,v2)\n",
    "plt.show()"
   ]
  },
  {
   "cell_type": "markdown",
   "metadata": {},
   "source": [
    "# Ex 3. Dendritic input signal sumation in the soma\n",
    "\n",
    "<font size=\"3\">Load the morphology file for your group, and instantiate it as it is done in tutorial 03. Perform a current clamp experiment that stimulates all the dendrites (basal and apical) at their midpoints. Play around with the different stimulation parameters: delay, amplitude and duration.\n",
    "\n",
    "<font size=\"3\">Plot some results that would help you explain: what is dendritic signal integration? And, in your opinion, what is the importance of this in biology? [2.5]\n",
    "\n",
    "<font size=\"3\"> __Hint:__ use the information on the articles that you can find in the home work folder in the moodle for this week 4."
   ]
  },
  {
   "cell_type": "code",
   "execution_count": 3,
   "metadata": {},
   "outputs": [],
   "source": [
    "%matplotlib inline\n",
    "\n",
    "from neuron import h\n",
    "import matplotlib.pyplot as plt\n",
    "import numpy as np\n",
    "import math as m\n",
    "import neurom as nm\n",
    "from neurom import viewer\n",
    "from hoc2swc import neuron2swc"
   ]
  },
  {
   "cell_type": "code",
   "execution_count": 4,
   "metadata": {},
   "outputs": [
    {
     "name": "stdout",
     "output_type": "stream",
     "text": [
      "/home/my_notebooks/Week4\n"
     ]
    }
   ],
   "source": [
    "!pwd"
   ]
  },
  {
   "cell_type": "code",
   "execution_count": 5,
   "metadata": {},
   "outputs": [],
   "source": [
    "class NEURON:\n",
    "    def __init__(self):\n",
    "        self.build_morphology()\n",
    "        self.define_biophysics()\n",
    "        \n",
    "    def build_morphology(self):\n",
    "        \"\"\"\n",
    "        Loads a 3D morphology of the neuron\n",
    "        \"\"\"\n",
    "        # Load hoc routines to import 3D morphologies\n",
    "        h.load_file('stdlib.hoc')\n",
    "        h.load_file(\"import3d.hoc\")\n",
    "        #cell = h.Import3d_SWC_read() # We have a .swc morphology file\n",
    "        cell = h.Import3d_Neurolucida3()\n",
    "\n",
    "        # Read the file and creates automatically section.connect(parent) statements\n",
    "        cell.input('HomeWork/Group7_morphology.asc')\n",
    "\n",
    "        # Instantiate morphology for simulation and\n",
    "        # execute the connect statements and loads the cell into h scope\n",
    "        self.importedcell = h.Import3d_GUI(cell,0)\n",
    "        self.importedcell.instantiate(None) \n",
    "\n",
    "        # Create python lists from the morphology with the different sections: soma, dend, apic and axon\n",
    "        self.somatic = []\n",
    "        self.dendritic = []\n",
    "        self.apical = []\n",
    "        self.axonal = []\n",
    "        self.all = []\n",
    "        for sec in h.allsec():\n",
    "            if 'soma' in sec.name():\n",
    "                self.somatic.append(sec)\n",
    "            if 'dend' in sec.name():\n",
    "                self.dendritic.append(sec)\n",
    "            if 'apic' in sec.name():\n",
    "                self.apical.append(sec)\n",
    "            if 'axon' in sec.name():\n",
    "                self.axonal.append(sec)\n",
    "    \n",
    "    def define_biophysics(self):\n",
    "        \"\"\"\n",
    "        Distributes passive mechanisms and hh active prop on the soma and dendrites\n",
    "        \"\"\"   \n",
    "        # Define passive properties for all sections\n",
    "        for sec in h.allsec():\n",
    "            sec.insert('pas')\n",
    "            sec.nseg = 1\n",
    "            for seg in sec:\n",
    "                seg.pas.g = 0.0003 # Conductance of the leak channels (in S/cm2)\n",
    "                seg.pas.e = -70\n",
    "        \n",
    "        # Define active properties for soma, dendrite, apical dendrite and axon\n",
    "        for sec in self.somatic:\n",
    "            # insert hh\n",
    "            sec.insert('hh')\n",
    "            sec.Ra = 1\n",
    "            sec.nseg = 1\n",
    "            for seg in sec:\n",
    "                seg.hh.gkbar = 0.1   # Maximal conductance of the potassium channels\n",
    "                seg.hh.gnabar = 0.4  # Maximal conductance of the sodium channels\n",
    "        \n",
    "        for sec in self.dendritic:\n",
    "            # insert hh\n",
    "            sec.insert('hh')\n",
    "            sec.Ra = 300\n",
    "            sec.nseg = 1\n",
    "            for seg in sec:\n",
    "                seg.hh.gkbar = 0.1   # Maximal conductance of the potassium channels\n",
    "                seg.hh.gnabar = 0.4  # Maximal conductance of the sodium channels\n",
    "        \n",
    "        for sec in self.apical:\n",
    "            # insert hh\n",
    "            sec.insert('hh')\n",
    "            sec.Ra = 400\n",
    "            sec.nseg = 1\n",
    "            for seg in sec:\n",
    "                seg.hh.gkbar = 0.1   # Maximal conductance of the potassium channels\n",
    "                seg.hh.gnabar = 0.4  # Maximal conductance of the sodium channels\n",
    "        \n",
    "        for sec in self.axonal:\n",
    "            # insert hh\n",
    "            sec.insert('hh')\n",
    "            sec.Ra = 100\n",
    "            sec.nseg = 1\n",
    "            for seg in sec:\n",
    "                seg.hh.gkbar = 0.1   # Maximal conductance of the potassium channels\n",
    "                seg.hh.gnabar = 0.4  # Maximal conductance of the sodium channels"
   ]
  },
  {
   "cell_type": "code",
   "execution_count": 6,
   "metadata": {},
   "outputs": [
    {
     "name": "stdout",
     "output_type": "stream",
     "text": [
      "\n",
      "19847 lines read\n"
     ]
    }
   ],
   "source": [
    "Cell = NEURON()"
   ]
  },
  {
   "cell_type": "code",
   "execution_count": 16,
   "metadata": {},
   "outputs": [],
   "source": [
    "# Global containers for objects\n",
    "stimdictlst = [] # stimulations\n",
    "vdictlst = []    # voltage recordings\n",
    "idictlst = []    # current recordings\n",
    "\n",
    "# Convenience functions for setting up stimulation, recording and simulation\n",
    "\n",
    "def reset():\n",
    "    del stimdictlst[:]\n",
    "    del vdictlst[:]\n",
    "    del idictlst[:]\n",
    "\n",
    "# Inject a current step with parameters at location\n",
    "def iclamp(location, delay = 100, amplitude = 0.1, duration = 500):\n",
    "    stim = h.IClamp(location) # Place a stimulation electrode at location\n",
    "    stim.delay = delay   # stim delay (ms)\n",
    "    stim.amp = amplitude # stim amplitude (pA)\n",
    "    stim.dur = duration  # stim duration (ms)\n",
    "    stimdictlst.append({ 'stim': stim, 'loc': str(location) })\n",
    "\n",
    "# Initialize and run a simulation\n",
    "def initrun(v_i,t_stop):\n",
    "    # Record time\n",
    "    rec_t = h.Vector()\n",
    "    rec_t.record(h._ref_t)\n",
    "    # Record current for all stimuli\n",
    "    for stimdict in stimdictlst:\n",
    "        irecord(stimdict)\n",
    "    # Setup simulation and run\n",
    "    h.load_file('stdrun.hoc')\n",
    "    h.finitialize(v_i) # initial voltage\n",
    "    h.continuerun(t_stop) # final time\n",
    "    return rec_t\n",
    "\n",
    "# Plot current and voltage for all stims and recordings\n",
    "def tvi_plots(t, vdictlst = [], idictlst = [], vmax = 40, imax = 0.5):\n",
    "    plt.figure()\n",
    "    plt.title('currents')\n",
    "    #plt.ylim((-0.01,imax))\n",
    "    plt.xlabel('t (ms)')\n",
    "    plt.ylabel('I (pA)')\n",
    "    for idict in idictlst:\n",
    "        plt.plot(t,idict['vec'],label=idict['loc'])\n",
    "    #plt.legend(loc=1)\n",
    "    \n",
    "    plt.figure()\n",
    "    plt.title('voltages')\n",
    "    #plt.ylim((-71,vmax))\n",
    "    plt.ylabel('V (mV)')\n",
    "    plt.xlabel('t (ms)')\n",
    "    #plt.xlim(50, 150)\n",
    "    for vdict in vdictlst:\n",
    "        plt.plot(t,vdict['vec'],label=vdict['loc'])\n",
    "    #plt.legend(loc=1)\n",
    "\n",
    "# Setup recording of voltage at location\n",
    "def vrecord(location):\n",
    "    vec = h.Vector()\n",
    "    vec.record(location._ref_v) # record voltage at location\n",
    "    vdictlst.append({ 'vec': vec, 'loc': str(location) })\n",
    "\n",
    "# Setup recording of stimulation current\n",
    "def irecord(stimdict):\n",
    "    vec = h.Vector()\n",
    "    vec.record(stimdict['stim']._ref_i) # record stimulation current\n",
    "    idictlst.append({ 'vec': vec, 'loc': stimdict['loc'] })\n",
    "    \n",
    "# Plot morphology\n",
    "def plot_morpho(fname = 'cell_01'):\n",
    "    fname = '{}.swc'.format(fname)\n",
    "    h.define_shape()\n",
    "    h.topology()\n",
    "    neuron2swc(fname, swap_yz=False)\n",
    "    neuron1 = nm.load_neuron(fname)\n",
    "    viewer.draw(neuron1)"
   ]
  },
  {
   "cell_type": "code",
   "execution_count": 82,
   "metadata": {},
   "outputs": [
    {
     "data": {
      "image/png": "[encoded data removed]",
      "text/plain": [
       "<Figure size 432x288 with 1 Axes>"
      ]
     },
     "metadata": {
      "needs_background": "light"
     },
     "output_type": "display_data"
    },
    {
     "data": {
      "image/png": "[encoded data removed]",
      "text/plain": [
       "<Figure size 432x288 with 1 Axes>"
      ]
     },
     "metadata": {
      "needs_background": "light"
     },
     "output_type": "display_data"
    }
   ],
   "source": [
    "reset()\n",
    "\n",
    "dendrite_list = Cell.dendritic + Cell.apical\n",
    "\n",
    "# Setup stimulations and recordings\n",
    "for idx,dendrites in enumerate(Cell.dendritic[104:106]):\n",
    "    iclamp(dendrites(0.5), amplitude = 0.01*4.5, delay = 100 + idx * 20, duration = 10)\n",
    "vrecord(Cell.somatic[0](0.5))\n",
    "\n",
    "# Simulate and plot\n",
    "v_init = -70\n",
    "t_stop = 700\n",
    "tvi_plots(initrun(v_init,t_stop),vdictlst,idictlst,vmax = -65)"
   ]
  },
  {
   "cell_type": "code",
   "execution_count": 83,
   "metadata": {},
   "outputs": [
    {
     "data": {
      "image/png": "[encoded data removed]",
      "text/plain": [
       "<Figure size 432x288 with 1 Axes>"
      ]
     },
     "metadata": {
      "needs_background": "light"
     },
     "output_type": "display_data"
    },
    {
     "data": {
      "image/png": "[encoded data removed]",
      "text/plain": [
       "<Figure size 432x288 with 1 Axes>"
      ]
     },
     "metadata": {
      "needs_background": "light"
     },
     "output_type": "display_data"
    }
   ],
   "source": [
    "reset()\n",
    "\n",
    "dendrite_list = Cell.dendritic + Cell.apical\n",
    "\n",
    "# Setup stimulations and recordings\n",
    "for idx,dendrites in enumerate(Cell.dendritic[104:106]):\n",
    "    iclamp(dendrites(0.5), amplitude = 0.01*4.5, delay = 100 + idx * 5, duration = 10)\n",
    "vrecord(Cell.somatic[0](0.5))\n",
    "\n",
    "# Simulate and plot\n",
    "v_init = -70\n",
    "t_stop = 700\n",
    "tvi_plots(initrun(v_init,t_stop),vdictlst,idictlst,vmax = -65)"
   ]
  },
  {
   "cell_type": "code",
   "execution_count": 84,
   "metadata": {},
   "outputs": [
    {
     "data": {
      "image/png": "[encoded data removed]",
      "text/plain": [
       "<Figure size 432x288 with 1 Axes>"
      ]
     },
     "metadata": {
      "needs_background": "light"
     },
     "output_type": "display_data"
    },
    {
     "data": {
      "image/png": "[encoded data removed]",
      "text/plain": [
       "<Figure size 432x288 with 1 Axes>"
      ]
     },
     "metadata": {
      "needs_background": "light"
     },
     "output_type": "display_data"
    }
   ],
   "source": [
    "reset()\n",
    "\n",
    "dendrite_list = Cell.dendritic + Cell.apical\n",
    "\n",
    "# Setup stimulations and recordings\n",
    "for idx,dendrites in enumerate([Cell.dendritic[104],Cell.apical[0]]):\n",
    "    iclamp(dendrites(0.5), amplitude = 0.01*4.5, delay = 100 + idx * 5, duration = 10)\n",
    "vrecord(Cell.somatic[0](0.5))\n",
    "\n",
    "# Simulate and plot\n",
    "v_init = -70\n",
    "t_stop = 700\n",
    "tvi_plots(initrun(v_init,t_stop),vdictlst,idictlst,vmax = -65)"
   ]
  },
  {
   "cell_type": "markdown",
   "metadata": {},
   "source": [
    "Dendritic signal integration is the spatiotemporal combination of afferent signals on different dendrites, whcih influences neuronal behavior. \n",
    "\n",
    "Here we observe that for the two selected basal dendrites, non-overlapping signals will not produce an action potential, whereas overlapping signals will. This allows the neuron to be sensitive to temporal information encoded in delays between inputs from different sources.\n",
    "\n",
    "Similarly, if we choose a different pair of neurites, an action potential will not be generated even with overlapping inputs. This indicates that the neuron is also sensitive to spatial information."
   ]
  },
  {
   "cell_type": "markdown",
   "metadata": {},
   "source": [
    "# Ex 4. Signal attenuation: dendrites vs axon\n",
    "\n",
    "<font size=\"3\">Load the morphology file for your group, and instantiate it as it is done in tutorial 03. Perform a current clamp experiment in which the soma is stimulated in the middle (find the stimulation parameters that support your explanation better). Record the back propagating signals of the dendrites and the forward signal in the axon.\n",
    "\n",
    "<font size=\"3\">What would you expect in terms of attenuation? Would you expect the signal to be more attenuated in the axon or in the dendrites? Why? [1.5 pts]"
   ]
  },
  {
   "cell_type": "code",
   "execution_count": null,
   "metadata": {},
   "outputs": [],
   "source": []
  }
 ],
 "metadata": {
  "kernelspec": {
   "display_name": "Python 3",
   "language": "python",
   "name": "python3"
  },
  "language_info": {
   "codemirror_mode": {
    "name": "ipython",
    "version": 3
   },
   "file_extension": ".py",
   "mimetype": "text/x-python",
   "name": "python",
   "nbconvert_exporter": "python",
   "pygments_lexer": "ipython3",
   "version": "3.6.9"
  }
 },
 "nbformat": 4,
 "nbformat_minor": 4
}
