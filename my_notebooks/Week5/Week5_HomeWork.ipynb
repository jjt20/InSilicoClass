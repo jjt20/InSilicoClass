{
 "cells": [
  {
   "cell_type": "markdown",
   "metadata": {},
   "source": [
    "<center><font size = \"10\"> Week 5 - Single Cell Electrophysiology <center>\n",
    "<center><font size = \"8\">Home work<center>"
   ]
  },
  {
   "cell_type": "markdown",
   "metadata": {},
   "source": [
    "# Ex 1. Cell sub- and supra-threshold protocols\n",
    "\n",
    "<font size='3'>Perform subthreshold and suprathreshold stimulations (specifications bellow) on the cells that you have on your group folder (.asc files). For the passive cell properties use the parameters from tutorial 01. For the active cell parameters use the MOD files used in tutorial 01. Don't include any biophysics on the cell axon.\n",
    "\n",
    "<font size='3'>Why do you think that these type of protocols are usefull when studying cell behavior? [1 pt]\n",
    "\n",
    "#### Stimuli description\n",
    "    \n",
    "* Sub_threshold protocol: stimulation amplitude from -0.05 nA to 0.01 nA, increments of 0.008 nA.     \n",
    "* Supra_threshold protocol: stimulation amplitude from 0.01 nA to 0.5 nA, increments of 0.01 nA. "
   ]
  },
  {
   "cell_type": "code",
   "execution_count": null,
   "metadata": {},
   "outputs": [],
   "source": []
  },
  {
   "cell_type": "markdown",
   "metadata": {},
   "source": [
    "# Ex 2. Analysing real single cell voltage traces from patch-clamp experiments\n",
    "\n",
    "<font size='3'>Find the inter-spike-interval (ISI), firing frequency and after-hiperpolarization depth (AHP-depth) from the recordings that you can find in your folder group (.dat files). Extract the asked features from the stimulation or stimulations protocols that you think you can an extract the features.\n",
    "\n",
    "<font size='3'>You can compute it as you wish, using eFEL, scipy.signal  or creating your own functions. [1.5 pts]\n",
    "\n",
    "#### Traces description\n",
    "\n",
    "* The files are named with: stimuli type (e.g. \"APWaveform\", \"FirePattern\", \"IV\"). \n",
    "* Sweep (repetition) number: (e.g. \"APWaveform_46-51\"), of increasing/decreasing amplitudes.\n",
    "* Note that we have pairs of recordings with the same trace number (e.g. \"exp_APWaveform_ch7_51.dat\" and \"exp_APWaveform_ch6_51.dat\"). One of them contains the current stimulus (in this case \"*ch7*\") and the other the voltage response (in this case \"*ch6*\")."
   ]
  },
  {
   "cell_type": "code",
   "execution_count": null,
   "metadata": {},
   "outputs": [],
   "source": []
  },
  {
   "cell_type": "markdown",
   "metadata": {},
   "source": [
    "# Ex 3. Combine Ex 1 and Ex 2\n",
    "\n",
    "<font size='3'>Extract the firing frequency and the AHP-depth from the experiments that you have performed on exercise 1 on the cells from your group folder. \n",
    "    \n",
    "<font size='3'>Do you see any difference between both cells? If yes, what differences? Would you be able to clasify the cells based on these differences? [1.5 pts]"
   ]
  },
  {
   "cell_type": "code",
   "execution_count": null,
   "metadata": {},
   "outputs": [],
   "source": []
  },
  {
   "cell_type": "markdown",
   "metadata": {},
   "source": [
    "# Ex 4. Genetic Algorith (Optimization)\n",
    "\n",
    "<font size='3'>Change the GA code in such a way that instead of the Spikecount feature, we search for a solution with AP_width of 1.3 for stim_amp = 0.1 nA and AP_width of 1.6 for stim_amp = 0.5 nA.\n",
    "    \n",
    "<font size='3'>As you can see the optimization algoithm explained in the tutorial is too simple and it gives a lot of possible solutions. Explain how you could complete the algorithm, so the number of solutions gets better constrained. [2 pts]"
   ]
  },
  {
   "cell_type": "code",
   "execution_count": null,
   "metadata": {},
   "outputs": [],
   "source": []
  }
 ],
 "metadata": {
  "kernelspec": {
   "display_name": "Python 3",
   "language": "python",
   "name": "python3"
  },
  "language_info": {
   "codemirror_mode": {
    "name": "ipython",
    "version": 3
   },
   "file_extension": ".py",
   "mimetype": "text/x-python",
   "name": "python",
   "nbconvert_exporter": "python",
   "pygments_lexer": "ipython3",
   "version": "3.7.4"
  }
 },
 "nbformat": 4,
 "nbformat_minor": 4
}
