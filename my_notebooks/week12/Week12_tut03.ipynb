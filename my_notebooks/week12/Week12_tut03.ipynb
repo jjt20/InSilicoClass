{
 "cells": [
  {
   "cell_type": "markdown",
   "metadata": {},
   "source": [
    "<center><font size = \"10\"> Week 12 - Network Simulation III<center>\n",
    "<center><font size = \"8\">Tutorial 03: Detailed morphologies <center>"
   ]
  },
  {
   "cell_type": "markdown",
   "metadata": {},
   "source": [
    "<font size='5'><font color='red'>__IMPORTANT!!__ Read the document \"ReadBefore.pdf\" before running this tutorial or any of the week 12 tutorials"
   ]
  },
  {
   "cell_type": "markdown",
   "metadata": {},
   "source": [
    "<font size='3'><font color='blue'>In The following tutorial we will see how to use detailed morphological reconstructed neurons and build a network using __NetPyNe__."
   ]
  },
  {
   "cell_type": "markdown",
   "metadata": {},
   "source": [
    "## Step 1: Import\n",
    "<font size='3'>Import the __sim__ and __specs__ modules from the __netpyne__ package, that provide functions to easily create and simulate networks."
   ]
  },
  {
   "cell_type": "code",
   "execution_count": null,
   "metadata": {},
   "outputs": [],
   "source": [
    "from netpyne import specs, sim\n",
    "\n",
    "%matplotlib inline"
   ]
  },
  {
   "cell_type": "markdown",
   "metadata": {},
   "source": [
    "## Step 2: Define network parameters"
   ]
  },
  {
   "cell_type": "code",
   "execution_count": null,
   "metadata": {},
   "outputs": [],
   "source": [
    "# Network parameters\n",
    "netParams = specs.NetParams()  # object of class NetParams to store the network parameters"
   ]
  },
  {
   "cell_type": "markdown",
   "metadata": {},
   "source": [
    "### 2.1 Define cell populations"
   ]
  },
  {
   "cell_type": "code",
   "execution_count": null,
   "metadata": {},
   "outputs": [],
   "source": [
    "## Population parameters\n",
    "netParams.popParams['E1'] = {'cellType': 'E', 'numCells': 5, 'cellModel': 'HH3D'}\n",
    "netParams.popParams['I1'] = {'cellType': 'I', 'numCells': 5, 'cellModel': 'HH3D'}"
   ]
  },
  {
   "cell_type": "markdown",
   "metadata": {},
   "source": [
    "### 2.2 Define cell morphologies and physiology (as .py or .hoc files)"
   ]
  },
  {
   "cell_type": "code",
   "execution_count": null,
   "metadata": {},
   "outputs": [],
   "source": [
    "cellRule = netParams.importCellParams(label='PYR1_HH3D', conds={'cellType': 'E', 'cellModel': 'HH3D'},\n",
    "        fileName='Pyr01.py', cellName='PYR1', importSynMechs=True)\n",
    "netParams.cellParams['Erule'] = cellRule  \n",
    "\n",
    "cellRule = netParams.importCellParams(label='INH1_HH3D', conds={'cellType': 'I', 'cellModel': 'HH3D'},\n",
    "        fileName='Inh01.py', cellName='INH1', importSynMechs=True)\n",
    "netParams.cellParams['Irule'] = cellRule "
   ]
  },
  {
   "cell_type": "markdown",
   "metadata": {},
   "source": [
    "### 2.3 Define synaptic mechanism"
   ]
  },
  {
   "cell_type": "code",
   "execution_count": null,
   "metadata": {},
   "outputs": [],
   "source": [
    "## Synaptic mechanism parameters\n",
    "netParams.synMechParams['exc'] = {'mod': 'Exp2Syn', 'tau1': 0.8, 'tau2': 5.3, 'e': 0}  # NMDA synaptic mechanism\n",
    "netParams.synMechParams['inh'] = {'mod': 'Exp2Syn', 'tau1': 0.6, 'tau2': 8.5, 'e': -75}  # GABA synaptic mechanism"
   ]
  },
  {
   "cell_type": "markdown",
   "metadata": {},
   "source": [
    "### 2.4 Stimulation"
   ]
  },
  {
   "cell_type": "code",
   "execution_count": null,
   "metadata": {},
   "outputs": [],
   "source": [
    "# Stimulation parameters\n",
    "netParams.stimSourceParams['bkg'] = {'type': 'NetStim', 'rate': 20, 'noise': 0.3}\n",
    "netParams.stimTargetParams['bkg->all'] = {'source': 'bkg', 'conds': {'cellType': ['E','I']}, 'weight': 0.1, 'delay': 'max(1, normal(5,2))', 'synMech': 'exc'}"
   ]
  },
  {
   "cell_type": "markdown",
   "metadata": {},
   "source": [
    "### 2.5 Connectivity"
   ]
  },
  {
   "cell_type": "code",
   "execution_count": null,
   "metadata": {},
   "outputs": [],
   "source": [
    "## Cell connectivity rules\n",
    "netParams.connParams['I->E'] = { #  I1 -> E1 label\n",
    "    'preConds': {'pop': 'I1'},   # conditions of presyn cells\n",
    "    'postConds': {'pop': 'E1'},  # conditions of postsyn cells\n",
    "    'divergence': 12,            # probability of connection\n",
    "    'weight': 0.5,               # synaptic weight\n",
    "    'delay': 5,                  # transmission delay (ms)\n",
    "    'synMech': 'inh'}            # synaptic mechanism   "
   ]
  },
  {
   "cell_type": "markdown",
   "metadata": {},
   "source": [
    "## Step 3: Simulation parameters"
   ]
  },
  {
   "cell_type": "code",
   "execution_count": null,
   "metadata": {},
   "outputs": [],
   "source": [
    "# Simulation options\n",
    "simConfig = specs.SimConfig()           # object of class SimConfig to store simulation configuration\n",
    "\n",
    "simConfig.duration = 0.5*1e3            # Duration of the simulation, in ms\n",
    "simConfig.dt = 0.025                    # Internal integration timestep to use\n",
    "simConfig.verbose = False               # Show detailed messages\n",
    "simConfig.recordTraces = {'V_soma':{'sec':'soma','loc':0.5,'var':'v'}}  # Dict with traces to record\n",
    "simConfig.recordStep = 0.1              # Step size in ms to save data (eg. V traces, LFP, etc)\n",
    "simConfig.filename = 'model_output'     # Set file output name\n",
    "simConfig.savePickle = False            # Save params, network and sim output to pickle file\n",
    "simConfig.saveJson = True \n",
    "\n",
    "# Plots\n",
    "simConfig.analysis['plotRaster'] = True       # Plot a raster\n",
    "simConfig.analysis['plot2Dnet'] = True        # plot 2D visualization of cell positions and connections"
   ]
  },
  {
   "cell_type": "markdown",
   "metadata": {},
   "source": [
    "### Run simulation"
   ]
  },
  {
   "cell_type": "code",
   "execution_count": null,
   "metadata": {},
   "outputs": [],
   "source": [
    "# Create network and run simulation\n",
    "sim.createSimulateAnalyze(netParams = netParams, simConfig = simConfig)"
   ]
  }
 ],
 "metadata": {
  "kernelspec": {
   "display_name": "P3_netpyne",
   "language": "python",
   "name": "p3_netpyne"
  },
  "language_info": {
   "codemirror_mode": {
    "name": "ipython",
    "version": 3
   },
   "file_extension": ".py",
   "mimetype": "text/x-python",
   "name": "python",
   "nbconvert_exporter": "python",
   "pygments_lexer": "ipython3",
   "version": "3.6.9"
  }
 },
 "nbformat": 4,
 "nbformat_minor": 4
}
