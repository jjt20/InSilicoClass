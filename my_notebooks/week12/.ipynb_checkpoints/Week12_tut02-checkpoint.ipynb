{
 "cells": [
  {
   "cell_type": "markdown",
   "metadata": {},
   "source": [
    "<center><font size = \"10\"> Week 12 - Network Simulation III<center>\n",
    "<center><font size = \"8\">Tutorial 02: Position and distance based connectivity <center>"
   ]
  },
  {
   "cell_type": "markdown",
   "metadata": {},
   "source": [
    "<font size='5'><font color='red'>__IMPORTANT!!__ Read the document \"ReadBefore.pdf\" before running this tutorial or any of the week 12 tutorials"
   ]
  },
  {
   "cell_type": "markdown",
   "metadata": {},
   "source": [
    "<font size='3'><font color='blue'>In The following tutorial we will see how to spatially separate populations, add inhibitory populations, and implement weights, probabilities of connection and delays that depend on cell positions or distances using __NetPyNe__.\n",
    "\n",
    "<font size='3'><font color='blue'>We will build a __cortical-like network__ with 6 populations (3 excitatory and 3 inhibitory) distributed in 3 layers: 2/3, 4 and 5. "
   ]
  },
  {
   "cell_type": "markdown",
   "metadata": {},
   "source": [
    "## Step 1: Import\n",
    "<font size='3'>Import the __sim__ and __specs__ modules from the __netpyne__ package, that provide functions to easily create and simulate networks."
   ]
  },
  {
   "cell_type": "code",
   "execution_count": null,
   "metadata": {},
   "outputs": [],
   "source": [
    "from netpyne import specs, sim\n",
    "\n",
    "%matplotlib inline"
   ]
  },
  {
   "cell_type": "markdown",
   "metadata": {},
   "source": [
    "## Step 2: Define network parameters - dimensions"
   ]
  },
  {
   "cell_type": "code",
   "execution_count": null,
   "metadata": {},
   "outputs": [],
   "source": [
    "# Network parameters\n",
    "netParams = specs.NetParams()  # object of class NetParams to store the network parameters\n",
    "\n",
    "netParams.sizeX = 100 # x-dimension (horizontal length) size in um\n",
    "netParams.sizeY = 1000 # y-dimension (vertical height or cortical depth) size in um\n",
    "netParams.sizeZ = 100 # z-dimension (horizontal length) size in um\n",
    "netParams.propVelocity = 100.0 # propagation velocity (um/ms)\n",
    "netParams.probLengthConst = 150.0 # length constant for conn probability (um)"
   ]
  },
  {
   "cell_type": "markdown",
   "metadata": {},
   "source": [
    "### 2.1 Define cell populations"
   ]
  },
  {
   "cell_type": "code",
   "execution_count": null,
   "metadata": {},
   "outputs": [],
   "source": [
    "## Population parameters\n",
    "netParams.popParams['E2'] = {'cellType': 'E', 'numCells': 50, 'yRange': [100,300], 'cellModel': 'HH'}\n",
    "netParams.popParams['I2'] = {'cellType': 'I', 'numCells': 50, 'yRange': [100,300], 'cellModel': 'HH'}\n",
    "netParams.popParams['E4'] = {'cellType': 'E', 'numCells': 50, 'yRange': [300,600], 'cellModel': 'HH'}\n",
    "netParams.popParams['I4'] = {'cellType': 'I', 'numCells': 50, 'yRange': [300,600], 'cellModel': 'HH'}\n",
    "netParams.popParams['E5'] = {'cellType': 'E', 'numCells': 50, 'ynormRange': [0.6,1.0], 'cellModel': 'HH'}\n",
    "netParams.popParams['I5'] = {'cellType': 'I', 'numCells': 50, 'ynormRange': [0.6,1.0], 'cellModel': 'HH'}"
   ]
  },
  {
   "cell_type": "markdown",
   "metadata": {},
   "source": [
    "### 2.2 Define cell morphologies and physiology"
   ]
  },
  {
   "cell_type": "code",
   "execution_count": null,
   "metadata": {},
   "outputs": [],
   "source": [
    "## Cell property rules\n",
    "cellRule = {'conds': {'cellType': 'E'},  'secs': {}}  # cell rule dict\n",
    "cellRule['secs']['soma'] = {'geom': {}, 'mechs': {}}                              # soma params dict\n",
    "cellRule['secs']['soma']['geom'] = {'diam': 15, 'L': 14, 'Ra': 120.0}                   # soma geometry\n",
    "cellRule['secs']['soma']['mechs']['hh'] = {'gnabar': 0.13, 'gkbar': 0.036, 'gl': 0.003, 'el': -70}      # soma hh mechanism\n",
    "netParams.cellParams['Erule'] = cellRule                          # add dict to list of cell params\n",
    "\n",
    "cellRule = {'conds': {'cellType': 'I'},  'secs': {}}  # cell rule dict\n",
    "cellRule['secs']['soma'] = {'geom': {}, 'mechs': {}}                              # soma params dict\n",
    "cellRule['secs']['soma']['geom'] = {'diam': 10.0, 'L': 9.0, 'Ra': 110.0}                  # soma geometry\n",
    "cellRule['secs']['soma']['mechs']['hh'] = {'gnabar': 0.11, 'gkbar': 0.036, 'gl': 0.003, 'el': -70}      # soma hh mechanism\n",
    "netParams.cellParams['Irule'] = cellRule                          # add dict to list of cell params"
   ]
  },
  {
   "cell_type": "markdown",
   "metadata": {},
   "source": [
    "### 2.3 Define synaptic mechanism"
   ]
  },
  {
   "cell_type": "code",
   "execution_count": null,
   "metadata": {},
   "outputs": [],
   "source": [
    "## Synaptic mechanism parameters\n",
    "netParams.synMechParams['exc'] = {'mod': 'Exp2Syn', 'tau1': 0.8, 'tau2': 5.3, 'e': 0}  # NMDA synaptic mechanism\n",
    "netParams.synMechParams['inh'] = {'mod': 'Exp2Syn', 'tau1': 0.6, 'tau2': 8.5, 'e': -75}  # GABA synaptic mechanism"
   ]
  },
  {
   "cell_type": "markdown",
   "metadata": {},
   "source": [
    "### 2.4 Stimulation"
   ]
  },
  {
   "cell_type": "code",
   "execution_count": null,
   "metadata": {},
   "outputs": [],
   "source": [
    "# Stimulation parameters\n",
    "netParams.stimSourceParams['bkg'] = {'type': 'NetStim', 'rate': 20, 'noise': 0.3}\n",
    "netParams.stimTargetParams['bkg->all'] = {'source': 'bkg', 'conds': {'cellType': ['E','I']}, 'weight': 0.01, 'delay': 'max(1, normal(5,2))', 'synMech': 'exc'}"
   ]
  },
  {
   "cell_type": "markdown",
   "metadata": {},
   "source": [
    "# Step 3.1. Cells not connected\n",
    "## Run simulation"
   ]
  },
  {
   "cell_type": "code",
   "execution_count": null,
   "metadata": {},
   "outputs": [],
   "source": [
    "# Simulation options\n",
    "simConfig = specs.SimConfig()        # object of class SimConfig to store simulation configuration\n",
    "\n",
    "simConfig.duration = 1*1e3           # Duration of the simulation, in ms\n",
    "simConfig.dt = 0.05                 # Internal integration timestep to use\n",
    "simConfig.verbose = False            # Show detailed messages\n",
    "simConfig.recordTraces = {'V_soma':{'sec':'soma','loc':0.5,'var':'v'}}  # Dict with traces to record\n",
    "simConfig.recordStep = 1             # Step size in ms to save data (e.g. V traces, LFP, etc)\n",
    "simConfig.filename = 'model_output'  # Set file output name\n",
    "simConfig.savePickle = False         # Save params, network and sim output to pickle file\n",
    "\n",
    "simConfig.analysis['plotRaster'] = {'orderBy': 'y', 'orderInverse': True}      # Plot a raster\n",
    "simConfig.analysis['plotTraces'] = {'include': [('E2',0),('E5', 5)]}      # Plot recorded traces for this list of cells\n",
    "simConfig.analysis['plot2Dnet'] = True           # plot 2D visualization of cell positions and connections\n",
    "simConfig.analysis['plotConn'] = True           # plot connectivity matrix\n",
    "\n",
    "# Create network and run simulation\n",
    "sim.createSimulateAnalyze(netParams = netParams, simConfig = simConfig)"
   ]
  },
  {
   "cell_type": "markdown",
   "metadata": {},
   "source": [
    "# Step 3.2. Excitatory cells target all cells within a cortical depth of 100 and 1000 µm\n",
    "\n",
    "<font size='3'>The delay is based on the distance between the cells (dist_3D) and the propagation velocity (propVelocity)"
   ]
  },
  {
   "cell_type": "code",
   "execution_count": null,
   "metadata": {},
   "outputs": [],
   "source": [
    "netParams.connParams['E->all'] = {\n",
    "  'preConds': {'cellType': 'E'}, 'postConds': {'y': [100,1000]},  #  E -> all (100-1000 um)\n",
    "  'probability': 0.1 ,                  # probability of connection\n",
    "  'weight': '0.005*post_ynorm',         # synaptic weight\n",
    "  'delay': 'dist_3D/propVelocity',      # transmission delay (ms)\n",
    "  'synMech': 'exc'}                     # synaptic mechanism"
   ]
  },
  {
   "cell_type": "markdown",
   "metadata": {},
   "source": [
    "## Run simulation"
   ]
  },
  {
   "cell_type": "code",
   "execution_count": null,
   "metadata": {},
   "outputs": [],
   "source": [
    "# Simulation options\n",
    "simConfig = specs.SimConfig()        # object of class SimConfig to store simulation configuration\n",
    "\n",
    "simConfig.duration = 1*1e3           # Duration of the simulation, in ms\n",
    "simConfig.dt = 0.05                 # Internal integration timestep to use\n",
    "simConfig.verbose = False            # Show detailed messages\n",
    "simConfig.recordTraces = {'V_soma':{'sec':'soma','loc':0.5,'var':'v'}}  # Dict with traces to record\n",
    "simConfig.recordStep = 1             # Step size in ms to save data (e.g. V traces, LFP, etc)\n",
    "simConfig.filename = 'model_output'  # Set file output name\n",
    "simConfig.savePickle = False         # Save params, network and sim output to pickle file\n",
    "\n",
    "simConfig.analysis['plotRaster'] = {'orderBy': 'y', 'orderInverse': True}      # Plot a raster\n",
    "simConfig.analysis['plotTraces'] = {'include': [('E2',0), ('E5', 5)]}      # Plot recorded traces for this list of cells\n",
    "simConfig.analysis['plot2Dnet'] = True           # plot 2D visualization of cell positions and connections\n",
    "simConfig.analysis['plotConn'] = True           # plot connectivity matrix\n",
    "\n",
    "# Create network and run simulation\n",
    "sim.createSimulateAnalyze(netParams = netParams, simConfig = simConfig)"
   ]
  },
  {
   "cell_type": "markdown",
   "metadata": {},
   "source": [
    "# Step 3.3: Adding inhibitory connections which will project only onto excitatory cells\n",
    "\n",
    "<font size='3'>The probability of connection decay exponential as a function of distance with a given length constant "
   ]
  },
  {
   "cell_type": "code",
   "execution_count": null,
   "metadata": {},
   "outputs": [],
   "source": [
    "netParams.connParams['I->E'] = {\n",
    "  'preConds': {'cellType': 'I'}, 'postConds': {'pop': ['E2','E4','E5']},   #  I -> E\n",
    "  'probability': '0.4*exp(-dist_3D/probLengthConst)',   # probability of connection\n",
    "  'weight': 0.001,                                      # synaptic weight\n",
    "  'delay': 'dist_3D/propVelocity',                      # transmission delay (ms)\n",
    "  'synMech': 'inh'}                                     # synaptic mechanism"
   ]
  },
  {
   "cell_type": "markdown",
   "metadata": {},
   "source": [
    "## Run simulation"
   ]
  },
  {
   "cell_type": "code",
   "execution_count": null,
   "metadata": {},
   "outputs": [],
   "source": [
    "# Simulation options\n",
    "simConfig = specs.SimConfig()        # object of class SimConfig to store simulation configuration\n",
    "\n",
    "simConfig.duration = 1*1e3           # Duration of the simulation, in ms\n",
    "simConfig.dt = 0.05                 # Internal integration timestep to use\n",
    "simConfig.verbose = False            # Show detailed messages\n",
    "simConfig.recordTraces = {'V_soma':{'sec':'soma','loc':0.5,'var':'v'}}  # Dict with traces to record\n",
    "simConfig.recordStep = 1             # Step size in ms to save data (e.g. V traces, LFP, etc)\n",
    "simConfig.filename = 'model_output'  # Set file output name\n",
    "simConfig.savePickle = False         # Save params, network and sim output to pickle file\n",
    "\n",
    "simConfig.analysis['plotRaster'] = {'orderBy': 'y', 'orderInverse': True}      # Plot a raster\n",
    "simConfig.analysis['plotTraces'] = {'include': [('E2',0), ('E5', 5)]}      # Plot recorded traces for this list of cells\n",
    "simConfig.analysis['plot2Dnet'] = True           # plot 2D visualization of cell positions and connections\n",
    "simConfig.analysis['plotConn'] = True           # plot connectivity matrix\n",
    "\n",
    "# Create network and run simulation\n",
    "sim.createSimulateAnalyze(netParams = netParams, simConfig = simConfig)"
   ]
  }
 ],
 "metadata": {
  "kernelspec": {
   "display_name": "Python 3",
   "language": "python",
   "name": "python3"
  },
  "language_info": {
   "codemirror_mode": {
    "name": "ipython",
    "version": 3
   },
   "file_extension": ".py",
   "mimetype": "text/x-python",
   "name": "python",
   "nbconvert_exporter": "python",
   "pygments_lexer": "ipython3",
   "version": "3.7.4"
  }
 },
 "nbformat": 4,
 "nbformat_minor": 4
}
