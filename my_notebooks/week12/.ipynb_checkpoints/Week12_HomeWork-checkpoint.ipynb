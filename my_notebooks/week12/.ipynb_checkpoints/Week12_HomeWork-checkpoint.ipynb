{
 "cells": [
  {
   "cell_type": "markdown",
   "metadata": {},
   "source": [
    "<center><font size = \"10\"> Week 12 - Network Simulation III <center>\n",
    "<center><font size = \"8\">Home Work <center>"
   ]
  },
  {
   "cell_type": "markdown",
   "metadata": {},
   "source": [
    "<font size = \"3\">Please, write your group number and the names and surnames of the group members here\n",
    "<br>Group number:\n",
    "<br>Group member1:\n",
    "<br>Group member2:\n",
    "<br>Group member3:"
   ]
  },
  {
   "cell_type": "markdown",
   "metadata": {},
   "source": [
    "<font size='5'><font color='red'>__IMPORTANT!!__ Read the document \"ReadBefore.pdf\" before working on these homework"
   ]
  },
  {
   "cell_type": "markdown",
   "metadata": {},
   "source": [
    "# Ex1. Simple network simulation\n",
    "\n",
    "<font size='3'>Using the modules __sim__ and __specs__ from netpyne, create a simple network of soma neurons with three populations of 10 pyramidal cells each, using the standard compartmental Hodgkin-Huxley type cell (HH). Use the same morphological, physiological, synaptic and stimulation parameters from tutorial 01 for all the populations. Connect one of the cell populations to the other two using the same connection parameters (divergence, weight, delay, synMech) used in tutorial 01.\n",
    "    \n",
    "<font size='3'>Run a simulation of 500 ms, internal integration time steps of 0.025 ms and record steps time of 0.1 ms. Plot the raster plot of all the cells and the 2D network representation of the cell locations and connections. [1.5 pts]"
   ]
  },
  {
   "cell_type": "code",
   "execution_count": null,
   "metadata": {},
   "outputs": [],
   "source": []
  },
  {
   "cell_type": "markdown",
   "metadata": {},
   "source": [
    "# Ex2. Mouse cortical network simulation\n",
    "\n",
    "<font size='3'>Following the line of tutorial 02, build a cortical-like network of dimensions: x = 100 µm, y = 1210 µm and z = 100 µm. Find the layer thickness for the mouse cortex in the paper DeFelipe et al., 2002 loaded in the moodle and assign these values to your model. \n",
    "    \n",
    "<font size='3'>Your network will have 400 cells in total: 4 cells in L1, 88 in L2/3, 100 in L4, 48 in L5 and 160 in L6. Cortical layer 1 is composed only by inhibitory cells and in the rest of the layers the proportion is 20% inhibitory cells and 80% of excitatory cells (these proportions are based on real mouse data). \n",
    "    \n",
    "<font size='3'>Use the same morphological, physiological, synaptic and stimulation parameters from tutorial 02 for the excitatory and inhibitory cell populations.\n",
    "\n",
    "<font size='3'>Connect the excitatory cells so they target cells within L2/3 to L6. Connect the inhibitory cells only to excitatory cells with a connection probability that decays exponentially as a function of distance '0.3*exp(-dist_3D/probLengthConst)'.\n",
    "    \n",
    "<font size='3'>Run a simulation of 1000 ms, internal integration time steps of 0.05 ms and record steps time of 1 ms. Plot the 2D network representation of the cell locations and connections and the connectivity matrix. [2.5 pts]\n"
   ]
  },
  {
   "cell_type": "code",
   "execution_count": null,
   "metadata": {},
   "outputs": [],
   "source": []
  },
  {
   "cell_type": "markdown",
   "metadata": {},
   "source": [
    "# Ex3. Detailed cell morphology network\n",
    "\n",
    "<font size='3'>You are going to build a network with the set of cells asigned to your group in week2. First you have to create a .py file per each morphology with the morphological and biophysical characteristics for each cell. You can use the biophysics used on the previous tutorials.\n",
    "    \n",
    "<font size='3'>Create 5 populations of cells with 5 cells each and the 3D compartmental Hodgkin-Huxley type cell (HH3D) taking care of the differences between pyramidal (E) and inhibitory cells (I). Connect the two inhibitory cell populations to the excitatory cell populations but no between them. Run a simulation of 300 ms. Use the same synaptic and stimulation parameters used in tutorial 03. Plot the rater plot, the 2D network representation of the cell locations and connections and the connectivity matrix. [2 pts]"
   ]
  },
  {
   "cell_type": "code",
   "execution_count": null,
   "metadata": {},
   "outputs": [],
   "source": []
  }
 ],
 "metadata": {
  "kernelspec": {
   "display_name": "Python 3",
   "language": "python",
   "name": "python3"
  },
  "language_info": {
   "codemirror_mode": {
    "name": "ipython",
    "version": 3
   },
   "file_extension": ".py",
   "mimetype": "text/x-python",
   "name": "python",
   "nbconvert_exporter": "python",
   "pygments_lexer": "ipython3",
   "version": "3.7.4"
  }
 },
 "nbformat": 4,
 "nbformat_minor": 4
}
