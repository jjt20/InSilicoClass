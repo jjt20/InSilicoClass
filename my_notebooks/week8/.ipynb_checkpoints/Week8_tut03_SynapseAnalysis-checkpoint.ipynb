{
 "cells": [
  {
   "cell_type": "markdown",
   "metadata": {},
   "source": [
    "<center><font size = \"10\"> Week 8 - Synapses<center>\n",
    "<center><font size = \"8\">Tutorial 03: Analysis<center>"
   ]
  },
  {
   "cell_type": "markdown",
   "metadata": {},
   "source": [
    "<font size='3'><font color='blue'>In this tutorial you will see how to:\n",
    "    \n",
    "<font size='3'><font color='blue'>- open and plot synaptic traces from h5 files\n",
    "\n",
    "<font size='3'><font color='blue'>- extract some parameters from the traces\n",
    "    \n",
    "<br><img src=\"Synapse_param.png\" width=\"800\" height=\"400\">  "
   ]
  },
  {
   "cell_type": "markdown",
   "metadata": {},
   "source": [
    "### Load packages and libraries to be used"
   ]
  },
  {
   "cell_type": "code",
   "execution_count": null,
   "metadata": {},
   "outputs": [],
   "source": [
    "import h5py\n",
    "import numpy as np\n",
    "import matplotlib.pyplot as plt\n",
    "\n",
    "%matplotlib inline"
   ]
  },
  {
   "cell_type": "markdown",
   "metadata": {},
   "source": [
    "### Open the file and plot"
   ]
  },
  {
   "cell_type": "code",
   "execution_count": null,
   "metadata": {},
   "outputs": [],
   "source": [
    "data = h5py.File('connection_test.h5', 'r')\n",
    "\n",
    "print(data.keys())"
   ]
  },
  {
   "cell_type": "code",
   "execution_count": null,
   "metadata": {},
   "outputs": [],
   "source": [
    "# Create an array with the data\n",
    "\n",
    "connection_array = []\n",
    "for v in data.keys():\n",
    "    dat = data.get(v)\n",
    "    dat = np.array(dat)\n",
    "    connection_array.append(dat)\n",
    "\n",
    "mean_trace = np.mean(connection_array, axis = 0)\n",
    "\n",
    "plt.figure()\n",
    "for rep in connection_array:\n",
    "    plt.plot(rep, 'b--')\n",
    "plt.plot(mean_trace, 'r')\n"
   ]
  },
  {
   "cell_type": "markdown",
   "metadata": {},
   "source": [
    "### First EPSP computation of: tau rise, latency and amplitude\n",
    "<font size='3'> According to [Feldmeyer et al., 1999](https://www.ncbi.nlm.nih.gov/pmc/articles/PMC2269646/)"
   ]
  },
  {
   "cell_type": "code",
   "execution_count": null,
   "metadata": {},
   "outputs": [],
   "source": [
    "def amp_rise_lat_firstEPSP(sample_connection, STIM_TIMES, time, t_wind_bef, t_wind_aft, PLOT = False):\n",
    "    \"\"\"\n",
    "    This function selects the rise curve (first EPSP) and find the  5, 20 and 80 % of the amplitude.\n",
    "    Firstly computes the amplitude as the difference minimum - maximum in the interval (first_stimulus, max_peak).\n",
    "    Secondly computes the percentages and find the times for these respective values.\n",
    "    Tau_rise = 80%_time - 20%_time (Feldmeyer et al., 1999)\n",
    "    latency = 5%_time - first_stimulus\n",
    "    :param sample_connection: array with voltage traces oriented (voltage vs trials)(row vs column)\n",
    "    :param STIM_TIMES: list with the stimuli points\n",
    "    :param time: list with time steps in s\n",
    "    :param t_wind_aft: time window after the stim time to compute max and min\n",
    "    :param t_wind_bef: time window before the stim time to compute max and min\n",
    "    :return amp_value: amplitude of the first EPSP computed as the difference between the 20 and the 80 % of rise\n",
    "    :return TAU_rise: list with tau_rise values in ms. Computed as the distance between the times when\n",
    "    the 20 and 80 % of the rise part for the first EPSP happens\n",
    "    :return latency: list with latency values in ms. Computed as the time between the AP of the presynaptic cell\n",
    "    and the 5% of the first EPSP\n",
    "    \"\"\"\n",
    "    # The analysis are performed over the mean trace\n",
    "    conn = np.mean(sample_connection, axis=0)\n",
    "\n",
    "    # save only the trace part for the first peak for voltage and time\n",
    "    rise_curve = conn[STIM_TIMES[0] - t_wind_bef:STIM_TIMES[0] + t_wind_aft]\n",
    "    rise_curve_time = time[STIM_TIMES[0] - t_wind_bef:STIM_TIMES[0] + t_wind_aft]\n",
    "\n",
    "    # find max, min and compute amplitude\n",
    "    max_value = np.max(rise_curve)\n",
    "    min_value = np.min(rise_curve)\n",
    "    amp_value_total = np.abs(max_value - min_value)\n",
    "\n",
    "    # compute percentages\n",
    "    twenty_peak_value = amp_value_total * 80.0 / 100.0\n",
    "    eighty_peak_value = amp_value_total * 20.0 / 100.0\n",
    "    five_peak_value = amp_value_total * 95.0 / 100.0\n",
    "    amp_value = eighty_peak_value - twenty_peak_value\n",
    "\n",
    "    # Find the exact voltage point\n",
    "    twenty_curve_value = -(twenty_peak_value - max_value)\n",
    "    eighty_curve_value = -(eighty_peak_value - max_value)\n",
    "    five_curve_value = -(five_peak_value - max_value)\n",
    "\n",
    "    # Find time point for the minimum\n",
    "    for x, s in zip(rise_curve, rise_curve_time):\n",
    "        if (x == min_value):\n",
    "            min_time = s\n",
    "\n",
    "    # Find time points for the 5, 20 and 80 % of the first EPSP\n",
    "    n = 0\n",
    "    m = 0\n",
    "    l = 0\n",
    "    for i, j in zip(rise_curve, rise_curve_time):\n",
    "        if (n == 0) and (i > twenty_curve_value) and (j > min_time):\n",
    "            twenty_time = j\n",
    "            n = 1\n",
    "        if (m == 0) and (i > eighty_curve_value) and (j > min_time):\n",
    "            eighty_time = j\n",
    "            m = 1\n",
    "        if (l == 0) and (i > five_curve_value) and (j > min_time):\n",
    "            five_time = j\n",
    "            l = 1\n",
    "    \n",
    "    pre_AP = time[STIM_TIMES[0]]\n",
    "    TAU_rise = np.abs((twenty_time-eighty_time))\n",
    "    latency = np.abs((five_time)-pre_AP)\n",
    "\n",
    "    # PLOT first EPSP with the computed points for the 5, 20 and 80 % of the first EPSP\n",
    "    if PLOT == True:\n",
    "        plt.figure()\n",
    "        plt.plot(rise_curve_time, rise_curve, label='first EPSP')\n",
    "        plt.plot(twenty_time, twenty_curve_value, 'ro', label='20%')\n",
    "        plt.plot(eighty_time, eighty_curve_value, 'mo', label='80%')\n",
    "        plt.plot(five_time, five_curve_value, 'go', label='5%')\n",
    "        plt.legend()\n",
    "        plt.show()\n",
    "\n",
    "    return amp_value, TAU_rise, latency"
   ]
  },
  {
   "cell_type": "code",
   "execution_count": null,
   "metadata": {},
   "outputs": [],
   "source": [
    "# times where a stimulus is performed\n",
    "STIM_TIMES = [1000, 1500, 2000, 2500, 3000, 3500, 4000, 4500, 10000]\n",
    "t_wind_aft = 300\n",
    "t_wind_bef = 50\n",
    "time = np.arange(0,1.3,0.0001)\n",
    "\n",
    "\n",
    "amp_value, TAU_rise, latency = amp_rise_lat_firstEPSP(connection_array, STIM_TIMES, time, t_wind_bef, t_wind_aft, PLOT = True)\n",
    "\n",
    "print('Amplitude = ', amp_value*1000.0, 'mV')\n",
    "print('Tau_rise = ', TAU_rise, 's')\n",
    "print('latency = ', latency, 's')"
   ]
  },
  {
   "cell_type": "markdown",
   "metadata": {},
   "source": [
    "### Compute EPSP amplitudes in mV of the mean trace"
   ]
  },
  {
   "cell_type": "code",
   "execution_count": null,
   "metadata": {},
   "outputs": [],
   "source": [
    "def compute_amplitude(mean_trace, STIM_TIMES, t_wind_bef, t_wind_aft):\n",
    "    \"\"\"\n",
    "    This function compute the amplitudes of the EPSPs in mean_trace\n",
    "    :param mean_trace: deconvelved voltage data 1D-array (list)\n",
    "    :param STIM_TIMES: times where a stimulus is performed\n",
    "    :param t_wind_bef: time window before the stimulus\n",
    "    :param t_wind_aft: time window after the stimulus \n",
    "    :return amplitudes: list with amplitude values\n",
    "    \"\"\"\n",
    "    amplitudes = []\n",
    "    max_list = []\n",
    "    min_list = []\n",
    "    for t in STIM_TIMES:\n",
    "        mx = np.max(mean_trace[(t-t_wind_bef):(t + t_wind_aft)])\n",
    "        mn = np.min(mean_trace[(t-t_wind_bef):(t + t_wind_aft)])\n",
    "        amp = np.abs(mx - mn) \n",
    "        max_list.append(mx*1000.0) # multiply by 1000.0 to convert values to mV\n",
    "        min_list.append(mn*1000.0)\n",
    "        amplitudes.append(amp*1000.0)\n",
    "    return max_list, min_list, amplitudes"
   ]
  },
  {
   "cell_type": "code",
   "execution_count": null,
   "metadata": {},
   "outputs": [],
   "source": [
    "max_list, min_list, amps = compute_amplitude(mean_trace, STIM_TIMES, t_wind_bef, t_wind_aft)\n",
    "\n",
    "print('Amps = ', amps)"
   ]
  }
 ],
 "metadata": {
  "kernelspec": {
   "display_name": "Python 3",
   "language": "python",
   "name": "python3"
  },
  "language_info": {
   "codemirror_mode": {
    "name": "ipython",
    "version": 3
   },
   "file_extension": ".py",
   "mimetype": "text/x-python",
   "name": "python",
   "nbconvert_exporter": "python",
   "pygments_lexer": "ipython3",
   "version": "3.6.9"
  }
 },
 "nbformat": 4,
 "nbformat_minor": 4
}
