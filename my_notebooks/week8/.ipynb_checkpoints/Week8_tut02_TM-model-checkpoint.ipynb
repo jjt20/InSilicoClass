{
 "cells": [
  {
   "cell_type": "markdown",
   "metadata": {},
   "source": [
    "<center><font size = \"10\"> Week 8 - Synapses<center>\n",
    "<center><font size = \"8\">Tutorial 02: Tsodyks-Markram model<center>"
   ]
  },
  {
   "cell_type": "markdown",
   "metadata": {},
   "source": [
    "<font size='3'><font color='blue'> In this tutorial you will use an AMPA and NMDA model of glutamate receptors augmented with a model of synapse dynamics, the Tsodyks-Markram model. You will learn how to implement the mathamatical formulations into the MOD file and you will get a deeper understanding of this widely used formulation of synapse dynamics."
   ]
  },
  {
   "cell_type": "markdown",
   "metadata": {},
   "source": [
    "### Compile the MOD file"
   ]
  },
  {
   "cell_type": "code",
   "execution_count": null,
   "metadata": {},
   "outputs": [],
   "source": [
    "!nrnivmodl"
   ]
  },
  {
   "cell_type": "markdown",
   "metadata": {},
   "source": [
    "### Load the modules and hoc files that will be used"
   ]
  },
  {
   "cell_type": "code",
   "execution_count": null,
   "metadata": {},
   "outputs": [],
   "source": [
    "import neuron\n",
    "from neuron import h\n",
    "import numpy\n",
    "import matplotlib.pyplot as plt\n",
    "%matplotlib inline\n",
    "\n",
    "# Load external files & initialize\n",
    "neuron.h.load_file(\"stdrun.hoc\");\n",
    "neuron.h.stdinit();"
   ]
  },
  {
   "cell_type": "markdown",
   "metadata": {},
   "source": [
    "### A neuron to host your synapse\n",
    "\n",
    "<font size='3'>Following the previous tutorial, we will create a single compartment soma neuron to host the synapse."
   ]
  },
  {
   "cell_type": "code",
   "execution_count": null,
   "metadata": {},
   "outputs": [],
   "source": [
    "soma = neuron.h.Section()\n",
    "soma.L = 40\n",
    "soma.diam = 40\n",
    "soma.insert('pas')"
   ]
  },
  {
   "cell_type": "code",
   "execution_count": null,
   "metadata": {},
   "outputs": [],
   "source": [
    "# Configure the passive biophysics\n",
    "for sec in h.allsec():\n",
    "    sec.Ra = 100\n",
    "    sec.cm = 1"
   ]
  },
  {
   "cell_type": "markdown",
   "metadata": {},
   "source": [
    "<font size='3'>Create the synapse at the center of the soma compartment"
   ]
  },
  {
   "cell_type": "code",
   "execution_count": null,
   "metadata": {},
   "outputs": [],
   "source": [
    "synapse = h.TsodyksMarkram_AMPA_NMDA(soma(0.5))"
   ]
  },
  {
   "cell_type": "markdown",
   "metadata": {},
   "source": [
    "### Define the stimulus:\n",
    "\n",
    "<font size='3'> 8 spikes at 20Hz + 1 spike 500 ms later"
   ]
  },
  {
   "cell_type": "code",
   "execution_count": null,
   "metadata": {},
   "outputs": [],
   "source": [
    "stimulator = h.VecStim()\n",
    "spike_times = [100.0, 150.0, 200.0, 250.0, 300.0, 350.0, 400.0, 450.0, 950.0]\n",
    "spikes_vector = h.Vector(spike_times)\n",
    "stimulator.play(spikes_vector)\n",
    "\n",
    "connection = h.NetCon(stimulator, synapse)\n",
    "connection.weight[0] = 1.0        # In units of [nS] due to the gmax scaling factor in our .mod file"
   ]
  },
  {
   "cell_type": "markdown",
   "metadata": {},
   "source": [
    "### Create a recorder for the synaptic conductance, current, the soma voltage, and the time intervals"
   ]
  },
  {
   "cell_type": "code",
   "execution_count": null,
   "metadata": {},
   "outputs": [],
   "source": [
    "g_syn = h.Vector()\n",
    "g_syn.record(synapse._ref_g)\n",
    "i_syn = h.Vector()\n",
    "i_syn.record(synapse._ref_i)\n",
    "v_soma = h.Vector()\n",
    "v_soma.record(soma(0.5)._ref_v)\n",
    "time = h.Vector()\n",
    "time.record(neuron.h._ref_t)\n",
    "R_syn = h.Vector()\n",
    "R_syn.record(synapse._ref_R)\n",
    "Use_syn = h.Vector()\n",
    "Use_syn.record(synapse._ref_Use)"
   ]
  },
  {
   "cell_type": "markdown",
   "metadata": {},
   "source": [
    "### AMPA and NMDA conductances\n",
    "\n",
    "<font size='3'>Let's configure biologically plausible values for the AMPA and NMDA model parameters"
   ]
  },
  {
   "cell_type": "code",
   "execution_count": null,
   "metadata": {
    "scrolled": true
   },
   "outputs": [],
   "source": [
    "synapse.gmax_AMPA = 0.002 # uS\n",
    "synapse.gmax_NMDA = 0.7 * 0.002 # uS - 0.7 is a biologically typical ratio of NMDA to AMPA conductance\n",
    "synapse.mg = 1.0 # mM"
   ]
  },
  {
   "cell_type": "markdown",
   "metadata": {},
   "source": [
    "### Pseudolinear synapse: E3\n",
    "\n",
    "<font size='3'>Now let's configure parameters for pseudo linear synapse dynamics (E3), and simulate"
   ]
  },
  {
   "cell_type": "code",
   "execution_count": null,
   "metadata": {},
   "outputs": [],
   "source": [
    "synapse.U1 = 0.2 # Baseline release probability\n",
    "synapse.tau_rec = 200 # ms - recovery from depression\n",
    "synapse.tau_facil = 200 # ms - relaxation from facilitation\n",
    "\n",
    "h.tstop = 1000.0 # ms\n",
    "neuron.h.run()"
   ]
  },
  {
   "cell_type": "code",
   "execution_count": null,
   "metadata": {},
   "outputs": [],
   "source": [
    "plt.figure()\n",
    "plt.plot(time, v_soma)\n",
    "plt.axis([0, 1000, -70, -69.5])"
   ]
  },
  {
   "cell_type": "code",
   "execution_count": null,
   "metadata": {},
   "outputs": [],
   "source": [
    "plt.figure()\n",
    "plt.plot(time, R_syn, label='$R$ - frac. of pool avail.')\n",
    "plt.plot(time, Use_syn, label='$U_{SE}$ - running rel. prob.')\n",
    "plt.legend()\n",
    "plt.axis([0,1000,0,1.5])\n",
    "\n",
    "plt.figure()\n",
    "plt.plot(time, g_syn, label=\"$g_{syn}$\")\n",
    "plt.legend()"
   ]
  },
  {
   "cell_type": "markdown",
   "metadata": {},
   "source": [
    "### Depressing synapse: E2\n",
    "\n",
    "<font size='3'>Now, let's configure a depressing synapse (E2).  Such synapses have a higher baseline release probability, a longer recovery time from depression, and a very short relaxation time of facilitation. "
   ]
  },
  {
   "cell_type": "code",
   "execution_count": null,
   "metadata": {},
   "outputs": [],
   "source": [
    "synapse.U1 = 0.5 # Baseline release probability\n",
    "synapse.tau_rec = 700 # ms - recovery from depression\n",
    "synapse.tau_facil = 10 # ms - relaxation from facilitation\n",
    "\n",
    "h.run()"
   ]
  },
  {
   "cell_type": "code",
   "execution_count": null,
   "metadata": {},
   "outputs": [],
   "source": [
    "plt.figure()\n",
    "plt.plot(time, R_syn, label='$R$ - frac. of pool avail.')\n",
    "plt.plot(time, Use_syn, label='$U_{SE}$ - running rel. prob.')\n",
    "plt.legend()\n",
    "plt.axis([0,1000,0,1.5])\n",
    "\n",
    "plt.figure()\n",
    "plt.plot(time, g_syn, label=\"$g_{syn}$\")\n",
    "plt.legend()"
   ]
  }
 ],
 "metadata": {
  "kernelspec": {
   "display_name": "Neuron",
   "language": "python",
   "name": "neuron"
  },
  "language_info": {
   "codemirror_mode": {
    "name": "ipython",
    "version": 3
   },
   "file_extension": ".py",
   "mimetype": "text/x-python",
   "name": "python",
   "nbconvert_exporter": "python",
   "pygments_lexer": "ipython3",
   "version": "3.6.9"
  }
 },
 "nbformat": 4,
 "nbformat_minor": 4
}
