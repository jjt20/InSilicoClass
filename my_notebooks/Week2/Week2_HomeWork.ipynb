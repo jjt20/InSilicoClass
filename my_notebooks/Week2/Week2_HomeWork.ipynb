{
 "cells": [
  {
   "cell_type": "markdown",
   "metadata": {},
   "source": [
    "<center><font size = \"10\"> Week 2 - Morphologies <center>\n",
    "<center><font size = \"8\">Home work<center>"
   ]
  },
  {
   "cell_type": "markdown",
   "metadata": {},
   "source": [
    "<font size = \"3\">Please, write your group number and the names and surnames of the group members here\n",
    "<br>Group number: 7\n",
    "<br>Group member1: Joseph Tharayil\n",
    "<br>Group member2: Kiyarash Farivar\n",
    "<br>Group member3: Diogo Ramalho"
   ]
  },
  {
   "cell_type": "markdown",
   "metadata": {},
   "source": [
    "# Ex1: Create your favorite neuron\n",
    "\n",
    "<font size =\"3\">Write some code that builds a geometrical model of a neuron with one soma, one axon and two dendrites with three branches and visualize the resulting model. [0.5 pts]"
   ]
  },
  {
   "cell_type": "code",
   "execution_count": 3,
   "metadata": {},
   "outputs": [
    {
     "name": "stdout",
     "output_type": "stream",
     "text": [
      "\n",
      "|----------|       soma(0-1)\n",
      "            `---------|       dend1(0-1)\n",
      "                       `---------|       dend1_branch1(0-1)\n",
      "                       `---------|       dend1_branch2(0-1)\n",
      "                       `---------|       den1_branch3(0-1)\n",
      "            `---------|       dend2(0-1)\n",
      "                       `---------|       dend2_branch1(0-1)\n",
      "                       `---------|       dend2_branch2(0-1)\n",
      "                       `---------|       den2_branch3(0-1)\n",
      " `---------|       axon(0-1)\n",
      "\n",
      "Wrote cell 0 to cell_exe1.swc\n"
     ]
    },
    {
     "data": {
      "text/plain": [
       "(<Figure size 432x288 with 1 Axes>,\n",
       " <matplotlib.axes._subplots.AxesSubplot at 0x7f91efbf7a20>)"
      ]
     },
     "execution_count": 3,
     "metadata": {},
     "output_type": "execute_result"
    },
    {
     "data": {
      "image/png": "[encoded data removed]",
      "text/plain": [
       "<Figure size 432x288 with 1 Axes>"
      ]
     },
     "metadata": {
      "needs_background": "light"
     },
     "output_type": "display_data"
    }
   ],
   "source": [
    "from neuron import h\n",
    "import neurom as nm\n",
    "from neurom import viewer\n",
    "from hoc2swc import neuron2swc\n",
    "import numpy\n",
    "\n",
    "\n",
    "parts = ['soma',\n",
    "         'dend1', 'dend1_branch1', 'dend1_branch2', 'den1_branch3',\n",
    "         'dend2', 'dend2_branch1', 'dend2_branch2', 'den2_branch3',\n",
    "         'axon']\n",
    "\n",
    "soma, dend1, d1b1, d1b2, d1b3, dend2, d2b1, d2b2, d2b3, axon = [h.Section(name=n) for n in parts]\n",
    "\n",
    "\n",
    "\n",
    "# Geometry \n",
    "for sec in h.allsec():\n",
    "    sec.nseg = 10\n",
    "    sec.L = 100\n",
    "    for seg in sec:\n",
    "        seg.diam = numpy.interp(seg.x, [0, 1], [1, 10])\n",
    "        \n",
    "#By default the child end 0 connects to the parent end 1.\n",
    "axon.connect(soma(0))\n",
    "\n",
    "dend1.connect(soma)\n",
    "dend2.connect(soma)\n",
    "\n",
    "_ = [i.connect(dend1) for i in [d1b1, d1b2, d1b3]]\n",
    "\n",
    "_ = [i.connect(dend2) for i in [d2b1, d2b2, d2b3]]\n",
    "\n",
    "\n",
    "\n",
    "h.topology()\n",
    "\n",
    "# Visualize in Noto\n",
    "neuron2swc('cell_exe1.swc', swap_yz=False)\n",
    "neuron4 = nm.load_neuron('cell_exe1.swc')\n",
    "viewer.draw(neuron4)\n"
   ]
  },
  {
   "cell_type": "code",
   "execution_count": 1,
   "metadata": {
    "collapsed": true,
    "jupyter": {
     "outputs_hidden": true,
     "source_hidden": true
    }
   },
   "outputs": [
    {
     "name": "stdout",
     "output_type": "stream",
     "text": [
      "Wrote cell 0 to cell_a.swc\n"
     ]
    },
    {
     "data": {
      "text/plain": [
       "(<Figure size 432x288 with 1 Axes>,\n",
       " <matplotlib.axes._subplots.AxesSubplot at 0x7fe34ca26940>)"
      ]
     },
     "execution_count": 1,
     "metadata": {},
     "output_type": "execute_result"
    },
    {
     "data": {
      "image/png": "[encoded data removed]",
      "text/plain": [
       "<Figure size 432x288 with 1 Axes>"
      ]
     },
     "metadata": {
      "needs_background": "light"
     },
     "output_type": "display_data"
    }
   ],
   "source": [
    "from neuron import h\n",
    "import neurom as nm\n",
    "from neurom import viewer\n",
    "from hoc2swc import neuron2swc\n",
    "import numpy\n",
    "\n",
    "soma = h.Section(name='soma')\n",
    "soma.L = soma.diam = 15\n",
    "\n",
    "ax = h.Section(name='axon')\n",
    "ax.L = 500\n",
    "ax.diam = 5\n",
    "\n",
    "d1 = h.Section(name='dend1')\n",
    "d11 = h.Section(name='d11')\n",
    "d12 = h.Section(name='d12')\n",
    "d13 = h.Section(name='d13')\n",
    "\n",
    "d1.L = 50\n",
    "d1.diam = 5\n",
    "\n",
    "d11.L = 500\n",
    "d11.diam = 5\n",
    "\n",
    "d12.L = 500\n",
    "d12.diam = 5\n",
    "\n",
    "d13.L = 500\n",
    "d13.diam = 5\n",
    "\n",
    "d2.L = 50\n",
    "d2.diam = 5\n",
    "\n",
    "d21.L = 500\n",
    "d21.diam = 5\n",
    "\n",
    "d22.L = 500\n",
    "d22.diam = 5\n",
    "\n",
    "d13.L = 500\n",
    "d13.diam = 5\n",
    "\n",
    "d2 = h.Section(name='dend2')\n",
    "d21 = h.Section(name='d21')\n",
    "d22 = h.Section(name='d22')\n",
    "d23 = h.Section(name='d23')\n",
    "\n",
    "\n",
    "ax.connect(soma(0))\n",
    "d1.connect(soma(1))\n",
    "d2.connect(soma(1))\n",
    "\n",
    "d11.connect(d1(1))\n",
    "d12.connect(d1(1))\n",
    "d13.connect(d1(1))\n",
    "\n",
    "d21.connect(d2(1))\n",
    "d22.connect(d2(1))\n",
    "d23.connect(d2(1))\n",
    "\n",
    "neuron2swc('cell_a.swc', swap_yz=False)\n",
    "neuron4 = nm.load_neuron('cell_a.swc')\n",
    "viewer.draw(neuron4)"
   ]
  },
  {
   "cell_type": "markdown",
   "metadata": {},
   "source": [
    "# Ex2: Visualizing neurons\n",
    "\n",
    "<font size =\"3\">Select one of the neurons from your group data set. Write a code that visualizes the neuron oriented on the three possible planes (xy, xz and yz) and its neurites. Represent everything in the same plot (subplot). The main title of the figure should be the cell name. The subplots should have their title (for example: 'plane xy' or 'neurite 2') and the axes of each subplot should be labeled as well. [1.5 pts]"
   ]
  },
  {
   "cell_type": "code",
   "execution_count": null,
   "metadata": {},
   "outputs": [],
   "source": []
  },
  {
   "cell_type": "markdown",
   "metadata": {},
   "source": [
    "# Ex3: Check your set of morphologies for mistakes\n",
    "\n",
    "<font size = \"3\">Work with the morphology files that correspond to your group. Some of them are good morphology files and some have mistakes. Write down which files have errors and enumerate their errors. (You can use or copy here the code from tutorial 02). Explain, on your own words, some ideas about how you would correct the mistakes from your bad morphology files. [1.5 pts]"
   ]
  },
  {
   "cell_type": "markdown",
   "metadata": {},
   "source": [
    "### unzip the Group_07 file and put it in Group_07 folder in current directory ! "
   ]
  },
  {
   "cell_type": "code",
   "execution_count": 7,
   "metadata": {},
   "outputs": [],
   "source": [
    "config = {\n",
    "    'checks': {\n",
    "        'structural_checks': [\n",
    "            'is_single_tree',\n",
    "            'has_valid_soma',\n",
    "            'has_soma_points',\n",
    "            'has_sequential_ids',\n",
    "            'has_increasing_ids',\n",
    "            'has_valid_neurites',\n",
    "            'no_missing_parents',\n",
    "            'has_all_finite_radius_neurites'\n",
    "        ],\n",
    "        'neuron_checks': [\n",
    "            'has_axon',\n",
    "            'has_basal_dendrite',\n",
    "            'has_apical_dendrite',\n",
    "            'has_no_jumps',\n",
    "            'has_no_fat_ends',\n",
    "            'has_nonzero_soma_radius',\n",
    "            'has_all_nonzero_neurite_radii',\n",
    "            'has_all_nonzero_section_lengths',\n",
    "            'has_all_nonzero_segment_lengths',\n",
    "        ]\n",
    "    },\n",
    "    'options': {\n",
    "        'has_nonzero_soma_radius': 0.0,\n",
    "        \"has_all_nonzero_neurite_radii\": 0.007,\n",
    "        \"has_all_nonzero_segment_lengths\": 0.01,\n",
    "        \"has_all_nonzero_section_lengths\": 0.01,\n",
    "    }\n",
    "}"
   ]
  },
  {
   "cell_type": "code",
   "execution_count": 10,
   "metadata": {},
   "outputs": [
    {
     "name": "stdout",
     "output_type": "stream",
     "text": [
      "Morphology: ./Group_07/morph_03.swc \n",
      "\n",
      "False\n",
      "\tHas no jumps                                       : False\n",
      "\tALL                                                : False\n",
      "\n",
      "Morphology: ./Group_07/morph_07.swc \n",
      "\n",
      "False\n",
      "\tHas no jumps                                       : False\n",
      "\tALL                                                : False\n",
      "\n",
      "Morphology: ./Group_07/morph_05.swc \n",
      "\n",
      "False\n",
      "\tHas apical dendrite                                : False\n",
      "\tHas no jumps                                       : False\n",
      "\tHas no fat ends                                    : False\n",
      "\tALL                                                : False\n",
      "\n",
      "Morphology: ./Group_07/morph_04.swc \n",
      "\n",
      "False\n",
      "\tHas apical dendrite                                : False\n",
      "\tALL                                                : False\n",
      "\n",
      "Morphology: ./Group_07/morph_06.swc \n",
      "\n",
      "False\n",
      "\tHas no jumps                                       : False\n",
      "\tALL                                                : False\n",
      "\n",
      "Morphology: ./Group_07/morph_01.swc \n",
      "\n",
      "False\n",
      "\tHas apical dendrite                                : False\n",
      "\tHas no jumps                                       : False\n",
      "\tALL                                                : False\n",
      "\n",
      "Morphology: ./Group_07/morph_08.swc \n",
      "\n",
      "False\n",
      "\tHas apical dendrite                                : False\n",
      "\tALL                                                : False\n",
      "\n",
      "Morphology: ./Group_07/morph_02.swc \n",
      "\n",
      "True\n",
      "\n",
      "Morphology: ./Group_07/morph_09.swc \n",
      "\n",
      "True\n",
      "\n",
      "Morphology: ./Group_07/morph_10.swc \n",
      "\n",
      "True\n",
      "\n"
     ]
    }
   ],
   "source": [
    "from neurom.check.runner import CheckRunner\n",
    "\n",
    "# Create a \"CheckRunner\" object by providing the configuration dictionary\n",
    "check_runner = CheckRunner(config)\n",
    "\n",
    "# Run on a directory or a morphology\n",
    "# Atention: change path_to_neurons to the path in which you have placed the files\n",
    "results = check_runner.run('./Group_07') \n",
    "\n",
    "for morph in results['files']:\n",
    "    \n",
    "    print (\"Morphology: {} \\n\".format(morph))\n",
    "    \n",
    "    checks_dict = results['files'][morph]\n",
    "    \n",
    "    # Empty strings for our results\n",
    "    passed = \"\"\n",
    "    failed = \"\"\n",
    "    \n",
    "    # Iterate over dictionary's items\n",
    "    for check_name, status in checks_dict.items():\n",
    "        \n",
    "        # The string with the check's name and status\n",
    "        string = \"\\t{0: <50} : {1}\\n\".format(check_name, status)\n",
    "    \n",
    "        # Separate passed from failed checks\n",
    "        if status is True:\n",
    "            \n",
    "            passed += string # Concatenates to the current passed string\n",
    "            \n",
    "        else:\n",
    "            \n",
    "            failed += string # Concatenats to the current failed string\n",
    "\n",
    "    #print (passed)\n",
    "    print(checks_dict['ALL'])\n",
    "    print (failed)"
   ]
  },
  {
   "cell_type": "markdown",
   "metadata": {},
   "source": [
    "## Answer:\n",
    "\n",
    "only cells 2, 9 and 10 seem to be correct.\n",
    "\n",
    "we can see that we have different types of errors. \n",
    "For instance has no jumps can be corrected by just looking at the neuron in 3d plot and intuitively correcting the jump by hand in the coordinates or asking the experimenters to go back to their data and correct the jump.\n",
    "\n",
    "Has apical dendrite can be corrected by adding the denderite of a similar type of cell or again asking the experimenter to find the data."
   ]
  },
  {
   "cell_type": "markdown",
   "metadata": {},
   "source": [
    "# Ex4: Morphometrics\n",
    "\n",
    "<font size = \"3\">Now that you know which cells, out of your group data set are morphologically correct, its time to analyze some morphological characteristics of them. \n",
    "\n",
    "<font size = \"3\">Compute: the total_basal_length, the total_axonal_length and the soma_volume of the cells in your group data set that have no mistakes. Represent the result of all the cells on three different histograms: total_basal_length, total_axonal_length and soma_volume. Do you see any differences? If yes, explain them. Would you be able to classify the cells based on these differences?  [2.5 pts]"
   ]
  },
  {
   "cell_type": "code",
   "execution_count": null,
   "metadata": {},
   "outputs": [],
   "source": []
  },
  {
   "cell_type": "markdown",
   "metadata": {},
   "source": [
    "<font size = \"3\">__IMPORTANT:__ as we have seen in the lecture, neurons have very different shapes. Some of them may even missed some parts that other neurons have, but this doesn't mean that their reconstruction is wrong. \n",
    "\n",
    "<font size = \"3\">Use the information given on the following papers to help you answer Ex3 and Ex4.\n",
    "\n",
    "<font size = \"3\">[paper 1](https://www.nature.com/articles/nrn1519.pdf) \n",
    "    \n",
    "<font size = \"3\">[paper 2](https://www.nature.com/articles/nrn2402.pdf)\n",
    "    \n",
    "<font size = \"3\">[paper 3](https://watermark.silverchair.com/bhy339.pdf?token=AQECAHi208BE49Ooan9kkhW_Ercy7Dm3ZL_9Cf3qfKAc485ysgAAAnwwggJ4BgkqhkiG9w0BBwagggJpMIICZQIBADCCAl4GCSqGSIb3DQEHATAeBglghkgBZQMEAS4wEQQMjL2dxX4XnctI8PSkAgEQgIICL871rzxAccwBPnWDWJYXnmhez2c206RYVCnDmVVfJdui3Y0__27wwcSCeSvs8bMO-ySrUsntk8bkKC0g0_2zqK9F-IRlkpL4X120sWQoyjsnZSRgpQgBRjhTGqEiQFSv6VpT1NS7tw8Ytgz0nxRzd6uVmAJmm4hA3Qt6xerIeKCuUP2LZhWFPCkCqY9Z6vrTWs31nKibrYQyhfebtfrjQUXZM41f-jg19pGQW353OY8X8EHbnlzljAF25bPO1dFcoJ9z1YrIavhUJvrC_ROcrQ_xFpf43nLKtv44PxSR8ynIh1W87NKQjMy09q_SeEqL2rQcbMm_GxJp11_T39iAZeoghTOsj9nbJM1DcZ_EHiPDUimGWP-zX3GgPa5OFMYDW99UlS7aoEhLUMeNOagm1McT8U3SYyKYUSmKuWbxSE4vzzl6i4kfVTZinPCc2pJUO7foA11nzp8Od-BadQFDv4oC306nDSWJWe62Y4qbGmzR4MLnO_Gunf9wmszwyNHckn81sxPmTBmnTKYkYNJLUGjZFluRgw_Ssjvk42kBawDJ338-CdN0zTm7paxSSDTu32ZKLLaEjchehmkt5ecY3qn5cNXgAo-BGoMDN2Cl9h5F_NZlR4vTg2B3vRKKmKfjt1tLqoG8K4FrO3LNE8cmCZ-f3iFGSeDOD_VMFb5O0q68uqnlfRN6Ep56WChWSWRS92wNhGx7rUQAOvK7dJWK7oIPaxXBh55_RpZn2BQI0WQ)"
   ]
  }
 ],
 "metadata": {
  "kernelspec": {
   "display_name": "Python 3",
   "language": "python",
   "name": "python3"
  },
  "language_info": {
   "codemirror_mode": {
    "name": "ipython",
    "version": 3
   },
   "file_extension": ".py",
   "mimetype": "text/x-python",
   "name": "python",
   "nbconvert_exporter": "python",
   "pygments_lexer": "ipython3",
   "version": "3.6.9"
  }
 },
 "nbformat": 4,
 "nbformat_minor": 4
}
