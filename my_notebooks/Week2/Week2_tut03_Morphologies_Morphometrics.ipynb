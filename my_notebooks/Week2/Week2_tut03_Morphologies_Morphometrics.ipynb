{
 "cells": [
  {
   "cell_type": "markdown",
   "metadata": {},
   "source": [
    "<center><font size = \"10\"> Week 2 - Morphologies <center>\n",
    "<center><font size = \"8\">Tutorial 03: Morphometrics<center>"
   ]
  },
  {
   "cell_type": "markdown",
   "metadata": {},
   "source": [
    "<font size =\"3\"><font color='blue'>In this tutorial you will learn:\n",
    "    \n",
    "<font size =\"3\"><font color='blue'>- How to perform analysis on morphologies\n",
    "    \n",
    "<font size =\"3\"><font color='blue'>- How to plot some results"
   ]
  },
  {
   "cell_type": "markdown",
   "metadata": {},
   "source": [
    "<font size =\"3\">There are two types of features: the neuron and neurite features.\n",
    "\n",
    "<font size =\"3\">- Neurite features can be extracted from a single neurite, a list of neurites or a neuron.\n",
    "\n",
    "<font size =\"3\">- Neuron features can only be extracted from a neuron, because some additional info is usually required (e.g. distance from soma)."
   ]
  },
  {
   "cell_type": "code",
   "execution_count": 3,
   "metadata": {},
   "outputs": [
    {
     "name": "stderr",
     "output_type": "stream",
     "text": [
      "/usr/local/lib/python3.6/dist-packages/neurom/io/neurolucida.py:266: UserWarning: This is an experimental reader. There are no guarantees regarding ability to parse Neurolucida .asc files or correctness of output.\n",
      "  warnings.warn('This is an experimental reader. '\n"
     ]
    }
   ],
   "source": [
    "# Make sure that all the plots will be shown\n",
    "%matplotlib inline \n",
    "\n",
    "# import useful packages\n",
    "import matplotlib.pyplot as plt\n",
    "import neurom as nm\n",
    "\n",
    "# Define the path in which the data file lives\n",
    "#good_neuron = '..../good_morph.asc'\n",
    "good_neuron = 'good_morph.asc'\n",
    "\n",
    "neuron = nm.load_neuron(good_neuron)"
   ]
  },
  {
   "cell_type": "markdown",
   "metadata": {},
   "source": [
    "<font size =\"3\">All features can be called through the \"neurom.get( )\" function"
   ]
  },
  {
   "cell_type": "code",
   "execution_count": 4,
   "metadata": {},
   "outputs": [
    {
     "name": "stdout",
     "output_type": "stream",
     "text": [
      "Help on function get in module neurom.features:\n",
      "\n",
      "get(feature, obj, **kwargs)\n",
      "    Obtain a feature from a set of morphology objects\n",
      "    \n",
      "    Parameters:\n",
      "        feature(string): feature to extract\n",
      "        obj: a neuron, population or neurite tree\n",
      "        **kwargs: parameters to forward to underlying worker functions\n",
      "    \n",
      "    Returns:\n",
      "        features as a 1D or 2D numpy array.\n",
      "    \n",
      "        \n",
      "    Features:        \n",
      "        Neurite features (neurite, neuron, neuron population):\n",
      "            - diameter_power_relation:\n",
      "                Calculate the diameter power relation at a bifurcation point\n",
      "                    as defined in https://www.ncbi.nlm.nih.gov/pubmed/18568015\n",
      "                \n",
      "                    This quantity gives an indication of how far the branching is from\n",
      "                    the Rall ratio (when =1).\n",
      "            - local_bifurcation_angles:\n",
      "                Get a list of local bifurcation angles in a collection of neurites\n",
      "            - neurite_lengths:\n",
      "                Get the path length per neurite in a collection\n",
      "            - neurite_volume_density:\n",
      "                Get the volume density per neurite\n",
      "                \n",
      "                    The volume density is defined as the ratio of the neurite volume and\n",
      "                    the volume of the neurite's enclosing convex hull\n",
      "            - neurite_volumes:\n",
      "                Get the volume per neurite in a collection\n",
      "            - number_of_bifurcations:\n",
      "                number of bifurcation points in a collection of neurites\n",
      "            - number_of_forking_points:\n",
      "                number of forking points in a collection of neurites\n",
      "            - number_of_neurites:\n",
      "                Number of neurites in a collection of neurites\n",
      "            - number_of_sections:\n",
      "                Number of sections in a collection of neurites\n",
      "            - number_of_sections_per_neurite:\n",
      "                Get the number of sections per neurite in a collection of neurites\n",
      "            - number_of_segments:\n",
      "                Number of sections in a collection of neurites\n",
      "            - number_of_terminations:\n",
      "                number of leaves points in a collection of neurites\n",
      "            - partition:\n",
      "                Partition at bifurcation points of a collection of neurites\n",
      "            - partition_asymmetry:\n",
      "                Partition asymmetry at bifurcation points of a collection of neurites\n",
      "                    Variant: length is a different definition, as the absolute difference in\n",
      "                    downstream path lenghts, relative to the total neurite path length\n",
      "            - partition_asymmetry_length:\n",
      "                partial(func, *args, **keywords) - new function with partial application\n",
      "                    of the given arguments and keywords.\n",
      "            - partition_pairs:\n",
      "                Partition pairs at bifurcation points of a collection of neurites.\n",
      "                    Partition pait is defined as the number of bifurcations at the two\n",
      "                    daughters of the bifurcating section\n",
      "            - principal_direction_extents:\n",
      "                Principal direction extent of neurites in neurons\n",
      "            - remote_bifurcation_angles:\n",
      "                Get a list of remote bifurcation angles in a collection of neurites\n",
      "            - section_areas:\n",
      "                section areas in a collection of neurites\n",
      "            - section_bif_branch_orders:\n",
      "                Bifurcation section branch orders in a collection of neurites\n",
      "            - section_bif_lengths:\n",
      "                Bifurcation section lengths in a collection of neurites\n",
      "            - section_bif_radial_distances:\n",
      "                Get the radial distances of the bifurcation sections for a collection of neurites\n",
      "            - section_branch_orders:\n",
      "                section branch orders in a collection of neurites\n",
      "            - section_end_distances:\n",
      "                section end to end distances in a collection of neurites\n",
      "            - section_lengths:\n",
      "                section lengths in a collection of neurites\n",
      "            - section_path_distances:\n",
      "                Path lengths of a collection of neurites\n",
      "            - section_radial_distances:\n",
      "                Section radial distances in a collection of neurites.\n",
      "                    The iterator_type can be used to select only terminal sections (ileaf)\n",
      "                    or only bifurcations (ibifurcation_point).\n",
      "            - section_strahler_orders:\n",
      "                Inter-segment opening angles in a section\n",
      "            - section_taper_rates:\n",
      "                Diameters taper rate of the sections in a collection of neurites\n",
      "                    when going from root to tips. It is expected to be negative\n",
      "                    for neurons.\n",
      "                \n",
      "                    Taper rate is defined here as the linear fit along a section\n",
      "            - section_term_branch_orders:\n",
      "                Termination section branch orders in a collection of neurites\n",
      "            - section_term_lengths:\n",
      "                Termination section lengths in a collection of neurites\n",
      "            - section_term_radial_distances:\n",
      "                Get the radial distances of the termination sections for a collection of neurites\n",
      "            - section_tortuosity:\n",
      "                section tortuosities in a collection of neurites\n",
      "            - section_volumes:\n",
      "                section volumes in a collection of neurites\n",
      "            - segment_areas:\n",
      "                Areas of the segments in a collection of neurites\n",
      "            - segment_lengths:\n",
      "                Lengths of the segments in a collection of neurites\n",
      "            - segment_meander_angles:\n",
      "                Inter-segment opening angles in a section\n",
      "            - segment_midpoints:\n",
      "                Return a list of segment mid-points in a collection of neurites\n",
      "            - segment_path_lengths:\n",
      "                Returns pathlengths between all non-root points and their root point\n",
      "            - segment_radial_distances:\n",
      "                Returns the list of distances between all segment mid points and origin.\n",
      "            - segment_radii:\n",
      "                arithmetic mean of the radii of the points in segments in a collection of neurites\n",
      "            - segment_taper_rates:\n",
      "                Diameters taper rates of the segments in a collection of neurites\n",
      "                \n",
      "                    The taper rate is defined as the absolute radii differences divided by length of the section\n",
      "            - segment_volumes:\n",
      "                Volumes of the segments in a collection of neurites\n",
      "            - sibling_ratio:\n",
      "                Sibling ratios at bifurcation points of a collection of neurites.\n",
      "                    The sibling ratio is the ratio between the diameters of the\n",
      "                    smallest and the largest child. It is a real number between\n",
      "                    0 and 1. Method argument allows one to consider mean diameters\n",
      "                    along the child section instead of diameter of the first point.\n",
      "            - terminal_path_lengths_per_neurite:\n",
      "                Get the path lengths to each terminal point per neurite in a collection\n",
      "            - total_area_per_neurite:\n",
      "                Surface area in a collection of neurites.\n",
      "                \n",
      "                    The area is defined as the sum of the area of the sections.\n",
      "            - total_length:\n",
      "                Get the total length of all sections in the group of neurons or neurites\n",
      "            - total_length_per_neurite:\n",
      "                Get the path length per neurite in a collection\n",
      "        \n",
      "        Neuron features (neuron, neuron population):\n",
      "            - sholl_frequency:\n",
      "                perform Sholl frequency calculations on a population of neurites\n",
      "                \n",
      "                    Args:\n",
      "                        nrn(morph): nrn or population\n",
      "                        neurite_type(NeuriteType): which neurites to operate on\n",
      "                        step_size(float): step size between Sholl radii\n",
      "                \n",
      "                    Note:\n",
      "                        Given a neuron, the soma center is used for the concentric circles,\n",
      "                        which range from the soma radii, and the maximum radial distance\n",
      "                        in steps of `step_size`.  When a population is given, the concentric\n",
      "                        circles range from the smallest soma radius to the largest radial neurite\n",
      "                        distance.  Finally, each segment of the neuron is tested, so a neurite that\n",
      "                        bends back on itself, and crosses the same Sholl radius will get counted as\n",
      "                        having crossed multiple times.\n",
      "            - soma_radii:\n",
      "                 Get the radii of the somata of a population of neurons\n",
      "                \n",
      "                    Note:\n",
      "                        If a single neuron is passed, a single element list with the\n",
      "                        radius of its soma member is returned.\n",
      "            - soma_surface_areas:\n",
      "                Get the surface areas of the somata in a population of neurons\n",
      "                \n",
      "                    Note:\n",
      "                        The surface area is calculated by assuming the soma is spherical.\n",
      "                    Note:\n",
      "                        If a single neuron is passed, a single element list with the surface\n",
      "                        area of its soma member is returned.\n",
      "            - soma_volumes:\n",
      "                Get the volume of the somata in a population of neurons\n",
      "                    Note:\n",
      "                        If a single neuron is passed, a single element list with the volume\n",
      "                        of its soma member is returned.\n",
      "            - trunk_angles:\n",
      "                Calculates the angles between all the trunks of the neuron.\n",
      "                    The angles are defined on the x-y plane and the trees\n",
      "                    are sorted from the y axis and anticlock-wise.\n",
      "            - trunk_origin_azimuths:\n",
      "                Get a list of all the trunk origin azimuths of a neuron or population\n",
      "                \n",
      "                    The azimuth is defined as Angle between x-axis and the vector\n",
      "                    defined by (initial tree point - soma center) on the x-z plane.\n",
      "                \n",
      "                    The range of the azimuth angle [-pi, pi] radians\n",
      "            - trunk_origin_elevations:\n",
      "                Get a list of all the trunk origin elevations of a neuron or population\n",
      "                \n",
      "                    The elevation is defined as the angle between x-axis and the\n",
      "                    vector defined by (initial tree point - soma center)\n",
      "                    on the x-y half-plane.\n",
      "                \n",
      "                    The range of the elevation angle [-pi/2, pi/2] radians\n",
      "            - trunk_origin_radii:\n",
      "                radii of the trunk sections of neurites in a neuron\n",
      "            - trunk_section_lengths:\n",
      "                list of lengths of trunk sections of neurites in a neuron\n",
      "            - trunk_vectors:\n",
      "                Calculates the vectors between all the trunks of the neuron\n",
      "                    and the soma center.\n",
      "\n"
     ]
    }
   ],
   "source": [
    "help(nm.get)"
   ]
  },
  {
   "cell_type": "markdown",
   "metadata": {},
   "source": [
    "<font size = \"3\">Now let's see how we can use it to make some measurements."
   ]
  },
  {
   "cell_type": "code",
   "execution_count": 5,
   "metadata": {},
   "outputs": [
    {
     "name": "stdout",
     "output_type": "stream",
     "text": [
      "Section lengths: \n",
      " [141.76908892  98.85629355  31.61597339 115.44071881 253.44653792\n",
      "  58.12550396  13.54548668 146.05424249   3.42331406  18.24222293]\n",
      "\n",
      "Section local bifurcation angles: \n",
      " [0.55222467 1.77695708 1.5131931  1.09506469 1.41906447 1.29167013\n",
      " 1.54406972 1.49584415 1.89702315 1.39986916]\n"
     ]
    }
   ],
   "source": [
    "# Extract section_lengths\n",
    "section_lengths_neuron = nm.get('section_lengths', neuron)\n",
    "print (\"Section lengths: \\n\", section_lengths_neuron[:10])\n",
    "\n",
    "# Extract the local bifurcation angles\n",
    "local_bif_angles = nm.get('local_bifurcation_angles', neuron)\n",
    "print (\"\\nSection local bifurcation angles: \\n\", local_bif_angles[:10])"
   ]
  },
  {
   "cell_type": "code",
   "execution_count": 6,
   "metadata": {},
   "outputs": [
    {
     "name": "stdout",
     "output_type": "stream",
     "text": [
      "Soma was not found. Input object is wrong.\n"
     ]
    }
   ],
   "source": [
    "try:\n",
    "    # this must err because no soma is available\n",
    "    nm.get('soma_radii', neuron.neurites)\n",
    "\n",
    "except AttributeError:\n",
    "    \n",
    "    print (\"Soma was not found. Input object is wrong.\")\n"
   ]
  },
  {
   "cell_type": "markdown",
   "metadata": {},
   "source": [
    "## Select Neurite Types"
   ]
  },
  {
   "cell_type": "markdown",
   "metadata": {},
   "source": [
    "<font size =\"3\">The previous examples treated all neurites in the same way. NeuroM allows you to extract morphometrics for a selected type of trees."
   ]
  },
  {
   "cell_type": "code",
   "execution_count": 7,
   "metadata": {},
   "outputs": [
    {
     "data": {
      "text/plain": [
       "['__class__',\n",
       " '__doc__',\n",
       " '__members__',\n",
       " '__module__',\n",
       " 'all',\n",
       " 'apical_dendrite',\n",
       " 'axon',\n",
       " 'basal_dendrite',\n",
       " 'soma',\n",
       " 'undefined']"
      ]
     },
     "execution_count": 7,
     "metadata": {},
     "output_type": "execute_result"
    }
   ],
   "source": [
    "dir(nm.NeuriteType)"
   ]
  },
  {
   "cell_type": "code",
   "execution_count": 8,
   "metadata": {
    "scrolled": true
   },
   "outputs": [
    {
     "name": "stdout",
     "output_type": "stream",
     "text": [
      "axonal  [141.76908892  98.85629355  31.61597339 115.44071881 253.44653792\n",
      "  58.12550396  13.54548668 146.05424249   3.42331406  18.24222293\n",
      "   4.65886252 259.93226633  13.67211891   5.34053368  17.28448551\n",
      "  35.98858771  97.17781872  81.44749636  88.14854025   3.5445371\n",
      "   8.33650379  52.19999947   6.99456634  76.80801827  11.12525252\n",
      "   6.35604085   7.85215296  50.62044612 534.44833722 233.49807079\n",
      "  99.07702607  63.39232701  39.36132431   9.58097756  91.95246137\n",
      "  16.09330999  25.085838   230.02360403 118.66839688 164.58856538\n",
      " 172.40604798   9.15511098 153.21583225  16.42576973  64.24651135\n",
      "  38.20927809   8.76514574 307.70687408  32.50641804   4.90495611\n",
      "  96.88991149   8.55463108  31.54400536   5.90119832 175.64076848\n",
      "  24.25432657  46.55520044  13.48761908   8.00320499   5.47538965\n",
      "   3.5233081   61.17165026  10.8611413    5.21184437   6.36354297\n",
      " 188.43527385   6.07044734  19.14013586  20.89379455   8.15233213\n",
      "  21.65269433   7.71498766  14.40249582  50.27586721  10.01913269\n",
      "  44.28816915 203.51086601   4.28477537   4.51160725  73.31174393\n",
      "   9.81179513 332.70988481  18.85083299  16.58547068  56.24668651\n",
      "   4.536546   214.05682231   3.8781181  158.30481912   4.59646746\n",
      " 225.9836989  128.81803134  51.80076635  20.61138912  20.83830886\n",
      "   2.33148022  22.48399708 124.57160165  42.62796921  82.49702825\n",
      " 218.19854578]\n",
      "\n",
      " basal   [ 12.92877978 128.79539355   3.72055103  26.52238565  50.43346712\n",
      "  16.55554319   2.96285335  46.35495591   7.11671975  62.78475838\n",
      "  46.87736239 113.18936135  93.94180665  12.9261507   34.64309274\n",
      "  58.56118486 163.98265324  11.645304    14.03021918   3.12160414\n",
      " 109.23855216  51.8414399   28.15511841  17.62429842  17.46300472\n",
      "  98.90482536  33.3591324   79.11786331  87.50972266   7.09962392\n",
      " 161.73251111   7.63127897   7.64519188 105.27668444  19.98304005\n",
      "  34.95675355 155.86832933   5.94523338  81.73506855  96.71248648\n",
      "   5.42161415  15.29996734  19.21783518  15.88456413 113.30561878\n",
      " 144.86769812 101.55385235  22.91403428 210.66036218   6.61701361\n",
      " 140.08751388 213.59542995   9.00907558  49.37366653 140.15237257\n",
      "  15.76543386  74.97662789  93.905465    16.65716853 172.75565744\n",
      "  11.19934203  15.16571077 153.65539656 193.63360721 172.31382463\n",
      " 214.23557756  19.06967956  24.9778001   69.02771142]\n",
      "\n",
      " apical  [ 34.59350669  10.70682749  46.6414208   29.69299534  16.37529751\n",
      "  11.21166472   9.96322535  56.1657574    6.62493019   8.36735087\n",
      "  38.93752814  44.59864381 166.02135572  37.96998626  29.67340842\n",
      " 330.50818674  25.0189165    7.94589438  20.86750633  23.24872456\n",
      " 120.57186703 404.33311849 108.3145261   69.65958969  13.89858943\n",
      "  84.22712337  96.11376927  93.36104082 388.6733914   45.55945605\n",
      "   4.22996454  97.69491571  79.99456627 343.99049429  47.87315642\n",
      "  83.75706673 168.4286362   72.02705134  99.66026801  76.10354034\n",
      "  26.00314136 105.35336701  31.17200555  34.56234808 107.79274106\n",
      " 132.32742133 168.17241032  61.3816624  235.76147219 200.44279543\n",
      " 147.11239897 122.146185    45.28184826  64.3741437  116.07057765\n",
      "  76.47315148  95.03718617  14.15760743   4.3122384   38.33548575\n",
      "   5.95698749  12.04238362  19.64810353  74.2059676  113.3550084\n",
      " 115.68970605  10.56440975  10.3828079  230.81035632 275.96311067\n",
      " 198.21462239 155.25646716 131.19358281  33.64062503  12.7898685\n",
      " 107.20605678  84.34578406 198.23962752 131.09460075  20.80895755\n",
      "   2.66341886 109.90118027  21.59759357  80.24704861  99.05249038\n",
      " 158.04328327  18.86473262 172.69358336  21.30201473 131.37317703\n",
      " 104.6434319   29.77432759 121.41694862  84.96062699  43.16535342\n",
      "  16.92989389  53.6872506   18.18540669 234.90763639 148.31578427\n",
      "  23.82688391 258.86784747  39.79312435  17.69945753 117.76511938\n",
      " 210.87766273  24.49892146  16.05398345 126.98173605 209.57177529\n",
      "   5.25244705  28.32973048 158.68238208  14.83265655 138.268278\n",
      " 171.68895072]\n",
      "\n",
      " total_axonal_length = 7081.762118564188\n"
     ]
    }
   ],
   "source": [
    "import numpy as np\n",
    "\n",
    "# Extract the section lengths of axonal trees\n",
    "ax_section_lengths = nm.get('section_lengths', neuron, neurite_type=nm.NeuriteType.axon)\n",
    "\n",
    "# Extract the section lengths of basal dendritic trees\n",
    "ba_section_lengths = nm.get('section_lengths', neuron, neurite_type=nm.NeuriteType.basal_dendrite)\n",
    "\n",
    "# Extract the section lengths of apical dendritic trees\n",
    "ap_section_lengths = nm.get('section_lengths', neuron, neurite_type=nm.NeuriteType.apical_dendrite)\n",
    "\n",
    "print ('axonal ', ax_section_lengths)\n",
    "print ('\\n basal  ', ba_section_lengths)\n",
    "print ('\\n apical ', ap_section_lengths)\n",
    "print ('\\n total_axonal_length =', np.sum(ax_section_lengths))"
   ]
  },
  {
   "cell_type": "markdown",
   "metadata": {},
   "source": [
    "## Let's plot the results"
   ]
  },
  {
   "cell_type": "code",
   "execution_count": 9,
   "metadata": {},
   "outputs": [
    {
     "name": "stderr",
     "output_type": "stream",
     "text": [
      "/usr/local/lib/python3.6/dist-packages/ipykernel_launcher.py:8: MatplotlibDeprecationWarning: \n",
      "The 'normed' kwarg was deprecated in Matplotlib 2.1 and will be removed in 3.1. Use 'density' instead.\n",
      "  \n"
     ]
    },
    {
     "data": {
      "text/plain": [
       "(<Figure size 360x360 with 1 Axes>,\n",
       " <matplotlib.axes._subplots.AxesSubplot at 0x7fea82069be0>)"
      ]
     },
     "execution_count": 9,
     "metadata": {},
     "output_type": "execute_result"
    },
    {
     "data": {
      "image/png": "[encoded data removed]",
      "text/plain": [
       "<Figure size 360x360 with 1 Axes>"
      ]
     },
     "metadata": {
      "needs_background": "light"
     },
     "output_type": "display_data"
    },
    {
     "data": {
      "image/png": "[encoded data removed]",
      "text/plain": [
       "<Figure size 360x360 with 1 Axes>"
      ]
     },
     "metadata": {
      "needs_background": "light"
     },
     "output_type": "display_data"
    }
   ],
   "source": [
    "def histogram(data):\n",
    "    \"\"\"Generates a histogram in a new figure\"\"\"\n",
    "    \n",
    "    # Create an image with one subplot\n",
    "    f, ax = plt.subplots(1,1, figsize=(5,5))\n",
    "    \n",
    "    # Create a histogram with specified bins and normalized\n",
    "    ax.hist(data, bins=10, normed=True) \n",
    "    ax.set_title(feature.replace('_', ' ')) # Replace the underscores with spaces in the string\n",
    "    ax.set_xlabel('units')\n",
    "    ax.set_ylabel('density')\n",
    "    \n",
    "    return f, ax\n",
    "\n",
    "def boxplot(data):\n",
    "    '''Generates a boxplot in a new figure'''\n",
    "\n",
    "    # Create an image with one subplot\n",
    "    f, ax = plt.subplots(1,1, figsize=(5,5))\n",
    "    ax.boxplot(data) # plot boxplot\n",
    "    ax.set_ylabel('values')\n",
    "\n",
    "    return f, ax\n",
    "\n",
    "feature =  'section_lengths'\n",
    "values = nm.get(feature, neuron)\n",
    "\n",
    "histogram(values)\n",
    "boxplot(values)"
   ]
  },
  {
   "cell_type": "code",
   "execution_count": null,
   "metadata": {},
   "outputs": [],
   "source": []
  }
 ],
 "metadata": {
  "kernelspec": {
   "display_name": "Python 3",
   "language": "python",
   "name": "python3"
  },
  "language_info": {
   "codemirror_mode": {
    "name": "ipython",
    "version": 3
   },
   "file_extension": ".py",
   "mimetype": "text/x-python",
   "name": "python",
   "nbconvert_exporter": "python",
   "pygments_lexer": "ipython3",
   "version": "3.6.9"
  }
 },
 "nbformat": 4,
 "nbformat_minor": 4
}
