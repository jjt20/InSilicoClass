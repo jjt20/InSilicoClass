{
 "cells": [
  {
   "cell_type": "markdown",
   "metadata": {},
   "source": [
    "<center><font size = \"10\"> Week 2 - Morphologies <center>\n",
    "<center><font size = \"8\">Tutorial 03: Morphometrics<center>"
   ]
  },
  {
   "cell_type": "markdown",
   "metadata": {},
   "source": [
    "<font size =\"3\"><font color='blue'>In this tutorial you will learn:\n",
    "    \n",
    "<font size =\"3\"><font color='blue'>- How to perform analysis on morphologies\n",
    "    \n",
    "<font size =\"3\"><font color='blue'>- How to plot some results"
   ]
  },
  {
   "cell_type": "markdown",
   "metadata": {},
   "source": [
    "<font size =\"3\">There are two types of features: the neuron and neurite features.\n",
    "\n",
    "<font size =\"3\">- Neurite features can be extracted from a single neurite, a list of neurites or a neuron.\n",
    "\n",
    "<font size =\"3\">- Neuron features can only be extracted from a neuron, because some additional info is usually required (e.g. distance from soma)."
   ]
  },
  {
   "cell_type": "code",
   "execution_count": 1,
   "metadata": {},
   "outputs": [
    {
     "name": "stderr",
     "output_type": "stream",
     "text": [
      "/usr/local/lib/python3.6/dist-packages/neurom/io/neurolucida.py:266: UserWarning: This is an experimental reader. There are no guarantees regarding ability to parse Neurolucida .asc files or correctness of output.\n",
      "  warnings.warn('This is an experimental reader. '\n"
     ]
    }
   ],
   "source": [
    "# Make sure that all the plots will be shown\n",
    "%matplotlib inline \n",
    "\n",
    "# import useful packages\n",
    "import matplotlib.pyplot as plt\n",
    "import neurom as nm\n",
    "\n",
    "# Define the path in which the data file lives\n",
    "#good_neuron = '..../good_morph.asc'\n",
    "good_neuron = 'good_morph.asc'\n",
    "\n",
    "neuron = nm.load_neuron(good_neuron)"
   ]
  },
  {
   "cell_type": "markdown",
   "metadata": {},
   "source": [
    "<font size =\"3\">All features can be called through the \"neurom.get( )\" function"
   ]
  },
  {
   "cell_type": "code",
   "execution_count": 2,
   "metadata": {},
   "outputs": [
    {
     "name": "stdout",
     "output_type": "stream",
     "text": [
      "Help on function get in module neurom.features:\n",
      "\n",
      "get(feature, obj, **kwargs)\n",
      "    Obtain a feature from a set of morphology objects\n",
      "    \n",
      "    Parameters:\n",
      "        feature(string): feature to extract\n",
      "        obj: a neuron, population or neurite tree\n",
      "        **kwargs: parameters to forward to underlying worker functions\n",
      "    \n",
      "    Returns:\n",
      "        features as a 1D or 2D numpy array.\n",
      "    \n",
      "        \n",
      "    Features:        \n",
      "        Neurite features (neurite, neuron, neuron population):\n",
      "            - diameter_power_relation:\n",
      "                Calculate the diameter power relation at a bifurcation point\n",
      "                    as defined in https://www.ncbi.nlm.nih.gov/pubmed/18568015\n",
      "                \n",
      "                    This quantity gives an indication of how far the branching is from\n",
      "                    the Rall ratio (when =1).\n",
      "            - local_bifurcation_angles:\n",
      "                Get a list of local bifurcation angles in a collection of neurites\n",
      "            - neurite_lengths:\n",
      "                Get the path length per neurite in a collection\n",
      "            - neurite_volume_density:\n",
      "                Get the volume density per neurite\n",
      "                \n",
      "                    The volume density is defined as the ratio of the neurite volume and\n",
      "                    the volume of the neurite's enclosing convex hull\n",
      "            - neurite_volumes:\n",
      "                Get the volume per neurite in a collection\n",
      "            - number_of_bifurcations:\n",
      "                number of bifurcation points in a collection of neurites\n",
      "            - number_of_forking_points:\n",
      "                number of forking points in a collection of neurites\n",
      "            - number_of_neurites:\n",
      "                Number of neurites in a collection of neurites\n",
      "            - number_of_sections:\n",
      "                Number of sections in a collection of neurites\n",
      "            - number_of_sections_per_neurite:\n",
      "                Get the number of sections per neurite in a collection of neurites\n",
      "            - number_of_segments:\n",
      "                Number of sections in a collection of neurites\n",
      "            - number_of_terminations:\n",
      "                number of leaves points in a collection of neurites\n",
      "            - partition:\n",
      "                Partition at bifurcation points of a collection of neurites\n",
      "            - partition_asymmetry:\n",
      "                Partition asymmetry at bifurcation points of a collection of neurites\n",
      "                    Variant: length is a different definition, as the absolute difference in\n",
      "                    downstream path lenghts, relative to the total neurite path length\n",
      "            - partition_asymmetry_length:\n",
      "                partial(func, *args, **keywords) - new function with partial application\n",
      "                    of the given arguments and keywords.\n",
      "            - partition_pairs:\n",
      "                Partition pairs at bifurcation points of a collection of neurites.\n",
      "                    Partition pait is defined as the number of bifurcations at the two\n",
      "                    daughters of the bifurcating section\n",
      "            - principal_direction_extents:\n",
      "                Principal direction extent of neurites in neurons\n",
      "            - remote_bifurcation_angles:\n",
      "                Get a list of remote bifurcation angles in a collection of neurites\n",
      "            - section_areas:\n",
      "                section areas in a collection of neurites\n",
      "            - section_bif_branch_orders:\n",
      "                Bifurcation section branch orders in a collection of neurites\n",
      "            - section_bif_lengths:\n",
      "                Bifurcation section lengths in a collection of neurites\n",
      "            - section_bif_radial_distances:\n",
      "                Get the radial distances of the bifurcation sections for a collection of neurites\n",
      "            - section_branch_orders:\n",
      "                section branch orders in a collection of neurites\n",
      "            - section_end_distances:\n",
      "                section end to end distances in a collection of neurites\n",
      "            - section_lengths:\n",
      "                section lengths in a collection of neurites\n",
      "            - section_path_distances:\n",
      "                Path lengths of a collection of neurites\n",
      "            - section_radial_distances:\n",
      "                Section radial distances in a collection of neurites.\n",
      "                    The iterator_type can be used to select only terminal sections (ileaf)\n",
      "                    or only bifurcations (ibifurcation_point).\n",
      "            - section_strahler_orders:\n",
      "                Inter-segment opening angles in a section\n",
      "            - section_taper_rates:\n",
      "                Diameters taper rate of the sections in a collection of neurites\n",
      "                    when going from root to tips. It is expected to be negative\n",
      "                    for neurons.\n",
      "                \n",
      "                    Taper rate is defined here as the linear fit along a section\n",
      "            - section_term_branch_orders:\n",
      "                Termination section branch orders in a collection of neurites\n",
      "            - section_term_lengths:\n",
      "                Termination section lengths in a collection of neurites\n",
      "            - section_term_radial_distances:\n",
      "                Get the radial distances of the termination sections for a collection of neurites\n",
      "            - section_tortuosity:\n",
      "                section tortuosities in a collection of neurites\n",
      "            - section_volumes:\n",
      "                section volumes in a collection of neurites\n",
      "            - segment_areas:\n",
      "                Areas of the segments in a collection of neurites\n",
      "            - segment_lengths:\n",
      "                Lengths of the segments in a collection of neurites\n",
      "            - segment_meander_angles:\n",
      "                Inter-segment opening angles in a section\n",
      "            - segment_midpoints:\n",
      "                Return a list of segment mid-points in a collection of neurites\n",
      "            - segment_path_lengths:\n",
      "                Returns pathlengths between all non-root points and their root point\n",
      "            - segment_radial_distances:\n",
      "                Returns the list of distances between all segment mid points and origin.\n",
      "            - segment_radii:\n",
      "                arithmetic mean of the radii of the points in segments in a collection of neurites\n",
      "            - segment_taper_rates:\n",
      "                Diameters taper rates of the segments in a collection of neurites\n",
      "                \n",
      "                    The taper rate is defined as the absolute radii differences divided by length of the section\n",
      "            - segment_volumes:\n",
      "                Volumes of the segments in a collection of neurites\n",
      "            - sibling_ratio:\n",
      "                Sibling ratios at bifurcation points of a collection of neurites.\n",
      "                    The sibling ratio is the ratio between the diameters of the\n",
      "                    smallest and the largest child. It is a real number between\n",
      "                    0 and 1. Method argument allows one to consider mean diameters\n",
      "                    along the child section instead of diameter of the first point.\n",
      "            - terminal_path_lengths_per_neurite:\n",
      "                Get the path lengths to each terminal point per neurite in a collection\n",
      "            - total_area_per_neurite:\n",
      "                Surface area in a collection of neurites.\n",
      "                \n",
      "                    The area is defined as the sum of the area of the sections.\n",
      "            - total_length:\n",
      "                Get the total length of all sections in the group of neurons or neurites\n",
      "            - total_length_per_neurite:\n",
      "                Get the path length per neurite in a collection\n",
      "        \n",
      "        Neuron features (neuron, neuron population):\n",
      "            - sholl_frequency:\n",
      "                perform Sholl frequency calculations on a population of neurites\n",
      "                \n",
      "                    Args:\n",
      "                        nrn(morph): nrn or population\n",
      "                        neurite_type(NeuriteType): which neurites to operate on\n",
      "                        step_size(float): step size between Sholl radii\n",
      "                \n",
      "                    Note:\n",
      "                        Given a neuron, the soma center is used for the concentric circles,\n",
      "                        which range from the soma radii, and the maximum radial distance\n",
      "                        in steps of `step_size`.  When a population is given, the concentric\n",
      "                        circles range from the smallest soma radius to the largest radial neurite\n",
      "                        distance.  Finally, each segment of the neuron is tested, so a neurite that\n",
      "                        bends back on itself, and crosses the same Sholl radius will get counted as\n",
      "                        having crossed multiple times.\n",
      "            - soma_radii:\n",
      "                 Get the radii of the somata of a population of neurons\n",
      "                \n",
      "                    Note:\n",
      "                        If a single neuron is passed, a single element list with the\n",
      "                        radius of its soma member is returned.\n",
      "            - soma_surface_areas:\n",
      "                Get the surface areas of the somata in a population of neurons\n",
      "                \n",
      "                    Note:\n",
      "                        The surface area is calculated by assuming the soma is spherical.\n",
      "                    Note:\n",
      "                        If a single neuron is passed, a single element list with the surface\n",
      "                        area of its soma member is returned.\n",
      "            - soma_volumes:\n",
      "                Get the volume of the somata in a population of neurons\n",
      "                    Note:\n",
      "                        If a single neuron is passed, a single element list with the volume\n",
      "                        of its soma member is returned.\n",
      "            - trunk_angles:\n",
      "                Calculates the angles between all the trunks of the neuron.\n",
      "                    The angles are defined on the x-y plane and the trees\n",
      "                    are sorted from the y axis and anticlock-wise.\n",
      "            - trunk_origin_azimuths:\n",
      "                Get a list of all the trunk origin azimuths of a neuron or population\n",
      "                \n",
      "                    The azimuth is defined as Angle between x-axis and the vector\n",
      "                    defined by (initial tree point - soma center) on the x-z plane.\n",
      "                \n",
      "                    The range of the azimuth angle [-pi, pi] radians\n",
      "            - trunk_origin_elevations:\n",
      "                Get a list of all the trunk origin elevations of a neuron or population\n",
      "                \n",
      "                    The elevation is defined as the angle between x-axis and the\n",
      "                    vector defined by (initial tree point - soma center)\n",
      "                    on the x-y half-plane.\n",
      "                \n",
      "                    The range of the elevation angle [-pi/2, pi/2] radians\n",
      "            - trunk_origin_radii:\n",
      "                radii of the trunk sections of neurites in a neuron\n",
      "            - trunk_section_lengths:\n",
      "                list of lengths of trunk sections of neurites in a neuron\n",
      "            - trunk_vectors:\n",
      "                Calculates the vectors between all the trunks of the neuron\n",
      "                    and the soma center.\n",
      "\n"
     ]
    }
   ],
   "source": [
    "help(nm.get)"
   ]
  },
  {
   "cell_type": "markdown",
   "metadata": {},
   "source": [
    "<font size = \"3\">Now let's see how we can use it to make some measurements."
   ]
  },
  {
   "cell_type": "code",
   "execution_count": null,
   "metadata": {},
   "outputs": [],
   "source": [
    "# Extract section_lengths\n",
    "section_lengths_neuron = nm.get('section_lengths', neuron)\n",
    "print (\"Section lengths: \\n\", section_lengths_neuron[:10])\n",
    "\n",
    "# Extract the local bifurcation angles\n",
    "local_bif_angles = nm.get('local_bifurcation_angles', neuron)\n",
    "print (\"\\nSection local bifurcation angles: \\n\", local_bif_angles[:10])"
   ]
  },
  {
   "cell_type": "code",
   "execution_count": null,
   "metadata": {},
   "outputs": [],
   "source": [
    "try:\n",
    "    # this must err because no soma is available\n",
    "    nm.get('soma_radii', neuron.neurites)\n",
    "\n",
    "except AttributeError:\n",
    "    \n",
    "    print (\"Soma was not found. Input object is wrong.\")\n"
   ]
  },
  {
   "cell_type": "markdown",
   "metadata": {},
   "source": [
    "## Select Neurite Types"
   ]
  },
  {
   "cell_type": "markdown",
   "metadata": {},
   "source": [
    "<font size =\"3\">The previous examples treated all neurites in the same way. NeuroM allows you to extract morphometrics for a selected type of trees."
   ]
  },
  {
   "cell_type": "code",
   "execution_count": null,
   "metadata": {},
   "outputs": [],
   "source": [
    "dir(nm.NeuriteType)"
   ]
  },
  {
   "cell_type": "code",
   "execution_count": null,
   "metadata": {
    "scrolled": true
   },
   "outputs": [],
   "source": [
    "import numpy as np\n",
    "\n",
    "# Extract the section lengths of axonal trees\n",
    "ax_section_lengths = nm.get('section_lengths', neuron, neurite_type=nm.NeuriteType.axon)\n",
    "\n",
    "# Extract the section lengths of basal dendritic trees\n",
    "ba_section_lengths = nm.get('section_lengths', neuron, neurite_type=nm.NeuriteType.basal_dendrite)\n",
    "\n",
    "# Extract the section lengths of apical dendritic trees\n",
    "ap_section_lengths = nm.get('section_lengths', neuron, neurite_type=nm.NeuriteType.apical_dendrite)\n",
    "\n",
    "print ('axonal ', ax_section_lengths)\n",
    "print ('\\n basal  ', ba_section_lengths)\n",
    "print ('\\n apical ', ap_section_lengths)\n",
    "print ('\\n total_axonal_length =', np.sum(ax_section_lengths))"
   ]
  },
  {
   "cell_type": "markdown",
   "metadata": {},
   "source": [
    "## Let's plot the results"
   ]
  },
  {
   "cell_type": "code",
   "execution_count": null,
   "metadata": {},
   "outputs": [],
   "source": [
    "def histogram(data):\n",
    "    \"\"\"Generates a histogram in a new figure\"\"\"\n",
    "    \n",
    "    # Create an image with one subplot\n",
    "    f, ax = plt.subplots(1,1, figsize=(5,5))\n",
    "    \n",
    "    # Create a histogram with specified bins and normalized\n",
    "    ax.hist(data, bins=10, normed=True) \n",
    "    ax.set_title(feature.replace('_', ' ')) # Replace the underscores with spaces in the string\n",
    "    ax.set_xlabel('units')\n",
    "    ax.set_ylabel('density')\n",
    "    \n",
    "    return f, ax\n",
    "\n",
    "def boxplot(data):\n",
    "    '''Generates a boxplot in a new figure'''\n",
    "\n",
    "    # Create an image with one subplot\n",
    "    f, ax = plt.subplots(1,1, figsize=(5,5))\n",
    "    ax.boxplot(data) # plot boxplot\n",
    "    ax.set_ylabel('values')\n",
    "\n",
    "    return f, ax\n",
    "\n",
    "feature =  'section_lengths'\n",
    "values = nm.get(feature, neuron)\n",
    "\n",
    "histogram(values)\n",
    "boxplot(values)"
   ]
  }
 ],
 "metadata": {
  "kernelspec": {
   "display_name": "Python 3",
   "language": "python",
   "name": "python3"
  },
  "language_info": {
   "codemirror_mode": {
    "name": "ipython",
    "version": 3
   },
   "file_extension": ".py",
   "mimetype": "text/x-python",
   "name": "python",
   "nbconvert_exporter": "python",
   "pygments_lexer": "ipython3",
   "version": "3.6.9"
  }
 },
 "nbformat": 4,
 "nbformat_minor": 4
}
