{
 "cells": [
  {
   "cell_type": "markdown",
   "metadata": {},
   "source": [
    "<center><font size = \"10\"> Week 2 - Morphologies <center>\n",
    "<center><font size = \"8\">Tutorial 03: Morphometrics<center>"
   ]
  },
  {
   "cell_type": "markdown",
   "metadata": {},
   "source": [
    "<font size =\"3\"><font color='blue'>In this tutorial you will learn:\n",
    "    \n",
    "<font size =\"3\"><font color='blue'>- How to perform analysis on morphologies\n",
    "    \n",
    "<font size =\"3\"><font color='blue'>- How to plot some results"
   ]
  },
  {
   "cell_type": "markdown",
   "metadata": {},
   "source": [
    "<font size =\"3\">There are two types of features: the neuron and neurite features.\n",
    "\n",
    "<font size =\"3\">- Neurite features can be extracted from a single neurite, a list of neurites or a neuron.\n",
    "\n",
    "<font size =\"3\">- Neuron features can only be extracted from a neuron, because some additional info is usually required (e.g. distance from soma)."
   ]
  },
  {
   "cell_type": "code",
   "execution_count": null,
   "metadata": {},
   "outputs": [],
   "source": [
    "# Make sure that all the plots will be shown\n",
    "%matplotlib inline \n",
    "\n",
    "# import useful packages\n",
    "import matplotlib.pyplot as plt\n",
    "import neurom as nm\n",
    "\n",
    "# Define the path in which the data file lives\n",
    "#good_neuron = '..../good_morph.asc'\n",
    "good_neuron = 'good_morph.asc'\n",
    "\n",
    "neuron = nm.load_neuron(good_neuron)"
   ]
  },
  {
   "cell_type": "markdown",
   "metadata": {},
   "source": [
    "<font size =\"3\">All features can be called through the \"neurom.get( )\" function"
   ]
  },
  {
   "cell_type": "code",
   "execution_count": null,
   "metadata": {},
   "outputs": [],
   "source": [
    "help(nm.get)"
   ]
  },
  {
   "cell_type": "markdown",
   "metadata": {},
   "source": [
    "<font size = \"3\">Now let's see how we can use it to make some measurements."
   ]
  },
  {
   "cell_type": "code",
   "execution_count": null,
   "metadata": {},
   "outputs": [],
   "source": [
    "# Extract section_lengths\n",
    "section_lengths_neuron = nm.get('section_lengths', neuron)\n",
    "print (\"Section lengths: \\n\", section_lengths_neuron[:10])\n",
    "\n",
    "# Extract the local bifurcation angles\n",
    "local_bif_angles = nm.get('local_bifurcation_angles', neuron)\n",
    "print (\"\\nSection local bifurcation angles: \\n\", local_bif_angles[:10])"
   ]
  },
  {
   "cell_type": "code",
   "execution_count": null,
   "metadata": {},
   "outputs": [],
   "source": [
    "try:\n",
    "    # this must err because no soma is available\n",
    "    nm.get('soma_radii', neuron.neurites)\n",
    "\n",
    "except AttributeError:\n",
    "    \n",
    "    print (\"Soma was not found. Input object is wrong.\")\n"
   ]
  },
  {
   "cell_type": "markdown",
   "metadata": {},
   "source": [
    "## Select Neurite Types"
   ]
  },
  {
   "cell_type": "markdown",
   "metadata": {},
   "source": [
    "<font size =\"3\">The previous examples treated all neurites in the same way. NeuroM allows you to extract morphometrics for a selected type of trees."
   ]
  },
  {
   "cell_type": "code",
   "execution_count": null,
   "metadata": {},
   "outputs": [],
   "source": [
    "dir(nm.NeuriteType)"
   ]
  },
  {
   "cell_type": "code",
   "execution_count": null,
   "metadata": {
    "scrolled": true
   },
   "outputs": [],
   "source": [
    "import numpy as np\n",
    "\n",
    "# Extract the section lengths of axonal trees\n",
    "ax_section_lengths = nm.get('section_lengths', neuron, neurite_type=nm.NeuriteType.axon)\n",
    "\n",
    "# Extract the section lengths of basal dendritic trees\n",
    "ba_section_lengths = nm.get('section_lengths', neuron, neurite_type=nm.NeuriteType.basal_dendrite)\n",
    "\n",
    "# Extract the section lengths of apical dendritic trees\n",
    "ap_section_lengths = nm.get('section_lengths', neuron, neurite_type=nm.NeuriteType.apical_dendrite)\n",
    "\n",
    "print ('axonal ', ax_section_lengths)\n",
    "print ('\\n basal  ', ba_section_lengths)\n",
    "print ('\\n apical ', ap_section_lengths)\n",
    "print ('\\n total_axonal_length =', np.sum(ax_section_lengths))"
   ]
  },
  {
   "cell_type": "markdown",
   "metadata": {},
   "source": [
    "## Let's plot the results"
   ]
  },
  {
   "cell_type": "code",
   "execution_count": null,
   "metadata": {},
   "outputs": [],
   "source": [
    "def histogram(data):\n",
    "    \"\"\"Generates a histogram in a new figure\"\"\"\n",
    "    \n",
    "    # Create an image with one subplot\n",
    "    f, ax = plt.subplots(1,1, figsize=(5,5))\n",
    "    \n",
    "    # Create a histogram with specified bins and normalized\n",
    "    ax.hist(data, bins=10, normed=True) \n",
    "    ax.set_title(feature.replace('_', ' ')) # Replace the underscores with spaces in the string\n",
    "    ax.set_xlabel('units')\n",
    "    ax.set_ylabel('density')\n",
    "    \n",
    "    return f, ax\n",
    "\n",
    "def boxplot(data):\n",
    "    '''Generates a boxplot in a new figure'''\n",
    "\n",
    "    # Create an image with one subplot\n",
    "    f, ax = plt.subplots(1,1, figsize=(5,5))\n",
    "    ax.boxplot(data) # plot boxplot\n",
    "    ax.set_ylabel('values')\n",
    "\n",
    "    return f, ax\n",
    "\n",
    "feature =  'section_lengths'\n",
    "values = nm.get(feature, neuron)\n",
    "\n",
    "histogram(values)\n",
    "boxplot(values)"
   ]
  }
 ],
 "metadata": {
  "kernelspec": {
   "display_name": "Python 3",
   "language": "python",
   "name": "python3"
  },
  "language_info": {
   "codemirror_mode": {
    "name": "ipython",
    "version": 3
   },
   "file_extension": ".py",
   "mimetype": "text/x-python",
   "name": "python",
   "nbconvert_exporter": "python",
   "pygments_lexer": "ipython3",
   "version": "3.6.9"
  }
 },
 "nbformat": 4,
 "nbformat_minor": 4
}
