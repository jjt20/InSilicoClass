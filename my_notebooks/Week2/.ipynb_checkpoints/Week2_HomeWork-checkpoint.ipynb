{
 "cells": [
  {
   "cell_type": "markdown",
   "metadata": {},
   "source": [
    "<center><font size = \"10\"> Week 2 - Morphologies <center>\n",
    "<center><font size = \"8\">Home work<center>"
   ]
  },
  {
   "cell_type": "markdown",
   "metadata": {},
   "source": [
    "<font size = \"3\">Please, write your group number and the names and surnames of the group members here\n",
    "<br>Group number:\n",
    "<br>Group member1:\n",
    "<br>Group member2:\n",
    "<br>Group member3:"
   ]
  },
  {
   "cell_type": "markdown",
   "metadata": {},
   "source": [
    "# Ex1: Create your favorite neuron\n",
    "\n",
    "<font size =\"3\">Write some code that builds a geometrical model of a neuron with one soma, one axon and two dendrites with three branches and visualize the resulting model. [0.5 pts]"
   ]
  },
  {
   "cell_type": "code",
   "execution_count": null,
   "metadata": {},
   "outputs": [],
   "source": []
  },
  {
   "cell_type": "markdown",
   "metadata": {},
   "source": [
    "# Ex2: Visualizing neurons\n",
    "\n",
    "<font size =\"3\">Select one of the neurons from your group data set. Write a code that visualizes the neuron oriented on the three possible planes (xy, xz and yz) and its neurites. Represent everything in the same plot (subplot). The main title of the figure should be the cell name. The subplots should have their title (for example: 'plane xy' or 'neurite 2') and the axes of each subplot should be labeled as well. [1.5 pts]"
   ]
  },
  {
   "cell_type": "code",
   "execution_count": null,
   "metadata": {},
   "outputs": [],
   "source": []
  },
  {
   "cell_type": "markdown",
   "metadata": {},
   "source": [
    "# Ex3: Check your set of morphologies for mistakes\n",
    "\n",
    "<font size = \"3\">Work with the morphology files that correspond to your group. Some of them are good morphology files and some have mistakes. Write down which files have errors and enumerate their errors. (You can use or copy here the code from tutorial 02). Explain, on your own words, some ideas about how you would correct the mistakes from your bad morphology files. [1.5 pts]"
   ]
  },
  {
   "cell_type": "code",
   "execution_count": null,
   "metadata": {},
   "outputs": [],
   "source": []
  },
  {
   "cell_type": "markdown",
   "metadata": {},
   "source": [
    "# Ex4: Morphometrics\n",
    "\n",
    "<font size = \"3\">Now that you know which cells, out of your group data set are morphologically correct, its time to analyze some morphological characteristics of them. \n",
    "\n",
    "<font size = \"3\">Compute: the total_basal_length, the total_axonal_length and the soma_volume of the cells in your group data set that have no mistakes. Represent the result of all the cells on three different histograms: total_basal_length, total_axonal_length and soma_volume. Do you see any differences? If yes, explain them. Would you be able to classify the cells based on these differences?  [2.5 pts]"
   ]
  },
  {
   "cell_type": "code",
   "execution_count": null,
   "metadata": {},
   "outputs": [],
   "source": []
  },
  {
   "cell_type": "markdown",
   "metadata": {},
   "source": [
    "<font size = \"3\">__IMPORTANT:__ as we have seen in the lecture, neurons have very different shapes. Some of them may even missed some parts that other neurons have, but this doesn't mean that their reconstruction is wrong. \n",
    "\n",
    "<font size = \"3\">Use the information given on the following papers to help you answer Ex3 and Ex4.\n",
    "\n",
    "<font size = \"3\">[paper 1](https://www.nature.com/articles/nrn1519.pdf) \n",
    "    \n",
    "<font size = \"3\">[paper 2](https://www.nature.com/articles/nrn2402.pdf)\n",
    "    \n",
    "<font size = \"3\">[paper 3](https://watermark.silverchair.com/bhy339.pdf?token=AQECAHi208BE49Ooan9kkhW_Ercy7Dm3ZL_9Cf3qfKAc485ysgAAAnwwggJ4BgkqhkiG9w0BBwagggJpMIICZQIBADCCAl4GCSqGSIb3DQEHATAeBglghkgBZQMEAS4wEQQMjL2dxX4XnctI8PSkAgEQgIICL871rzxAccwBPnWDWJYXnmhez2c206RYVCnDmVVfJdui3Y0__27wwcSCeSvs8bMO-ySrUsntk8bkKC0g0_2zqK9F-IRlkpL4X120sWQoyjsnZSRgpQgBRjhTGqEiQFSv6VpT1NS7tw8Ytgz0nxRzd6uVmAJmm4hA3Qt6xerIeKCuUP2LZhWFPCkCqY9Z6vrTWs31nKibrYQyhfebtfrjQUXZM41f-jg19pGQW353OY8X8EHbnlzljAF25bPO1dFcoJ9z1YrIavhUJvrC_ROcrQ_xFpf43nLKtv44PxSR8ynIh1W87NKQjMy09q_SeEqL2rQcbMm_GxJp11_T39iAZeoghTOsj9nbJM1DcZ_EHiPDUimGWP-zX3GgPa5OFMYDW99UlS7aoEhLUMeNOagm1McT8U3SYyKYUSmKuWbxSE4vzzl6i4kfVTZinPCc2pJUO7foA11nzp8Od-BadQFDv4oC306nDSWJWe62Y4qbGmzR4MLnO_Gunf9wmszwyNHckn81sxPmTBmnTKYkYNJLUGjZFluRgw_Ssjvk42kBawDJ338-CdN0zTm7paxSSDTu32ZKLLaEjchehmkt5ecY3qn5cNXgAo-BGoMDN2Cl9h5F_NZlR4vTg2B3vRKKmKfjt1tLqoG8K4FrO3LNE8cmCZ-f3iFGSeDOD_VMFb5O0q68uqnlfRN6Ep56WChWSWRS92wNhGx7rUQAOvK7dJWK7oIPaxXBh55_RpZn2BQI0WQ)"
   ]
  }
 ],
 "metadata": {
  "kernelspec": {
   "display_name": "Python 3",
   "language": "python",
   "name": "python3"
  },
  "language_info": {
   "codemirror_mode": {
    "name": "ipython",
    "version": 3
   },
   "file_extension": ".py",
   "mimetype": "text/x-python",
   "name": "python",
   "nbconvert_exporter": "python",
   "pygments_lexer": "ipython3",
   "version": "3.6.9"
  }
 },
 "nbformat": 4,
 "nbformat_minor": 4
}
