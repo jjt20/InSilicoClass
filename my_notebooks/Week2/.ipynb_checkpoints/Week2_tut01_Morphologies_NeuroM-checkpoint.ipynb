{
 "cells": [
  {
   "cell_type": "markdown",
   "metadata": {},
   "source": [
    "<center><font size = \"10\"> Week 2 - Morphologies <center>\n",
    "<center><font size = \"8\">Tutorial 01: create and visualize<center>"
   ]
  },
  {
   "cell_type": "markdown",
   "metadata": {},
   "source": [
    "<font size = \"3\"><font color='blue'>Throughout this tutorial you will learn how to: \n",
    "    \n",
    "<font size = \"3\"><font color='blue'>- build a neuron morphology step by step with NEURON \n",
    "    \n",
    "<font size = \"3\"><font color='blue'>- load a complex neuronal morphology in NEURON\n",
    "    \n",
    "<font size = \"3\"><font color='blue'>- visualize morphologies with NeuroM"
   ]
  },
  {
   "cell_type": "markdown",
   "metadata": {},
   "source": [
    "# 1. Create a neuron morphology with Neuron"
   ]
  },
  {
   "cell_type": "markdown",
   "metadata": {},
   "source": [
    " ## What is NEURON?\n",
    " \n",
    " <font size = \"3\"> The NEURON simulation environment is a powerful engine for performing simulations of neurons and biophysical neural networks. It allows the construction of biologically realistic membranes with active and passive ion channels, combined with virtual connectivity and electrophysiology tools to drive and measure single neurons and network behavior.\n",
    "    \n",
    "<font size = \"3\">You can take a look to the online guides and tutorials here - [NEURON](https://www.neuron.yale.edu/neuron/docs)"
   ]
  },
  {
   "cell_type": "markdown",
   "metadata": {},
   "source": [
    "## What is NeuroM?\n",
    " \n",
    "<font size = \"3\">NeuroM is a Python toolkit for the analysis and processing of neuron morphologies. \n",
    "You can find all the documentation here -[NeuroM](https://neurom.readthedocs.io/en/v1.4.17/quickstart.html)"
   ]
  },
  {
   "cell_type": "markdown",
   "metadata": {},
   "source": [
    "## Neuron and NeuroM usage\n",
    "\n",
    "### Import the neuron module into Python\n",
    "\n",
    "<font size = \"3\">Any code that is not part of Python's Built-in functions must be imported. \n",
    "    \n",
    "\n",
    "<font size = \"3\">The neuron.h submodule allows loading files, executing code and calling functions written in HOC, an older scripting language supported by NEURON. This allows the continued use of HOC libraries in Python code."
   ]
  },
  {
   "cell_type": "code",
   "execution_count": null,
   "metadata": {},
   "outputs": [],
   "source": [
    "# If you are working on your own computer do: from neuron import h, gui\n",
    "# The Neuron GUI will pop up on your screen\n",
    "\n",
    "# If you are working in Noto, run this cell as it is\n",
    "from neuron import h"
   ]
  },
  {
   "cell_type": "markdown",
   "metadata": {},
   "source": [
    "### Create a very simple model: ball and stick model"
   ]
  },
  {
   "cell_type": "code",
   "execution_count": null,
   "metadata": {},
   "outputs": [],
   "source": [
    "soma = h.Section(name='soma')"
   ]
  },
  {
   "cell_type": "markdown",
   "metadata": {},
   "source": [
    "<font size = \"3\">There is no output, so how can we tell we successfully created a section?\n",
    "\n",
    "<font size = \"3\">NEURON’s psection( ) (short for “print (section)”) function can provide a lot of detail on sections. \n",
    "\n",
    "<font size = \"3\">Let’s validate that we have a soma and view some of its properties"
   ]
  },
  {
   "cell_type": "code",
   "execution_count": null,
   "metadata": {},
   "outputs": [],
   "source": [
    "h.psection()"
   ]
  },
  {
   "cell_type": "markdown",
   "metadata": {},
   "source": [
    "<font size = \"3\">The results tell us the soma is a cylinder with length 100 microns, diameter 500 microns, axial resistivity 35.4 ohm*cm, and specific membrance capacitance 1  μF/c\n",
    "    \n",
    "\n",
    "<font size = \"3\">This is a dictionary, so we can extract any properties we want using square brackets. \n",
    "\n",
    "<font size = \"3\">For example, the lenght of a section is:"
   ]
  },
  {
   "cell_type": "code",
   "execution_count": null,
   "metadata": {},
   "outputs": [],
   "source": [
    "soma.psection()['morphology']['L']"
   ]
  },
  {
   "cell_type": "markdown",
   "metadata": {},
   "source": [
    "<font size = \"3\">We can also probe objects with Python’s built-in \"dir( )\" function. Let’s see what it says about soma."
   ]
  },
  {
   "cell_type": "code",
   "execution_count": null,
   "metadata": {
    "scrolled": true
   },
   "outputs": [],
   "source": [
    "dir(soma)"
   ]
  },
  {
   "cell_type": "markdown",
   "metadata": {},
   "source": [
    "<font size = \"3\">This tells us all of the Python methods and variables associated with the object. \n",
    "\n",
    "<font size = \"3\">Any methods with two leading and trailing underscores (\"\\__\\__str \\____\") are reserved by Python and may or may not be implemented by the object. The other items in the list are additional members of soma that we can call.\n",
    "\n",
    "<font size = \"3\">To see all of the functions available to the neuron variable h, try calling \"dir(h)\".\n",
    "\n",
    "<font size = \"3\">In addition to probing objects with \"dir( )\", help from docstrings is available using \"help( )\". For example, from \"dir(soma)\" we know that there is a connect method available. Let's inquire about that:"
   ]
  },
  {
   "cell_type": "code",
   "execution_count": null,
   "metadata": {},
   "outputs": [],
   "source": [
    "help(soma.connect)"
   ]
  },
  {
   "cell_type": "markdown",
   "metadata": {},
   "source": [
    "<font size = \"3\">We already have a soma ....\n",
    "Let's try adding some neurites!!!"
   ]
  },
  {
   "cell_type": "code",
   "execution_count": null,
   "metadata": {},
   "outputs": [],
   "source": [
    "# Define all the sections first\n",
    "dend = h.Section(name='dend')\n",
    "axon = h.Section(name='axon')\n",
    "\n",
    "# Topology\n",
    "dend.connect(soma(1))\n",
    "axon.connect(soma(0))\n",
    "\n",
    "# Geometry\n",
    "# Since NEURON deals with many different sections each with their own unique name, \n",
    "# we must tell NEURON which section we are working on when we want to access a section parameter. \n",
    "\n",
    "soma.L = soma.diam = 15    # microns\n",
    "dend.L = 50                 \n",
    "dend.diam = 1   \n",
    "dend.nseg = 3\n",
    "axon.diam = 3\n",
    "axon.L = 100\n",
    "axon.nseg = 5\n",
    "\n",
    "# Translate into 3D points\n",
    "h.define_shape()  \n",
    "\n",
    "# NEURON's h.topology() function displays the topological structure of the entire model, indicating which sections \n",
    "# are connected to which sections, where they are connected, and how many segments each section is divided into.\n",
    "h.topology()\n",
    "\n",
    "# Now let's see (plot) what we have created. \n",
    "# In Noto: we need to use a package called \"hoc2swc\" that will save our cell in a \".swc\" file. \n",
    "# This way, we will be able to visualize it using NeuroM.\n",
    "\n",
    "import neurom as nm\n",
    "from neurom import viewer\n",
    "from hoc2swc import neuron2swc\n",
    "\n",
    "# In Noto\n",
    "# save hoc object into \".swc\" file\n",
    "neuron2swc('cell_01.swc', swap_yz=False)\n",
    "# Open the \".swc\" and plot with NeuroM viewer\n",
    "neuron1 = nm.load_neuron('cell_01.swc')\n",
    "viewer.draw(neuron1)\n",
    "\n",
    "# In your laptop\n",
    "# Visualize in the Neuron GUI\n",
    "# NEURON's h.shape() function loads the topological structure of the model inside the GUI.\n",
    "#s = h.Shape()\n",
    "#s.show(False)\n",
    "#s.color(3, sec=axon) # color section \"axon\" blue\n",
    "#s.color(2, sec=dend) # color section \"dend\" red"
   ]
  },
  {
   "cell_type": "markdown",
   "metadata": {},
   "source": [
    "### Create a more geometrically complex model\n",
    "\n",
    "#### <font color='red'>PLEASE RESTART YOU KERNEL!!!!"
   ]
  },
  {
   "cell_type": "code",
   "execution_count": null,
   "metadata": {},
   "outputs": [],
   "source": [
    "from neuron import h\n",
    "import neurom as nm\n",
    "from neurom import viewer\n",
    "from hoc2swc import neuron2swc\n",
    "\n",
    "# Defining the sections\n",
    "my_soma = h.Section(name='my_soma')\n",
    "main_dend = h.Section(name='main_dend')\n",
    "my_axon = h.Section(name='my_axon')\n",
    "first_branch = h.Section(name='first_branch')\n",
    "second_branch = h.Section(name='second_branch')\n",
    "third_branch = h.Section(name='third_branch')\n",
    "\n",
    "# Geometry\n",
    "my_soma.L = my_soma.diam = 15\n",
    "main_dend.L = 100\n",
    "main_dend.diam = 5\n",
    "my_axon.L = 200\n",
    "my_axon.diam = 7\n",
    "first_branch.L = 50\n",
    "first_branch.diam = 3\n",
    "second_branch.L = 50\n",
    "second_branch.diam = 3\n",
    "third_branch.L = 50\n",
    "third_branch.diam = 3\n",
    "\n",
    "# Topology\n",
    "main_dend.connect(my_soma(1))\n",
    "my_axon.connect(my_soma(0))\n",
    "first_branch.connect(main_dend(1))\n",
    "second_branch.connect(main_dend(1))\n",
    "third_branch.connect(main_dend(1))\n",
    "h.topology()  # Check the topology\n",
    "\n",
    "# Visualize in Noto\n",
    "neuron2swc('cell_02.swc', swap_yz=False)\n",
    "neuron2 = nm.load_neuron('cell_02.swc')\n",
    "viewer.draw(neuron2)\n",
    "\n",
    "# In your laptop\n",
    "# Visualize in the Neuron GUI\n",
    "# Show sections in different colors\n",
    "#s = h.Shape()\n",
    "#s.show(False)\n",
    "#s.color(3, sec=my_axon) \n",
    "#s.color(2, sec=main_dend)\n",
    "#s.color(5, sec=first_branch)\n",
    "#s.color(5, sec=second_branch)\n",
    "#s.color(5, sec=third_branch) "
   ]
  },
  {
   "cell_type": "markdown",
   "metadata": {},
   "source": [
    "### Create another neuron model example with crazy values\n",
    "\n",
    "#### <font color='red'>PLEASE RESTART YOU KERNEL!!!!"
   ]
  },
  {
   "cell_type": "code",
   "execution_count": null,
   "metadata": {},
   "outputs": [],
   "source": [
    "from neuron import h\n",
    "import neurom as nm\n",
    "from neurom import viewer\n",
    "from hoc2swc import neuron2swc\n",
    "\n",
    "# Instantiate the new model\n",
    "\n",
    "# sections\n",
    "soma = h.Section(name='soma')\n",
    "papic = h.Section(name='proxApical')\n",
    "apic1 = h.Section(name='apic1')\n",
    "apic2 = h.Section(name='apic2')\n",
    "pb = h.Section(name='proxBasal')\n",
    "db1 = h.Section(name='distBasal1')\n",
    "db2 = h.Section(name='distBasal2')\n",
    "\n",
    "# Geometry - crazy values\n",
    "soma.L = soma.diam = 30\n",
    "papic.L = 200\n",
    "papic.diam = 10\n",
    "apic1.L = 100\n",
    "apic1.diam = 7\n",
    "apic2.L = 300\n",
    "apic2.diam = 5\n",
    "pb.L = 60\n",
    "pb.diam = 4\n",
    "db1.L = 80\n",
    "db1.diam = 5\n",
    "db2.L = 70\n",
    "db2.diam = 2\n",
    "\n",
    "# connect sections\n",
    "papic.connect(soma)\n",
    "pb.connect(soma(0))\n",
    "apic1.connect(papic)\n",
    "apic2.connect(papic)\n",
    "db1.connect(pb)\n",
    "db2.connect(pb)\n",
    "h.topology()\n",
    "\n",
    "# Visualize in Noto\n",
    "neuron2swc('cell_03.swc', swap_yz=False)\n",
    "neuron3 = nm.load_neuron('cell_03.swc')\n",
    "viewer.draw(neuron3)\n",
    "\n",
    "# In your laptop\n",
    "# Visualize in the Neuron GUI\n",
    "# Show sections in different colors\n",
    "#s.show(False)\n",
    "#s.color(1, sec=papic) \n",
    "#s.color(2, sec=pb)\n",
    "#s.color(3, sec=apic1)\n",
    "#s.color(3, sec=apic2)\n",
    "#s.color(4, sec=db1) \n",
    "#s.color(4, sec=db2) \n",
    "#s = h.Shape()"
   ]
  },
  {
   "cell_type": "markdown",
   "metadata": {},
   "source": [
    "### Using for-loops to create more complex morphologies\n",
    "\n",
    "#### <font color='red'>PLEASE RESTART YOU KERNEL!!!!"
   ]
  },
  {
   "cell_type": "code",
   "execution_count": null,
   "metadata": {},
   "outputs": [],
   "source": [
    "from neuron import h\n",
    "import neurom as nm\n",
    "from neurom import viewer\n",
    "from hoc2swc import neuron2swc\n",
    "import numpy\n",
    "\n",
    "# Pro tip: the same thing can also be done by using a list comprehension!!\n",
    "# A list comprehension is conceptually the same as a for loop\n",
    "soma, dend1, db1, db2, axon = [h.Section(name=n) for n in ['soma', 'dend1', 'dend_branch1', 'dend_branch2', 'axon']]\n",
    "\n",
    "# Geometry \n",
    "for sec in h.allsec():\n",
    "    sec.nseg = 10\n",
    "    sec.L = 100\n",
    "    for seg in sec:\n",
    "        seg.diam = numpy.interp(seg.x, [0, 1], [1, 10])\n",
    "\n",
    "# connect sections\n",
    "dend1.connect(soma(1))\n",
    "db1.connect(dend1(1),0)\n",
    "db2.connect(dend1)\n",
    "axon.connect(soma(0))\n",
    "h.topology()\n",
    "\n",
    "# Visualize in Noto\n",
    "neuron2swc('cell_04.swc', swap_yz=False)\n",
    "neuron4 = nm.load_neuron('cell_04.swc')\n",
    "viewer.draw(neuron4)\n",
    "\n",
    "# In your laptop\n",
    "# Visualize in the Neuron GUI\n",
    "#s.show(False)\n",
    "#s = h.Shape()"
   ]
  },
  {
   "cell_type": "markdown",
   "metadata": {},
   "source": [
    "### Create a neuron class\n",
    "\n",
    "#### <font color='red'>PLEASE RESTART YOU KERNEL!!!!"
   ]
  },
  {
   "cell_type": "code",
   "execution_count": null,
   "metadata": {},
   "outputs": [],
   "source": [
    "from neuron import h\n",
    "import neurom as nm\n",
    "from neurom import viewer\n",
    "from hoc2swc import neuron2swc\n",
    "import numpy\n",
    "\n",
    "class BallAndStick:\n",
    "    def __init__(self, gid):\n",
    "        self._gid = gid\n",
    "        self.soma = h.Section(name='soma', cell=self)\n",
    "        self.dend = h.Section(name='dend', cell=self)\n",
    "        self.dend.connect(self.soma)\n",
    "        self.soma.L = self.soma.diam = 12.6157 # If you're wondering why that number was chosen \n",
    "                                               # for the soma, it's because it makes the surface area \n",
    "                                               # (which doesn't include end faces) approximately 500 μm2:\n",
    "        self.dend.L = 200\n",
    "        self.dend.diam = 1\n",
    "    def __str__(self):\n",
    "        return 'BallAndStick[{}]'.format(self._gid)\n",
    "\n",
    "my_cell = BallAndStick(0)\n",
    "h.topology()\n",
    "\n",
    "# Visualize in Noto\n",
    "neuron2swc('cell_05.swc', swap_yz=False)\n",
    "neuron5 = nm.load_neuron('cell_05.swc')\n",
    "viewer.draw(neuron5)"
   ]
  },
  {
   "cell_type": "markdown",
   "metadata": {},
   "source": [
    "# 2. Load and visualize real neuronal morphologies"
   ]
  },
  {
   "cell_type": "markdown",
   "metadata": {},
   "source": [
    "<font size = \"3\">You should change the following paths to the ones in which you have saved the files."
   ]
  },
  {
   "cell_type": "code",
   "execution_count": null,
   "metadata": {},
   "outputs": [],
   "source": [
    "# Here are the paths to morphology files\n",
    "\n",
    "path_to_file = 'good_morph.asc'\n",
    "nrn = path_to_file"
   ]
  },
  {
   "cell_type": "markdown",
   "metadata": {},
   "source": [
    "<font size = \"3\"> First, we can check what is inside the file."
   ]
  },
  {
   "cell_type": "code",
   "execution_count": null,
   "metadata": {
    "scrolled": true
   },
   "outputs": [],
   "source": [
    "import neurom as nm\n",
    "\n",
    "# Compatible file formats for morphology could be: ascii, swc, hdf5.\n",
    "# Before plotting, let's see what is inside the morphology file.\n",
    "neuron = nm.load_neuron(nrn)\n",
    "print(neuron.name)\n",
    "\n",
    "neurites = neuron.neurites\n",
    "#print(neurites)       # Uncomment this if you want to know what are you going to iterate through.\n",
    "\n",
    "# \"enumerate()\" returns the number of the list item and the object itself\n",
    "# e.g. (1, neurite1), (2, neurite2), etc.\n",
    "for i, neurite in enumerate(neurites):\n",
    "    \n",
    "    # \"iter_sections()\" is an iterator. It returns the values one by one every time it is called\n",
    "    # therefore by applying the list function we force to return all the values.\n",
    "    number_of_sections = len(list(neurite.iter_sections()))\n",
    "    \n",
    "    # \"points\" is a numpy array, where instead of len, shape is used\n",
    "    # first element is the number of points, second the number of coordinates and a radius (4)\n",
    "    number_of_points = neurite.points.shape[0]\n",
    "\n",
    "    # strings to use for printing (\"\\n\" = change line)\n",
    "    string_neurite = \"Neurite {0}:\\n\".format(i)\n",
    "    string_type    = \"Type: {0}\\n\".format(neurite.type)\n",
    "    string_n_secs  = \"Number of Sections: {0}\\n\".format(number_of_sections)\n",
    "    string_n_pnts  = \"Number of Points: {0}\\n\".format(number_of_points)\n",
    "    \n",
    "    # \"join()\" concatenates strings in a list by linking them with the provided string (here a tab identation \"\\t\")\n",
    "    print(\"\\t\".join((string_neurite, string_type, string_n_secs, string_n_pnts)))\n",
    "\n"
   ]
  },
  {
   "cell_type": "markdown",
   "metadata": {},
   "source": [
    "<font size = \"3\">Second, we can visualize the real morphological reconstruction using \"neurom viewer\".\n",
    "<font size = \"3\"> We will plot three different graps: the morphology on its 'xy' plane, the soma and the different neurites."
   ]
  },
  {
   "cell_type": "code",
   "execution_count": null,
   "metadata": {
    "scrolled": true
   },
   "outputs": [],
   "source": [
    "# Let's check what \"viewer\" can do for us\n",
    "from neurom import viewer\n",
    "\n",
    "help(viewer.draw)"
   ]
  },
  {
   "cell_type": "code",
   "execution_count": null,
   "metadata": {},
   "outputs": [],
   "source": [
    "from neurom.view import view\n",
    "from neurom.view.common import update_plot_limits\n",
    "import matplotlib.pyplot as plt\n",
    "\n",
    "## PLOT 1\n",
    "# Plot the morphology on a specific plane\n",
    "# planes: 'xy', 'xz', 'yz'\n",
    "figure, axis = viewer.draw(neuron, mode='2d', plane='xy')\n",
    "\n",
    "# The axis handler is returend for further customization\n",
    "axis.set_title('My Favorite Neuron')\n",
    "axis.set_xlabel('micrometers (um)')\n",
    "axis.set_ylabel('micrometers (um)')"
   ]
  },
  {
   "cell_type": "code",
   "execution_count": null,
   "metadata": {},
   "outputs": [],
   "source": [
    "## PLOT 2\n",
    "# Plot only the soma\n",
    "viewer.draw(neuron.soma, plane='xy')"
   ]
  },
  {
   "cell_type": "code",
   "execution_count": null,
   "metadata": {},
   "outputs": [],
   "source": [
    "## PLOT 3\n",
    "# Plot each of the neurites separately\n",
    "N = len(neurites)\n",
    "\n",
    "# Create N subplots, one for each neurite\n",
    "f, axes = plt.subplots(1, N, figsize=(15, 3)) # figsize in inches (width, height)\n",
    "\n",
    "for i, neurite in enumerate(neurites):\n",
    "    current_axes = axes[i]    \n",
    "    # draw the neurite in the i-th subplot\n",
    "    # new_fig set to False will prevent the creation of a new figure\n",
    "    # every time the function is called, the one that we created above will be used instead\n",
    "    view.plot_tree(current_axes, neurite, plane='xy')\n",
    "    update_plot_limits(current_axes, white_space=10)\n",
    "    # remove the xy axes for a prettier result\n",
    "    current_axes.axis('off')\n",
    "\n",
    "    # remove the title for each subplot\n",
    "    current_axes.set_title('')\n",
    "\n",
    "# set a global title for the figure\n",
    "f.suptitle(neuron.name, fontsize=20)\n",
    "plt.show()"
   ]
  }
 ],
 "metadata": {
  "kernelspec": {
   "display_name": "Neuron",
   "language": "python",
   "name": "neuron"
  },
  "language_info": {
   "codemirror_mode": {
    "name": "ipython",
    "version": 3
   },
   "file_extension": ".py",
   "mimetype": "text/x-python",
   "name": "python",
   "nbconvert_exporter": "python",
   "pygments_lexer": "ipython3",
   "version": "3.6.9"
  }
 },
 "nbformat": 4,
 "nbformat_minor": 4
}
