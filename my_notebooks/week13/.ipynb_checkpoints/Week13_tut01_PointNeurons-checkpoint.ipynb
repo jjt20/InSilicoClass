{
 "cells": [
  {
   "cell_type": "markdown",
   "metadata": {},
   "source": [
    "<center><font size = \"10\"> Week 13 - Simplification<center>\n",
    "<center><font size = \"8\">Tutorial 01: Point Neurons<center>"
   ]
  },
  {
   "cell_type": "markdown",
   "metadata": {},
   "source": [
    "<font size='3'><font color='blue'> This tutorial provides an overview of how to use the Integarte-And-Fire [(IF)](https://www.neuron.yale.edu/neuron/static/py_doc/modelspec/programmatic/mechanisms/mech.html) neuron model implemented in Neuron."
   ]
  },
  {
   "cell_type": "markdown",
   "metadata": {},
   "source": [
    "## Load useful packages and external files"
   ]
  },
  {
   "cell_type": "code",
   "execution_count": null,
   "metadata": {},
   "outputs": [],
   "source": [
    "from neuron import h\n",
    "import matplotlib.pyplot as plt\n",
    "import math as m\n",
    "\n",
    "# Load external files & initialize\n",
    "h.load_file(\"stdrun.hoc\");\n",
    "soma = h.Section() # dummy section so h._ref_t works"
   ]
  },
  {
   "cell_type": "markdown",
   "metadata": {},
   "source": [
    "# 1. Regular firing neuron \n",
    "<font size='3'>[(IntFire1)](https://www.neuron.yale.edu/neuron/static/py_doc/modelspec/programmatic/mechanisms/mech.html#IntFire1)"
   ]
  },
  {
   "cell_type": "markdown",
   "metadata": {},
   "source": [
    "## 1.1 Create artificial cell"
   ]
  },
  {
   "cell_type": "code",
   "execution_count": null,
   "metadata": {},
   "outputs": [],
   "source": [
    "# IntFire1 artificial cell\n",
    "if1 = h.IntFire1()\n",
    "if1.tau = 10 # membrane time constant\n",
    "if1.refrac = 5 # refractory period"
   ]
  },
  {
   "cell_type": "markdown",
   "metadata": {},
   "source": [
    "## 1.2 Create stimulation"
   ]
  },
  {
   "cell_type": "code",
   "execution_count": null,
   "metadata": {},
   "outputs": [],
   "source": [
    "# Stimulator\n",
    "s1 = h.NetStim()\n",
    "s1.interval = 10 # inter-spike interval\n",
    "s1.number = 100 # number of spikes\n",
    "s1.start = 5 # start"
   ]
  },
  {
   "cell_type": "markdown",
   "metadata": {},
   "source": [
    "## 1.3 Connect stimulation with cell"
   ]
  },
  {
   "cell_type": "code",
   "execution_count": null,
   "metadata": {},
   "outputs": [],
   "source": [
    "# connect stimulator to IF1 cell\n",
    "nc1 = h.NetCon(s1, if1)\n",
    "nc1.weight[0] = 0.7 # weight of each event"
   ]
  },
  {
   "cell_type": "markdown",
   "metadata": {},
   "source": [
    "## 1.4 Store input, output and time"
   ]
  },
  {
   "cell_type": "code",
   "execution_count": null,
   "metadata": {},
   "outputs": [],
   "source": [
    "# store input spike times\n",
    "nc1_v = h.Vector()\n",
    "nc1.record(nc1_v)\n",
    "\n",
    "# store output spike (event) times\n",
    "ev1 = h.NetCon(if1, None)\n",
    "ev1_v = h.Vector()\n",
    "ev1.record(ev1_v)\n",
    "\n",
    "# record time\n",
    "time_v = h.Vector()\n",
    "time_v.record(h._ref_t)"
   ]
  },
  {
   "cell_type": "markdown",
   "metadata": {},
   "source": [
    "## 1.5 Run the simulation"
   ]
  },
  {
   "cell_type": "code",
   "execution_count": null,
   "metadata": {},
   "outputs": [],
   "source": [
    "# initialize\n",
    "h.stdinit()\n",
    "h.finitialize(-65)\n",
    "\n",
    "# record M function\n",
    "vm1_v = h.Vector()\n",
    "vm1_v.append(if1.M())\n",
    "\n",
    "tstop = 200 # final time\n",
    "nstep = m.ceil(tstop / h.dt) # number of time steps\n",
    "for i in range(0,nstep):\n",
    "    h.fadvance() # advance time step\n",
    "    vm1_v.append(if1.M()) # record M function"
   ]
  },
  {
   "cell_type": "markdown",
   "metadata": {},
   "source": [
    "## 1.6 Plot membrane voltage, input and output"
   ]
  },
  {
   "cell_type": "code",
   "execution_count": null,
   "metadata": {},
   "outputs": [],
   "source": [
    "fig, ax = plt.subplots(figsize=(10,4))\n",
    "ax.plot(time_v,vm1_v,label='Vm')\n",
    "ax.vlines(nc1_v, ymin=-1.4, ymax=-1.1, color='black', label='input')\n",
    "if len(ev1_v) > 0:\n",
    "    ax.vlines(ev1_v, ymin=-1.9, ymax=-1.6, color='black', label='output')\n",
    "fig.legend()"
   ]
  },
  {
   "cell_type": "markdown",
   "metadata": {},
   "source": [
    "<font size ='3'>We observe periodic firing behavior."
   ]
  },
  {
   "cell_type": "markdown",
   "metadata": {},
   "source": [
    "# 2. Regular firing neuron with delay \n",
    "<font size='3'>[(IntFire2)](https://www.neuron.yale.edu/neuron/static/py_doc/modelspec/programmatic/mechanisms/mech.html#IntFire2)"
   ]
  },
  {
   "cell_type": "markdown",
   "metadata": {},
   "source": [
    "## 2.1 Create cell"
   ]
  },
  {
   "cell_type": "code",
   "execution_count": null,
   "metadata": {},
   "outputs": [],
   "source": [
    "# IntFire2 artificial cell\n",
    "if2 = h.IntFire2()\n",
    "if2.taum = 8 # membrane time constant\n",
    "if2.taus = 12 # synaptic time constant"
   ]
  },
  {
   "cell_type": "markdown",
   "metadata": {},
   "source": [
    "## 2.2 Create stimulation"
   ]
  },
  {
   "cell_type": "code",
   "execution_count": null,
   "metadata": {},
   "outputs": [],
   "source": [
    "# Stimulator\n",
    "s2 = h.NetStim()\n",
    "s2.interval = 5 # inter-spike interval\n",
    "s2.number = 100 # number of spikes\n",
    "s2.start = 5 # periodic"
   ]
  },
  {
   "cell_type": "markdown",
   "metadata": {},
   "source": [
    "## 2.3 Connect stimulation to cell"
   ]
  },
  {
   "cell_type": "code",
   "execution_count": null,
   "metadata": {},
   "outputs": [],
   "source": [
    "# connect stimulator to IF2 cell\n",
    "nc2 = h.NetCon(s2, if2)\n",
    "nc2.weight[0] = 0.5 # weight of each event"
   ]
  },
  {
   "cell_type": "markdown",
   "metadata": {},
   "source": [
    "## 2.4 Store input, output and time "
   ]
  },
  {
   "cell_type": "code",
   "execution_count": null,
   "metadata": {},
   "outputs": [],
   "source": [
    "# store input spike times\n",
    "nc2_v = h.Vector()\n",
    "nc2.record(nc2_v)\n",
    "\n",
    "# store output spike (event) times\n",
    "ev2 = h.NetCon(if2, None)\n",
    "ev2_v = h.Vector()\n",
    "ev2.record(ev2_v)\n",
    "\n",
    "# record time\n",
    "time_v = h.Vector()\n",
    "time_v.record(h._ref_t)"
   ]
  },
  {
   "cell_type": "markdown",
   "metadata": {},
   "source": [
    "## 2.5 Run simulation"
   ]
  },
  {
   "cell_type": "code",
   "execution_count": null,
   "metadata": {},
   "outputs": [],
   "source": [
    "# initialize\n",
    "h.stdinit()\n",
    "h.finitialize(-65)\n",
    "\n",
    "# record M and I functions\n",
    "vm2_v = h.Vector()\n",
    "im2_v = h.Vector()\n",
    "vm2_v.append(if2.M())\n",
    "im2_v.append(if2.I())\n",
    "\n",
    "tstop = 200 # final time\n",
    "nstep = m.ceil(tstop / h.dt) # number of time steps\n",
    "for i in range(0,nstep):\n",
    "    h.fadvance() # advance time step\n",
    "    vm2_v.append(if2.M()) # record M function\n",
    "    im2_v.append(if2.I()) # record I function"
   ]
  },
  {
   "cell_type": "markdown",
   "metadata": {},
   "source": [
    "## 2.6 Plot input, output, membrane voltage and current"
   ]
  },
  {
   "cell_type": "code",
   "execution_count": null,
   "metadata": {},
   "outputs": [],
   "source": [
    "# plot membrane voltage and current\n",
    "fig, ax = plt.subplots(figsize=(10,4))\n",
    "ax.plot(time_v,vm2_v,label='Vm')\n",
    "ax.plot(time_v,im2_v,label='I')\n",
    "ax.vlines(nc2_v, ymin=-0.4, ymax=-0.1, color='black', label='input')\n",
    "if len(ev2_v) > 0:\n",
    "    ax.vlines(ev2_v, ymin=-0.9, ymax=-0.6, color='black', label='output')\n",
    "fig.legend()"
   ]
  },
  {
   "cell_type": "markdown",
   "metadata": {},
   "source": [
    "<font size='3'>We can observe a periodic firing behavior with a delayed first spike."
   ]
  },
  {
   "cell_type": "markdown",
   "metadata": {},
   "source": [
    "# 3. Non regular firing \n",
    "\n",
    "<font size='3'>[IntFire4](https://www.neuron.yale.edu/neuron/static/py_doc/modelspec/programmatic/mechanisms/mech.html#IntFire4)"
   ]
  },
  {
   "cell_type": "markdown",
   "metadata": {},
   "source": [
    "## 3.1 Create cell"
   ]
  },
  {
   "cell_type": "code",
   "execution_count": null,
   "metadata": {},
   "outputs": [],
   "source": [
    "# IntFire4 artificial cell\n",
    "if4 = h.IntFire4()\n",
    "if4.taum = 8 # membrane time constant\n",
    "if4.taui1 = 8 # inhibitory current time constant 1\n",
    "if4.taui2 = 10 # inhibitory current time constant 2\n",
    "if4.taue = 5 # excitatory current time constant"
   ]
  },
  {
   "cell_type": "markdown",
   "metadata": {},
   "source": [
    "## 3.2 Create stimulations"
   ]
  },
  {
   "cell_type": "code",
   "execution_count": null,
   "metadata": {},
   "outputs": [],
   "source": [
    "# Stimulators\n",
    "s4a = h.NetStim()\n",
    "s4a.interval = 5 # inter-spike interval\n",
    "s4a.number = 100 # number of spikes\n",
    "s4a.start = 5 # periodic\n",
    "\n",
    "s4b = h.NetStim()\n",
    "s4b.interval = 25 # inter-spike interval\n",
    "s4b.number = 10 # number of spikes\n",
    "s4b.start = 8 # periodic"
   ]
  },
  {
   "cell_type": "markdown",
   "metadata": {},
   "source": [
    "## 3.3 Connect stimulation with cell"
   ]
  },
  {
   "cell_type": "code",
   "execution_count": null,
   "metadata": {},
   "outputs": [],
   "source": [
    "# connect stimulators to IF2 cell\n",
    "nc4a = h.NetCon(s4a, if4)\n",
    "nc4a.weight[0] = 0.5 # weight of each event\n",
    "# store input spike times\n",
    "nc4a_v = h.Vector()\n",
    "nc4a.record(nc4a_v)\n",
    "\n",
    "nc4b = h.NetCon(s4b, if4)\n",
    "nc4b.weight[0] = -0.5 # weight of each event (negative -> inhibitory)\n"
   ]
  },
  {
   "cell_type": "markdown",
   "metadata": {},
   "source": [
    "## 3.4 Store input, output and time"
   ]
  },
  {
   "cell_type": "code",
   "execution_count": null,
   "metadata": {},
   "outputs": [],
   "source": [
    "# store input spike times\n",
    "nc4b_v = h.Vector()\n",
    "nc4b.record(nc4b_v)\n",
    "\n",
    "# store output spike (event) times\n",
    "ev4 = h.NetCon(if4, None)\n",
    "ev4_v = h.Vector()\n",
    "ev4.record(ev4_v)\n",
    "\n",
    "# record time\n",
    "time_v = h.Vector()\n",
    "time_v.record(h._ref_t)"
   ]
  },
  {
   "cell_type": "markdown",
   "metadata": {},
   "source": [
    "## 3.5 Run simulation"
   ]
  },
  {
   "cell_type": "code",
   "execution_count": null,
   "metadata": {},
   "outputs": [],
   "source": [
    "# initialize\n",
    "h.stdinit()\n",
    "h.finitialize(-65)\n",
    "\n",
    "# record M, E and I functions\n",
    "vm4_v = h.Vector()\n",
    "im4_v = h.Vector()\n",
    "em4_v = h.Vector()\n",
    "vm4_v.append(if4.M())\n",
    "im4_v.append(if4.I())\n",
    "em4_v.append(if4.E())\n",
    "\n",
    "tstop = 200 # final time\n",
    "nstep = m.ceil(tstop / h.dt) # number of time steps\n",
    "for i in range(0,nstep):\n",
    "    h.fadvance() # advance time step\n",
    "    vm4_v.append(if4.M()) # record M function\n",
    "    im4_v.append(if4.I()) # record I function\n",
    "    em4_v.append(if4.E()) # record E function"
   ]
  },
  {
   "cell_type": "markdown",
   "metadata": {},
   "source": [
    "## 3.6 Plot Inputs, output, membrane voltage and currents."
   ]
  },
  {
   "cell_type": "code",
   "execution_count": null,
   "metadata": {},
   "outputs": [],
   "source": [
    "# plot membrane voltage and current\n",
    "fig, ax = plt.subplots(figsize=(10,4))\n",
    "ax.plot(time_v,vm4_v,label='Vm')\n",
    "ax.plot(time_v,im4_v,label='I')\n",
    "ax.plot(time_v,em4_v,label='E')\n",
    "ax.vlines(nc4a_v, ymin=-0.4, ymax=-0.1, color='red', label='+input')\n",
    "ax.vlines(nc4b_v, ymin=-0.4, ymax=-0.1, color='blue', label='-input')\n",
    "if len(ev4_v) > 0:\n",
    "    ax.vlines(ev4_v, ymin=-0.9, ymax=-0.6, color='black', label='output')\n",
    "fig.legend()"
   ]
  },
  {
   "cell_type": "markdown",
   "metadata": {},
   "source": [
    "<font size='3'>We observe non-periodic firing behavior."
   ]
  }
 ],
 "metadata": {
  "kernelspec": {
   "display_name": "Python 3",
   "language": "python",
   "name": "python3"
  },
  "language_info": {
   "codemirror_mode": {
    "name": "ipython",
    "version": 3
   },
   "file_extension": ".py",
   "mimetype": "text/x-python",
   "name": "python",
   "nbconvert_exporter": "python",
   "pygments_lexer": "ipython3",
   "version": "3.6.9"
  }
 },
 "nbformat": 4,
 "nbformat_minor": 4
}
