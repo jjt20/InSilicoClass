{
 "cells": [
  {
   "cell_type": "markdown",
   "metadata": {},
   "source": [
    "<center><font size = \"10\"> Week 7 - Connections <center>\n",
    "<center><font size = \"8\">Home work<center>"
   ]
  },
  {
   "cell_type": "markdown",
   "metadata": {},
   "source": [
    "<font size = \"3\">Please, write your group number and the names and surnames of the group members here\n",
    "<br>Group number: 7\n",
    "<br>Group member1: Joseph Tharayil\n",
    "<br>Group member2: Kiarash Farivar"
   ]
  },
  {
   "cell_type": "code",
   "execution_count": 2,
   "metadata": {},
   "outputs": [],
   "source": [
    "# Load usefull packages\n",
    "%matplotlib inline\n",
    "\n",
    "from neuron import h, gui\n",
    "import matplotlib.pyplot as plt\n",
    "import numpy as np\n",
    "import math as m"
   ]
  },
  {
   "cell_type": "markdown",
   "metadata": {},
   "source": [
    "# Ex1. Connect all-to-all with random weights.\n",
    "\n",
    "<font size='3'>In week 2 Home Works (Morphologies) each group received a set of ten morphology files to check their quality. Each set of cells have __FIVE__ good morphology files. If you think that you only have three, please go through Week2_HomeWorks_Solutions.ipynb posted on Moodle last week.\n",
    "\n",
    "<font size='3'>Connect your five cells all to all (unidirectionally) with random weights, as it is done in tutorial 01 of this week, and display the connectivity matrix with the weights. [1 pt]"
   ]
  },
  {
   "cell_type": "code",
   "execution_count": 4,
   "metadata": {},
   "outputs": [],
   "source": [
    "class Cell:\n",
    "    def __init__(self, filename, name, cell_type):\n",
    "        self.name = name\n",
    "        self.type = cell_type\n",
    "        self.synapses = []\n",
    "        self.build_morphology(filename)\n",
    "        self.biophysics()\n",
    "        \n",
    "    def build_morphology(self, filename):\n",
    "        h.load_file('import3d.hoc')\n",
    "        h.load_file('stdlib.hoc')\n",
    "        #morph_reader = h.Import3d_Neurolucida3()\n",
    "        morph_reader = h.Import3d_SWC_read()\n",
    "        morph_reader.input(filename)\n",
    "        i3d = h.Import3d_GUI(morph_reader, 0)\n",
    "        i3d.instantiate(self) # Notice this change to be able to instantiate several cells\n",
    "    \n",
    "    def biophysics(self):\n",
    "        for sec in h.allsec():\n",
    "            sec.Ra = 100    # Axial resistance in Ohm * cm\n",
    "            sec.cm = 1      # Membrane capacitance in micro Farads / cm^2\n",
    "            sec.insert(\"pas\")\n",
    "            for seg in sec:\n",
    "                seg.pas.g = 0.00003\n",
    "                seg.pas.e = -75\n",
    "        \n",
    "        # Insert passive current in the dendrite\n",
    "        for sec in self.soma:\n",
    "            sec.insert('hh')\n",
    "            for seg in sec:\n",
    "                seg.hh.gnabar = 0.12  # Sodium conductance in S/cm2\n",
    "                seg.hh.gkbar = 0.036  # Potassium conductance in S/cm2\n",
    "        \n",
    "        if hasattr(self, 'apic'):\n",
    "            for sec in self.apic:\n",
    "                sec.insert('hh')\n",
    "                for seg in sec:\n",
    "                    seg.hh.gnabar = 0.12  # Sodium conductance in S/cm2\n",
    "                    seg.hh.gkbar = 0.036  # Potassium conductance in S/cm2\n",
    "        \n",
    "        for sec in self.dend:\n",
    "            sec.insert('hh')\n",
    "            for seg in sec:\n",
    "                seg.hh.gnabar = 0.12  # Sodium conductance in S/cm2\n",
    "                seg.hh.gkbar = 0.036  # Potassium conductance in S/cm2\n",
    "                \n",
    "        for sec in self.axon:\n",
    "            sec.insert('hh')\n",
    "            for seg in sec:    \n",
    "                seg.hh.gnabar = 0.12  # Sodium conductance in S/cm2\n",
    "                seg.hh.gkbar = 0.036  # Potassium conductance in S/cm2"
   ]
  },
  {
   "cell_type": "code",
   "execution_count": 5,
   "metadata": {},
   "outputs": [
    {
     "name": "stdout",
     "output_type": "stream",
     "text": [
      "error morphs/morph_08.swc line 14319: could not parse: \n",
      "error morphs/morph_04.swc line 6922: could not parse: \n",
      "error morphs/morph_02.swc line 36377: could not parse: \n",
      "error morphs/morph_09.swc line 13198: could not parse: \n",
      "error morphs/morph_10.swc line 18854: could not parse: \n"
     ]
    }
   ],
   "source": [
    "i1 = Cell('morphs/morph_08.swc', 'morph_8', 'inhibitory')\n",
    "i2 = Cell('morphs/morph_04.swc', 'morph_4', 'inhibitory')\n",
    "\n",
    "e1 = Cell('morphs/morph_02.swc', 'morph_2', 'excitatory')\n",
    "e2 = Cell('morphs/morph_09.swc', 'morph_9', 'excitatory')\n",
    "e3 = Cell('morphs/morph_10.swc', 'morph_10', 'excitatory')\n",
    "\n"
   ]
  },
  {
   "cell_type": "code",
   "execution_count": 6,
   "metadata": {},
   "outputs": [],
   "source": [
    "cells_Pyr = [e1, e2, e3]\n",
    "cells_Int = [i1, i2]\n",
    "cells = cells_Pyr + cells_Int"
   ]
  },
  {
   "cell_type": "code",
   "execution_count": 7,
   "metadata": {},
   "outputs": [
    {
     "name": "stdout",
     "output_type": "stream",
     "text": [
      "morph_2: 15 apical sections, 12 basal sections, 2 soma sections and 219 axon senctions\n",
      "morph_9: 7 apical sections, 49 basal sections, 2 soma sections and 115 axon senctions\n",
      "morph_10: 15 apical sections, 24 basal sections, 2 soma sections and 271 axon senctions\n",
      "morph_8: 45 basal sections, 2 soma sections and 466 axon senctions\n",
      "morph_4: 43 basal sections, 2 soma sections and 133 axon senctions\n"
     ]
    }
   ],
   "source": [
    "for c in cells_Pyr:\n",
    "    print('%s: %d apical sections, %d basal sections, %d soma sections and %d axon senctions' % (c.name,len(c.apic),len(c.dend), len(c.soma), len(c.axon)))\n",
    "for c in cells_Int:\n",
    "    print('%s: %d basal sections, %d soma sections and %d axon senctions' % (c.name,len(c.dend), len(c.soma), len(c.axon)))"
   ]
  },
  {
   "cell_type": "code",
   "execution_count": 8,
   "metadata": {},
   "outputs": [],
   "source": [
    "# returns NxN matrix of random weights in [0,1) with zero diagonal\n",
    "def random_weights(n):\n",
    "    rng = np.random.default_rng()\n",
    "    weights = rng.random((n,n))\n",
    "    np.fill_diagonal(weights,0.0)\n",
    "    return weights\n",
    "\n",
    "# connect two cells with an exponential synapse at given locations\n",
    "# returns the netcon\n",
    "def connect(source, target, weight = None, delay = 5, source_sec = None, source_neurite = 'axon', target_sec = None, target_neurite = 'dend'):\n",
    "    rng = np.random.default_rng()\n",
    "    \n",
    "    if weight is None:\n",
    "        weight = rng.uniform() # random weight\n",
    "    \n",
    "    target_neurite_ = getattr(target, target_neurite)\n",
    "    if target_sec is None:\n",
    "        target_sec = rng.integers(0,len(target_neurite_)) # random dendritic section\n",
    "    \n",
    "    source_neurite_ = getattr(source, source_neurite)\n",
    "    if source_sec is None:\n",
    "        source_sec = rng.integers(0,len(source_neurite_)) # random axonal section\n",
    "    \n",
    "    target_syn = h.ExpSyn(target_neurite_[target_sec](0.5))\n",
    "    target.synapses.append(target_syn) # store synapse\n",
    "    \n",
    "    netcon = h.NetCon(source_neurite_[source_sec](0.5)._ref_v, target_syn, sec=source_neurite_[source_sec])\n",
    "    netcon.weight[0] = weight\n",
    "    netcon.delay = delay\n",
    "    \n",
    "    print('Connected cells %s -> %s with weight %g and delay %g, from %s[%d] to %s[%d]' % (source.name,target.name,weight,delay,source_neurite,source_sec,target_neurite,target_sec))\n",
    "    return netcon"
   ]
  },
  {
   "cell_type": "code",
   "execution_count": 10,
   "metadata": {},
   "outputs": [
    {
     "name": "stdout",
     "output_type": "stream",
     "text": [
      "Connected cells morph_2 -> morph_9 with weight 0.731435 and delay 5, from axon[41] to dend[12]\n",
      "Connected cells morph_2 -> morph_10 with weight 0.706408 and delay 5, from axon[41] to dend[16]\n",
      "Connected cells morph_2 -> morph_8 with weight 0.665943 and delay 5, from axon[63] to dend[27]\n",
      "Connected cells morph_2 -> morph_4 with weight 0.802123 and delay 5, from axon[178] to dend[40]\n",
      "Connected cells morph_9 -> morph_2 with weight 0.387338 and delay 5, from axon[110] to dend[0]\n",
      "Connected cells morph_9 -> morph_10 with weight 0.185006 and delay 5, from axon[46] to dend[4]\n",
      "Connected cells morph_9 -> morph_8 with weight 0.945427 and delay 5, from axon[2] to dend[13]\n",
      "Connected cells morph_9 -> morph_4 with weight 0.692336 and delay 5, from axon[74] to dend[3]\n",
      "Connected cells morph_10 -> morph_2 with weight 0.327193 and delay 5, from axon[208] to dend[5]\n",
      "Connected cells morph_10 -> morph_9 with weight 0.0263041 and delay 5, from axon[71] to dend[26]\n",
      "Connected cells morph_10 -> morph_8 with weight 0.596643 and delay 5, from axon[83] to dend[16]\n",
      "Connected cells morph_10 -> morph_4 with weight 0.308665 and delay 5, from axon[11] to dend[34]\n",
      "Connected cells morph_8 -> morph_2 with weight 0.718663 and delay 5, from axon[226] to soma[1]\n",
      "Connected cells morph_8 -> morph_9 with weight 0.207205 and delay 5, from axon[402] to soma[1]\n",
      "Connected cells morph_8 -> morph_10 with weight 0.715438 and delay 5, from axon[22] to soma[1]\n",
      "Connected cells morph_8 -> morph_4 with weight 0.0215816 and delay 5, from axon[399] to soma[1]\n",
      "Connected cells morph_4 -> morph_2 with weight 0.693313 and delay 5, from axon[120] to soma[0]\n",
      "Connected cells morph_4 -> morph_9 with weight 0.211085 and delay 5, from axon[83] to soma[1]\n",
      "Connected cells morph_4 -> morph_10 with weight 0.168637 and delay 5, from axon[126] to soma[1]\n",
      "Connected cells morph_4 -> morph_8 with weight 0.317619 and delay 5, from axon[29] to soma[1]\n"
     ]
    }
   ],
   "source": [
    "weight_matrix = random_weights(5)\n",
    "\n",
    "netcons = []\n",
    "\n",
    "for i,source in enumerate(cells):\n",
    "    for j,target in enumerate(cells):\n",
    "        if i==j:\n",
    "            continue\n",
    "        if source.type == 'inhibitory':\n",
    "            nc = connect(source,target,weight_matrix[i,j], target_neurite='soma')\n",
    "        else:\n",
    "            nc = connect(source,target,weight_matrix[i,j])\n",
    "        netcons.append(nc)"
   ]
  },
  {
   "cell_type": "code",
   "execution_count": 11,
   "metadata": {},
   "outputs": [
    {
     "data": {
      "text/plain": [
       "<matplotlib.colorbar.Colorbar at 0x7f2dc9081ba8>"
      ]
     },
     "execution_count": 11,
     "metadata": {},
     "output_type": "execute_result"
    },
    {
     "data": {
      "image/png": "[encoded data removed]",
      "text/plain": [
       "<Figure size 432x288 with 2 Axes>"
      ]
     },
     "metadata": {
      "needs_background": "light"
     },
     "output_type": "display_data"
    }
   ],
   "source": [
    "color_map = plt.imshow(weight_matrix, cmap=\"viridis\", vmin=0.0, vmax=1.0)\n",
    "plt.colorbar()"
   ]
  },
  {
   "cell_type": "markdown",
   "metadata": {},
   "source": [
    "# Ex2. Connect your cells considering connection probability\n",
    "\n",
    "<font size='3'>Connect your five cells as it is done in tutorial 02, considering the following connection probabilities between cell types:\n",
    "<br> PC - PC: 65 %\n",
    "<br> PC - Inh: 23 %\n",
    "<br> Inh - PC: 41 %\n",
    "<br> Inh - Inh: 36 %\n",
    "\n",
    "<font size='3'>Show the results on a probability matrix. [1 pt]\n"
   ]
  },
  {
   "cell_type": "code",
   "execution_count": 12,
   "metadata": {},
   "outputs": [],
   "source": [
    "# specify connection probabilites between cell types\n",
    "conn_prob_matrix = np.zeros((2,2))\n",
    "conn_prob_matrix[0,0] = 0.65 # Pyr to Pyr\n",
    "conn_prob_matrix[0,1] = 0.23 # Pyr to Int\n",
    "conn_prob_matrix[1,0] = 0.41 # Int to Pyr\n",
    "conn_prob_matrix[1,1] = 0.36 # Int to Int"
   ]
  },
  {
   "cell_type": "code",
   "execution_count": 13,
   "metadata": {},
   "outputs": [
    {
     "name": "stdout",
     "output_type": "stream",
     "text": [
      "Connected cells morph_2 -> morph_10 with weight 0.706408 and delay 5, from axon[147] to dend[23]\n",
      "Connected cells morph_2 -> morph_4 with weight 0.802123 and delay 5, from axon[64] to dend[11]\n",
      "Connected cells morph_9 -> morph_2 with weight 0.387338 and delay 5, from axon[91] to dend[1]\n",
      "Connected cells morph_9 -> morph_10 with weight 0.185006 and delay 5, from axon[70] to dend[19]\n",
      "Connected cells morph_10 -> morph_2 with weight 0.327193 and delay 5, from axon[95] to dend[8]\n",
      "Connected cells morph_10 -> morph_9 with weight 0.0263041 and delay 5, from axon[191] to dend[23]\n",
      "Connected cells morph_8 -> morph_2 with weight 0.718663 and delay 5, from axon[11] to soma[1]\n",
      "Connected cells morph_8 -> morph_10 with weight 0.715438 and delay 5, from axon[223] to soma[1]\n",
      "Connected cells morph_4 -> morph_2 with weight 0.693313 and delay 5, from axon[125] to soma[1]\n",
      "Connected cells morph_4 -> morph_8 with weight 0.317619 and delay 5, from axon[103] to soma[1]\n"
     ]
    }
   ],
   "source": [
    "prob_index = {'excitatory':0, 'inhibitory':1}\n",
    "\n",
    "netcons = []\n",
    "\n",
    "rng = np.random.default_rng()\n",
    "\n",
    "for i,source in enumerate(cells):\n",
    "    for j,target in enumerate(cells):\n",
    "        if i==j:\n",
    "            continue\n",
    "        \n",
    "        # get the probability of connection\n",
    "        prob = conn_prob_matrix[prob_index[source.type], prob_index[target.type]]\n",
    "        if rng.random() >= prob:\n",
    "            continue\n",
    "            \n",
    "        if source.type == 'inhibitory':\n",
    "            nc = connect(source,target,weight_matrix[i,j], target_neurite='soma')\n",
    "        else:\n",
    "            nc = connect(source,target,weight_matrix[i,j])\n",
    "        netcons.append(nc)"
   ]
  },
  {
   "cell_type": "code",
   "execution_count": 14,
   "metadata": {},
   "outputs": [
    {
     "data": {
      "text/plain": [
       "<matplotlib.colorbar.Colorbar at 0x7f2dc8ba19e8>"
      ]
     },
     "execution_count": 14,
     "metadata": {},
     "output_type": "execute_result"
    },
    {
     "data": {
      "image/png": "[encoded data removed]",
      "text/plain": [
       "<Figure size 432x288 with 2 Axes>"
      ]
     },
     "metadata": {
      "needs_background": "light"
     },
     "output_type": "display_data"
    }
   ],
   "source": [
    "plt.imshow(conn_prob_matrix, cmap=\"viridis\", vmin=0.0, vmax=1.0)\n",
    "plt.colorbar()"
   ]
  },
  {
   "cell_type": "markdown",
   "metadata": {},
   "source": [
    "# Ex3. Distribution of contacts: Convergence Matrix\n",
    "\n",
    "<font size='3'>Considering the following mean contact points between cell types: \n",
    "<br> PC_axon - PC_basal: 4\n",
    "<br> PC_axon - PC_apical: 1.5\n",
    "<br> PC_axon - Inh_basal: 3\n",
    "<br> Inh_axon - PC_soma: 3.5\n",
    "<br> Inh_axon - PC_basal: 2\n",
    "<br> Inh_axon - Inh_soma: 4\n",
    "<br> Inh_axon - Inh_basal: 1.6\n",
    "\n",
    "<font size='3'>connect your cells by selecting the contact points from a normal distribution with a specific mean value per connection (values above). Show the results on a __convergence__ matrix (how many contacts each of the cells receives from the others). [1.5 pts] "
   ]
  },
  {
   "cell_type": "code",
   "execution_count": 15,
   "metadata": {},
   "outputs": [],
   "source": [
    "# specify expected number of contacts between cell types, considering target neurite\n",
    "expected_contacts = np.zeros((2,2,3), dtype=int)\n",
    "\n",
    "expected_contacts[0,0,0] = 0 # Pyr to Pyr (soma)\n",
    "expected_contacts[0,0,1] = 4 # Pyr to Pyr (dend)/ basal\n",
    "expected_contacts[0,0,2] = 1.5 # Pyr to Pyr (apic)\n",
    "\n",
    "expected_contacts[1,0,0] = 3.5 # Int to Pyr (soma)\n",
    "expected_contacts[1,0,1] = 2 # Int to Pyr (dend)\n",
    "expected_contacts[1,0,2] = 0 # Int to Pyr (apic)\n",
    "\n",
    "expected_contacts[0,1,0] = 0 # Pyr to Int (soma)\n",
    "expected_contacts[0,1,1] = 3 # Pyr to Int (dend)\n",
    "\n",
    "expected_contacts[1,1,0] = 4 # Int to Int (soma)\n",
    "expected_contacts[1,1,1] = 1.6 # Int to Int (dend)"
   ]
  },
  {
   "cell_type": "code",
   "execution_count": 16,
   "metadata": {},
   "outputs": [
    {
     "name": "stdout",
     "output_type": "stream",
     "text": [
      "Connected cells morph_2 -> morph_9 with weight 0.417156 and delay 5, from axon[117] to dend[15]\n",
      "Connected cells morph_2 -> morph_9 with weight 0.463332 and delay 5, from axon[68] to dend[31]\n",
      "Connected cells morph_2 -> morph_9 with weight 0.575224 and delay 5, from axon[135] to dend[48]\n",
      "Connected cells morph_2 -> morph_9 with weight 0.548054 and delay 5, from axon[30] to dend[1]\n",
      "Connected cells morph_2 -> morph_10 with weight 0.377054 and delay 5, from axon[103] to dend[4]\n",
      "Connected cells morph_2 -> morph_10 with weight 0.691413 and delay 5, from axon[147] to dend[23]\n",
      "Connected cells morph_2 -> morph_10 with weight 0.0319194 and delay 5, from axon[1] to dend[19]\n",
      "Connected cells morph_2 -> morph_10 with weight 0.19608 and delay 5, from axon[103] to apic[9]\n",
      "Connected cells morph_2 -> morph_4 with weight 0.243957 and delay 5, from axon[110] to dend[14]\n",
      "Connected cells morph_2 -> morph_4 with weight 0.47486 and delay 5, from axon[87] to dend[29]\n",
      "Connected cells morph_2 -> morph_4 with weight 0.26605 and delay 5, from axon[21] to dend[26]\n",
      "Connected cells morph_9 -> morph_10 with weight 0.00427813 and delay 5, from axon[11] to dend[10]\n",
      "Connected cells morph_9 -> morph_10 with weight 0.209233 and delay 5, from axon[23] to dend[23]\n",
      "Connected cells morph_9 -> morph_10 with weight 0.0537979 and delay 5, from axon[92] to dend[16]\n",
      "Connected cells morph_9 -> morph_10 with weight 0.103746 and delay 5, from axon[84] to apic[1]\n",
      "Connected cells morph_9 -> morph_10 with weight 0.667148 and delay 5, from axon[22] to apic[14]\n",
      "Connected cells morph_10 -> morph_2 with weight 0.769024 and delay 5, from axon[3] to dend[3]\n",
      "Connected cells morph_10 -> morph_2 with weight 0.156255 and delay 5, from axon[257] to dend[5]\n",
      "Connected cells morph_10 -> morph_2 with weight 0.888834 and delay 5, from axon[25] to dend[6]\n",
      "Connected cells morph_8 -> morph_10 with weight 0.924369 and delay 5, from axon[248] to soma[1]\n",
      "Connected cells morph_4 -> morph_9 with weight 0.687637 and delay 5, from axon[25] to soma[1]\n",
      "Connected cells morph_4 -> morph_9 with weight 0.593229 and delay 5, from axon[51] to soma[1]\n",
      "Connected cells morph_4 -> morph_9 with weight 0.284431 and delay 5, from axon[123] to dend[38]\n"
     ]
    }
   ],
   "source": [
    "type_index = {'excitatory':0, 'inhibitory':1}\n",
    "\n",
    "netcons = []\n",
    "\n",
    "rng = np.random.default_rng()\n",
    "\n",
    "for i,source in enumerate(cells):\n",
    "    for j,target in enumerate(cells):\n",
    "        if i==j:# no self connection\n",
    "            continue\n",
    "        \n",
    "        # get the probability of connection\n",
    "        source_type_idx, target_type_idx = type_index[source.type], type_index[target.type]\n",
    "        prob = conn_prob_matrix[source_type_idx, target_type_idx]\n",
    "        if rng.random() >= prob:\n",
    "            continue\n",
    "            \n",
    "        if target.type == 'inhibitory':\n",
    "            for n,neurite in enumerate(['soma','dend']):\n",
    "                contacts = expected_contacts[source_type_idx, target_type_idx, n]\n",
    "                if contacts > 0:\n",
    "                    contacts = m.floor(rng.normal(contacts))\n",
    "                if contacts < 0:\n",
    "                    contacts = 0\n",
    "                for k in range(0,contacts):\n",
    "                    nc = connect(source, target, target_neurite=neurite)\n",
    "                    netcons.append(nc)\n",
    "        else:\n",
    "            for n,neurite in enumerate(['soma','dend','apic']):\n",
    "                contacts = expected_contacts[source_type_idx, target_type_idx, n]\n",
    "                if contacts > 0:\n",
    "                    contacts = m.floor(rng.normal(contacts))\n",
    "                if contacts < 0:\n",
    "                    contacts = 0\n",
    "                for k in range(0,contacts):\n",
    "                    nc = connect(source, target, target_neurite=neurite)\n",
    "                    netcons.append(nc)\n"
   ]
  },
  {
   "cell_type": "code",
   "execution_count": 17,
   "metadata": {},
   "outputs": [
    {
     "data": {
      "text/plain": [
       "['morph_2', 'morph_9', 'morph_10', 'morph_8', 'morph_4']"
      ]
     },
     "execution_count": 17,
     "metadata": {},
     "output_type": "execute_result"
    }
   ],
   "source": [
    "contacts_matrix = np.zeros((5,5))\n",
    "cellnames = [x.name for x in cells]\n",
    "\n",
    "cellnames"
   ]
  },
  {
   "cell_type": "code",
   "execution_count": 18,
   "metadata": {},
   "outputs": [
    {
     "data": {
      "text/plain": [
       "<matplotlib.colorbar.Colorbar at 0x7f2dc8ae34e0>"
      ]
     },
     "execution_count": 18,
     "metadata": {},
     "output_type": "execute_result"
    },
    {
     "data": {
      "image/png": "[encoded data removed]",
      "text/plain": [
       "<Figure size 432x288 with 2 Axes>"
      ]
     },
     "metadata": {
      "needs_background": "light"
     },
     "output_type": "display_data"
    }
   ],
   "source": [
    "# iterate over netcons and count\n",
    "for nc in netcons:\n",
    "    pre = nc.precell().name\n",
    "    pos = nc.postcell().name\n",
    "    i_pre = cellnames.index(pre)\n",
    "    i_pos = cellnames.index(pos)\n",
    "    \n",
    "    contacts_matrix[i_pos,i_pre] += 1\n",
    "\n",
    "plt.imshow(contacts_matrix, cmap=\"YlGn\")\n",
    "plt.colorbar()"
   ]
  },
  {
   "cell_type": "markdown",
   "metadata": {},
   "source": [
    "**Note the above matrix is just the transpose of the divergence matrix.**"
   ]
  },
  {
   "cell_type": "markdown",
   "metadata": {},
   "source": [
    "# Ex4. Real Connectivity Rules\n",
    "\n",
    "<font size='3'>Read the articles uploaded on the HomeWork folder (Markram_1997.pdf and Gupta_2000.pdf). \n",
    "\n",
    "<font size='3'>Imaging that you have to build a network with your five cells (3 pyramidals and 2 GABAergic interneurons) from rat somatosensory cortex. Extract from the papers the data that you would need to connect your cells (connectivity rules). Enumerate the data chosen to connect your cells. Using and modifying (if needed) the code from the tutorials, connect your five cells in a more biological way using the connectivity rules found in the papers. [2.5 pts]"
   ]
  },
  {
   "cell_type": "markdown",
   "metadata": {},
   "source": [
    "The connection probability for pyramidal neurons was not available. Instead we connect all possible pairs of pyramidal neurons according to the given connection probability (Markram et al. 1997), and then determine whether the connection is unidirectional or bidirectional. If the connection is unidirectional, the source and target neuron are chosen randomly."
   ]
  },
  {
   "cell_type": "code",
   "execution_count": 53,
   "metadata": {},
   "outputs": [],
   "source": [
    "P_ee_pair = 0.1\n",
    "P_ee_unidirectional = 0.7"
   ]
  },
  {
   "cell_type": "markdown",
   "metadata": {},
   "source": [
    "Synapse properties for pyramidal-pyramidal connections were obtained from (Markram et al. 1997). The reversal potential was not available, so it was assumed to be 0 mV. The standard deviation of the quantal conductance was not available, so it was assumed to be 1."
   ]
  },
  {
   "cell_type": "code",
   "execution_count": 54,
   "metadata": {},
   "outputs": [],
   "source": [
    "Latency_ee = 1.7\n",
    "Latency_ee_std = 0.9\n",
    "Decay_ee = 80\n",
    "Decay_ee_std = 18\n",
    "G_ee = 3."
   ]
  },
  {
   "cell_type": "code",
   "execution_count": 55,
   "metadata": {},
   "outputs": [],
   "source": [
    "expected_contacts = np.zeros((2,2,3), dtype=int)\n",
    "expected_contacts_std = np.zeros((2,2,3), dtype=int)\n",
    "\n",
    "expected_contacts[0,0,0] = 0 # Pyr to Pyr (soma)\n",
    "expected_contacts[0,0,1] = 3.465 # Pyr to Pyr (dend)/ basal\n",
    "expected_contacts[0,0,2] = 1.485 # Pyr to Pyr (apic)\n",
    "\n",
    "expected_contacts_std[0,0,0] = 0 # Pyr to Pyr (soma)\n",
    "expected_contacts_std[0,0,1] = 1.1*.63 # Pyr to Pyr (dend)/ basal\n",
    "expected_contacts_std[0,0,2] = 1.1*.27 # Pyr to Pyr (apic)"
   ]
  },
  {
   "cell_type": "markdown",
   "metadata": {},
   "source": [
    "Connection rules for GABAergic neurons were obtained from (Gupta et al. 2000).  The kinetic properties of the synapses did not differ significantly between synapse types, so all synapses were assigned the properties of F2 synapses."
   ]
  },
  {
   "cell_type": "code",
   "execution_count": 56,
   "metadata": {},
   "outputs": [],
   "source": [
    "P_tot = 240./3000.\n",
    "P_ie = P_tot*131/179\n",
    "P_ii = P_tot*48/179"
   ]
  },
  {
   "cell_type": "markdown",
   "metadata": {},
   "source": [
    "Axonal delays were not reported for inhibitory synapses, so they were arbitrarily set to 5 ms."
   ]
  },
  {
   "cell_type": "code",
   "execution_count": 57,
   "metadata": {},
   "outputs": [],
   "source": [
    "Decay_i = 8.3\n",
    "Decay_i_std = 2.2\n",
    "G_i = 0.49\n",
    "G_i_std = 0.41\n",
    "Vrev_i = -40.6"
   ]
  },
  {
   "cell_type": "markdown",
   "metadata": {},
   "source": [
    "Based on visual analysis, the inhibitory neurons in our data set were classified as large basket cells. No data was available for the morphological distribution of inhibitory-inhibitory synapses for this cell type, so it was assumed to be the same as the morphological distribution of inhibitory-excitatory synapses."
   ]
  },
  {
   "cell_type": "code",
   "execution_count": 58,
   "metadata": {},
   "outputs": [],
   "source": [
    "expected_contacts_Tot_i = 16.\n",
    "expected_contacts_Tot_std = 5.5\n",
    "\n",
    "expected_contacts[1,0,0] = 0.19*expected_contacts_Tot_i # Int to Pyr (soma)\n",
    "expected_contacts[1,0,1] = 0.81*expected_contacts_Tot_i # Int to Pyr (dend)\n",
    "\n",
    "expected_contacts[1,1,0] = 0.19*expected_contacts_Tot_i # Int to Int (soma)\n",
    "expected_contacts[1,1,1] = 0.81*expected_contacts_Tot_i # Int to Int (dend)\n",
    "\n",
    "expected_contacts_std[1,0,0] = 0.19*expected_contacts_Tot_std # Int to Pyr (soma)\n",
    "expected_contacts_std[1,0,1] = 0.81*expected_contacts_Tot_std # Int to Pyr (dend)\n",
    "\n",
    "expected_contacts_std[1,1,0] = 0.19*expected_contacts_Tot_std # Int to Int (soma)\n",
    "expected_contacts_std[1,1,1] = 0.81*expected_contacts_Tot_std # Int to Int (dend)"
   ]
  },
  {
   "cell_type": "markdown",
   "metadata": {},
   "source": [
    "No data is available for excitatory-inhibitory connections, so these are not included in the circuit."
   ]
  },
  {
   "cell_type": "code",
   "execution_count": 59,
   "metadata": {},
   "outputs": [],
   "source": [
    "def connect(source, target, weight = None, weightStd = 1, delay = 5, delayStd = 1, source_sec = None, source_neurite = 'axon', target_sec = None, target_neurite = 'dend',decay_time = 0.1, decay_std = 1, V_rev = 0):\n",
    "    rng = np.random.default_rng()\n",
    "    \n",
    "    if weight is None:\n",
    "        weight = rng.uniform() # random weight\n",
    "    else:\n",
    "        weight = rng.normal(weight,weightStd)\n",
    "    if weight < 0:\n",
    "        weight = 0\n",
    "        \n",
    "    delay = rng.normal(delay,delayStd)\n",
    "    if delay < 0:\n",
    "        delay = 0\n",
    "    \n",
    "    decay_time = rng.normal(decay_time,decay_std)\n",
    "    if decay_time < 0:\n",
    "        decay_time = 0\n",
    "    \n",
    "    \n",
    "    target_neurite_ = getattr(target, target_neurite)\n",
    "    if target_sec is None:\n",
    "        target_sec = rng.integers(0,len(target_neurite_)) # random dendritic section\n",
    "    \n",
    "    source_neurite_ = getattr(source, source_neurite)\n",
    "    if source_sec is None:\n",
    "        source_sec = rng.integers(0,len(source_neurite_)) # random axonal section\n",
    "    \n",
    "    target_syn = h.ExpSyn(target_neurite_[target_sec](0.5))\n",
    "    \n",
    "    target_syn.e = V_rev\n",
    "    target_syn.tau = decay_time\n",
    "    \n",
    "    target.synapses.append(target_syn) # store synapse\n",
    "    \n",
    "    netcon = h.NetCon(source_neurite_[source_sec](0.5)._ref_v, target_syn, sec=source_neurite_[source_sec])\n",
    "    netcon.weight[0] = weight\n",
    "    netcon.delay = delay\n",
    "    \n",
    "    print('Connected cells %s -> %s with weight %g and delay %g, from %s[%d] to %s[%d]' % (source.name,target.name,weight,delay,source_neurite,source_sec,target_neurite,target_sec))\n",
    "    return netcon"
   ]
  },
  {
   "cell_type": "code",
   "execution_count": 67,
   "metadata": {},
   "outputs": [],
   "source": [
    "def getTargetNeurites(source,target):\n",
    "    \n",
    "    type_index = {'excitatory':0, 'inhibitory':1}\n",
    "    \n",
    "    source_type_idx, target_type_idx = type_index[source.type], type_index[target.type]\n",
    "    \n",
    "    contactList = []\n",
    "    \n",
    "    if target.type == 'inhibitory':\n",
    "        neuriteList = ['soma','dend']\n",
    "    else:\n",
    "        neuriteList = ['soma','dend','apic']\n",
    "        \n",
    "    for n,neurite in enumerate(neuriteList):\n",
    "        contacts = expected_contacts[source_type_idx, target_type_idx, n]\n",
    "        contact_std = expected_contacts_std[source_type_idx, target_type_idx, n]\n",
    "        if contacts > 0:\n",
    "            contacts = m.floor(rng.normal(contacts,contact_std))\n",
    "        if contacts < 0:\n",
    "            contacts = 0\n",
    "        contactList.append(contacts)\n",
    "\n",
    "        \n",
    "    return neuriteList, contactList\n",
    "    "
   ]
  },
  {
   "cell_type": "code",
   "execution_count": 69,
   "metadata": {},
   "outputs": [],
   "source": [
    "netCons = []\n",
    "rng = np.random.default_rng()\n",
    "type_index = {'excitatory':0, 'inhibitory':1}"
   ]
  },
  {
   "cell_type": "code",
   "execution_count": 70,
   "metadata": {},
   "outputs": [],
   "source": [
    "exc_pairs = [[e1,e2],[e1,e3],[e2,e3]]"
   ]
  },
  {
   "cell_type": "code",
   "execution_count": 71,
   "metadata": {},
   "outputs": [],
   "source": [
    "for pair in exc_pairs:\n",
    "    \n",
    "    if rng.random() < P_ee_pair:\n",
    "        \n",
    "        sourceID = np.random.binomial(1,.5)\n",
    "        targetID = 1-sourceID\n",
    "        source = pair[sourceID]\n",
    "        target = pair[targetID]\n",
    "        \n",
    "        neuriteList, contactList = getTargetNeurites(source,target)\n",
    "        \n",
    "        for n,neurite in enumerate(neuriteList):\n",
    "            for k in range(0,contactList[n]):\n",
    "                nc = connect(source, target, weight=G_ee, delay=Latency_ee, delay_std=Latency_ee_std, target_neurite=neurite, decay_time=Decay_ee, decay_std=Decay_ee_std)\n",
    "                netcons.append(nc)\n",
    "                \n",
    "        if rng.random() > P_ee_unidirectional:\n",
    "            neuriteList, contactList = getTargetNeurites(target,source)\n",
    "        \n",
    "            for n,neurite in enumerate(neuriteList):\n",
    "                for k in range(0,contactList[n]):\n",
    "                    nc = connect(target, source, weight=G_ee, delay=Latency_ee, delay_std=Latency_ee_std, target_neurite=neurite, decay_time=Decay_ee, decay_std=Decay_ee_std)\n",
    "                    netcons.append(nc)        "
   ]
  },
  {
   "cell_type": "code",
   "execution_count": 72,
   "metadata": {},
   "outputs": [
    {
     "name": "stdout",
     "output_type": "stream",
     "text": [
      "Connected cells morph_9 -> morph_8 with weight 0.754401 and delay 4.54946, from axon[93] to soma[1]\n",
      "Connected cells morph_9 -> morph_8 with weight 0.615638 and delay 4.63596, from axon[14] to soma[0]\n",
      "Connected cells morph_9 -> morph_8 with weight 0 and delay 4.05494, from axon[98] to soma[0]\n",
      "Connected cells morph_9 -> morph_8 with weight 0.651302 and delay 6.30122, from axon[95] to soma[1]\n",
      "Connected cells morph_9 -> morph_8 with weight 0.828971 and delay 5.00175, from axon[111] to dend[15]\n",
      "Connected cells morph_9 -> morph_8 with weight 0.450122 and delay 5.04725, from axon[58] to dend[29]\n",
      "Connected cells morph_9 -> morph_8 with weight 0.419774 and delay 4.31888, from axon[101] to dend[5]\n",
      "Connected cells morph_9 -> morph_8 with weight 0.0408284 and delay 5.99214, from axon[65] to dend[5]\n",
      "Connected cells morph_9 -> morph_8 with weight 0.670209 and delay 5.91648, from axon[7] to dend[41]\n",
      "Connected cells morph_9 -> morph_8 with weight 0.726126 and delay 5.72349, from axon[99] to dend[9]\n",
      "Connected cells morph_9 -> morph_8 with weight 0.082625 and delay 6.14411, from axon[67] to dend[8]\n",
      "Connected cells morph_9 -> morph_8 with weight 0.33713 and delay 4.89415, from axon[100] to dend[33]\n",
      "Connected cells morph_9 -> morph_8 with weight 0.481338 and delay 4.91359, from axon[9] to dend[0]\n",
      "Connected cells morph_9 -> morph_8 with weight 0.601492 and delay 5.79378, from axon[32] to dend[32]\n",
      "Connected cells morph_9 -> morph_8 with weight 0.435049 and delay 4.86763, from axon[52] to dend[19]\n",
      "Connected cells morph_9 -> morph_8 with weight 0.563256 and delay 5.72524, from axon[86] to dend[13]\n",
      "Connected cells morph_9 -> morph_8 with weight 0 and delay 5.20958, from axon[56] to dend[24]\n",
      "Connected cells morph_9 -> morph_8 with weight 0.380718 and delay 3.16966, from axon[75] to dend[42]\n",
      "Connected cells morph_10 -> morph_8 with weight 0 and delay 4.59331, from axon[35] to soma[0]\n",
      "Connected cells morph_10 -> morph_8 with weight 0.681264 and delay 4.48951, from axon[85] to soma[1]\n",
      "Connected cells morph_10 -> morph_8 with weight 0.344278 and delay 6.20943, from axon[103] to soma[0]\n",
      "Connected cells morph_10 -> morph_8 with weight 0.760254 and delay 4.57214, from axon[18] to dend[42]\n",
      "Connected cells morph_10 -> morph_8 with weight 0.351267 and delay 4.73485, from axon[177] to dend[14]\n",
      "Connected cells morph_10 -> morph_8 with weight 0.467992 and delay 3.55922, from axon[21] to dend[19]\n",
      "Connected cells morph_10 -> morph_8 with weight 0.0902646 and delay 5.18015, from axon[186] to dend[17]\n",
      "Connected cells morph_10 -> morph_8 with weight 0.372454 and delay 5.09612, from axon[127] to dend[26]\n",
      "Connected cells morph_10 -> morph_8 with weight 0.856769 and delay 5.83726, from axon[137] to dend[22]\n",
      "Connected cells morph_10 -> morph_8 with weight 1.0373 and delay 5.09899, from axon[193] to dend[22]\n",
      "Connected cells morph_10 -> morph_8 with weight 1.53674 and delay 5.1743, from axon[218] to dend[8]\n",
      "Connected cells morph_9 -> morph_4 with weight 0.253193 and delay 3.32494, from axon[24] to soma[0]\n",
      "Connected cells morph_9 -> morph_4 with weight 1.24547 and delay 4.53408, from axon[39] to soma[0]\n",
      "Connected cells morph_9 -> morph_4 with weight 0.73737 and delay 4.12875, from axon[17] to dend[38]\n",
      "Connected cells morph_9 -> morph_4 with weight 0 and delay 5.56632, from axon[45] to dend[22]\n",
      "Connected cells morph_9 -> morph_4 with weight 0 and delay 5.01133, from axon[89] to dend[36]\n",
      "Connected cells morph_9 -> morph_4 with weight 0.136659 and delay 5.73759, from axon[79] to dend[5]\n",
      "Connected cells morph_9 -> morph_4 with weight 1.30156 and delay 5.77187, from axon[30] to dend[15]\n",
      "Connected cells morph_9 -> morph_4 with weight 0 and delay 4.85697, from axon[80] to dend[7]\n",
      "Connected cells morph_9 -> morph_4 with weight 0.528916 and delay 6.05406, from axon[3] to dend[2]\n",
      "Connected cells morph_9 -> morph_4 with weight 0.361661 and delay 4.47466, from axon[48] to dend[7]\n",
      "Connected cells morph_9 -> morph_4 with weight 0.612047 and delay 3.73265, from axon[107] to dend[13]\n",
      "Connected cells morph_9 -> morph_4 with weight 0.758189 and delay 5.38531, from axon[67] to dend[36]\n",
      "Connected cells morph_9 -> morph_4 with weight 0 and delay 3.80149, from axon[18] to dend[14]\n",
      "Connected cells morph_9 -> morph_4 with weight 0.230499 and delay 3.46206, from axon[10] to dend[5]\n",
      "Connected cells morph_9 -> morph_4 with weight 0.415316 and delay 6.10169, from axon[106] to dend[16]\n",
      "Connected cells morph_8 -> morph_4 with weight 0.752216 and delay 5.50254, from axon[278] to soma[0]\n",
      "Connected cells morph_8 -> morph_4 with weight 0.701325 and delay 5.29857, from axon[217] to soma[0]\n",
      "Connected cells morph_8 -> morph_4 with weight 0.671399 and delay 5.86119, from axon[62] to dend[29]\n",
      "Connected cells morph_8 -> morph_4 with weight 0.415103 and delay 4.88252, from axon[143] to dend[23]\n",
      "Connected cells morph_8 -> morph_4 with weight 0.488276 and delay 5.52966, from axon[152] to dend[28]\n",
      "Connected cells morph_8 -> morph_4 with weight 0.494226 and delay 5.61365, from axon[311] to dend[12]\n",
      "Connected cells morph_8 -> morph_4 with weight 0 and delay 4.12663, from axon[387] to dend[16]\n",
      "Connected cells morph_8 -> morph_4 with weight 0.391861 and delay 4.35856, from axon[262] to dend[10]\n"
     ]
    }
   ],
   "source": [
    "for i, source in enumerate(cells):\n",
    "    for j, target in enumerate(cells):\n",
    "        \n",
    "        if source.type == 'excitatory':\n",
    "            continue\n",
    "        if i == j:\n",
    "            continue\n",
    "            \n",
    "        source_type_idx, target_type_idx = type_index[source.type], type_index[target.type]\n",
    "        prob = conn_prob_matrix[source_type_idx, target_type_idx]\n",
    "        \n",
    "        if rng.random() >= prob:\n",
    "            continue\n",
    "        \n",
    "        neuriteList, contactList = getTargetNeurites(source,target)\n",
    "        \n",
    "        for n,neurite in enumerate(neuriteList):\n",
    "            for k in range(0,contactList[n]):\n",
    "                nc = connect(target, source, weight=G_i, weightStd=G_i_std, target_neurite=neurite, decay_time=Decay_i, decay_std=Decay_i_std, V_rev = Vrev_i)\n",
    "                netcons.append(nc) \n"
   ]
  },
  {
   "cell_type": "code",
   "execution_count": 73,
   "metadata": {},
   "outputs": [
    {
     "data": {
      "text/plain": [
       "0.1"
      ]
     },
     "execution_count": 73,
     "metadata": {},
     "output_type": "execute_result"
    }
   ],
   "source": [
    "P_ee_pair"
   ]
  },
  {
   "cell_type": "code",
   "execution_count": 75,
   "metadata": {},
   "outputs": [
    {
     "data": {
      "text/plain": [
       "0.8970069177419422"
      ]
     },
     "execution_count": 75,
     "metadata": {},
     "output_type": "execute_result"
    }
   ],
   "source": [
    "rng.random()"
   ]
  },
  {
   "cell_type": "code",
   "execution_count": null,
   "metadata": {},
   "outputs": [],
   "source": []
  },
  {
   "cell_type": "code",
   "execution_count": null,
   "metadata": {},
   "outputs": [],
   "source": []
  }
 ],
 "metadata": {
  "kernelspec": {
   "display_name": "Python 3",
   "language": "python",
   "name": "python3"
  },
  "language_info": {
   "codemirror_mode": {
    "name": "ipython",
    "version": 3
   },
   "file_extension": ".py",
   "mimetype": "text/x-python",
   "name": "python",
   "nbconvert_exporter": "python",
   "pygments_lexer": "ipython3",
   "version": "3.6.9"
  }
 },
 "nbformat": 4,
 "nbformat_minor": 4
}
