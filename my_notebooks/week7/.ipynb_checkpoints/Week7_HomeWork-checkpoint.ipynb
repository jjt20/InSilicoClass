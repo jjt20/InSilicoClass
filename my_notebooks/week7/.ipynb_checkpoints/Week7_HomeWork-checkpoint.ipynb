{
 "cells": [
  {
   "cell_type": "markdown",
   "metadata": {},
   "source": [
    "<center><font size = \"10\"> Week 7 - Connections <center>\n",
    "<center><font size = \"8\">Home work<center>"
   ]
  },
  {
   "cell_type": "markdown",
   "metadata": {},
   "source": [
    "<font size = \"3\">Please, write your group number and the names and surnames of the group members here\n",
    "<br>Group number: 7\n",
    "<br>Group member1: Joseph Tharayil\n",
    "<br>Group member2: Kiarash Farivar"
   ]
  },
  {
   "cell_type": "code",
   "execution_count": 1,
   "metadata": {},
   "outputs": [],
   "source": [
    "# Load usefull packages\n",
    "%matplotlib inline\n",
    "\n",
    "from neuron import h, gui\n",
    "import matplotlib.pyplot as plt\n",
    "import numpy as np\n",
    "import math as m"
   ]
  },
  {
   "cell_type": "markdown",
   "metadata": {},
   "source": [
    "# Ex1. Connect all-to-all with random weights.\n",
    "\n",
    "<font size='3'>In week 2 Home Works (Morphologies) each group received a set of ten morphology files to check their quality. Each set of cells have __FIVE__ good morphology files. If you think that you only have three, please go through Week2_HomeWorks_Solutions.ipynb posted on Moodle last week.\n",
    "\n",
    "<font size='3'>Connect your five cells all to all (unidirectionally) with random weights, as it is done in tutorial 01 of this week, and display the connectivity matrix with the weights. [1 pt]"
   ]
  },
  {
   "cell_type": "code",
   "execution_count": 2,
   "metadata": {
    "jupyter": {
     "source_hidden": true
    }
   },
   "outputs": [],
   "source": [
    "class Cell:\n",
    "    def __init__(self, filename, name, cell_type):\n",
    "        self.name = name\n",
    "        self.type = cell_type\n",
    "        self.synapses = []\n",
    "        self.build_morphology(filename)\n",
    "        self.biophysics()\n",
    "        \n",
    "    def build_morphology(self, filename):\n",
    "        h.load_file('import3d.hoc')\n",
    "        h.load_file('stdlib.hoc')\n",
    "        #morph_reader = h.Import3d_Neurolucida3()\n",
    "        morph_reader = h.Import3d_SWC_read()\n",
    "        morph_reader.input(filename)\n",
    "        i3d = h.Import3d_GUI(morph_reader, 0)\n",
    "        i3d.instantiate(self) # Notice this change to be able to instantiate several cells\n",
    "    \n",
    "    def biophysics(self):\n",
    "        for sec in h.allsec():\n",
    "            sec.Ra = 100    # Axial resistance in Ohm * cm\n",
    "            sec.cm = 1      # Membrane capacitance in micro Farads / cm^2\n",
    "            sec.insert(\"pas\")\n",
    "            for seg in sec:\n",
    "                seg.pas.g = 0.00003\n",
    "                seg.pas.e = -75\n",
    "        \n",
    "        # Insert passive current in the dendrite\n",
    "        for sec in self.soma:\n",
    "            sec.insert('hh')\n",
    "            for seg in sec:\n",
    "                seg.hh.gnabar = 0.12  # Sodium conductance in S/cm2\n",
    "                seg.hh.gkbar = 0.036  # Potassium conductance in S/cm2\n",
    "        \n",
    "        if hasattr(self, 'apic'):\n",
    "            for sec in self.apic:\n",
    "                sec.insert('hh')\n",
    "                for seg in sec:\n",
    "                    seg.hh.gnabar = 0.12  # Sodium conductance in S/cm2\n",
    "                    seg.hh.gkbar = 0.036  # Potassium conductance in S/cm2\n",
    "        \n",
    "        for sec in self.dend:\n",
    "            sec.insert('hh')\n",
    "            for seg in sec:\n",
    "                seg.hh.gnabar = 0.12  # Sodium conductance in S/cm2\n",
    "                seg.hh.gkbar = 0.036  # Potassium conductance in S/cm2\n",
    "                \n",
    "        for sec in self.axon:\n",
    "            sec.insert('hh')\n",
    "            for seg in sec:    \n",
    "                seg.hh.gnabar = 0.12  # Sodium conductance in S/cm2\n",
    "                seg.hh.gkbar = 0.036  # Potassium conductance in S/cm2"
   ]
  },
  {
   "cell_type": "code",
   "execution_count": 3,
   "metadata": {},
   "outputs": [
    {
     "name": "stdout",
     "output_type": "stream",
     "text": [
      "error morphs/morph_08.swc line 14319: could not parse: \n",
      "error morphs/morph_04.swc line 6922: could not parse: \n",
      "error morphs/morph_02.swc line 36377: could not parse: \n",
      "error morphs/morph_09.swc line 13198: could not parse: \n",
      "error morphs/morph_10.swc line 18854: could not parse: \n"
     ]
    }
   ],
   "source": [
    "i1 = Cell('morphs/morph_08.swc', 'morph_8', 'inhibitory')\n",
    "i2 = Cell('morphs/morph_04.swc', 'morph_4', 'inhibitory')\n",
    "\n",
    "e1 = Cell('morphs/morph_02.swc', 'morph_2', 'excitatory')\n",
    "e2 = Cell('morphs/morph_09.swc', 'morph_9', 'excitatory')\n",
    "e3 = Cell('morphs/morph_10.swc', 'morph_10', 'excitatory')\n",
    "\n"
   ]
  },
  {
   "cell_type": "code",
   "execution_count": 4,
   "metadata": {},
   "outputs": [],
   "source": [
    "cells_Pyr = [e1, e2, e3]\n",
    "cells_Int = [i1, i2]\n",
    "cells = cells_Pyr + cells_Int"
   ]
  },
  {
   "cell_type": "code",
   "execution_count": 5,
   "metadata": {},
   "outputs": [
    {
     "name": "stdout",
     "output_type": "stream",
     "text": [
      "morph_2: 15 apical sections, 12 basal sections, 2 soma sections and 219 axon senctions\n",
      "morph_9: 7 apical sections, 49 basal sections, 2 soma sections and 115 axon senctions\n",
      "morph_10: 15 apical sections, 24 basal sections, 2 soma sections and 271 axon senctions\n",
      "morph_8: 45 basal sections, 2 soma sections and 466 axon senctions\n",
      "morph_4: 43 basal sections, 2 soma sections and 133 axon senctions\n"
     ]
    }
   ],
   "source": [
    "for c in cells_Pyr:\n",
    "    print('%s: %d apical sections, %d basal sections, %d soma sections and %d axon senctions' % (c.name,len(c.apic),len(c.dend), len(c.soma), len(c.axon)))\n",
    "for c in cells_Int:\n",
    "    print('%s: %d basal sections, %d soma sections and %d axon senctions' % (c.name,len(c.dend), len(c.soma), len(c.axon)))"
   ]
  },
  {
   "cell_type": "code",
   "execution_count": 6,
   "metadata": {},
   "outputs": [],
   "source": [
    "# returns NxN matrix of random weights in [0,1) with zero diagonal\n",
    "def random_weights(n):\n",
    "    rng = np.random.default_rng()\n",
    "    weights = rng.random((n,n))\n",
    "    np.fill_diagonal(weights,0.0)\n",
    "    return weights\n",
    "\n",
    "# connect two cells with an exponential synapse at given locations\n",
    "# returns the netcon\n",
    "def connect(source, target, weight = None, delay = 5, source_sec = None, source_neurite = 'axon', target_sec = None, target_neurite = 'dend'):\n",
    "    rng = np.random.default_rng()\n",
    "    \n",
    "    if weight is None:\n",
    "        weight = rng.uniform() # random weight\n",
    "    \n",
    "    target_neurite_ = getattr(target, target_neurite)\n",
    "    if target_sec is None:\n",
    "        target_sec = rng.integers(0,len(target_neurite_)) # random dendritic section\n",
    "    \n",
    "    source_neurite_ = getattr(source, source_neurite)\n",
    "    if source_sec is None:\n",
    "        source_sec = rng.integers(0,len(source_neurite_)) # random axonal section\n",
    "    \n",
    "    target_syn = h.ExpSyn(target_neurite_[target_sec](0.5))\n",
    "    target.synapses.append(target_syn) # store synapse\n",
    "    \n",
    "    netcon = h.NetCon(source_neurite_[source_sec](0.5)._ref_v, target_syn, sec=source_neurite_[source_sec])\n",
    "    netcon.weight[0] = weight\n",
    "    netcon.delay = delay\n",
    "    \n",
    "    print('Connected cells %s -> %s with weight %g and delay %g, from %s[%d] to %s[%d]' % (source.name,target.name,weight,delay,source_neurite,source_sec,target_neurite,target_sec))\n",
    "    return netcon"
   ]
  },
  {
   "cell_type": "code",
   "execution_count": 7,
   "metadata": {},
   "outputs": [
    {
     "name": "stdout",
     "output_type": "stream",
     "text": [
      "Connected cells morph_2 -> morph_9 with weight 0.0837602 and delay 5, from axon[21] to dend[27]\n",
      "Connected cells morph_2 -> morph_10 with weight 0.471112 and delay 5, from axon[182] to dend[20]\n",
      "Connected cells morph_2 -> morph_8 with weight 0.949306 and delay 5, from axon[115] to dend[6]\n",
      "Connected cells morph_2 -> morph_4 with weight 0.212736 and delay 5, from axon[191] to dend[21]\n",
      "Connected cells morph_9 -> morph_2 with weight 0.417037 and delay 5, from axon[66] to dend[10]\n",
      "Connected cells morph_9 -> morph_10 with weight 0.0451617 and delay 5, from axon[59] to dend[14]\n",
      "Connected cells morph_9 -> morph_8 with weight 0.183797 and delay 5, from axon[72] to dend[40]\n",
      "Connected cells morph_9 -> morph_4 with weight 0.726134 and delay 5, from axon[72] to dend[2]\n",
      "Connected cells morph_10 -> morph_2 with weight 0.272962 and delay 5, from axon[11] to dend[1]\n",
      "Connected cells morph_10 -> morph_9 with weight 0.09652 and delay 5, from axon[10] to dend[38]\n",
      "Connected cells morph_10 -> morph_8 with weight 0.946168 and delay 5, from axon[254] to dend[1]\n",
      "Connected cells morph_10 -> morph_4 with weight 0.970883 and delay 5, from axon[153] to dend[41]\n",
      "Connected cells morph_8 -> morph_2 with weight 0.84699 and delay 5, from axon[215] to soma[0]\n",
      "Connected cells morph_8 -> morph_9 with weight 0.848354 and delay 5, from axon[190] to soma[0]\n",
      "Connected cells morph_8 -> morph_10 with weight 0.279516 and delay 5, from axon[327] to soma[1]\n",
      "Connected cells morph_8 -> morph_4 with weight 0.296604 and delay 5, from axon[284] to soma[1]\n",
      "Connected cells morph_4 -> morph_2 with weight 0.9749 and delay 5, from axon[126] to soma[1]\n",
      "Connected cells morph_4 -> morph_9 with weight 0.225581 and delay 5, from axon[112] to soma[1]\n",
      "Connected cells morph_4 -> morph_10 with weight 0.533751 and delay 5, from axon[132] to soma[0]\n",
      "Connected cells morph_4 -> morph_8 with weight 0.387658 and delay 5, from axon[26] to soma[0]\n"
     ]
    }
   ],
   "source": [
    "weight_matrix = random_weights(5)\n",
    "\n",
    "netcons = []\n",
    "\n",
    "for i,source in enumerate(cells):\n",
    "    for j,target in enumerate(cells):\n",
    "        if i==j:\n",
    "            continue\n",
    "        if source.type == 'inhibitory':\n",
    "            nc = connect(source,target,weight_matrix[i,j], target_neurite='soma')\n",
    "        else:\n",
    "            nc = connect(source,target,weight_matrix[i,j])\n",
    "        netcons.append(nc)"
   ]
  },
  {
   "cell_type": "code",
   "execution_count": 8,
   "metadata": {},
   "outputs": [
    {
     "data": {
      "text/plain": [
       "<matplotlib.colorbar.Colorbar at 0x7f4071a765c0>"
      ]
     },
     "execution_count": 8,
     "metadata": {},
     "output_type": "execute_result"
    },
    {
     "data": {
      "image/png": "[encoded data removed]",
      "text/plain": [
       "<Figure size 432x288 with 2 Axes>"
      ]
     },
     "metadata": {
      "needs_background": "light"
     },
     "output_type": "display_data"
    }
   ],
   "source": [
    "color_map = plt.imshow(weight_matrix, cmap=\"viridis\", vmin=0.0, vmax=1.0)\n",
    "plt.colorbar()"
   ]
  },
  {
   "cell_type": "markdown",
   "metadata": {},
   "source": [
    "# Ex2. Connect your cells considering connection probability\n",
    "\n",
    "<font size='3'>Connect your five cells as it is done in tutorial 02, considering the following connection probabilities between cell types:\n",
    "<br> PC - PC: 65 %\n",
    "<br> PC - Inh: 23 %\n",
    "<br> Inh - PC: 41 %\n",
    "<br> Inh - Inh: 36 %\n",
    "\n",
    "<font size='3'>Show the results on a probability matrix. [1 pt]\n"
   ]
  },
  {
   "cell_type": "code",
   "execution_count": 9,
   "metadata": {},
   "outputs": [],
   "source": [
    "# specify connection probabilites between cell types\n",
    "conn_prob_matrix = np.zeros((2,2))\n",
    "conn_prob_matrix[0,0] = 0.65 # Pyr to Pyr\n",
    "conn_prob_matrix[0,1] = 0.23 # Pyr to Int\n",
    "conn_prob_matrix[1,0] = 0.41 # Int to Pyr\n",
    "conn_prob_matrix[1,1] = 0.36 # Int to Int"
   ]
  },
  {
   "cell_type": "code",
   "execution_count": 10,
   "metadata": {},
   "outputs": [
    {
     "name": "stdout",
     "output_type": "stream",
     "text": [
      "Connected cells morph_2 -> morph_9 with weight 0.0837602 and delay 5, from axon[49] to dend[17]\n",
      "Connected cells morph_2 -> morph_10 with weight 0.471112 and delay 5, from axon[213] to dend[13]\n",
      "Connected cells morph_9 -> morph_2 with weight 0.417037 and delay 5, from axon[7] to dend[5]\n",
      "Connected cells morph_9 -> morph_10 with weight 0.0451617 and delay 5, from axon[13] to dend[11]\n",
      "Connected cells morph_9 -> morph_8 with weight 0.183797 and delay 5, from axon[40] to dend[41]\n",
      "Connected cells morph_9 -> morph_4 with weight 0.726134 and delay 5, from axon[67] to dend[15]\n",
      "Connected cells morph_10 -> morph_2 with weight 0.272962 and delay 5, from axon[146] to dend[1]\n",
      "Connected cells morph_10 -> morph_9 with weight 0.09652 and delay 5, from axon[4] to dend[39]\n",
      "Connected cells morph_8 -> morph_9 with weight 0.848354 and delay 5, from axon[403] to soma[0]\n",
      "Connected cells morph_8 -> morph_10 with weight 0.279516 and delay 5, from axon[463] to soma[0]\n",
      "Connected cells morph_4 -> morph_2 with weight 0.9749 and delay 5, from axon[14] to soma[1]\n",
      "Connected cells morph_4 -> morph_10 with weight 0.533751 and delay 5, from axon[39] to soma[0]\n",
      "Connected cells morph_4 -> morph_8 with weight 0.387658 and delay 5, from axon[48] to soma[1]\n"
     ]
    }
   ],
   "source": [
    "prob_index = {'excitatory':0, 'inhibitory':1}\n",
    "\n",
    "netcons = []\n",
    "\n",
    "rng = np.random.default_rng()\n",
    "\n",
    "for i,source in enumerate(cells):\n",
    "    for j,target in enumerate(cells):\n",
    "        if i==j:\n",
    "            continue\n",
    "        \n",
    "        # get the probability of connection\n",
    "        prob = conn_prob_matrix[prob_index[source.type], prob_index[target.type]]\n",
    "        if rng.random() >= prob:\n",
    "            continue\n",
    "            \n",
    "        if source.type == 'inhibitory':\n",
    "            nc = connect(source,target,weight_matrix[i,j], target_neurite='soma')\n",
    "        else:\n",
    "            nc = connect(source,target,weight_matrix[i,j])\n",
    "        netcons.append(nc)"
   ]
  },
  {
   "cell_type": "code",
   "execution_count": 11,
   "metadata": {},
   "outputs": [
    {
     "data": {
      "text/plain": [
       "<matplotlib.colorbar.Colorbar at 0x7f40715191d0>"
      ]
     },
     "execution_count": 11,
     "metadata": {},
     "output_type": "execute_result"
    },
    {
     "data": {
      "image/png": "[encoded data removed]",
      "text/plain": [
       "<Figure size 432x288 with 2 Axes>"
      ]
     },
     "metadata": {
      "needs_background": "light"
     },
     "output_type": "display_data"
    }
   ],
   "source": [
    "plt.imshow(conn_prob_matrix, cmap=\"viridis\", vmin=0.0, vmax=1.0)\n",
    "plt.colorbar()"
   ]
  },
  {
   "cell_type": "markdown",
   "metadata": {},
   "source": [
    "# Ex3. Distribution of contacts: Convergence Matrix\n",
    "\n",
    "<font size='3'>Considering the following mean contact points between cell types: \n",
    "<br> PC_axon - PC_basal: 4\n",
    "<br> PC_axon - PC_apical: 1.5\n",
    "<br> PC_axon - Inh_basal: 3\n",
    "<br> Inh_axon - PC_soma: 3.5\n",
    "<br> Inh_axon - PC_basal: 2\n",
    "<br> Inh_axon - Inh_soma: 4\n",
    "<br> Inh_axon - Inh_basal: 1.6\n",
    "\n",
    "<font size='3'>connect your cells by selecting the contact points from a normal distribution with a specific mean value per connection (values above). Show the results on a __convergence__ matrix (how many contacts each of the cells receives from the others). [1.5 pts] "
   ]
  },
  {
   "cell_type": "code",
   "execution_count": 12,
   "metadata": {},
   "outputs": [],
   "source": [
    "# specify expected number of contacts between cell types, considering target neurite\n",
    "expected_contacts = np.zeros((2,2,3), dtype=int)\n",
    "\n",
    "expected_contacts[0,0,0] = 0 # Pyr to Pyr (soma)\n",
    "expected_contacts[0,0,1] = 4 # Pyr to Pyr (dend)/ basal\n",
    "expected_contacts[0,0,2] = 1.5 # Pyr to Pyr (apic)\n",
    "\n",
    "expected_contacts[1,0,0] = 3.5 # Int to Pyr (soma)\n",
    "expected_contacts[1,0,1] = 2 # Int to Pyr (dend)\n",
    "expected_contacts[1,0,2] = 0 # Int to Pyr (apic)\n",
    "\n",
    "expected_contacts[0,1,0] = 0 # Pyr to Int (soma)\n",
    "expected_contacts[0,1,1] = 3 # Pyr to Int (dend)\n",
    "\n",
    "expected_contacts[1,1,0] = 4 # Int to Int (soma)\n",
    "expected_contacts[1,1,1] = 1.6 # Int to Int (dend)"
   ]
  },
  {
   "cell_type": "code",
   "execution_count": 13,
   "metadata": {},
   "outputs": [
    {
     "name": "stdout",
     "output_type": "stream",
     "text": [
      "Connected cells morph_2 -> morph_9 with weight 0.273803 and delay 5, from axon[173] to dend[5]\n",
      "Connected cells morph_2 -> morph_9 with weight 0.882384 and delay 5, from axon[210] to dend[26]\n",
      "Connected cells morph_2 -> morph_9 with weight 0.841783 and delay 5, from axon[190] to dend[20]\n",
      "Connected cells morph_2 -> morph_9 with weight 0.254293 and delay 5, from axon[182] to dend[14]\n",
      "Connected cells morph_2 -> morph_9 with weight 0.883807 and delay 5, from axon[163] to dend[1]\n",
      "Connected cells morph_9 -> morph_10 with weight 0.861572 and delay 5, from axon[90] to dend[15]\n",
      "Connected cells morph_9 -> morph_10 with weight 0.558585 and delay 5, from axon[97] to dend[17]\n",
      "Connected cells morph_9 -> morph_10 with weight 0.623621 and delay 5, from axon[15] to apic[14]\n",
      "Connected cells morph_9 -> morph_10 with weight 0.605394 and delay 5, from axon[50] to apic[1]\n",
      "Connected cells morph_8 -> morph_2 with weight 0.507927 and delay 5, from axon[465] to soma[0]\n",
      "Connected cells morph_8 -> morph_2 with weight 0.566308 and delay 5, from axon[61] to dend[3]\n",
      "Connected cells morph_8 -> morph_2 with weight 0.155691 and delay 5, from axon[292] to dend[9]\n",
      "Connected cells morph_4 -> morph_9 with weight 0.344654 and delay 5, from axon[128] to soma[0]\n",
      "Connected cells morph_4 -> morph_9 with weight 0.710489 and delay 5, from axon[130] to soma[1]\n",
      "Connected cells morph_4 -> morph_9 with weight 0.914466 and delay 5, from axon[99] to soma[0]\n",
      "Connected cells morph_4 -> morph_9 with weight 0.925321 and delay 5, from axon[35] to soma[1]\n",
      "Connected cells morph_4 -> morph_9 with weight 0.977421 and delay 5, from axon[81] to dend[30]\n",
      "Connected cells morph_4 -> morph_10 with weight 0.360586 and delay 5, from axon[94] to soma[0]\n",
      "Connected cells morph_4 -> morph_10 with weight 0.468525 and delay 5, from axon[51] to dend[11]\n",
      "Connected cells morph_4 -> morph_10 with weight 0.0556472 and delay 5, from axon[122] to dend[14]\n",
      "Connected cells morph_4 -> morph_10 with weight 0.378023 and delay 5, from axon[131] to dend[15]\n",
      "Connected cells morph_4 -> morph_10 with weight 0.249259 and delay 5, from axon[81] to dend[20]\n",
      "Connected cells morph_4 -> morph_10 with weight 0.274341 and delay 5, from axon[37] to dend[5]\n",
      "Connected cells morph_4 -> morph_8 with weight 0.125841 and delay 5, from axon[4] to soma[0]\n",
      "Connected cells morph_4 -> morph_8 with weight 0.530635 and delay 5, from axon[11] to soma[1]\n",
      "Connected cells morph_4 -> morph_8 with weight 0.640005 and delay 5, from axon[87] to soma[0]\n",
      "Connected cells morph_4 -> morph_8 with weight 0.465797 and delay 5, from axon[86] to soma[1]\n",
      "Connected cells morph_4 -> morph_8 with weight 0.0961983 and delay 5, from axon[20] to dend[32]\n"
     ]
    }
   ],
   "source": [
    "type_index = {'excitatory':0, 'inhibitory':1}\n",
    "\n",
    "netcons = []\n",
    "\n",
    "rng = np.random.default_rng()\n",
    "\n",
    "for i,source in enumerate(cells):\n",
    "    for j,target in enumerate(cells):\n",
    "        if i==j:# no self connection\n",
    "            continue\n",
    "        \n",
    "        # get the probability of connection\n",
    "        source_type_idx, target_type_idx = type_index[source.type], type_index[target.type]\n",
    "        prob = conn_prob_matrix[source_type_idx, target_type_idx]\n",
    "        if rng.random() >= prob:\n",
    "            continue\n",
    "            \n",
    "        if target.type == 'inhibitory':\n",
    "            for n,neurite in enumerate(['soma','dend']):\n",
    "                contacts = expected_contacts[source_type_idx, target_type_idx, n]\n",
    "                if contacts > 0:\n",
    "                    contacts = m.floor(rng.normal(contacts))\n",
    "                if contacts < 0:\n",
    "                    contacts = 0\n",
    "                for k in range(0,contacts):\n",
    "                    nc = connect(source, target, target_neurite=neurite)\n",
    "                    netcons.append(nc)\n",
    "        else:\n",
    "            for n,neurite in enumerate(['soma','dend','apic']):\n",
    "                contacts = expected_contacts[source_type_idx, target_type_idx, n]\n",
    "                if contacts > 0:\n",
    "                    contacts = m.floor(rng.normal(contacts))\n",
    "                if contacts < 0:\n",
    "                    contacts = 0\n",
    "                for k in range(0,contacts):\n",
    "                    nc = connect(source, target, target_neurite=neurite)\n",
    "                    netcons.append(nc)\n"
   ]
  },
  {
   "cell_type": "code",
   "execution_count": 14,
   "metadata": {},
   "outputs": [
    {
     "data": {
      "text/plain": [
       "['morph_2', 'morph_9', 'morph_10', 'morph_8', 'morph_4']"
      ]
     },
     "execution_count": 14,
     "metadata": {},
     "output_type": "execute_result"
    }
   ],
   "source": [
    "contacts_matrix = np.zeros((5,5))\n",
    "cellnames = [x.name for x in cells]\n",
    "\n",
    "cellnames"
   ]
  },
  {
   "cell_type": "code",
   "execution_count": 15,
   "metadata": {},
   "outputs": [
    {
     "data": {
      "text/plain": [
       "<matplotlib.colorbar.Colorbar at 0x7f40714d1cc0>"
      ]
     },
     "execution_count": 15,
     "metadata": {},
     "output_type": "execute_result"
    },
    {
     "data": {
      "image/png": "[encoded data removed]",
      "text/plain": [
       "<Figure size 432x288 with 2 Axes>"
      ]
     },
     "metadata": {
      "needs_background": "light"
     },
     "output_type": "display_data"
    }
   ],
   "source": [
    "# iterate over netcons and count\n",
    "for nc in netcons:\n",
    "    pre = nc.precell().name\n",
    "    pos = nc.postcell().name\n",
    "    i_pre = cellnames.index(pre)\n",
    "    i_pos = cellnames.index(pos)\n",
    "    \n",
    "    contacts_matrix[i_pos,i_pre] += 1\n",
    "\n",
    "plt.imshow(contacts_matrix, cmap=\"YlGn\")\n",
    "plt.colorbar()"
   ]
  },
  {
   "cell_type": "markdown",
   "metadata": {},
   "source": [
    "**Note the above matrix is just the transpose of the divergence matrix.**"
   ]
  },
  {
   "cell_type": "markdown",
   "metadata": {},
   "source": [
    "# Ex4. Real Connectivity Rules\n",
    "\n",
    "<font size='3'>Read the articles uploaded on the HomeWork folder (Markram_1997.pdf and Gupta_2000.pdf). \n",
    "\n",
    "<font size='3'>Imaging that you have to build a network with your five cells (3 pyramidals and 2 GABAergic interneurons) from rat somatosensory cortex. Extract from the papers the data that you would need to connect your cells (connectivity rules). Enumerate the data chosen to connect your cells. Using and modifying (if needed) the code from the tutorials, connect your five cells in a more biological way using the connectivity rules found in the papers. [2.5 pts]"
   ]
  },
  {
   "cell_type": "code",
   "execution_count": null,
   "metadata": {},
   "outputs": [],
   "source": []
  }
 ],
 "metadata": {
  "kernelspec": {
   "display_name": "Python 3",
   "language": "python",
   "name": "python3"
  },
  "language_info": {
   "codemirror_mode": {
    "name": "ipython",
    "version": 3
   },
   "file_extension": ".py",
   "mimetype": "text/x-python",
   "name": "python",
   "nbconvert_exporter": "python",
   "pygments_lexer": "ipython3",
   "version": "3.6.9"
  }
 },
 "nbformat": 4,
 "nbformat_minor": 4
}
