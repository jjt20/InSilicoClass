{
 "cells": [
  {
   "cell_type": "markdown",
   "metadata": {},
   "source": [
    "<center><font size = \"10\"> Week 7 - Connections<center>\n",
    "<center><font size = \"8\">Tutorial 03: Morphological Distribution of Contacts<center>"
   ]
  },
  {
   "cell_type": "markdown",
   "metadata": {},
   "source": [
    "<font size='3'><font color='blue'> In this tutorial you will learn: \n",
    "    \n",
    "<font size='3'><font color='blue'> how to connect several cells considering the morphological distribution of contacts"
   ]
  },
  {
   "cell_type": "code",
   "execution_count": 1,
   "metadata": {},
   "outputs": [],
   "source": [
    "# Load usefull packages\n",
    "%matplotlib inline\n",
    "\n",
    "from neuron import h, gui\n",
    "import matplotlib.pyplot as plt\n",
    "import numpy as np\n",
    "import math as m"
   ]
  },
  {
   "cell_type": "markdown",
   "metadata": {},
   "source": [
    "## Step1: create the class cell"
   ]
  },
  {
   "cell_type": "code",
   "execution_count": 2,
   "metadata": {},
   "outputs": [],
   "source": [
    "class Cell:\n",
    "    def __init__(self, filename, name, cell_type):\n",
    "        self.name = name\n",
    "        self.type = cell_type\n",
    "        self.synapses = []\n",
    "        self.build_morphology(filename)\n",
    "        self.biophysics()\n",
    "        \n",
    "    def build_morphology(self, filename):\n",
    "        h.load_file('import3d.hoc')\n",
    "        h.load_file('stdlib.hoc')\n",
    "        #morph_reader = h.Import3d_Neurolucida3()\n",
    "        morph_reader = h.Import3d_SWC_read()\n",
    "        morph_reader.input(filename)\n",
    "        i3d = h.Import3d_GUI(morph_reader, 0)\n",
    "        i3d.instantiate(self)\n",
    "    \n",
    "    def biophysics(self):\n",
    "        for sec in h.allsec():\n",
    "            sec.Ra = 100    # Axial resistance in Ohm * cm\n",
    "            sec.cm = 1      # Membrane capacitance in micro Farads / cm^2\n",
    "            sec.insert(\"pas\")\n",
    "            for seg in sec:\n",
    "                seg.pas.g = 0.00003\n",
    "                seg.pas.e = -75\n",
    "        \n",
    "        # Insert passive current in the dendrite\n",
    "        for sec in self.soma:\n",
    "            sec.insert('hh')\n",
    "            for seg in sec:\n",
    "                seg.hh.gnabar = 0.12  # Sodium conductance in S/cm2\n",
    "                seg.hh.gkbar = 0.036  # Potassium conductance in S/cm2\n",
    "        \n",
    "        if hasattr(self, 'apic'):\n",
    "            for sec in self.apic:\n",
    "                sec.insert('hh')\n",
    "                for seg in sec:\n",
    "                    seg.hh.gnabar = 0.12  # Sodium conductance in S/cm2\n",
    "                    seg.hh.gkbar = 0.036  # Potassium conductance in S/cm2\n",
    "        \n",
    "        for sec in self.dend:\n",
    "            sec.insert('hh')\n",
    "            for seg in sec:\n",
    "                seg.hh.gnabar = 0.12  # Sodium conductance in S/cm2\n",
    "                seg.hh.gkbar = 0.036  # Potassium conductance in S/cm2\n",
    "                \n",
    "        for sec in self.axon:\n",
    "            sec.insert('hh')\n",
    "            for seg in sec:    \n",
    "                seg.hh.gnabar = 0.12  # Sodium conductance in S/cm2\n",
    "                seg.hh.gkbar = 0.036  # Potassium conductance in S/cm2"
   ]
  },
  {
   "cell_type": "markdown",
   "metadata": {},
   "source": [
    "## Step2: Instantiate different cells.\n",
    "\n",
    "<font size='3'>__IMPORTANT:__This cell will show an error. Don't pay attention to it, is not a fatal error and the cells got properly instantiated.\n",
    "    \n",
    "<font size='3'>You will be able to run simulations on them."
   ]
  },
  {
   "cell_type": "code",
   "execution_count": 3,
   "metadata": {},
   "outputs": [
    {
     "name": "stdout",
     "output_type": "stream",
     "text": [
      "error Pyr_01.swc line 12052: could not parse: \n",
      "error Pyr_02.swc line 12344: could not parse: \n",
      "error Int_01.swc line 11322: could not parse: \n"
     ]
    }
   ],
   "source": [
    "Pyr1 = Cell('Pyr_01.swc','Pyr1','Pyr')\n",
    "Pyr2 = Cell('Pyr_02.swc','Pyr2','Pyr')\n",
    "Int1 = Cell('Int_01.swc','Int1','Int')\n",
    "cells_Pyr = [Pyr1, Pyr2]\n",
    "cells_Int = [Int1]\n",
    "cells = cells_Pyr + cells_Int"
   ]
  },
  {
   "cell_type": "markdown",
   "metadata": {},
   "source": [
    "<font size='3'> Print the number of sections per neurite. Realize that the inhibitory cell doesn't have an apical neurite."
   ]
  },
  {
   "cell_type": "code",
   "execution_count": 4,
   "metadata": {},
   "outputs": [
    {
     "name": "stdout",
     "output_type": "stream",
     "text": [
      "Pyr1: 13 apical sections, 34 basal sections, 2 soma sections and 169 axon senctions\n",
      "Pyr2: 115 apical sections, 61 basal sections, 2 soma sections and 170 axon senctions\n",
      "Int1: 21 basal sections, 2 soma sections and 526 axon senctions\n"
     ]
    }
   ],
   "source": [
    "for c in cells_Pyr:\n",
    "    print('%s: %d apical sections, %d basal sections, %d soma sections and %d axon senctions' % (c.name,len(c.apic),len(c.dend), len(c.soma), len(c.axon)))\n",
    "for c in cells_Int:\n",
    "    print('%s: %d basal sections, %d soma sections and %d axon senctions' % (c.name,len(c.dend), len(c.soma), len(c.axon)))"
   ]
  },
  {
   "cell_type": "markdown",
   "metadata": {},
   "source": [
    "## Step 3: Connect with morphological distribution of contacts"
   ]
  },
  {
   "cell_type": "code",
   "execution_count": 5,
   "metadata": {},
   "outputs": [],
   "source": [
    "# connect two cells with an exponential synapse at given locations\n",
    "# returns the netcon\n",
    "def connect(source, target, weight = None, delay = 5, source_sec = None, source_neurite = 'axon', target_sec = None, target_neurite = 'dend'):\n",
    "    rng = np.random.default_rng()\n",
    "    \n",
    "    if weight is None:\n",
    "        weight = rng.uniform() # random weight\n",
    "    \n",
    "    target_neurite_ = getattr(target, target_neurite)\n",
    "    if target_sec is None:\n",
    "        target_sec = rng.integers(0,len(target_neurite_)) # random dendritic section\n",
    "    \n",
    "    source_neurite_ = getattr(source, source_neurite)\n",
    "    if source_sec is None:\n",
    "        source_sec = rng.integers(0,len(source_neurite_)) # random axonal section\n",
    "    \n",
    "    target_syn = h.ExpSyn(target_neurite_[target_sec](0.5))\n",
    "    target.synapses.append(target_syn) # store synapse\n",
    "    \n",
    "    netcon = h.NetCon(source_neurite_[source_sec](0.5)._ref_v, target_syn, sec=source_neurite_[source_sec])\n",
    "    netcon.weight[0] = weight\n",
    "    netcon.delay = delay\n",
    "    \n",
    "    print('Connected cells %s -> %s with weight %g and delay %g, from %s[%d] to %s[%d]' % (source.name,target.name,weight,delay,source_neurite,source_sec,target_neurite,target_sec))\n",
    "    return netcon"
   ]
  },
  {
   "cell_type": "code",
   "execution_count": 6,
   "metadata": {},
   "outputs": [],
   "source": [
    "# specify connection probabilites between cell types\n",
    "conn_prob_matrix = np.zeros((2,2))\n",
    "conn_prob_matrix[0,0] = 0.8 # Pyr to Pyr\n",
    "conn_prob_matrix[0,1] = 0.3 # Pyr to Int\n",
    "conn_prob_matrix[1,0] = 0.5 # Int to Pyr\n",
    "conn_prob_matrix[1,1] = 0.2 # Int to Int"
   ]
  },
  {
   "cell_type": "code",
   "execution_count": 7,
   "metadata": {},
   "outputs": [],
   "source": [
    "# specify expected number of contacts between cell types, considering target neurite\n",
    "expected_contacts = np.zeros((2,2,3), dtype=int)\n",
    "\n",
    "expected_contacts[0,0,0] = 0 # Pyr to Pyr (soma)\n",
    "expected_contacts[0,0,1] = 5 # Pyr to Pyr (dend)\n",
    "expected_contacts[0,0,2] = 0 # Pyr to Pyr (apic)\n",
    "\n",
    "expected_contacts[1,0,0] = 3 # Int to Pyr (soma)\n",
    "expected_contacts[1,0,1] = 0 # Int to Pyr (dend)\n",
    "expected_contacts[1,0,2] = 0 # Int to Pyr (apic)\n",
    "\n",
    "expected_contacts[0,1,0] = 2 # Pyr to Int (soma)\n",
    "expected_contacts[0,1,1] = 2 # Pyr to Int (dend)\n",
    "\n",
    "expected_contacts[1,1,0] = 3 # Int to Int (soma)\n",
    "expected_contacts[1,1,1] = 2 # Int to Int (dend)"
   ]
  },
  {
   "cell_type": "code",
   "execution_count": 9,
   "metadata": {},
   "outputs": [
    {
     "name": "stdout",
     "output_type": "stream",
     "text": [
      "er\n",
      "0\n"
     ]
    }
   ],
   "source": [
    "i=3\n",
    "for i in range(1):\n",
    "    print('er')\n",
    "print(i)"
   ]
  },
  {
   "cell_type": "code",
   "execution_count": 8,
   "metadata": {},
   "outputs": [
    {
     "name": "stdout",
     "output_type": "stream",
     "text": [
      "Connected cells Pyr2 -> Pyr1 with weight 0.99665 and delay 5, from axon[158] to dend[10]\n",
      "Connected cells Pyr2 -> Pyr1 with weight 0.0735331 and delay 5, from axon[138] to dend[24]\n",
      "Connected cells Pyr2 -> Pyr1 with weight 0.141377 and delay 5, from axon[57] to dend[1]\n",
      "Connected cells Pyr2 -> Pyr1 with weight 0.812642 and delay 5, from axon[67] to dend[21]\n",
      "Connected cells Pyr2 -> Pyr1 with weight 0.0290698 and delay 5, from axon[76] to dend[23]\n",
      "Connected cells Int1 -> Pyr1 with weight 0.187611 and delay 5, from axon[429] to soma[1]\n",
      "Connected cells Int1 -> Pyr1 with weight 0.967142 and delay 5, from axon[186] to soma[0]\n",
      "Connected cells Int1 -> Pyr1 with weight 0.0956832 and delay 5, from axon[124] to soma[0]\n",
      "Connected cells Pyr1 -> Pyr2 with weight 0.0814627 and delay 5, from axon[139] to dend[41]\n",
      "Connected cells Pyr1 -> Pyr2 with weight 0.587104 and delay 5, from axon[62] to dend[46]\n",
      "Connected cells Pyr1 -> Pyr2 with weight 0.390432 and delay 5, from axon[48] to dend[45]\n",
      "Connected cells Pyr1 -> Pyr2 with weight 0.0518936 and delay 5, from axon[69] to dend[58]\n",
      "Connected cells Pyr1 -> Pyr2 with weight 0.321857 and delay 5, from axon[142] to dend[37]\n",
      "Connected cells Int1 -> Pyr2 with weight 0.909478 and delay 5, from axon[471] to soma[1]\n",
      "Connected cells Int1 -> Pyr2 with weight 0.73419 and delay 5, from axon[23] to soma[1]\n",
      "Connected cells Pyr1 -> Int1 with weight 0.440503 and delay 5, from axon[51] to soma[1]\n",
      "Connected cells Pyr1 -> Int1 with weight 0.982405 and delay 5, from axon[43] to soma[1]\n",
      "Connected cells Pyr1 -> Int1 with weight 0.578255 and delay 5, from axon[19] to dend[2]\n"
     ]
    }
   ],
   "source": [
    "# generate number of contacts per cell type, by selecting them from a normal distribution \n",
    "# in which the mean is the expected_contacts value\n",
    "\n",
    "netcons = [] # store all netcons\n",
    "\n",
    "rng = np.random.default_rng()\n",
    "\n",
    "# Connect Pyr2 to Pyr1\n",
    "if rng.random() < conn_prob_matrix[0,0]:\n",
    "    for i,neurite in enumerate(['soma','dend','apic']):\n",
    "        contacts = expected_contacts[0,0,i]\n",
    "        if contacts > 0:\n",
    "            contacts = m.floor(rng.normal(contacts))\n",
    "        if contacts < 0:\n",
    "            contacts = 0\n",
    "        for j in range(0,contacts):\n",
    "            nc = connect(Pyr2, Pyr1, target_neurite=neurite)\n",
    "            netcons.append(nc)\n",
    "\n",
    "# Connect Int1 to Pyr1\n",
    "if rng.random() < conn_prob_matrix[1,0]:\n",
    "    for i,neurite in enumerate(['soma','dend','apic']):\n",
    "        contacts = expected_contacts[1,0,i]\n",
    "        if contacts > 0:\n",
    "            contacts = m.floor(rng.normal(contacts))\n",
    "        if contacts < 0:\n",
    "            contacts = 0\n",
    "        for i in range(0,contacts):\n",
    "            nc = connect(Int1, Pyr1, target_neurite=neurite)\n",
    "            netcons.append(nc)\n",
    "\n",
    "# Connect Pyr1 to Pyr2\n",
    "if rng.random() < conn_prob_matrix[0,0]:\n",
    "    for i,neurite in enumerate(['soma','dend','apic']):\n",
    "        contacts = expected_contacts[0,0,i]\n",
    "        if contacts > 0:\n",
    "            contacts = m.floor(rng.normal(contacts))\n",
    "        if contacts < 0:\n",
    "            contacts = 0\n",
    "        for i in range(0,contacts):\n",
    "            nc = connect(Pyr1, Pyr2, target_neurite=neurite)\n",
    "            netcons.append(nc)\n",
    "\n",
    "# Connect Int1 to Pyr2\n",
    "if rng.random() < conn_prob_matrix[1,0]:\n",
    "    for i,neurite in enumerate(['soma','dend','apic']):\n",
    "        contacts = expected_contacts[1,0,i]\n",
    "        if contacts > 0:\n",
    "            contacts = m.floor(rng.normal(contacts))\n",
    "        if contacts < 0:\n",
    "            contacts = 0\n",
    "        for i in range(0,contacts):\n",
    "            nc = connect(Int1, Pyr2, target_neurite=neurite)\n",
    "            netcons.append(nc)\n",
    "\n",
    "# Connect Pyr1 to Int1\n",
    "if rng.random() < conn_prob_matrix[0,1]:\n",
    "    for i,neurite in enumerate(['soma','dend']):\n",
    "        contacts = expected_contacts[0,1,i]\n",
    "        if contacts > 0:\n",
    "            contacts = m.floor(rng.normal(contacts))\n",
    "        if contacts < 0:\n",
    "            contacts = 0\n",
    "        for i in range(0,contacts):\n",
    "            nc = connect(Pyr1, Int1, target_neurite=neurite)\n",
    "            netcons.append(nc)\n",
    "\n",
    "# Connect Pyr2 to Int1\n",
    "if rng.random() < conn_prob_matrix[0,1]:\n",
    "    for i,neurite in enumerate(['soma','dend']):\n",
    "        contacts = expected_contacts[0,1,i]\n",
    "        if contacts > 0:\n",
    "            contacts = m.floor(rng.normal(contacts))\n",
    "        if contacts < 0:\n",
    "            contacts = 0\n",
    "        for i in range(0,contacts):\n",
    "            nc = connect(Pyr2, Int1, target_neurite=neurite)\n",
    "            netcons.append(nc)"
   ]
  },
  {
   "cell_type": "markdown",
   "metadata": {},
   "source": [
    "<font size='3'>To test connectivity, let's stimulate one neuron and record another"
   ]
  },
  {
   "cell_type": "code",
   "execution_count": 10,
   "metadata": {},
   "outputs": [],
   "source": [
    "stim_cell = Pyr2\n",
    "stim_syn = h.ExpSyn(stim_cell.dend[20](0.5))\n",
    "stim = h.NetStim() # Make a new stimulator\n",
    "ncstim = h.NetCon(stim, stim_syn) # Connect stimulator to synapse"
   ]
  },
  {
   "cell_type": "markdown",
   "metadata": {},
   "source": [
    "<font size='3'>You can play with the parameters below and rerun to see the change in the voltage traces"
   ]
  },
  {
   "cell_type": "code",
   "execution_count": 19,
   "metadata": {},
   "outputs": [
    {
     "data": {
      "image/png": "[encoded data removed]",
      "text/plain": [
       "<Figure size 432x288 with 1 Axes>"
      ]
     },
     "metadata": {
      "needs_background": "light"
     },
     "output_type": "display_data"
    }
   ],
   "source": [
    "stim.number = 20 # Number of spikes (average)\n",
    "stim.start = 10 # First spike delay [ms]\n",
    "ncstim.delay = 1 # NetCon ms\n",
    "ncstim.weight[0] = 0.8 # NetCon weight\n",
    "\n",
    "recording_cell = Pyr1\n",
    "\n",
    "soma_v = h.Vector().record(recording_cell.soma[0](0.5)._ref_v)\n",
    "dend_v = h.Vector().record(recording_cell.dend[20](0.5)._ref_v)\n",
    "t = h.Vector().record(h._ref_t)\n",
    "\n",
    "h.finitialize(-65)\n",
    "h.continuerun(200)\n",
    "plt.plot(t, soma_v, label='soma(0.5)')\n",
    "plt.plot(t, dend_v, label='dend(0.5)')\n",
    "plt.legend()\n",
    "plt.show()"
   ]
  },
  {
   "cell_type": "markdown",
   "metadata": {},
   "source": [
    "## Step 4: Matrix\n",
    "\n",
    "### 4.1 Connection probability matrix (between cell types)"
   ]
  },
  {
   "cell_type": "code",
   "execution_count": 20,
   "metadata": {},
   "outputs": [
    {
     "data": {
      "text/plain": [
       "<matplotlib.colorbar.Colorbar at 0x7fbd88609fd0>"
      ]
     },
     "execution_count": 20,
     "metadata": {},
     "output_type": "execute_result"
    },
    {
     "data": {
      "image/png": "[encoded data removed]",
      "text/plain": [
       "<Figure size 432x288 with 2 Axes>"
      ]
     },
     "metadata": {
      "needs_background": "light"
     },
     "output_type": "display_data"
    }
   ],
   "source": [
    "plt.imshow(conn_prob_matrix, cmap=\"viridis\", vmin=0.0, vmax=1.0)\n",
    "plt.colorbar()"
   ]
  },
  {
   "cell_type": "markdown",
   "metadata": {},
   "source": [
    "### 4.2 Divergence Matrix: how many contacts a certain cell makes with the others"
   ]
  },
  {
   "cell_type": "code",
   "execution_count": 21,
   "metadata": {},
   "outputs": [
    {
     "data": {
      "text/plain": [
       "<matplotlib.colorbar.Colorbar at 0x7fbd880ecf60>"
      ]
     },
     "execution_count": 21,
     "metadata": {},
     "output_type": "execute_result"
    },
    {
     "data": {
      "image/png": "[encoded data removed]",
      "text/plain": [
       "<Figure size 432x288 with 2 Axes>"
      ]
     },
     "metadata": {
      "needs_background": "light"
     },
     "output_type": "display_data"
    }
   ],
   "source": [
    "contacts_matrix = np.zeros((3,3))\n",
    "cellnames = [x.name for x in cells]\n",
    "\n",
    "# iterate over netcons and count\n",
    "for nc in netcons:\n",
    "    pre = nc.precell().name\n",
    "    pos = nc.postcell().name\n",
    "    ipre = cellnames.index(pre)\n",
    "    ipos = cellnames.index(pos)\n",
    "    contacts_matrix[ipre,ipos] += 1\n",
    "\n",
    "plt.imshow(contacts_matrix, cmap=\"YlGn\")\n",
    "plt.colorbar()"
   ]
  },
  {
   "cell_type": "code",
   "execution_count": null,
   "metadata": {},
   "outputs": [],
   "source": []
  }
 ],
 "metadata": {
  "kernelspec": {
   "display_name": "Python 3",
   "language": "python",
   "name": "python3"
  },
  "language_info": {
   "codemirror_mode": {
    "name": "ipython",
    "version": 3
   },
   "file_extension": ".py",
   "mimetype": "text/x-python",
   "name": "python",
   "nbconvert_exporter": "python",
   "pygments_lexer": "ipython3",
   "version": "3.6.9"
  }
 },
 "nbformat": 4,
 "nbformat_minor": 4
}
