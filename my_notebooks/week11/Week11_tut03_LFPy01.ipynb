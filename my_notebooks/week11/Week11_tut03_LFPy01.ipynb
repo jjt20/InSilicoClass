{
 "cells": [
  {
   "cell_type": "markdown",
   "metadata": {},
   "source": [
    "<center><font size = \"10\"> Week 11 - Extracellular Response<center>\n",
    "<center><font size = \"8\">Tutorial 03: LFPy 01 <center>"
   ]
  },
  {
   "cell_type": "markdown",
   "metadata": {},
   "source": [
    "<font size='3'><font color='blue'> In this tutorial we see an example of using [LFPy](https://lfpy.readthedocs.io/en/latest/), a python package for calculation of extracellular potentials from multicompartment neuron models and recurrent networks of multicompartment neurons.\n",
    "    \n",
    "<font size='3'><font color='blue'>You can find this example in the tutorials provided by LFPy although it has been adapted to our morphologies."
   ]
  },
  {
   "cell_type": "markdown",
   "metadata": {},
   "source": [
    "## Extracellular response of synaptic input\n",
    "\n",
    "<font size='3'>First step is to import LFPy and other packages for analysis and plotting:"
   ]
  },
  {
   "cell_type": "code",
   "execution_count": null,
   "metadata": {},
   "outputs": [],
   "source": [
    "import LFPy\n",
    "import numpy as np\n",
    "import matplotlib.pyplot as plt"
   ]
  },
  {
   "cell_type": "markdown",
   "metadata": {},
   "source": [
    "<font size='3'>Create some dictionarys with parameters for cell, synapse and extracellular electrode:"
   ]
  },
  {
   "cell_type": "code",
   "execution_count": null,
   "metadata": {},
   "outputs": [],
   "source": [
    "cellParameters = {\n",
    "    'morphology' : 'Pyr_01.swc',\n",
    "    'tstart' : -50,\n",
    "    'tstop' : 100,\n",
    "    'dt' : 2**-4,\n",
    "    'passive' : True,\n",
    "}\n",
    "\n",
    "synapseParameters = {\n",
    "    'syntype' : 'Exp2Syn',\n",
    "    'e' : 0.,\n",
    "    'tau1' : 0.5,\n",
    "    'tau2' : 2.0,\n",
    "    'weight' : 0.05,\n",
    "    'record_current' : True,\n",
    "}\n",
    "\n",
    "z = np.mgrid[-800:1201:100]\n",
    "electrodeParameters = {\n",
    "    'x' : np.zeros(z.size),\n",
    "    'y' : np.zeros(z.size),\n",
    "    'z' : z,\n",
    "    'sigma' : 0.3,\n",
    "}"
   ]
  },
  {
   "cell_type": "markdown",
   "metadata": {},
   "source": [
    "<font size='3'>Then, create the cell, synapse and electrode objects using LFPy.Cell, LFPy.Synapse, LFPy.RecExtElectrode.\n",
    "    \n",
    "<font size='3'>__IMPORTANT:__ You would probably need to change the rotation angles to be able to align your cell with the line of electrodes."
   ]
  },
  {
   "cell_type": "code",
   "execution_count": null,
   "metadata": {},
   "outputs": [],
   "source": [
    "cell = LFPy.Cell(**cellParameters)\n",
    "cell.set_pos(x=0, y=0, z=0)\n",
    "\n",
    "cell.set_rotation(x=4.71239, y=0.0, z=4.71239, rotation_order='xyz') # angles in radians!!\n",
    "\n",
    "\n",
    "synapse = LFPy.Synapse(cell,\n",
    "                       idx = cell.get_closest_idx(z=300),\n",
    "                       **synapseParameters)\n",
    "synapse.set_spike_times(np.array([10, 30, 50]))\n",
    "                        \n",
    "electrode = LFPy.RecExtElectrode(**electrodeParameters)"
   ]
  },
  {
   "cell_type": "markdown",
   "metadata": {},
   "source": [
    "<font size='3'>Run the simulation with electrode as input to cell.simulate()"
   ]
  },
  {
   "cell_type": "code",
   "execution_count": null,
   "metadata": {},
   "outputs": [],
   "source": [
    "cell.simulate(electrode = electrode)"
   ]
  },
  {
   "cell_type": "markdown",
   "metadata": {},
   "source": [
    "<font size='3'>Then plot the somatic potential and the LFP from electrode object:"
   ]
  },
  {
   "cell_type": "code",
   "execution_count": null,
   "metadata": {},
   "outputs": [],
   "source": [
    "plt.figure(figsize=(12, 6))\n",
    "plt.subplot(133)\n",
    "plt.pcolormesh(cell.tvec, electrode.z, electrode.LFP,\n",
    "           vmin=-abs(electrode.LFP).max(), vmax=abs(electrode.LFP).max())\n",
    "plt.colorbar()\n",
    "plt.title('LFP (mV)')\n",
    "\n",
    "plt.subplot(232)\n",
    "plt.plot(cell.tvec, synapse.i, 'r'), plt.title('synaptic current (pA)')\n",
    "\n",
    "plt.subplot(235)\n",
    "plt.plot(cell.tvec, cell.somav, 'k'), plt.title('somatic voltage (mV)')\n",
    "\n",
    "plt.subplot(131)\n",
    "for sec in LFPy.cell.neuron.h.allsec():\n",
    "    idx = cell.get_idx(sec.name())\n",
    "    plt.plot(np.r_[cell.xstart[idx], cell.xend[idx][-1]],\n",
    "            np.r_[cell.zstart[idx], cell.zend[idx][-1]],\n",
    "            color='k')\n",
    "plt.plot([cell.synapses[0].x], [cell.synapses[0].z], \n",
    "     color='r', marker='o', markersize=10)\n",
    "plt.plot(electrode.x, electrode.z, '.', marker='o', color='g')\n",
    "plt.axis([-1000, 1000, -800, 1200])\n"
   ]
  }
 ],
 "metadata": {
  "kernelspec": {
   "display_name": "Neuron",
   "language": "python",
   "name": "neuron"
  },
  "language_info": {
   "codemirror_mode": {
    "name": "ipython",
    "version": 3
   },
   "file_extension": ".py",
   "mimetype": "text/x-python",
   "name": "python",
   "nbconvert_exporter": "python",
   "pygments_lexer": "ipython3",
   "version": "3.6.9"
  }
 },
 "nbformat": 4,
 "nbformat_minor": 4
}
