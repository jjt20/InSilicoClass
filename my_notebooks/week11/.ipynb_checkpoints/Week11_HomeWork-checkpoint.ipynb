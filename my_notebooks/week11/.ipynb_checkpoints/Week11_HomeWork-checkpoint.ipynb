{
 "cells": [
  {
   "cell_type": "markdown",
   "metadata": {},
   "source": [
    "<center><font size = \"10\"> Week 11 - Network Stimulation II and Extracellular recordings<center>\n",
    "<center><font size = \"8\">Home Work <center>"
   ]
  },
  {
   "cell_type": "markdown",
   "metadata": {},
   "source": [
    "<font size = \"3\">Please, write your group number and the names and surnames of the group members here\n",
    "<br>Group number:\n",
    "<br>Group member1:\n",
    "<br>Group member2:\n",
    "<br>Group member3:"
   ]
  },
  {
   "cell_type": "markdown",
   "metadata": {},
   "source": [
    "# Ex1. Spike analysis\n",
    "\n",
    "<font size='3'>Run all the cells from tutorial 01 and tutorial 02. Compare the results from both tutorials (single spike train and cross spike trains). \n",
    "    \n",
    "<font size='3'>Do you see any difference? Explain your answer. [1 pt]"
   ]
  },
  {
   "cell_type": "code",
   "execution_count": null,
   "metadata": {},
   "outputs": [],
   "source": []
  },
  {
   "cell_type": "markdown",
   "metadata": {},
   "source": [
    "# Ex2. Covariance\n",
    "\n",
    "<font size='3'>Load the five cells asigned to your group. Connect them randomly with weight 0.1. Attach to a random section of the basal dendritic tree of each cell an ExpSyn with weigth 0.5. Stimulate each cell with a \"regular\" stimulation of 75 Hz + jitter.\n",
    "\n",
    "<font size='3'>Using the documentation from the library ELEPHANT, compute the __covariance__ between the spike trains and plot the result.\n",
    "\n",
    "<font size='3'>Explain the difference between __covariance__, __correlation__ and __coherence__. [2 pts]\n",
    "    "
   ]
  },
  {
   "cell_type": "code",
   "execution_count": null,
   "metadata": {},
   "outputs": [],
   "source": []
  },
  {
   "cell_type": "markdown",
   "metadata": {},
   "source": [
    "# Ex3. Extracellular response of synaptic imput\n",
    "\n",
    "<font size='3'>Choose one pyramidal cell from your set of morphologies and run tutorial 03 but replacing the morphology file by the one you chose. Be careful with the rotation angles, the cell has to be aligned with the line of electrodes.\n",
    "\n",
    "<font size='3'>Explain what do you see on the final plots. [1.25 pts]"
   ]
  },
  {
   "cell_type": "code",
   "execution_count": null,
   "metadata": {},
   "outputs": [],
   "source": []
  },
  {
   "cell_type": "markdown",
   "metadata": {},
   "source": [
    "# Ex4. Extracellular field\n",
    "\n",
    "<font size='3'>Choose one pyramidal cell and one inhibitory cell from your set of cells. Run the code from tutorial 04 for each of the cells and compare the resulted response field for each of them. Explain what differences do you see and why. [1.75 pts] \n",
    "\n",
    "   "
   ]
  },
  {
   "cell_type": "code",
   "execution_count": null,
   "metadata": {},
   "outputs": [],
   "source": []
  }
 ],
 "metadata": {
  "kernelspec": {
   "display_name": "Python 3",
   "language": "python",
   "name": "python3"
  },
  "language_info": {
   "codemirror_mode": {
    "name": "ipython",
    "version": 3
   },
   "file_extension": ".py",
   "mimetype": "text/x-python",
   "name": "python",
   "nbconvert_exporter": "python",
   "pygments_lexer": "ipython3",
   "version": "3.6.9"
  }
 },
 "nbformat": 4,
 "nbformat_minor": 4
}
