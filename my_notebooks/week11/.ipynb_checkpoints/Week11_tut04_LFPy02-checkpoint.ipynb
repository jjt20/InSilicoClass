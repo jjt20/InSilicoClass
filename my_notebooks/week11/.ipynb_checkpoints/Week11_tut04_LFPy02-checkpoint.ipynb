{
 "cells": [
  {
   "cell_type": "markdown",
   "metadata": {},
   "source": [
    "<center><font size = \"10\"> Week 11 - Extracellular Response<center>\n",
    "<center><font size = \"8\">Tutorial 04: LFPy 02 <center>"
   ]
  },
  {
   "cell_type": "markdown",
   "metadata": {},
   "source": [
    "<font size='3'><font color='blue'> In this tutorial we see an example of using [LFPy](https://lfpy.readthedocs.io/en/latest/), a python package for calculation of extracellular potentials from multicompartment neuron models and recurrent networks of multicompartment neurons.\n",
    "    \n",
    "<font size='3'><font color='blue'>You can find this example in the tutorials provided by LFPy although it has been adapted to our morphologies."
   ]
  },
  {
   "cell_type": "markdown",
   "metadata": {},
   "source": [
    "## Single-synapse contribution to the LFP\n",
    "\n",
    "<font size='3'>Import packages"
   ]
  },
  {
   "cell_type": "code",
   "execution_count": null,
   "metadata": {},
   "outputs": [],
   "source": [
    "import LFPy\n",
    "import numpy as np\n",
    "import matplotlib.pyplot as plt\n",
    "from matplotlib.collections import PolyCollection"
   ]
  },
  {
   "cell_type": "markdown",
   "metadata": {},
   "source": [
    "## Set parameters"
   ]
  },
  {
   "cell_type": "code",
   "execution_count": null,
   "metadata": {},
   "outputs": [],
   "source": [
    "# Define cell parameters\n",
    "cell_parameters = {\n",
    "    'morphology' : 'Pyr_01.swc', # from Mainen & Sejnowski, J Comput Neurosci, 1996\n",
    "    'cm' : 1.0,         # membrane capacitance\n",
    "    'Ra' : 150.,        # axial resistance\n",
    "    'v_init' : -65.,    # initial crossmembrane potential\n",
    "    'passive' : True,   # turn on NEURONs passive mechanism for all sections\n",
    "    'passive_parameters' : {'g_pas' : 1./30000, 'e_pas' : -65},\n",
    "    'nsegs_method' : 'lambda_f', # spatial discretization method\n",
    "    'lambda_f' : 100.,           # frequency where length constants are computed\n",
    "    'dt' : 2.**-3,      # simulation time step size\n",
    "    'tstart' : 0.,      # start time of simulation, recorders start at t=0\n",
    "    'tstop' : 100.,     # stop simulation at 100 ms.\n",
    "}"
   ]
  },
  {
   "cell_type": "markdown",
   "metadata": {},
   "source": [
    "## Create cell and rotate"
   ]
  },
  {
   "cell_type": "code",
   "execution_count": null,
   "metadata": {},
   "outputs": [],
   "source": [
    "# Create cell\n",
    "cell = LFPy.Cell(**cell_parameters)\n",
    "# Align cell\n",
    "cell.set_rotation(x=4.71, y=0.0, z=4.71) # same rotation angles as in tutorial 03"
   ]
  },
  {
   "cell_type": "markdown",
   "metadata": {},
   "source": [
    "## Define Synapse parameters"
   ]
  },
  {
   "cell_type": "code",
   "execution_count": null,
   "metadata": {},
   "outputs": [],
   "source": [
    "synapse_parameters = {\n",
    "    'idx' : cell.get_closest_idx(x=-200., y=0., z=800.),\n",
    "    'e' : 0.,                   # reversal potential\n",
    "    'syntype' : 'ExpSyn',       # synapse type\n",
    "    'tau' : 5.,                 # synaptic time constant\n",
    "    'weight' : 0.1,             # synaptic weight\n",
    "    'record_current' : True,    # record synapse current\n",
    "}"
   ]
  },
  {
   "cell_type": "markdown",
   "metadata": {},
   "source": [
    "## Create synapse and set time of synaptic input"
   ]
  },
  {
   "cell_type": "code",
   "execution_count": null,
   "metadata": {},
   "outputs": [],
   "source": [
    "synapse = LFPy.Synapse(cell, **synapse_parameters)\n",
    "synapse.set_spike_times(np.array([20.]))"
   ]
  },
  {
   "cell_type": "markdown",
   "metadata": {},
   "source": [
    "## Electrodes"
   ]
  },
  {
   "cell_type": "code",
   "execution_count": null,
   "metadata": {},
   "outputs": [],
   "source": [
    "# Create a grid of measurement locations, in (mum)\n",
    "X, Z = np.mgrid[-700:701:50, -400:1201:50]\n",
    "Y = np.zeros(X.shape)\n",
    "\n",
    "# Define electrode parameters\n",
    "grid_electrode_parameters = {\n",
    "    'sigma' : 0.3,      # extracellular conductivity\n",
    "    'x' : X.flatten(),  # electrode requires 1d vector of positions\n",
    "    'y' : Y.flatten(),\n",
    "    'z' : Z.flatten()\n",
    "}\n",
    "\n",
    "# Define electrode parameters\n",
    "point_electrode_parameters = {\n",
    "    'sigma' : 0.3,  # extracellular conductivity\n",
    "    'x' : np.array([-130., -220.]),\n",
    "    'y' : np.array([   0.,    0.]),\n",
    "    'z' : np.array([   0.,  700.]),\n",
    "}"
   ]
  },
  {
   "cell_type": "markdown",
   "metadata": {},
   "source": [
    "## Run simulation"
   ]
  },
  {
   "cell_type": "code",
   "execution_count": null,
   "metadata": {},
   "outputs": [],
   "source": [
    "# Run simulation, electrode object argument in cell.simulate\n",
    "cell.simulate(rec_imem=True)\n",
    "\n",
    "# Create electrode objects\n",
    "grid_electrode = LFPy.RecExtElectrode(cell,**grid_electrode_parameters)\n",
    "point_electrode = LFPy.RecExtElectrode(cell,**point_electrode_parameters)\n",
    "\n",
    "# Calculate LFPs\n",
    "grid_electrode.calc_lfp()\n",
    "point_electrode.calc_lfp()"
   ]
  },
  {
   "cell_type": "markdown",
   "metadata": {},
   "source": [
    "# Plot simulation output:"
   ]
  },
  {
   "cell_type": "code",
   "execution_count": null,
   "metadata": {},
   "outputs": [],
   "source": [
    "fig = plt.figure(dpi=160)\n",
    "\n",
    "ax = fig.add_axes([.4,.1,.55,.8], aspect='equal', frameon=False)\n",
    "cax = fig.add_axes([0.85, 0.4, 0.01, 0.2], frameon=False)\n",
    "\n",
    "LFP = np.max(np.abs(grid_electrode.LFP),1).reshape(X.shape)\n",
    "im = ax.contour(X, Z, np.log10(LFP), \n",
    "            50,\n",
    "           cmap='inferno',\n",
    "           zorder=-2)\n",
    "cbar = fig.colorbar(im, cax=cax)\n",
    "cbar.set_label('$|\\Phi(\\mathbf{r}, t)|_\\mathrm{max}$ (nV)')\n",
    "cbar.outline.set_visible(False)\n",
    "#get some log-linear tickmarks and ticklabels\n",
    "ticks = np.arange(np.ceil(np.log10(LFP.min())), np.floor(np.log10(LFP.max())))\n",
    "cbar.set_ticks(ticks)\n",
    "cbar.set_ticklabels(np.round(10.**ticks * 1E6, decimals=1)) #mV -> nV\n",
    "\n",
    "#plot morphology\n",
    "zips = []\n",
    "for x, z in cell.get_idx_polygons():\n",
    "    zips.append(list(zip(x, z)))\n",
    "polycol = PolyCollection(zips,\n",
    "                         edgecolors='none',\n",
    "                         facecolors='k')\n",
    "ax.add_collection(polycol)\n",
    "\n",
    "ax.plot([100, 200], [-400, -400], 'k', lw=1, clip_on=False)\n",
    "ax.text(150, -470, r'100$\\mu$m', va='center', ha='center')\n",
    "\n",
    "ax.axis('off')\n",
    "\n",
    "\n",
    "ax.plot(cell.xmid[cell.synidx],cell.zmid[cell.synidx], 'o', ms=5,\n",
    "        markeredgecolor='k',\n",
    "        markerfacecolor='r')\n",
    "\n",
    "color_vec = ['blue','green']\n",
    "for i in range(2):\n",
    "    ax.plot(point_electrode_parameters['x'][i],\n",
    "                    point_electrode_parameters['z'][i],'o',ms=6,\n",
    "                    markeredgecolor='none',\n",
    "                    markerfacecolor=color_vec[i])\n",
    "\n",
    "plt.axes([.15,.10,.25,.25])\n",
    "plt.plot(cell.tvec,point_electrode.LFP[0]*1e6,color=color_vec[0], clip_on=False)\n",
    "plt.ylabel(r'$\\Phi_2(\\mathbf{r},t)$ (nV)')\n",
    "plt.xlabel(r'$t$ (ms)')\n",
    "plt.axis('tight')\n",
    "ax = plt.gca()\n",
    "for loc, spine in ax.spines.items():\n",
    "    if loc in ['right', 'top']:\n",
    "        spine.set_color('none')            \n",
    "ax.xaxis.set_ticks_position('bottom')\n",
    "ax.yaxis.set_ticks_position('left')\n",
    "\n",
    "\n",
    "plt.axes([.15,.375,.25,.25])\n",
    "plt.plot(cell.tvec,point_electrode.LFP[1]*1e6,color=color_vec[1], clip_on=False)\n",
    "plt.ylabel(r'$\\Phi_1(\\mathbf{r}, t)$ (nV)')\n",
    "plt.axis('tight')\n",
    "ax = plt.gca()\n",
    "for loc, spine in ax.spines.items():\n",
    "    if loc in ['right', 'top']:\n",
    "        spine.set_color('none')            \n",
    "ax.xaxis.set_ticks_position('bottom')\n",
    "ax.yaxis.set_ticks_position('left')\n",
    "ax.set_xticklabels([])\n",
    "\n",
    "plt.axes([.15,.65,.25,.25])\n",
    "plt.plot(cell.tvec,synapse.i*1E3, color='red', clip_on=False)\n",
    "plt.ylabel(r'$i_\\mathrm{syn}(t)$ (pA)')\n",
    "plt.axis('tight')\n",
    "ax = plt.gca()\n",
    "for loc, spine in ax.spines.items():\n",
    "    if loc in ['right', 'top']:\n",
    "        spine.set_color('none')            \n",
    "ax.xaxis.set_ticks_position('bottom')\n",
    "ax.yaxis.set_ticks_position('left')\n",
    "ax.set_xticklabels([])"
   ]
  }
 ],
 "metadata": {
  "kernelspec": {
   "display_name": "Python 3",
   "language": "python",
   "name": "python3"
  },
  "language_info": {
   "codemirror_mode": {
    "name": "ipython",
    "version": 3
   },
   "file_extension": ".py",
   "mimetype": "text/x-python",
   "name": "python",
   "nbconvert_exporter": "python",
   "pygments_lexer": "ipython3",
   "version": "3.6.9"
  }
 },
 "nbformat": 4,
 "nbformat_minor": 4
}
